{
 "cells": [
  {
   "cell_type": "markdown",
   "id": "4114ac72",
   "metadata": {},
   "source": [
    "# Assignment X: Policy Memo"
   ]
  },
  {
   "cell_type": "markdown",
   "id": "caf3e602",
   "metadata": {},
   "source": [
    "The United States Agency for International Development (USAID) is looking to fund a new counter trafficking in persons (CTIP) project and has hired you as an advisor. There is only enough funds to expand activities in **one** country and focus on strengthening **three activities**. \n",
    "\n",
    "This country can have existing projects or no projects whatsoever. You do not have political motives; rather, your aim is to identify the area that most needs support with trafficking and the methods that are the most needed. However, you will take into consideration practical implementation concerns (e.g. an ongoing war, political openness to NGO activity) when making your recommendation. \n",
    "\n",
    "There is no right recommendation; however, all your decisions must be justified.  "
   ]
  },
  {
   "cell_type": "markdown",
   "id": "5cc14772",
   "metadata": {},
   "source": [
    "## Setup\n",
    "The code chunk below loads the packages that we need. "
   ]
  },
  {
   "cell_type": "code",
   "execution_count": null,
   "id": "14b45523",
   "metadata": {},
   "outputs": [],
   "source": [
    "# You *must* run this cell first. Do not change the contents of this cell.\n",
    "library(testthat)\n",
    "library(ottr)\n",
    "library(tidyverse)"
   ]
  },
  {
   "cell_type": "markdown",
   "id": "e7aa025e",
   "metadata": {},
   "source": [
    "The code chunk below loads the datasets that we will be using."
   ]
  },
  {
   "cell_type": "code",
   "execution_count": null,
   "id": "8883a90a",
   "metadata": {},
   "outputs": [],
   "source": [
    "df.gsi_scores <- read.csv(\"gsi-scores-2023.csv\") %>% select(country, region, population, prev_per_1000, prev_total, vulnerability,\n",
    "                                                          government_response)\n",
    "df.gsi_activities <- read.csv(\"gsi-activities-2023.csv\")"
   ]
  },
  {
   "cell_type": "markdown",
   "id": "62bb6582",
   "metadata": {},
   "source": [
    "## <p style=\"color:#2272A8;\">Question 1: Recommending a Country"
   ]
  },
  {
   "cell_type": "markdown",
   "id": "32afdeeb",
   "metadata": {
    "deletable": false,
    "editable": false
   },
   "source": [
    "### a) ChatGPT's Recommendation\n",
    "**<p style=\"color:#5F7BA4;\">Let's first return to our semi-trusty advisor ChatGPT and see what it would recommend. Ask ChatGPT \"What country in the world should there be more counter trafficking efforts?\" and assign the variable `chatGPT_target` to the name of the country.**\n",
    "    \n",
    "*Note: Please spell the name of the country as it is spelled in the list of countries below. In the rare case that the country chatGPT suggested is not in this lsit of countries, please ask chatGPT to recommend another.*"
   ]
  },
  {
   "cell_type": "code",
   "execution_count": null,
   "id": "d10a49ac",
   "metadata": {
    "deletable": false,
    "editable": false
   },
   "outputs": [],
   "source": [
    "# Run this cell. Do not change. The code below is using the \"get\" operator `$` to get the\n",
    "#     country variable from the df.gsi_scores dataframe. \n",
    "gsi_countries <- df.gsi_scores$country\n",
    "gsi_countries"
   ]
  },
  {
   "cell_type": "code",
   "execution_count": null,
   "id": "29b572e2",
   "metadata": {
    "tags": []
   },
   "outputs": [],
   "source": [
    "# Assign the variable below to the country name (e.g. \"India\")\n",
    "chatGPT_target <- NULL # YOUR CODE HERE"
   ]
  },
  {
   "cell_type": "code",
   "execution_count": null,
   "id": "47d405f5",
   "metadata": {
    "deletable": false,
    "editable": false
   },
   "outputs": [],
   "source": [
    ". = ottr::check(\"tests/q1a.R\")"
   ]
  },
  {
   "cell_type": "markdown",
   "id": "84aa43c3",
   "metadata": {
    "deletable": false,
    "editable": false
   },
   "source": [
    "<!-- BEGIN QUESTION -->\n",
    "\n",
    "### b) US Trafficking in Persons (TIP) Report to evaluate ChatGPT's recommendation\n",
    "**<p style=\"color:#5F7BA4;\">Read through the country's 2023 Trafficking in Persons (TIP) Report country profile (just your country, not the whole report), which you can find with a google search. Use the TIP report to evaluate ChatGTP's recommendation of this specific country to focus on.**\n",
    "    \n",
    "Is this country is on the TIP's Tier 2 Watchlist or Tier 3? Why? Would you make a different recommendation based on the 2023 TIP scores? What are the uses of this report and what should you be aware of when using the TIP report as a source of information about a country's trafficking situation?"
   ]
  },
  {
   "cell_type": "markdown",
   "id": "e7f56809",
   "metadata": {},
   "source": [
    "_Type your answer here, replacing this text._"
   ]
  },
  {
   "cell_type": "markdown",
   "id": "e97e2b31",
   "metadata": {
    "deletable": false,
    "editable": false
   },
   "source": [
    "<!-- END QUESTION -->\n",
    "\n",
    "### c) Walk Free Foundation Global Slavery Index (GSI) to evaluate ChatGPT's recommendation.\n",
    "Another global review of human trafficking is the Walk Free Foundations [Global Slavery Index (GSI)](https://www.walkfree.org/global-slavery-index/), and their dataset is publicly available. See this excel file for an explanation. The code chunk below loads the first five rows of the dataset. We are going to look through the different estimates and scores each country has received to see if they align with ChatGPT's recommendation. \n",
    "\n",
    "**Country Scores**\n",
    "* `prev_per_100`: estimated prevalence of human trafficking for 1000 individuals\n",
    "* `prev_total`: estimated total prevalence of human trafficking\n",
    "* `vulnerability`: score for vulnerability to human trafficking. Values range from 0 (low) to 100 (high).\n",
    "* `government_response`: score for government responsiveness to human trafficking. Values range from 0 (low) to 100 (high)."
   ]
  },
  {
   "cell_type": "code",
   "execution_count": null,
   "id": "32748dc0",
   "metadata": {
    "deletable": false,
    "editable": false,
    "scrolled": false
   },
   "outputs": [],
   "source": [
    "head(df.gsi_scores)"
   ]
  },
  {
   "cell_type": "markdown",
   "id": "ec46843b",
   "metadata": {
    "deletable": false,
    "editable": false
   },
   "source": [
    "#### i) Get the total prevalence estimate for ChatGPT's recommendation"
   ]
  },
  {
   "cell_type": "markdown",
   "id": "a66605fc",
   "metadata": {
    "deletable": false,
    "editable": false
   },
   "source": [
    "**<p style=\"color:#5F7BA4;\">One way we could go about recommending a country for more anti-trafficking is looking at where trafficking prevalence is the highest. What is the estimated number of human trafficking victims in this country? Store this estimate in an object called `gpt_prev_total`**\n",
    "\n",
    "*Hint: Use the `filter` function to select the country you are interested, then use `pull` to pull the value for `prev_total`*"
   ]
  },
  {
   "cell_type": "code",
   "execution_count": null,
   "id": "842cd2a8",
   "metadata": {
    "tags": []
   },
   "outputs": [],
   "source": [
    "# YOUR ANSWER GOES HERE\n",
    "# The data type of the answer should be a number. If you manually enter the number (rather than using $) you\n",
    "#     will be docked 1 point. \n",
    "gpt_prev_total <- df.gsi_scores %>% filter(country == chatGPT_target) %>%\n",
    "                                    # YOUR CODE HERE\n",
    "gpt_prev_total "
   ]
  },
  {
   "cell_type": "code",
   "execution_count": null,
   "id": "95173e0d",
   "metadata": {
    "deletable": false,
    "editable": false
   },
   "outputs": [],
   "source": [
    ". = ottr::check(\"tests/q1ci.R\")"
   ]
  },
  {
   "cell_type": "markdown",
   "id": "2f75873c",
   "metadata": {
    "deletable": false,
    "editable": false
   },
   "source": [
    "#### ii) Comparing total prevalence with other countries. \n",
    "\n",
    "**<p style=\"color:#5F7BA4;\">Now we are going to compare to other countries. Use the `arrange()` function on the `df.gsi_scores` dataframe to sort the dataframe by `prev_total` with the *highest prevalence* first.**\n",
    "\n",
    "*Hint: Use `desc()` to sort from highest to lowest*"
   ]
  },
  {
   "cell_type": "code",
   "execution_count": null,
   "id": "10665941",
   "metadata": {
    "tags": []
   },
   "outputs": [],
   "source": [
    "gsi_sort_by_prev_total <- NULL # YOUR CODE HERE\n",
    "gsi_sort_by_prev_total"
   ]
  },
  {
   "cell_type": "markdown",
   "id": "d9e1ee40",
   "metadata": {
    "deletable": false,
    "editable": false
   },
   "source": [
    "### **<p style=\"color:#A8223D;\">No action needed below, Example Distribution Plot**\n",
    "The code chunk below plots a histogram of the total prevalance estimates across all countries. The red line indicates the prevalence of human trafficking in ChatGPT's recommended country. "
   ]
  },
  {
   "cell_type": "code",
   "execution_count": null,
   "id": "283e54d2",
   "metadata": {
    "deletable": false,
    "editable": false,
    "scrolled": true
   },
   "outputs": [],
   "source": [
    "# DO NOT EDIT\n",
    "# Example code for plotting a histogram\n",
    "gsi_sort_by_prev_total %>% ggplot(aes(x = prev_total)) +\n",
    "    \n",
    "    # plots histogram\n",
    "    geom_histogram(bins = 10) +\n",
    "\n",
    "    # add vertical line for chat GPT's recommended country. \n",
    "    geom_vline(xintercept = gpt_prev_total, col = \"red\")+\n",
    "    \n",
    "    # changes background color, lines, etc. \n",
    "    theme_minimal() +\n",
    "\n",
    "    # add labels\n",
    "    labs(x = \"Estimated Total Prevalence\", y = \"Count\")"
   ]
  },
  {
   "cell_type": "code",
   "execution_count": null,
   "id": "7fa10a1a",
   "metadata": {
    "deletable": false,
    "editable": false
   },
   "outputs": [],
   "source": [
    ". = ottr::check(\"tests/q1cii.R\")"
   ]
  },
  {
   "cell_type": "markdown",
   "id": "2ce689d3",
   "metadata": {
    "deletable": false,
    "editable": false
   },
   "source": [
    "<!-- BEGIN QUESTION -->\n",
    "\n",
    "#### iii) Evaluating ChatGPT's recommendation with the GSI's estimated total prevalence. \n",
    "**<p style=\"color:#5F7BA4;\">Is ChatGPT's country within the top ten countries with the highest estimated prevalence? What is a critique of the using absolute value of prevalence to determine which country to increase anti-trafficking efforts? What is an alternative measure?**\n",
    "\n",
    "*(Hint: think about the size)*"
   ]
  },
  {
   "cell_type": "markdown",
   "id": "7d3139de",
   "metadata": {},
   "source": [
    "_Type your answer here, replacing this text._"
   ]
  },
  {
   "cell_type": "markdown",
   "id": "5fd0d1bc",
   "metadata": {
    "deletable": false,
    "editable": false
   },
   "source": [
    "<!-- END QUESTION -->\n",
    "\n",
    "#### iv) Getting estimates for prevalence per 1000 individuals\n",
    "**<p style=\"color:#5F7BA4;\">Now we look at an alternate variable of interest `prev_per_1000` which represents the estimated prevalence of human trafficking per 1000 individuals. Repeat (c) and (d) to get the `prev_per_1000` for the country chatGPT recommended and the top ten countries with the highest estimated `prev_per_1000`.**"
   ]
  },
  {
   "cell_type": "code",
   "execution_count": null,
   "id": "725e61ec",
   "metadata": {
    "scrolled": false,
    "tags": []
   },
   "outputs": [],
   "source": [
    "gpt_prev_1000 <- df.gsi_scores %>% filter(country == chatGPT_target) %>%\n",
    "                                    # YOUR CODE HERE\n",
    "gsi_sort_by_prev_1000 <- NULL # YOUR CODE HERE\n",
    "print(gpt_prev_1000)\n",
    "gsi_sort_by_prev_1000"
   ]
  },
  {
   "cell_type": "code",
   "execution_count": null,
   "id": "3c71c840",
   "metadata": {
    "deletable": false,
    "editable": false
   },
   "outputs": [],
   "source": [
    ". = ottr::check(\"tests/q1f.R\")"
   ]
  },
  {
   "cell_type": "markdown",
   "id": "91c28b7e",
   "metadata": {},
   "source": [
    "### **<p style=\"color:#A8223D;\">No action needed below, Example Distribution Plot**\n",
    "The code chunk below plots a histogram of the total prevalance estimates across all countries. The red line indicates the prevalence of human trafficking in ChatGPT's recommended country. "
   ]
  },
  {
   "cell_type": "code",
   "execution_count": null,
   "id": "04d82089",
   "metadata": {},
   "outputs": [],
   "source": [
    "# DO NOT EDIT\n",
    "# Example code for plotting a histogram\n",
    "gsi_sort_by_prev_1000 %>% ggplot(aes(x = prev_per_1000)) +\n",
    "    \n",
    "    # plots histogram\n",
    "    geom_histogram(bins = 10) +\n",
    "\n",
    "    # add vertical line for chat GPT's recommended country. \n",
    "    geom_vline(xintercept = gpt_prev_1000, col = \"red\")+\n",
    "    \n",
    "    # changes background color, lines, etc. \n",
    "    theme_minimal() +\n",
    "\n",
    "    # add labels\n",
    "    labs(x = \"Estimated Total Prevalence per 1000\", y = \"Count\")"
   ]
  },
  {
   "cell_type": "markdown",
   "id": "f6b693a6",
   "metadata": {
    "deletable": false,
    "editable": false
   },
   "source": [
    "<!-- BEGIN QUESTION -->\n",
    "\n",
    "#### iii) Evaluating ChatGPT's recommendation with the GSI's estimated prevalence per 1000.  \n",
    "**<p style=\"color:#5F7BA4;\"> How does ChatGPT's country compare to the other countries in the dataset when looking at prevalence per 1000? Does this information change how much you agree with chatGPT's answer?**"
   ]
  },
  {
   "cell_type": "markdown",
   "id": "abbd6d42",
   "metadata": {},
   "source": [
    "_Type your answer here, replacing this text._"
   ]
  },
  {
   "cell_type": "markdown",
   "id": "63e6081d",
   "metadata": {
    "deletable": false,
    "editable": false
   },
   "source": [
    "<!-- END QUESTION -->\n",
    "\n",
    "<!-- BEGIN QUESTION -->\n",
    "\n",
    "### d) Your Turn: What is your country recommendation?"
   ]
  },
  {
   "cell_type": "markdown",
   "id": "a09a4dee",
   "metadata": {
    "deletable": false,
    "editable": false
   },
   "source": [
    "### **<p style=\"color:#A8223D;\">Additional Information** \n",
    "**Countries Sorted by Vulnerability Scores (100 = highest)** \\\n",
    "The code chunk below displays the data sorted by most vulnerable countries. To see how these scores are calculated, please see the excel sheet. "
   ]
  },
  {
   "cell_type": "code",
   "execution_count": null,
   "id": "4e05c15d",
   "metadata": {
    "deletable": false,
    "editable": false
   },
   "outputs": [],
   "source": [
    "# RUN THIS CELL\n",
    "df.gsi_scores %>% arrange(desc(vulnerability)) "
   ]
  },
  {
   "cell_type": "markdown",
   "id": "c49ffd17",
   "metadata": {
    "deletable": false,
    "editable": false
   },
   "source": [
    "#### Countries Sorted by Government Response Scores (100 = highest)\n",
    "The code chunk below displays the data sorted by level of government response. Lower scores indicate less action. To see how these scores are calculated, please see the excel sheet. "
   ]
  },
  {
   "cell_type": "code",
   "execution_count": null,
   "id": "4d9174e2",
   "metadata": {
    "deletable": false,
    "editable": false,
    "scrolled": false
   },
   "outputs": [],
   "source": [
    "# RUN THIS CELL\n",
    "df.gsi_scores %>% arrange(government_response) "
   ]
  },
  {
   "cell_type": "markdown",
   "id": "9844f379",
   "metadata": {
    "deletable": false,
    "editable": false
   },
   "source": [
    "**<p style=\"color:#5F7BA4;\"> Using the ChatGPT output, TIP report evaluation, the prevalence scores, and the vulnerability and government action scores, make a recommendation on which country USAID should focus its efforts on. Feel free to use your background knowledge when considering how realistic it is to implement US funded projects in the country. You will not be deducted points missing the extra background.** "
   ]
  },
  {
   "cell_type": "markdown",
   "id": "0bf7c2ae",
   "metadata": {},
   "source": [
    "_Type your answer here, replacing this text._"
   ]
  },
  {
   "cell_type": "markdown",
   "id": "ed15fc6a",
   "metadata": {
    "deletable": false,
    "editable": false
   },
   "source": [
    "<!-- END QUESTION -->\n",
    "\n",
    "***<p style=\"background-color: lightyellow;\">Note: In the HT world, there are multiple ways to go about measuring prevalence, each with their own pros and cons. For the purposes of this assignment, we are basing this decision off of data from the GSI estimates of prevalence. Keep in mind that in the real world, you should be skeptical and critical of how the organization went about estimating HT prevalence.***\n",
    "    \n",
    "For example, my ChatGPT recommended India. I asked ChatGPT for different estiamtes of prevalence which returned statistics from reputable sources that each vary: \n",
    "* Reported Cases (NCRB, 2021): 2,189 cases involving 6,622 victims.\n",
    "* U.S. Department of State (2023): Millions of victims, significant issue with both labor and sexual exploitation.\n",
    "* Global Slavery Index (2018): Estimated 8 million people in modern slavery.\n",
    "* ILO and Walk Free Foundation (2017): Millions in forced labor and forced marriage.\n",
    "* NHRC (India): Hundreds of thousands trafficked annually, with rural and marginalized populations being the most vulnerable."
   ]
  },
  {
   "cell_type": "markdown",
   "id": "95dc33b5",
   "metadata": {},
   "source": [
    "## Question 2: Determining Activities"
   ]
  },
  {
   "cell_type": "markdown",
   "id": "bc87b6de",
   "metadata": {},
   "source": [
    "How does the GSI come up with the government action score? Walk Free foundation also evaluates various activities of each government. Look through the `Govt response framework` tab in this [excel file](2023-GSI-Data-Full.xlsx) to understand the how the walk free foundation is approaching grading government responses. \n",
    "\n",
    "Walk Free Foundation has 5 milestones, each consisting of a set of activities, and each activity consisting of a set of indicators. There are positive and negative indicators whose score makes up the activity ranking.   \n",
    "\n",
    "* If all positive indicators within an activity are met the activity scores a `2`- achieved. \n",
    "* If at least one, but not all indicators within an activity are met the activity is rated a `1` - partly achieved. \n",
    "* If all positive indicators are met within an activity, however a negative indicator in that activity is also met the activity is ranked a `1` - partly achieved. \n",
    "* If no positive indicators are met within an activity then the activity is rated a `0` - not achieved. \n",
    "* The three negative rated activities are inverse scored, if a negative activty is met it is rated a `-2` - undermining own response, if a negative activity is not met it is rated `0` - not achieved.  \n",
    "\n",
    "The dataset we are using reflects the activities ranking. \n",
    "\n"
   ]
  },
  {
   "cell_type": "code",
   "execution_count": null,
   "id": "ea95642a",
   "metadata": {},
   "outputs": [],
   "source": [
    "head(df.gsi_activities %>% select(ends_with(\"R\"))) "
   ]
  },
  {
   "cell_type": "markdown",
   "id": "6f3bcbe9",
   "metadata": {
    "deletable": false,
    "editable": false
   },
   "source": [
    "<!-- BEGIN QUESTION -->\n",
    "\n",
    "#### a) Look through the list of activities on this excel spreadsheet.  In your own words, what are the five main milestones? In your opinion, what activities can USAID funding be able to influence? List at least 2, and explain your reasoning. What activities would be difficult to influence? List at least 2, and explain if you think it is likely for a government to take up the recommendation in their own battle against trafficking, and under what circumstances a government would do so. If you do think the government is not likely to do so, explain your reasoning. "
   ]
  },
  {
   "cell_type": "markdown",
   "id": "069ab3e5",
   "metadata": {},
   "source": [
    "_Type your answer here, replacing this text._"
   ]
  },
  {
   "cell_type": "markdown",
   "id": "67f73486",
   "metadata": {
    "deletable": false,
    "editable": false
   },
   "source": [
    "<!-- END QUESTION -->\n",
    "\n",
    "#### b) Store the country you want to recommend in a variable named `my_rec`. Make sure it is spelled exactly as the output below. From the `df.gsi_activities`, use `filter()` to subset to the country that you are interested in recommending."
   ]
  },
  {
   "cell_type": "code",
   "execution_count": null,
   "id": "de157e74",
   "metadata": {
    "deletable": false,
    "editable": false
   },
   "outputs": [],
   "source": [
    "df.gsi_activities$country"
   ]
  },
  {
   "cell_type": "code",
   "execution_count": null,
   "id": "7eb656c3",
   "metadata": {
    "tags": []
   },
   "outputs": [],
   "source": [
    "df.gsi_activities %>% filter(country == \"\") "
   ]
  },
  {
   "cell_type": "code",
   "execution_count": null,
   "id": "38939ff6",
   "metadata": {
    "scrolled": false,
    "tags": []
   },
   "outputs": [],
   "source": [
    "my_rec <- NULL # YOUR CODE HERE\n",
    "my_rec_rankings <- df.gsi_activities %>% filter(country == my_rec | country == \"\") %>% \n",
    "                    select(country, region, ends_with(\"R\", ignore.case = FALSE)) %>%\n",
    "                    t() %>% as.data.frame() %>% rownames_to_column() %>%\n",
    "                    rename(country = rowname, milestone = V1, ranking = V2) %>%\n",
    "                    mutate(ranking = as.numeric(ranking)) %>%\n",
    "                    slice(-(1:2))  %>% arrange(ranking)\n",
    "\n",
    "my_rec_rankings"
   ]
  },
  {
   "cell_type": "code",
   "execution_count": null,
   "id": "9442a519",
   "metadata": {
    "scrolled": true,
    "tags": []
   },
   "outputs": [],
   "source": [
    "my_rec_rankings %>% group_by(milestone) %>% summarise(total_ranking = sum(ranking))"
   ]
  },
  {
   "cell_type": "markdown",
   "id": "028207bc",
   "metadata": {
    "deletable": false,
    "editable": false
   },
   "source": [
    "<!-- BEGIN QUESTION -->\n",
    "\n",
    "#### c) Given this information, what three activities do you think USAID should invest it's resources in? Justify your answer. How does it differ from the Department of State TIP report recommendations for the country and Walk Free's country profile top 3 recommendations? "
   ]
  },
  {
   "cell_type": "markdown",
   "id": "989dea77",
   "metadata": {},
   "source": [
    "_Type your answer here, replacing this text._"
   ]
  },
  {
   "cell_type": "markdown",
   "id": "4e8b369f",
   "metadata": {
    "deletable": false,
    "editable": false
   },
   "source": [
    "<!-- END QUESTION -->\n",
    "\n",
    "<!-- BEGIN QUESTION -->\n",
    "\n",
    "#### d) How much do you trust the numbers presented by the Walk Free Foundation? What are the pros and cons of having something like the global slavery index in the battle against human trafficking? What qualitative information would you seek out to supplement these data points?"
   ]
  },
  {
   "cell_type": "markdown",
   "id": "718ed088",
   "metadata": {},
   "source": [
    "_Type your answer here, replacing this text._"
   ]
  },
  {
   "cell_type": "markdown",
   "id": "940b7689",
   "metadata": {
    "deletable": false,
    "editable": false
   },
   "source": [
    "<!-- END QUESTION -->\n",
    "\n",
    "<!-- BEGIN QUESTION -->\n",
    "\n",
    "#### e) What are the challenges that are faced when trying to alter the behaviors of other governments?"
   ]
  },
  {
   "cell_type": "markdown",
   "id": "5cb2f039",
   "metadata": {},
   "source": [
    "_Type your answer here, replacing this text._"
   ]
  },
  {
   "cell_type": "markdown",
   "id": "0c88786f",
   "metadata": {
    "deletable": false,
    "editable": false
   },
   "source": [
    "<!-- END QUESTION -->\n",
    "\n",
    "# Submitting Your Notebook (please read carefully!)\n",
    "\n",
    "To submit your notebook...\n",
    "\n",
    "### 1. Click `File` $\\rightarrow$ `Save Notebook`.\n",
    "\n",
    "### 2. Wait 5 seconds.\n",
    "\n",
    "### 3. Select the cell below and hit run.tion:**"
   ]
  },
  {
   "cell_type": "code",
   "execution_count": null,
   "id": "bd0aebd0",
   "metadata": {},
   "outputs": [],
   "source": [
    "ottr::export(\"pset2.ipynb\")"
   ]
  },
  {
   "cell_type": "markdown",
   "id": "8be06198",
   "metadata": {},
   "source": [
    "After you hit \"Run\" on the cell above, click the download link. A .zip file should download to your computer.\n",
    "\n",
    "(If you make changes to your notebook, you'll need to hit save and then run the cell above again before you submit to get a new version of it.)\n",
    "\n",
    "### 4. Submit the .zip file you just downloaded <a href=\"https://www.gradescope.com/\" target=\"_blank\">on Gradescope here</a>.\n",
    "\n",
    "Notes:\n",
    "\n",
    "- **This does not seem to work on Chrome for iPad or iPhone.** If you're using an iPad or iPhone, you need to download the file using **Safari**.\n",
    "- If your web browser automatically unzips the .zip file (so you see a folder instead of a .zip file), you can just upload the .ipynb file that is inside the folder.\n",
    "- If this method is not working for you, try this: hit `File`, then `Download as`, then `Notebook (.ipynb)` and submit that."
   ]
  }
 ],
 "metadata": {
  "kernelspec": {
   "display_name": "R",
   "language": "R",
   "name": "ir"
  },
  "language_info": {
   "codemirror_mode": "r",
   "file_extension": ".r",
   "mimetype": "text/x-r-source",
   "name": "R",
   "pygments_lexer": "r",
   "version": "4.3.2"
  }
 },
 "nbformat": 4,
 "nbformat_minor": 5
}
