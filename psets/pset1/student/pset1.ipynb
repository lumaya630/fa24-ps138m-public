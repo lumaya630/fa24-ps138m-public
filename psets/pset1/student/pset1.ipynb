{
 "cells": [
  {
   "cell_type": "markdown",
   "id": "babea043",
   "metadata": {},
   "source": [
    "# Assignment 1: Describing Human Trafficking"
   ]
  },
  {
   "cell_type": "markdown",
   "id": "fd3ae294",
   "metadata": {},
   "source": [
    "## Read this before you begin\n",
    "\n",
    "Hello! Welcome to PS 138M. To keep up with the increasing prevalence of data in addressing social issues such as human trafficking, we are introducing a dual track assignment system where you can choose to complete either the data intensive assignment or the writing intensive assignment, based on your own personal goals for this course. Both tracks will have a basic data component, as all students in this class should have a basic level of data proficiency. The assignments diverges when it comes to the more complex tasks. To be clear, you only need to choose **ONE** track. \n",
    "\n",
    "### Notes\n",
    "* Most of the **data** questions in this problem set will be automatically graded. Therefore, you need to answer the questions exactly as we asked them: if we ask you to compute something, write the code to compute that exact value.\n",
    "    * Some of the coding questions below will tell you if you have the right or wrong answer if you run your code and then run the `ottr::check` cell just below it. (The multiple choice questions do not do this.)\n",
    "    * You'll know you got a question right if it says \"All tests passed!\" afterwards.\n",
    "    * If you see an error when you run the check cell, it means you got the question wrong and should try again. The question should show a hint.\n",
    "    * If you don't see anything when you run the check cell, this means the question doesn't tell you if you got the right or wrong answer.\n",
    "\n",
    "* **Short answer questions** will be graded by a GSI. For these questions:\n",
    "    * We expect around 2-3 sentences on average. You just need to write enough to answer the question, don't stress about how short your answer is.\n",
    "    * To encourage you not to write too much, your GSI will only mark the first 60 words to your answer. For many of these questions, you do not need to write all 60 words.\n",
    "    \n",
    "* To make sure you completed all the required parts of this assignment, `Command` + `F` \"to do\". All parts in which you should have taken some action will be labeled with \"to do\". "
   ]
  },
  {
   "cell_type": "markdown",
   "id": "8816e88b",
   "metadata": {},
   "source": [
    "# Setup\n",
    "The cell below loads the [packages](https://www.geeksforgeeks.org/packages-in-r-programming/) needed for this assignment. "
   ]
  },
  {
   "cell_type": "code",
   "execution_count": null,
   "id": "0609de0d",
   "metadata": {},
   "outputs": [],
   "source": [
    "# You *must* run this cell first. Do not change the contents of this cell.\n",
    "library(testthat)\n",
    "library(ottr)\n",
    "library(tidyverse)"
   ]
  },
  {
   "cell_type": "markdown",
   "id": "14e8b15d",
   "metadata": {
    "deletable": false,
    "editable": false
   },
   "source": [
    "<!-- BEGIN QUESTION -->\n",
    "\n",
    "## Question 1\n",
    "**(2 points) Ask chat gpt the following: *\"How would you describe human trafficking? Discuss how you would define human trafficking, what the different forms of trafficking are, its impacts, and its prevalence.\"*** \n",
    "    \n",
    "**Summarize the output in the section below. What are the strengths and weaknesses of its answer? How would you improve it? Explain how you would approach verifying the information it presents.**"
   ]
  },
  {
   "cell_type": "markdown",
   "id": "fb4da790",
   "metadata": {},
   "source": [
    "_Type your answer here, replacing this text._"
   ]
  },
  {
   "cell_type": "markdown",
   "id": "d52e2406",
   "metadata": {
    "deletable": false,
    "editable": false
   },
   "source": [
    "<!-- END QUESTION -->\n",
    "\n",
    "## Question 2: Trafficking Victims\n",
    "<span style=\"color:#3268a4\">"
   ]
  },
  {
   "cell_type": "markdown",
   "id": "d0302684",
   "metadata": {},
   "source": [
    "The code chunk below loads a synthetic dataset provided by the [Counter Trafficking Trafficking Collaborative](https://www.ctdatacollaborative.org/page/about) that is \"the first global data hub on human trafficking, publishing harmonized data from counter-trafficking organizations around the world,\" that aggregates individual level data from various organizations. This is the collaborative where IOM publishes their data. "
   ]
  },
  {
   "cell_type": "code",
   "execution_count": null,
   "id": "10cd8cc6",
   "metadata": {},
   "outputs": [],
   "source": [
    "# RUN CODE. DO NOT CHANGE\n",
    "ctdc <- read.csv(\"2024_CTDC_synthetic.csv\")\n",
    "\n",
    "# The line of code below replaces all NA values with 0 if the column is numeric\n",
    "ctdc <- ctdc %>%  mutate(across(where(is.numeric), ~replace_na(., 0)))\n",
    "\n",
    "head(ctdc, 5)"
   ]
  },
  {
   "cell_type": "markdown",
   "id": "cd0e0250",
   "metadata": {
    "deletable": false,
    "editable": false
   },
   "source": [
    "#### a. (1 point) How many individuals are included in this dataset? You can use the `nrow()` function or another alternative that returns the same number. The solution should be an integer.  \n"
   ]
  },
  {
   "cell_type": "code",
   "execution_count": null,
   "id": "ccce83cc",
   "metadata": {
    "tags": []
   },
   "outputs": [],
   "source": [
    "# TO DO\n",
    "n_cases <- NULL # YOUR CODE HERE\n",
    "n_cases"
   ]
  },
  {
   "cell_type": "code",
   "execution_count": null,
   "id": "2caade91",
   "metadata": {
    "deletable": false,
    "editable": false
   },
   "outputs": [],
   "source": [
    ". = ottr::check(\"tests/q2a.R\")"
   ]
  },
  {
   "cell_type": "markdown",
   "id": "890053d8",
   "metadata": {
    "deletable": false,
    "editable": false
   },
   "source": [
    "#### b. (1 point) What are the variables that are included in the dataset? Use the `colnames()` function to store a vector of the column names inside the `column_names` variable. "
   ]
  },
  {
   "cell_type": "code",
   "execution_count": null,
   "id": "e0ded7a5",
   "metadata": {
    "scrolled": false,
    "tags": []
   },
   "outputs": [],
   "source": [
    "# TO DO\n",
    "# hint, use the `colnames()` function\n",
    "column_names <- NULL # YOUR CODE HERE\n",
    "column_names"
   ]
  },
  {
   "cell_type": "code",
   "execution_count": null,
   "id": "d7b9de90",
   "metadata": {
    "deletable": false,
    "editable": false
   },
   "outputs": [],
   "source": [
    ". = ottr::check(\"tests/q2b.R\")"
   ]
  },
  {
   "cell_type": "markdown",
   "id": "264d9405",
   "metadata": {
    "deletable": false,
    "editable": false
   },
   "source": [
    "<!-- BEGIN QUESTION -->\n",
    "\n",
    "#### c) (5 points) What do the variables that start with \"means\" represent? Choose one means and explain what it is in the context of human trafficking. What are the types of trafficking included in the dataset? What do the variables that start with \"recruiter\" represent? In what situations are family or friends recruiters? "
   ]
  },
  {
   "cell_type": "markdown",
   "id": "abd2593c",
   "metadata": {},
   "source": [
    "_Type your answer here, replacing this text._"
   ]
  },
  {
   "cell_type": "markdown",
   "id": "19fc1472",
   "metadata": {
    "deletable": false,
    "editable": false
   },
   "source": [
    "<!-- END QUESTION -->\n",
    "\n",
    "### Replicating estimates\n",
    "The CTDC synthetic data [dashboard](https://www.ctdatacollaborative.org/global-synthetic-data-dashboard) has generated these estimates for the prevalence of different types of forced labor. Let's see if we can replicate these numbers. \n",
    "<img src=\"synthetic_estimates.png\">\n"
   ]
  },
  {
   "cell_type": "markdown",
   "id": "46190b17",
   "metadata": {
    "deletable": false,
    "editable": false
   },
   "source": [
    "<!-- BEGIN QUESTION -->\n",
    "\n",
    "#### d) (3 points) The first step in replicating the estimates is making sure we are looking at the right subset of data. Explain what the code chunk below is doing. Hint: To look up what a function does, run a code chunk with `?function_name` to get the documentation.  "
   ]
  },
  {
   "cell_type": "code",
   "execution_count": null,
   "id": "6a9936dd",
   "metadata": {
    "deletable": false,
    "editable": false,
    "scrolled": false
   },
   "outputs": [],
   "source": [
    "# DO NOT CHANGE.  \n",
    "ctdc_subset <- ctdc %>% filter((isForcedLabour >0 | isSexualExploit > 0 | isOtherExploit >0)) %>%\n",
    "                select(isForcedLabour, isSexualExploit,isOtherExploit)\n",
    "head(ctdc_subset, 10)"
   ]
  },
  {
   "cell_type": "markdown",
   "id": "9db11c15",
   "metadata": {},
   "source": [
    "_Type your answer here, replacing this text._"
   ]
  },
  {
   "cell_type": "markdown",
   "id": "5d4ef18c",
   "metadata": {
    "deletable": false,
    "editable": false
   },
   "source": [
    "<!-- END QUESTION -->\n",
    "\n",
    "<!-- BEGIN QUESTION -->\n",
    "\n",
    "#### e) Now we want to find the prevalence of each form of exploitation. Use the `summary()` function on the `ctdc_subset` to return the means of each column. (Think about why taking the mean of a column returns the prevalence of the variable). \n",
    "\n",
    "*Optional Challenge*: If you are already comfortable with coding, try using the `group_by` and `summarise` functions in the dplyr package to tabulate the means. "
   ]
  },
  {
   "cell_type": "code",
   "execution_count": null,
   "id": "7e4ca9ae",
   "metadata": {
    "scrolled": true,
    "tags": []
   },
   "outputs": [],
   "source": [
    "# TO DO\n",
    "exploit_summary <- NULL # YOUR CODE HERE\n",
    "exploit_summary"
   ]
  },
  {
   "cell_type": "code",
   "execution_count": null,
   "id": "0f7f5f11",
   "metadata": {
    "deletable": false,
    "editable": false
   },
   "outputs": [],
   "source": [
    ". = ottr::check(\"tests/q2e.R\")"
   ]
  },
  {
   "cell_type": "markdown",
   "id": "f05dd12b",
   "metadata": {
    "deletable": false,
    "editable": false
   },
   "source": [
    "<!-- END QUESTION -->\n",
    "\n",
    "<!-- BEGIN QUESTION -->\n",
    "\n",
    "#### f) What are the flaws of using the CTDC dataset as estimates of prevalence for a certain country? How should we interpret the statistics generated from this dataset?"
   ]
  },
  {
   "cell_type": "markdown",
   "id": "1ca8a3b8",
   "metadata": {},
   "source": [
    "_Type your answer here, replacing this text._"
   ]
  },
  {
   "cell_type": "markdown",
   "id": "b1b010c2",
   "metadata": {
    "deletable": false,
    "editable": false
   },
   "source": [
    "<!-- END QUESTION -->\n",
    "\n",
    "\n",
    "# Submitting Your Notebook (please read carefully!)\n",
    "\n",
    "To submit your notebook...\n",
    "\n",
    "### 1. Click `File` $\\rightarrow$ `Save Notebook`.\n",
    "\n",
    "### 2. Wait 5 seconds.\n",
    "\n",
    "### 3. Select the cell below and hit run."
   ]
  },
  {
   "cell_type": "code",
   "execution_count": null,
   "id": "a347c4a3",
   "metadata": {},
   "outputs": [],
   "source": [
    "ottr::export(\"pset1.ipynb\")"
   ]
  },
  {
   "cell_type": "markdown",
   "id": "1493278b",
   "metadata": {},
   "source": [
    "After you hit \"Run\" on the cell above, click the download link. A .zip file should download to your computer.\n",
    "\n",
    "(If you make changes to your notebook, you'll need to hit save and then run the cell above again before you submit to get a new version of it.)\n",
    "\n",
    "### 4. Submit the .zip file you just downloaded <a href=\"https://www.gradescope.com/\" target=\"_blank\">on Gradescope here</a>.\n",
    "\n",
    "Notes:\n",
    "\n",
    "- **This does not seem to work on Chrome for iPad or iPhone.** If you're using an iPad or iPhone, you need to download the file using **Safari**.\n",
    "- If your web browser automatically unzips the .zip file (so you see a folder instead of a .zip file), you can just upload the .ipynb file that is inside the folder.\n",
    "- If this method is not working for you, try this: hit `File`, then `Download as`, then `Notebook (.ipynb)` and submit that."
   ]
  }
 ],
 "metadata": {
  "kernelspec": {
   "display_name": "R",
   "language": "R",
   "name": "ir"
  },
  "language_info": {
   "codemirror_mode": "r",
   "file_extension": ".r",
   "mimetype": "text/x-r-source",
   "name": "R",
   "pygments_lexer": "r",
   "version": "4.3.2"
  }
 },
 "nbformat": 4,
 "nbformat_minor": 5
}
