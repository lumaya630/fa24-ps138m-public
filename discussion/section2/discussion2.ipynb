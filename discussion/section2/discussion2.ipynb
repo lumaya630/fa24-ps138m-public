{
 "cells": [
  {
   "cell_type": "markdown",
   "id": "0d9081a0-804a-4db3-8031-441d055387b7",
   "metadata": {
    "tags": []
   },
   "source": [
    "# Reading in Datasets, Subsetting Data, Summarising"
   ]
  },
  {
   "cell_type": "code",
   "execution_count": null,
   "id": "311c6991-b71e-4d1f-8358-5594f52bae08",
   "metadata": {
    "tags": []
   },
   "outputs": [],
   "source": [
    "# RUN THIS CELL\n",
    "# Load packages\n",
    "library(testthat)\n",
    "library(tidyverse) %>% suppressMessages()"
   ]
  },
  {
   "cell_type": "markdown",
   "id": "104e1a39-4ec5-4cdc-bc5d-2981960ec0eb",
   "metadata": {},
   "source": [
    "Functions we will be learning\n",
    "- `read.csv(filename)`: reads in a dataframe\n",
    "- `head()`: displays first 6 rows\n",
    "- `ncol()`, `nrow()`\n",
    "- `%>%`: pipe operator, passes on the previous output into the next function\n",
    "\n",
    "How do you subset?\n",
    "1. Use `filter()` to subset to the rows you want\n",
    "2. Use `select()`to subset to the columns you want\n",
    "\n",
    "How do find the summary statistics of a column?\n",
    "1. Use `summarise()` to find summary statistics like `mean()` of a column"
   ]
  },
  {
   "cell_type": "markdown",
   "id": "03d6cea5-dda3-4837-bc7d-3014d4a3d4bd",
   "metadata": {
    "tags": []
   },
   "source": [
    "---\n",
    "## Reading in Dataframes\n",
    "The function for reading in a dataset is `read.csv(filename)`"
   ]
  },
  {
   "cell_type": "code",
   "execution_count": null,
   "id": "11124210-2f55-48f8-9a3a-de8b54fc8618",
   "metadata": {
    "tags": []
   },
   "outputs": [],
   "source": [
    "# read in the dataframe\n",
    "ctdc <- read.csv(\"2024_CTDC_synthetic.csv\")"
   ]
  },
  {
   "cell_type": "markdown",
   "id": "acb09e00-2f1f-4aff-a5e9-93a32151d3a5",
   "metadata": {},
   "source": [
    "## Previewing Datasets with the `head()` function\n",
    "b) You can preview the first few rows of the dataframe by using the function `head(df_name)`. You can also specify the number of rows you want to look at using `head(df_name, N)`"
   ]
  },
  {
   "cell_type": "code",
   "execution_count": null,
   "id": "0c012801-f4a9-4cb3-887c-3f4c4ccb3716",
   "metadata": {
    "scrolled": true,
    "tags": []
   },
   "outputs": [],
   "source": [
    "# preview first 6 rows\n",
    "head(ctdc)"
   ]
  },
  {
   "cell_type": "markdown",
   "id": "4f4e72ad-1914-4b6a-9094-cb0cab74e7c5",
   "metadata": {},
   "source": [
    "## Get dimensions of a dataset"
   ]
  },
  {
   "cell_type": "markdown",
   "id": "fd180f34-ab15-4262-a9e3-21921c1f8d66",
   "metadata": {
    "deletable": false,
    "editable": false
   },
   "source": [
    "Use  `ncol(df_name)` to get the number of columns"
   ]
  },
  {
   "cell_type": "code",
   "execution_count": null,
   "id": "d45346fd-c3e2-4c64-b04c-e32db1a6ccee",
   "metadata": {
    "tags": []
   },
   "outputs": [],
   "source": [
    "# YOUR ANSWER HERE\n",
    "number_columns <- NULL # YOUR CODE HERE\n",
    "\n",
    "# display\n",
    "number_columns"
   ]
  },
  {
   "cell_type": "code",
   "execution_count": null,
   "id": "6c96ca1a",
   "metadata": {
    "deletable": false,
    "editable": false
   },
   "outputs": [],
   "source": [
    ". = ottr::check(\"tests/Q1a.R\")"
   ]
  },
  {
   "cell_type": "markdown",
   "id": "c73eb2ac-966e-4ba5-a743-7805c011d67a",
   "metadata": {
    "deletable": false,
    "editable": false
   },
   "source": [
    "Use `nrow(df_name)` to get the number of rows"
   ]
  },
  {
   "cell_type": "code",
   "execution_count": null,
   "id": "1f94024f-2a5d-451e-bc1b-cf9a1710b85b",
   "metadata": {
    "tags": []
   },
   "outputs": [],
   "source": [
    "# YOUR ANSWER HERE\n",
    "number_rows <- NULL # YOUR CODE HERE\n",
    "\n",
    "# display\n",
    "number_rows"
   ]
  },
  {
   "cell_type": "code",
   "execution_count": null,
   "id": "089d0fb2",
   "metadata": {
    "deletable": false,
    "editable": false
   },
   "outputs": [],
   "source": [
    ". = ottr::check(\"tests/Q1b.R\")"
   ]
  },
  {
   "cell_type": "markdown",
   "id": "31144fea-f39b-4d2e-a2e1-427605144c00",
   "metadata": {},
   "source": [
    "## What is this data?"
   ]
  },
  {
   "cell_type": "markdown",
   "id": "bc08c976-027c-4889-8d24-afd234014d21",
   "metadata": {},
   "source": [
    "What is each row? What is each column?"
   ]
  },
  {
   "cell_type": "code",
   "execution_count": null,
   "id": "87d443f7-68ab-45a1-95d7-a355cf074b4c",
   "metadata": {},
   "outputs": [],
   "source": [
    "# what are the column names?\n",
    "ctdc %>% colnames()"
   ]
  },
  {
   "cell_type": "code",
   "execution_count": null,
   "id": "74e73900-39a3-4773-98fd-f6f3bb4e9d84",
   "metadata": {},
   "outputs": [],
   "source": [
    "# preview the first 6 rows\n",
    "head(ctdc)"
   ]
  },
  {
   "cell_type": "markdown",
   "id": "748c5b28-7a67-4240-a7f5-92f72dc8bfd1",
   "metadata": {},
   "source": [
    "---\n",
    "### Our Task: How do traffickers control their victims?\n",
    "We just saw some qualitative descriptions of some forms of trafficking. Now we want to conceptualize how representative it is of the broader experience of trafficking. In other words, **we want to characterize the means of control that are used by traffickers**. "
   ]
  },
  {
   "cell_type": "markdown",
   "id": "746a1da4-48a6-4a00-a850-788f8c1b3dd9",
   "metadata": {},
   "source": [
    "**What is our population of interest?**\n",
    "\n",
    "a. All reported cases\\\n",
    "**b. Confirmed cases of trafficking**"
   ]
  },
  {
   "cell_type": "markdown",
   "id": "ebfbe661-7105-4c7e-940a-0b59b2a78f41",
   "metadata": {},
   "source": [
    "### 1) When you want to subset to certain **rows**, use `filter()`"
   ]
  },
  {
   "cell_type": "markdown",
   "id": "a091061f-5947-4e5b-8a7a-684a8be3fb0f",
   "metadata": {},
   "source": [
    " Our dataset includes all reported cases (not just the confirmed cases of trafficking). Let's select only the individuals (each person represented by a row) who are confirmed victims of trafficking. "
   ]
  },
  {
   "cell_type": "code",
   "execution_count": null,
   "id": "e225ce68-1663-4e20-a06e-b0fec2b149f2",
   "metadata": {},
   "outputs": [],
   "source": [
    "# EXAMPLE CODE CHUNK #1\n",
    "# subset to cases of confirmed trafficking\n",
    "ctdc_confirmed <- ctdc %>% filter(isSexualExploit == 1 | isForcedLabour == 1 | isOtherExploit == 1) \n",
    "\n",
    "# display\n",
    "head(ctdc_confirmed)"
   ]
  },
  {
   "cell_type": "markdown",
   "id": "697a5b52-8383-4027-8273-53e636b10933",
   "metadata": {},
   "source": [
    "### 2) When we only want certain **columns**, we use select() to select the relevant columns"
   ]
  },
  {
   "cell_type": "markdown",
   "id": "562e0ed9-900c-4b44-9286-3936bde801b5",
   "metadata": {},
   "source": [
    "We are only interested in the means of control, so lets get rid of all the extra columns."
   ]
  },
  {
   "cell_type": "code",
   "execution_count": null,
   "id": "282b9451-4e73-44f1-ab31-e2ebd76855f8",
   "metadata": {},
   "outputs": [],
   "source": [
    "# EXAMPLE CODE CHUNK #2\n",
    "ctdc_means <- ctdc_confirmed %>% select(meansDebtBondageEarnings,\n",
    "                                       meansThreats,\n",
    "                                       meansAbusePsyPhySex,\n",
    "                                       meansFalsePromises,\n",
    "                                       meansDrugsAlcohol,\n",
    "                                       meansDenyBasicNeeds,\n",
    "                                       meansExcessiveWorkHours,\n",
    "                                       meansWithholdDocs,\n",
    "                                       meansSum)\n",
    "# Display\n",
    "ctdc_means"
   ]
  },
  {
   "cell_type": "markdown",
   "id": "d58b3e09-67fc-49d2-b506-bc6352ce22e2",
   "metadata": {
    "deletable": false,
    "editable": false
   },
   "source": [
    "**Shortcut Alert!** There's actually a shortcut with this code. Replace `df` with the appropriate dataframe (hint: we just created it in example code chunk #1!)\n",
    "\n",
    "`df %>% select(starts_with(\"means\"))`"
   ]
  },
  {
   "cell_type": "code",
   "execution_count": null,
   "id": "018d44a2-4670-4929-8305-661115ab1dc8",
   "metadata": {
    "tags": []
   },
   "outputs": [],
   "source": [
    "# YOUR ANSWER HERE\n",
    "ctdc_means_sc <- NULL # YOUR CODE HERE\n",
    "\n",
    "# Display\n",
    "ctdc_means_sc"
   ]
  },
  {
   "cell_type": "code",
   "execution_count": null,
   "id": "77ed2f6c",
   "metadata": {
    "deletable": false,
    "editable": false
   },
   "outputs": [],
   "source": [
    ". = ottr::check(\"tests/Q2.R\")"
   ]
  },
  {
   "cell_type": "markdown",
   "id": "5ffee7f3-88eb-4614-b059-51dcbc55b9d4",
   "metadata": {},
   "source": [
    "### 3) Finding averages of columns using `summarise()` and `mean()`"
   ]
  },
  {
   "cell_type": "markdown",
   "id": "02e43602-3785-47d3-be4c-bd550d4967a7",
   "metadata": {},
   "source": [
    "Look at the dataframe `ctdc_means` above, and look at the column names. They are various means of control. I want to find the average of `meansDebtBondageEarnings`.\n",
    "\n",
    "What would this average represent? In this case, the average is equivalent to the proportion of cases that experienced that MOC. The function used is the `summarise()` and `mean()` function, which is formatted:\n",
    "\n",
    "`df %>% summarise(new_column_name = mean(existing_column_name, na.rm = T)`"
   ]
  },
  {
   "cell_type": "code",
   "execution_count": null,
   "id": "784a1e8e-b117-4d6d-8fea-329a021697bc",
   "metadata": {
    "scrolled": true
   },
   "outputs": [],
   "source": [
    "# EXAMPLE CODE CHUNK #3\n",
    "ex_ctdc_means_summary <- ctdc_means %>% summarise(\n",
    "    # mean of the debt bondage column\n",
    "    meansDebtBondageEarnings = mean(meansDebtBondageEarnings, na.rm = T))\n",
    "\n",
    "# display\n",
    "ex_ctdc_means_summary"
   ]
  },
  {
   "cell_type": "markdown",
   "id": "d48a6c9f-e4fd-4df3-9cc3-342e8675f5f8",
   "metadata": {
    "deletable": false,
    "editable": false
   },
   "source": [
    "Your turn! Pick you can summarise multiple columns simulaneously by adding another line. \n",
    "\n",
    "    df %>% summarise(\n",
    "        column1 = mean(column1, na.rm = T),\n",
    "        column2 = mean(column2, na.rm = T))\n",
    "\n",
    "Find the means of `meansAbusePsyPhySex` and `meansFalsePromises`. \n",
    "\n",
    "How would you interpret these values?"
   ]
  },
  {
   "cell_type": "code",
   "execution_count": null,
   "id": "7d6e4849-4f55-4127-bf8f-23970a51cf46",
   "metadata": {
    "tags": []
   },
   "outputs": [],
   "source": [
    "# YOUR ANSWER HERE\n",
    "# Taking the mean of multiple columns\n",
    "\n",
    "ex_ctdc_means_summary <- NULL # YOUR CODE HERE\n",
    "\n",
    "# display output\n",
    "ex_ctdc_means_summary"
   ]
  },
  {
   "cell_type": "code",
   "execution_count": null,
   "id": "73a2b454",
   "metadata": {
    "deletable": false,
    "editable": false
   },
   "outputs": [],
   "source": [
    ". = ottr::check(\"tests/Q3.R\")"
   ]
  },
  {
   "cell_type": "markdown",
   "id": "efbacee2-6bd2-41a3-90ab-ebe2f32dbd92",
   "metadata": {},
   "source": [
    "## No Action Needed: Plotting Data\n",
    "Looking at the plot, what were the most commonly reported means of control in this dataset?"
   ]
  },
  {
   "cell_type": "code",
   "execution_count": null,
   "id": "dd766f43-3247-49df-bdde-610640a68e1c",
   "metadata": {},
   "outputs": [],
   "source": [
    "ctdc_means  %>% summarise_all(mean, na.rm = T) %>% \n",
    "select(-meansSum) %>%\n",
    "pivot_longer(cols = starts_with(\"mean\"),\n",
    "                        names_to = \"means_of_control\",\n",
    "                        values_to = \"proportion\") %>%\n",
    "ggplot(aes(x = reorder(means_of_control, proportion), y = proportion)) + \n",
    "labs(x = \"Means of Control\") +\n",
    "geom_bar(stat = \"identity\", width = 0.5) +\n",
    "theme_bw(base_size = 30) + coord_flip() "
   ]
  },
  {
   "cell_type": "markdown",
   "id": "d39cd6b7-c5d7-4efc-8788-2934664719b6",
   "metadata": {},
   "source": [
    "---\n",
    "### Practice Time!\n",
    "**Question to investigate: In this dataset, which means of control appear gendered?**"
   ]
  },
  {
   "cell_type": "markdown",
   "id": "4b377ce4-b6a3-43c2-b843-ca6b21ad2868",
   "metadata": {
    "jp-MarkdownHeadingCollapsed": true
   },
   "source": [
    "We already have a dataset of confirmed cases called `ctdc_confirmed`. See below. "
   ]
  },
  {
   "cell_type": "code",
   "execution_count": null,
   "id": "28d7c5a1-8131-4fd5-bdd3-64d01b4ac205",
   "metadata": {},
   "outputs": [],
   "source": [
    "head(ctdc_confirmed)"
   ]
  },
  {
   "cell_type": "markdown",
   "id": "b7f6ace3-6eb5-4114-81ad-76f3f79f5bcf",
   "metadata": {},
   "source": [
    "#### 1) Practice using the filter() function. \n",
    "**Use filter() to create two dataframes. One for each gender category.**"
   ]
  },
  {
   "cell_type": "markdown",
   "id": "e687b191-13b8-49f5-bd35-db414a2c2c84",
   "metadata": {
    "deletable": false,
    "editable": false
   },
   "source": [
    "**Step 1:** See the second column named `gender`, filter the confirmed cases dataframe to where `gender == \"Woman\"`\n",
    "\n",
    "    ctdc_woman <- ctdc_confirmed %>% filter(gender == \"Woman\"))"
   ]
  },
  {
   "cell_type": "code",
   "execution_count": null,
   "id": "3469cfe6-274f-4b2e-a367-ae3978d424bc",
   "metadata": {
    "scrolled": true,
    "tags": []
   },
   "outputs": [],
   "source": [
    "# YOUR ANSWER HERE\n",
    "ctdc_woman <- NULL # YOUR CODE HERE\n",
    "\n",
    "# display\n",
    "head(ctdc_woman)"
   ]
  },
  {
   "cell_type": "code",
   "execution_count": null,
   "id": "186185fc",
   "metadata": {
    "deletable": false,
    "editable": false
   },
   "outputs": [],
   "source": [
    ". = ottr::check(\"tests/Q4.R\")"
   ]
  },
  {
   "cell_type": "markdown",
   "id": "bc06cd4a-3fe3-4f7d-a921-7472b1147a61",
   "metadata": {
    "deletable": false,
    "editable": false
   },
   "source": [
    "**Step 2:** Now create the same thing but for `\"Man\"`. In other words, from `ctdc_confirmed`, filter to where `gender == \"Man\"`"
   ]
  },
  {
   "cell_type": "code",
   "execution_count": null,
   "id": "891b8003-0e53-4afa-a51a-64018e748caf",
   "metadata": {
    "collapsed": true,
    "jupyter": {
     "outputs_hidden": true
    },
    "tags": []
   },
   "outputs": [],
   "source": [
    "# YOUR ANSWER HERE\n",
    "ctdc_man <- NULL # YOUR CODE HERE\n",
    "\n",
    "# display\n",
    "head(ctdc_man)"
   ]
  },
  {
   "cell_type": "code",
   "execution_count": null,
   "id": "9572c61b",
   "metadata": {
    "deletable": false,
    "editable": false
   },
   "outputs": [],
   "source": [
    ". = ottr::check(\"tests/Q5.R\")"
   ]
  },
  {
   "cell_type": "markdown",
   "id": "cfa21ed6-ca1c-4ea5-b54b-34c6c17f5cca",
   "metadata": {
    "deletable": false,
    "editable": false
   },
   "source": [
    "#### 2) For both dataframes, use `select()` to select the columns that start with \"means\""
   ]
  },
  {
   "cell_type": "code",
   "execution_count": null,
   "id": "295f9ffa-4034-4bee-9608-6ce0dc977272",
   "metadata": {
    "tags": []
   },
   "outputs": [],
   "source": [
    "# YOUR ANSWER HERE\n",
    "# select the columns that start with \"means\" for the woman dataframe\n",
    "ctdc_woman_means <- NULL # YOUR CODE HERE\n",
    "\n",
    "# select the columns that start with \"means\" for the woman dataframe\n",
    "ctdc_man_means <- NULL # YOUR CODE HERE"
   ]
  },
  {
   "cell_type": "code",
   "execution_count": null,
   "id": "862fdc4a",
   "metadata": {
    "deletable": false,
    "editable": false
   },
   "outputs": [],
   "source": [
    ". = ottr::check(\"tests/Q6.R\")"
   ]
  },
  {
   "cell_type": "markdown",
   "id": "a2c98235-ff9f-4f74-8966-9793295a45b5",
   "metadata": {},
   "source": [
    "Below are the first five rows of the dataframe `ctdc_woman_means` that you created. "
   ]
  },
  {
   "cell_type": "code",
   "execution_count": null,
   "id": "674cb926-31a6-4c5c-ab2e-9bbaf1c40880",
   "metadata": {
    "scrolled": true
   },
   "outputs": [],
   "source": [
    "head(ctdc_woman_means)"
   ]
  },
  {
   "cell_type": "markdown",
   "id": "bc328f14-4d30-4039-9986-eb03cea13922",
   "metadata": {},
   "source": [
    "#### 3) Comparing the means from the two subsets using `summarise()`"
   ]
  },
  {
   "cell_type": "markdown",
   "id": "52c0a3e4-184e-48ab-8281-23734b24aab8",
   "metadata": {},
   "source": [
    "In the example code chunk below, I am finding the means of all MOCs for the female dataframe. "
   ]
  },
  {
   "cell_type": "code",
   "execution_count": null,
   "id": "0ae26592-0943-4f6c-bdc7-43514a1ba579",
   "metadata": {
    "scrolled": true
   },
   "outputs": [],
   "source": [
    "# EXAMPLE CODE\n",
    "# find the averages of all eight means of control (MOC) included in the dataset for WOMEN\n",
    "ctdc_woman_means_summary <- ctdc_woman_means %>% summarise(\n",
    "        meansDebtBondageEarnings = mean(meansDebtBondageEarnings, na.rm = T),\n",
    "        meansThreats = mean(meansThreats, na.rm = T),\n",
    "        meansAbusePsyPhySex = mean(meansAbusePsyPhySex, na.rm = T),\n",
    "        meansFalsePromises = mean(meansFalsePromises, na.rm = T),\n",
    "        meansDrugsAlcohol = mean(meansDrugsAlcohol, na.rm = T),\n",
    "        meansDenyBasicNeeds = mean(meansDenyBasicNeeds, na.rm = T),\n",
    "        meansExcessiveWorkHours = mean(meansExcessiveWorkHours, na.rm = T),\n",
    "        meansWithholdDocs = mean(meansWithholdDocs, na.rm = T))\n",
    "\n",
    "ctdc_woman_means_summary"
   ]
  },
  {
   "cell_type": "markdown",
   "id": "38b1b3de-6091-43a0-a74d-04d88b4f81b7",
   "metadata": {
    "deletable": false,
    "editable": false
   },
   "source": [
    "**Now you do the same exact thing, but for the male dataframe.**\n",
    "\n",
    "Hint: If you don't want to type it all out, just copy paste the example code above, but there is variable you would need to change. What is it?"
   ]
  },
  {
   "cell_type": "code",
   "execution_count": null,
   "id": "2ed8b12a-ccc5-4174-8d73-5c71fcaa355b",
   "metadata": {
    "tags": []
   },
   "outputs": [],
   "source": [
    "# YOUR ANSWER HERE\n",
    "# find the averages of all eight means of control (MOC) included in the dataset for MEN\n",
    "ctdc_man_means_summary <- NULL # YOUR CODE HERE\n",
    "\n",
    "# DISPLAY\n",
    "ctdc_man_means_summary"
   ]
  },
  {
   "cell_type": "code",
   "execution_count": null,
   "id": "1297d5f0",
   "metadata": {
    "deletable": false,
    "editable": false
   },
   "outputs": [],
   "source": [
    ". = ottr::check(\"tests/Q7.R\")"
   ]
  },
  {
   "cell_type": "markdown",
   "id": "d42801cd-b835-42ad-93b2-1c00f9edc0ea",
   "metadata": {},
   "source": [
    "---\n",
    "#### No action needed, the cell below makes a plot"
   ]
  },
  {
   "cell_type": "code",
   "execution_count": null,
   "id": "b671348f-8237-4f5a-b65d-7ed6a6f341ed",
   "metadata": {},
   "outputs": [],
   "source": [
    "# Plotting results\n",
    "ctdc_woman_means_summary %>% mutate(gender = \"Woman\") %>%\n",
    "    # manipulating the data\n",
    "    rbind(ctdc_man_means_summary %>% mutate(gender = \"Man\")) %>%\n",
    "    pivot_longer(starts_with(\"means\"), names_to=\"MeanOfControl\", values_to = \"Proportion\") %>%\n",
    "    # plotting starts here\n",
    "    ggplot(aes(x = MeanOfControl, y = Proportion, fill = gender)) +\n",
    "    # barplot\n",
    "    geom_bar(stat = \"identity\", position = position_dodge(), width = 0.3)+ \n",
    "    # changes to formatting\n",
    "    theme_bw(base_size = 30) + coord_flip()\n"
   ]
  },
  {
   "cell_type": "markdown",
   "id": "f87926c5-e05a-4a8d-a6f8-01256f4e577f",
   "metadata": {
    "deletable": false,
    "editable": false
   },
   "source": [
    "<!-- BEGIN QUESTION -->\n",
    "\n",
    "What means of trafficking appear gendered in this dataset? Is it consistent with what we've been reading? If not, what do you think could account for the differences?"
   ]
  },
  {
   "cell_type": "markdown",
   "id": "a282d951",
   "metadata": {},
   "source": [
    "_Type your answer here, replacing this text._"
   ]
  },
  {
   "cell_type": "markdown",
   "id": "39d7a519-4c87-4013-9a27-74549dc4a251",
   "metadata": {
    "deletable": false,
    "editable": false
   },
   "source": [
    "<!-- END QUESTION -->\n",
    "\n",
    "---"
   ]
  },
  {
   "cell_type": "markdown",
   "id": "eff52c20-94ae-4e63-a26d-9ff7efa491d5",
   "metadata": {},
   "source": [
    "# Summary\n",
    "- `read.csv(filename)`: reads in a dataframe\n",
    "- `head(df_name)`: displays first 6 rows\n",
    "- `ncol(df_name)`, `nrow(df_name)` : return number of rows/columns of a dataframe, respectively\n",
    "- `%>%`: pipe operator, passes on the previous output into the next function\n",
    "\n",
    "How do you subset?\n",
    "1. Use `filter(insert_condition)` to subset to the rows you want\n",
    "2. Use `select(column_names)`to subset to the columns you want\n",
    "\n",
    "How do find the summary statistics of a column?\n",
    "1. Use `summarise()` to find summary statistics like `mean()` of a column\n",
    "\n",
    "Together, it would look like...\n",
    "\n",
    "    df %>% filter(condition) %>%\n",
    "            select(columns) %>%\n",
    "            summarise(column_name = mean(existing_column_name, na.rm = T))"
   ]
  },
  {
   "cell_type": "markdown",
   "id": "d7beaa28-2e86-408e-9971-c23dfb60fab6",
   "metadata": {},
   "source": [
    "**Bonus: What proportion of reported sexual exploitation are of women? In this dataset, its 84%.**"
   ]
  },
  {
   "cell_type": "code",
   "execution_count": null,
   "id": "5cd6a0b3-d6b5-4c27-905d-b4f3eeab5c80",
   "metadata": {},
   "outputs": [],
   "source": [
    "ctdc %>% filter(isSexualExploit ==1) %>%\n",
    "    select(gender) %>% \n",
    "    summarise(prop_female = mean(gender == \"Woman\", na.rm = T))"
   ]
  }
 ],
 "metadata": {
  "kernelspec": {
   "display_name": "R",
   "language": "R",
   "name": "ir"
  },
  "language_info": {
   "codemirror_mode": "r",
   "file_extension": ".r",
   "mimetype": "text/x-r-source",
   "name": "R",
   "pygments_lexer": "r",
   "version": "4.3.2"
  }
 },
 "nbformat": 4,
 "nbformat_minor": 5
}
