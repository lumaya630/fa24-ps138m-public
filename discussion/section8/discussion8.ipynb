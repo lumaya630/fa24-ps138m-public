{
 "cells": [
  {
   "cell_type": "markdown",
   "id": "84b8033b-119f-49ee-ab5e-59e7afc98cf3",
   "metadata": {},
   "source": [
    "# Setup\n",
    "Load Packages"
   ]
  },
  {
   "cell_type": "code",
   "execution_count": null,
   "id": "782af6a5-b561-4d5f-bd41-8b251b60666a",
   "metadata": {},
   "outputs": [],
   "source": [
    "# You *must* run this cell first. Do not change the contents of this cell.\n",
    "library(testthat)\n",
    "library(ottr)\n",
    "library(tidyverse)"
   ]
  },
  {
   "cell_type": "markdown",
   "id": "fd011454-2c79-409b-b478-6bca5ccdb7f8",
   "metadata": {},
   "source": [
    "Load data"
   ]
  },
  {
   "cell_type": "code",
   "execution_count": null,
   "id": "e5e545c5-d859-4ce5-af86-78b8c12c8efe",
   "metadata": {},
   "outputs": [],
   "source": [
    "# read in data\n",
    "df_gsi <- read.csv(\"gsi-scores-2023.csv\")"
   ]
  },
  {
   "cell_type": "markdown",
   "id": "8e245461-34f1-42da-9eba-2ce4cb8aa77f",
   "metadata": {},
   "source": [
    "Look at the head of the dataframe. "
   ]
  },
  {
   "cell_type": "code",
   "execution_count": null,
   "id": "0dca2a08-fffb-4a7a-8390-7c40efc5f6d4",
   "metadata": {},
   "outputs": [],
   "source": [
    "# look at first 3 rows of the data\n",
    "head(df_gsi, 3)"
   ]
  },
  {
   "cell_type": "markdown",
   "id": "d5899b56-7dd0-4b54-863e-490e260ca058",
   "metadata": {},
   "source": [
    "---\n",
    "## What's our stance on the Global Slavery Index?\n",
    "* Group A: Advocates\n",
    "* Group B: Skeptics\n",
    "\n",
    "Optional, if you would some inspiration, here are some sources you can skim...\n",
    "\n",
    "**Both Groups**\n",
    "* [Walk Free Methodology](https://www.walkfree.org/global-slavery-index/methodology/methodology-content/#prevalence)\n",
    "* [Excel file](2023-GSI-Data-Full.xlsx): Looks at the breakdown of the vulnerability scores, where they are getting the data from.\n",
    "\n",
    "\n",
    "**Group A**\n",
    "* [The Politics of Global Data Reporting: A Triangulated Solution for Estimating Modern Slavery](https://www.tandfonline.com/doi/full/10.1080/09332480.2017.1383112#d1e93)\n",
    "* [Media career of the GSI](https://www.emerald.com/insight/content/doi/10.1108/S0733-558X20210000074030/full/html)\n",
    "* [Review of the 2018 Launch](https://blogs.nottingham.ac.uk/newsroom/2018/07/19/2018-global-slavery-index-launches-at-the-united-nations-headquarters/)\n",
    "\n",
    "\n",
    "**Group B:**\n",
    "* [Gallagher](https://www.antitraffickingreview.org/index.php/atrjournal/article/view/228): Critiques the 2014 version, which has slightly different methods than the most current one\n",
    "* [McGrath and Watson](https://www.sciencedirect.com/science/article/pii/S0016718518301222#b0115): Start at section 5\n",
    "\n",
    "---\n",
    "With your group, discuss...\n",
    "\n",
    "**For Group A: How can this be useful?**\n",
    "1. Make a case for the usage Walk Free's choice to use nationally representative surveys to estimate prevalence of forced labor. Note its limitations, but focus on how we can also learn from them.\n",
    "2. What are the sources of the data on the vulnerability measures? Do you trust them? What is useful about having these vulnerability measures?\n",
    "3. Is there a political/more practical purpose of the GSI that is helpful?\n",
    "\n",
    "**For Group B: What should we be cautious about?**\n",
    "1. What is the definition of trafficking being used in the surveys? Is this consistent with the definitions we have learned?\n",
    "2. Why can't we trust the regional and global estimates? What is the problem with using data from 68 countries to estimate prevalence in other countries?\n",
    "3. What are the cons of the way that vulnerability is being measured?\n",
    "\n",
    "   "
   ]
  },
  {
   "cell_type": "markdown",
   "id": "1ca394b5-4d9d-478f-ba28-d14f6f8883fd",
   "metadata": {},
   "source": [
    "\n",
    "---\n",
    "## Tutorial of Data\n",
    "## Explore Data\n",
    "\n",
    "### Country level data\n",
    "<img src=\"surveyed-countries.png\" width=\"100%\"/>\n",
    "\n",
    "**Comment 1:** \n",
    "There exists data on countries that have been surveyed, and countries that were not. "
   ]
  },
  {
   "cell_type": "code",
   "execution_count": null,
   "id": "27c3dfda-fd13-4cb0-af76-79b8f26956c2",
   "metadata": {
    "scrolled": true
   },
   "outputs": [],
   "source": [
    "# sort the table by prevalence per 1000\n",
    "df_gsi %>% \n",
    "    # select some columns\n",
    "    select(country, prev_per_1000, prev_total, surveyed) %>%\n",
    "    # sort by the prevalence per 1000\n",
    "    arrange(desc(prev_per_1000))"
   ]
  },
  {
   "cell_type": "markdown",
   "id": "4cab7a56-3161-4642-9f10-aec43ffd5ea1",
   "metadata": {},
   "source": [
    "#### We can use these sorted tables to identify the countries with high degrees of prevalence. \n",
    "\n",
    "**Note:**\n",
    "If we cared about figuring out where has the highest prevalence, what can and can't we learn from this dataset?"
   ]
  },
  {
   "cell_type": "code",
   "execution_count": null,
   "id": "b1a96dff-f77d-4081-add4-79f1cd2dc0bf",
   "metadata": {},
   "outputs": [],
   "source": [
    "# among the direct survey data\n",
    "df_gsi %>% filter(country == \"North Korea\") "
   ]
  },
  {
   "cell_type": "markdown",
   "id": "a2c3d180-59bb-40e3-9c19-cc6c45f3b073",
   "metadata": {},
   "source": [
    "**Discuss:** If you were to report on the countries with the highest prevalence of human trafficking, given this data, what would you say?"
   ]
  },
  {
   "cell_type": "markdown",
   "id": "d659d9e1-b184-47e8-9e8a-1059622d816d",
   "metadata": {},
   "source": [
    "_Your answer here_"
   ]
  },
  {
   "cell_type": "markdown",
   "id": "370caeba-b653-43a0-804b-e2e591059475",
   "metadata": {},
   "source": [
    "---\n",
    "### Regional Level Data\n",
    "Regional estimates are also based on non-surveyed and surveyed data. \n",
    "\n",
    "Let's look at regional estimates of prevalence. Group by `region` and find the average prevalence per 1000, and sum of the total prevalence for each region. Can we trust these estimates?"
   ]
  },
  {
   "cell_type": "code",
   "execution_count": null,
   "id": "efd895bb-6f19-4802-9e0b-f278ab735d45",
   "metadata": {
    "scrolled": true
   },
   "outputs": [],
   "source": [
    "df_gsi %>% \n",
    "    # telling R that categories are stored in the column region\n",
    "    group_by(region) %>% \n",
    "    summarise(avg_prev_1000 = mean(prev_per_1000, na.rm = T), # average\n",
    "              median_prev_1000 = median(prev_per_1000, na.rm = T), # median\n",
    "              sum_total_prev = sum(prev_total, na.rm = T)) %>% # sum\n",
    "\n",
    "    # sorting in descending order\n",
    "    arrange(desc(avg_prev_1000))"
   ]
  },
  {
   "cell_type": "markdown",
   "id": "a1f19c99-bbf2-4e50-aadd-2b162e3c5a09",
   "metadata": {},
   "source": [
    "**Note: How much of this data is real versus statistically inferred?** \n",
    "1. Group by region\n",
    "2. Find the proportion of countries that were surveyed in each region\n",
    "   \n",
    "Discuss: Which regions would you be more or less comfortable taking estimates from?"
   ]
  },
  {
   "cell_type": "code",
   "execution_count": null,
   "id": "21d9d202-f571-41d8-8059-ce31d6f1e437",
   "metadata": {},
   "outputs": [],
   "source": [
    "df_gsi %>% group_by(region) %>%\n",
    "    summarise(proportion_surveyed = mean(surveyed))"
   ]
  },
  {
   "cell_type": "markdown",
   "id": "2d5db597-5d12-4182-917a-d75403ba0a7a",
   "metadata": {},
   "source": [
    "**Discuss:** What claims would you make about regional prevalence? Could you still use this data to identify regional patterns? How would you go about doing so?"
   ]
  },
  {
   "cell_type": "markdown",
   "id": "44c563b1-5a23-4aaa-925b-3c8b15765686",
   "metadata": {},
   "source": [
    "_Your answer here_"
   ]
  },
  {
   "cell_type": "markdown",
   "id": "350a3fb0-bee5-4ff2-a978-58d184ec579a",
   "metadata": {},
   "source": [
    "---\n",
    "## Global Prevalence\n",
    "**What is the global prevalence of human trafficking? This is the number we see everywhere!** \n",
    "\n",
    "        df %>% summarise(total_prev = ...(..., na.rm = T))"
   ]
  },
  {
   "cell_type": "code",
   "execution_count": null,
   "id": "1fde98f6-2907-4ce0-82c8-9f3f0aaaee13",
   "metadata": {
    "scrolled": true
   },
   "outputs": [],
   "source": [
    "df_gsi %>% summarise(total_prev = sum(prev_total, na.rm = T))"
   ]
  },
  {
   "cell_type": "markdown",
   "id": "fea1a56d-fcf1-421e-9e06-105b61db3487",
   "metadata": {},
   "source": [
    "**Discuss:** This estimate is based off of inferences of 68 countries to 160 countries. What are your reactions? How can this estimate be helpful and/or harmful? Why do people keep citing it?"
   ]
  },
  {
   "cell_type": "markdown",
   "id": "b6a4b589-71ba-45f1-8ccf-dc61cfac749a",
   "metadata": {},
   "source": [
    "_Your answer here_"
   ]
  },
  {
   "cell_type": "markdown",
   "id": "20c7f425-80ba-4561-bde0-9ed8157017e4",
   "metadata": {},
   "source": [
    "---\n",
    "## Exploring Vulnerability\n",
    "Let's look at vulnerbaility measures. The main score is stored in the column `vulnerability`. The five dimension scores are stored in `governance_issues`, `basic_needs`, `inequality` `disenfranchised_groups`, `effect_conflict`. The higher the score, the more vulnerable. \n",
    "\n",
    "**Comment:** We could sort by the vulnerability to see which country we want to target. \n",
    "\n",
    "These are not from the surveys, but rather from the various datasets. We could sort the data by the vulnerability score, and see which countries have the most room for improvement. (Higher scores are more vulnerable)"
   ]
  },
  {
   "cell_type": "code",
   "execution_count": null,
   "id": "1812f383-34be-461f-9956-7321dad91293",
   "metadata": {
    "scrolled": true
   },
   "outputs": [],
   "source": [
    "df_gsi %>%  arrange(desc(vulnerability)) %>% head()"
   ]
  },
  {
   "cell_type": "markdown",
   "id": "7fe0c246-118f-48cd-aef4-321635440116",
   "metadata": {},
   "source": [
    "**Comment:** We could also look at vulnerability across regions. "
   ]
  },
  {
   "cell_type": "code",
   "execution_count": null,
   "id": "a5f08838-05e0-4242-9ca3-b20ac3ca7f72",
   "metadata": {},
   "outputs": [],
   "source": [
    "df_gsi %>%\n",
    "group_by(region) %>%  \n",
    "    # one row per region\n",
    "    summarise(\n",
    "        # find the average vulnerability score\n",
    "        avg_vulnerability = mean(vulnerability, na.rm = T),\n",
    "        # find the average prevalence score\n",
    "        avg_prev_1000 = mean(prev_per_1000, na.rm = T)\n",
    "    ) %>%\n",
    "    # sort dataframe in descending order\n",
    "    arrange(desc(avg_vulnerability))"
   ]
  },
  {
   "cell_type": "markdown",
   "id": "7688dc5f-2d58-4370-980d-f47f8f9533f5",
   "metadata": {},
   "source": [
    "---\n",
    "### **Exploring Relationships**\n",
    "**Comment:** Use `lm()` to explore relationships between prevalence per 1000 and the vulnerability dimensions. \n",
    "\n",
    "        lm(dv ~ iv, data = df_gsi_full)"
   ]
  },
  {
   "cell_type": "code",
   "execution_count": null,
   "id": "2024855b-3fa6-42a0-81de-90233f28d463",
   "metadata": {
    "scrolled": true
   },
   "outputs": [],
   "source": [
    "# looks at the relationship between vulnerability dimensions and prevalence\n",
    "lm(prev_per_1000 ~ basic_needs + \n",
    "                   inequality + \n",
    "                   disenfranchised_groups + \n",
    "                   effect_conflict +\n",
    "                   governance_issues,\n",
    "   data = df_gsi) %>% summary()"
   ]
  },
  {
   "cell_type": "markdown",
   "id": "0a2b7471-904a-4cd8-809f-01837eb44d82",
   "metadata": {},
   "source": [
    "_Do you trust these relationships? Why or why not? What if we only looked at the real surveyed countries, would you trust the estimates then?_"
   ]
  },
  {
   "cell_type": "markdown",
   "id": "ee3bf1a5-1767-4f50-b088-5c591dc6ef95",
   "metadata": {},
   "source": [
    "_Your answer here_"
   ]
  }
 ],
 "metadata": {
  "kernelspec": {
   "display_name": "R",
   "language": "R",
   "name": "ir"
  },
  "language_info": {
   "codemirror_mode": "r",
   "file_extension": ".r",
   "mimetype": "text/x-r-source",
   "name": "R",
   "pygments_lexer": "r",
   "version": "4.3.2"
  }
 },
 "nbformat": 4,
 "nbformat_minor": 5
}
