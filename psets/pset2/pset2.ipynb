{
 "cells": [
  {
   "cell_type": "markdown",
   "id": "59a5b9ff",
   "metadata": {},
   "source": [
    "# Assignment 2: Does Legalized Prostitution Increase Human Trafficking?"
   ]
  },
  {
   "cell_type": "markdown",
   "id": "ee7e7238",
   "metadata": {},
   "source": [
    "### Substantive Objectives\n",
    "In this assignment, we will first review regression mechanics. Then we will be replicating a [study](https://www.sciencedirect.com/science/article/pii/S0305750X12001453)\n",
    "conducted by Cho, Dreher, and Neumayer in 2012 that investigates the relationship between legalized prostitution and human trafficking. The goal is for you to be able to run a simplified version of their regression and have your own critical interpretation of the output. \n",
    "\n",
    "### Coding Objectives\n",
    "1) Running regressions using `lm()`"
   ]
  },
  {
   "cell_type": "markdown",
   "id": "03e5e9f3",
   "metadata": {},
   "source": [
    "## Setup\n",
    "The code chunk below loads the packages that we need. "
   ]
  },
  {
   "cell_type": "code",
   "execution_count": null,
   "id": "bbf2492c",
   "metadata": {},
   "outputs": [],
   "source": [
    "# You *must* run this cell first. Do not change the contents of this cell.\n",
    "library(testthat)\n",
    "library(ottr)\n",
    "library(IRdisplay)\n",
    "library(tidyverse) %>% suppressMessages()"
   ]
  },
  {
   "cell_type": "markdown",
   "id": "9c7db652",
   "metadata": {},
   "source": [
    "The code chunk below loads the dataset we will be using. "
   ]
  },
  {
   "cell_type": "code",
   "execution_count": null,
   "id": "120a5e01",
   "metadata": {},
   "outputs": [],
   "source": [
    "cho <- read.csv(\"cho_rep_clean.csv\")"
   ]
  },
  {
   "cell_type": "markdown",
   "id": "e7aabade",
   "metadata": {},
   "source": [
    "# Question 1: Regression Mechanics\n",
    "(9 points)"
   ]
  },
  {
   "cell_type": "markdown",
   "id": "a0382e3b",
   "metadata": {
    "deletable": false,
    "editable": false
   },
   "source": [
    "**a)(4 points) For the questions below, place the correct letter in the corresponding letter.**\n",
    "\n",
    "### <p style=\"color:#5F7BA4;\">  Independent and Dependent Variables\n",
    "**i) A researcher runs on a study on the relationship between temperature and rate of ice cream melting, hypothesizing that warmer temperature leads to a faster rate of melting. What is the independent variable?**\n",
    "\n",
    "> A. Temperature\\\n",
    "B. Rate of ice cream melting\n",
    "\n",
    "**ii) In question (i), what is the direction of the correlation?**\n",
    "    \n",
    "> A. Positive correlation\\\n",
    "B. Negative correlation\n",
    "\n",
    "**iii) A researcher runs a study on gender and human trafficking vulnerability, hypothesizing that being female will be associated with higher rates of trafficking reports. What is the dependent variable?**\n",
    "\n",
    "> A. Being female\\\n",
    "B. Rate of trafficking reports\n",
    "    \n",
    "**iv) What is also known as the \"outcome variable\"?**\n",
    "\n",
    "> A. Independent Variable\\\n",
    "B. Dependent Variable\n",
    "    "
   ]
  },
  {
   "cell_type": "code",
   "execution_count": null,
   "id": "f3596134",
   "metadata": {
    "tags": []
   },
   "outputs": [],
   "source": [
    "# YOUR SOLUTION GOES HERE\n",
    "# Please write the answer in capital letters (E.g. i <- \"A\")\n",
    "q1i <- NULL # YOUR CODE HERE\n",
    "q1ii <- NULL # YOUR CODE HERE\n",
    "q1iii <- NULL # YOUR CODE HERE\n",
    "q1iv <- NULL # YOUR CODE HERE"
   ]
  },
  {
   "cell_type": "markdown",
   "id": "efbbfaf9-f164-4515-a744-56854d1836ae",
   "metadata": {
    "deletable": false,
    "editable": false
   },
   "source": [
    "*Note: This test checks for formatting, not correctness*"
   ]
  },
  {
   "cell_type": "code",
   "execution_count": null,
   "id": "67ec0af8",
   "metadata": {
    "deletable": false,
    "editable": false
   },
   "outputs": [],
   "source": [
    ". = ottr::check(\"tests/q1a.R\")"
   ]
  },
  {
   "cell_type": "markdown",
   "id": "6c9e4baa",
   "metadata": {
    "deletable": false,
    "editable": false
   },
   "source": [
    "<!-- BEGIN QUESTION -->\n",
    "\n",
    "### <p style=\"color:#5F7BA4;\">  Estimates: $\\alpha$, $\\beta_1$\n",
    "\n",
    "**b) (2 points) The following is an equation for investigating the association between years of education and income. Interpret the following equation in words. In your answer, make sure to explicitly explain the what $\\alpha$ and $\\beta_1$ represent.**\n",
    "    \n",
    "   $$Income_i = \\alpha + \\beta_1 YearsEducation_i + \\varepsilon_i$$"
   ]
  },
  {
   "cell_type": "markdown",
   "id": "22d11f2b",
   "metadata": {},
   "source": [
    "_Type your answer here, replacing this text._"
   ]
  },
  {
   "cell_type": "markdown",
   "id": "562094c5",
   "metadata": {
    "deletable": false,
    "editable": false
   },
   "source": [
    "<!-- END QUESTION -->\n",
    "\n",
    "**c) (1 point) We find $\\alpha = 10,000$ and $\\beta_1 = 3,000$. Based upon these coefficients, what is the average income of a high school graduate (12 years of education). Store this value as an integer below.**   "
   ]
  },
  {
   "cell_type": "code",
   "execution_count": null,
   "id": "8934bab7-1dd8-48a8-8175-9e7289398790",
   "metadata": {
    "tags": []
   },
   "outputs": [],
   "source": [
    "hs_grad_income <- NULL # YOUR CODE HERE"
   ]
  },
  {
   "cell_type": "markdown",
   "id": "098dd56d-0ee2-4261-94c2-767f5a61d344",
   "metadata": {
    "deletable": false,
    "editable": false
   },
   "source": [
    "*Note: This test checks for formatting, not correctness*"
   ]
  },
  {
   "cell_type": "code",
   "execution_count": null,
   "id": "a3ed3a6c",
   "metadata": {
    "deletable": false,
    "editable": false
   },
   "outputs": [],
   "source": [
    ". = ottr::check(\"tests/q1c.R\")"
   ]
  },
  {
   "cell_type": "markdown",
   "id": "91c11ec4-12b6-439c-af5c-c47056dfae68",
   "metadata": {
    "deletable": false,
    "editable": false
   },
   "source": [
    "<!-- BEGIN QUESTION -->\n",
    "\n",
    "**d) (1 points) Can we claim that each additional year of education will increase income by $3,000? Why or why not?**"
   ]
  },
  {
   "cell_type": "markdown",
   "id": "90a9a22f",
   "metadata": {},
   "source": [
    "_Type your answer here, replacing this text._"
   ]
  },
  {
   "cell_type": "markdown",
   "id": "41d305c2-cc30-4657-8498-d83d09143ec2",
   "metadata": {
    "deletable": false,
    "editable": false
   },
   "source": [
    "<!-- END QUESTION -->\n",
    "\n",
    "<!-- BEGIN QUESTION -->\n",
    "\n",
    "**e) (1 point) Think of one variable that is correlated with both years of education and income levels. Explicitly specify the direction of correlation (positive or negative) of your variable with education, and the direction of correlation between your variable and income.**\n",
    "\n",
    "*The statistical term for such a variable is a \"control variable\".*"
   ]
  },
  {
   "cell_type": "markdown",
   "id": "d7f75299",
   "metadata": {},
   "source": [
    "_Type your answer here, replacing this text._"
   ]
  },
  {
   "cell_type": "markdown",
   "id": "2c782b3c",
   "metadata": {
    "deletable": false,
    "editable": false
   },
   "source": [
    "<!-- END QUESTION -->\n",
    "\n",
    "## Question 2: Understanding the Study\n",
    "(14 points)"
   ]
  },
  {
   "cell_type": "markdown",
   "id": "29f182ac",
   "metadata": {
    "deletable": false,
    "editable": false
   },
   "source": [
    "<!-- BEGIN QUESTION -->\n",
    "\n",
    "Now we have our basic ingredients for understanding the methods the authors use in this study. Let's apply the regression concepts in understanding a prominent question in the field, does legalizing prostitution increase human trafficking?\n",
    "\n",
    "**a) (4 points) The authors develop their theory from two effects of legalizing prostitution on human trafficking: 1) the scale effect and 2) the substitution effect.**\n",
    "\n",
    ">(i) What is the scale effect?\\\n",
    "(ii) What is the substitution effect?"
   ]
  },
  {
   "cell_type": "markdown",
   "id": "9f18e5b9",
   "metadata": {},
   "source": [
    "_Type your answer here, replacing this text._"
   ]
  },
  {
   "cell_type": "markdown",
   "id": "c99c7066",
   "metadata": {
    "deletable": false,
    "editable": false
   },
   "source": [
    "<!-- END QUESTION -->\n",
    "\n",
    "**b) (2 points) For the questions below, put the corresponding letter of the correct answer in the respective roman numeral question.**\n",
    "\n",
    "When asking the question, does legalizing prostitution increase human trafficking...\n",
    "\n",
    "i) What is the independent variable?\n",
    "\n",
    "> A) human trafficking\\\n",
    "B) legalized prostitution\n",
    "    \n",
    "ii) What is the dependent variable?\n",
    "\n",
    "> A) human trafficking\\\n",
    "B) legalized prostitution\n",
    "   "
   ]
  },
  {
   "cell_type": "code",
   "execution_count": null,
   "id": "aae4f446",
   "metadata": {
    "tags": []
   },
   "outputs": [],
   "source": [
    "# YOUR ANSWER GOES HERE  (e.g. i <- \"A\" or i <- \"B\")\n",
    "q2b_i <- NULL # YOUR CODE HERE\n",
    "q2b_ii <- NULL # YOUR CODE HERE"
   ]
  },
  {
   "cell_type": "markdown",
   "id": "f533e1fb-ab28-4964-851f-6c2d914563e6",
   "metadata": {
    "deletable": false,
    "editable": false
   },
   "source": [
    "*Note: These tests check for formatting, not correctness*"
   ]
  },
  {
   "cell_type": "code",
   "execution_count": null,
   "id": "f439ca44",
   "metadata": {
    "deletable": false,
    "editable": false
   },
   "outputs": [],
   "source": [
    ". = ottr::check(\"tests/q2b.R\")"
   ]
  },
  {
   "cell_type": "markdown",
   "id": "a097af98",
   "metadata": {
    "deletable": false,
    "editable": false
   },
   "source": [
    "<!-- BEGIN QUESTION -->\n",
    "\n",
    "**c) (2 points) Assign the corresponding letter answer to the corresponding roman numeral.** \n",
    "\n",
    "(i) **What do the authors use as their measure of human trafficking?**\n",
    "\n",
    ">A. An absolute number of new human trafficking victims\\\n",
    "B. A absolute number of new sex trafficking victims\\\n",
    "C. An index on the reported inflow of human trafficking\\\n",
    "D. An index on the reported stock of human trafficking\\\n",
    "E. An index on the reported inflow of sex trafficking\n",
    "\n",
    "(ii) **What is being compared?**\n",
    "\n",
    ">A. Trafficking in **countries where prostitution is legal** vs **countries where it is not**.\\\n",
    ">B. Trafficking **before** vs **after** a country has legalized prostitution."
   ]
  },
  {
   "cell_type": "code",
   "execution_count": null,
   "id": "61a54ea2-bc15-40ce-89cf-9680a15d01dd",
   "metadata": {
    "tags": []
   },
   "outputs": [],
   "source": [
    "# YOUR ANSWER HERE. For example: i <- \"A\"\n",
    "q2c_i <- NULL # YOUR CODE HERE\n",
    "q2c_ii <- NULL # YOUR CODE HERE"
   ]
  },
  {
   "cell_type": "markdown",
   "id": "42607dda-7f36-4dc4-a663-e2fa92ce40d1",
   "metadata": {
    "deletable": false,
    "editable": false
   },
   "source": [
    "*Note: These tests check for formatting, not correctness*"
   ]
  },
  {
   "cell_type": "code",
   "execution_count": null,
   "id": "16aa05d9",
   "metadata": {
    "deletable": false,
    "editable": false
   },
   "outputs": [],
   "source": [
    ". = ottr::check(\"tests/q2c.R\")"
   ]
  },
  {
   "cell_type": "markdown",
   "id": "c423059b",
   "metadata": {
    "deletable": false,
    "editable": false
   },
   "source": [
    "<!-- END QUESTION -->\n",
    "\n",
    "<!-- BEGIN QUESTION -->\n",
    "\n",
    "**e) (3 points) In estimating the relationship between legalizing prostitution and human trafficking inflows, what are three variables the authors control for? What is their reasoning for including them?**\n"
   ]
  },
  {
   "cell_type": "markdown",
   "id": "b94778ae",
   "metadata": {},
   "source": [
    "_Type your answer here, replacing this text._"
   ]
  },
  {
   "cell_type": "markdown",
   "id": "12fef931",
   "metadata": {
    "deletable": false,
    "editable": false
   },
   "source": [
    "<!-- END QUESTION -->\n",
    "\n",
    "**f) (1 point) What do the authors conclude?**\n",
    "\n",
    "A. Countries with legalized prostitution is associated with higher levels of human trafficking inflows. \\\n",
    "B.  Legalizing prostitution increases levels of human trafficking inflows. \\\n",
    "C. Countries with legalized prostitution is associated with lower levels of human trafficking inflows. \\\n",
    "D. Legalizing prostitution decreases levels of human trafficking inflows. "
   ]
  },
  {
   "cell_type": "code",
   "execution_count": null,
   "id": "381c9f1d",
   "metadata": {
    "tags": []
   },
   "outputs": [],
   "source": [
    "f <- NULL # YOUR CODE HERE"
   ]
  },
  {
   "cell_type": "markdown",
   "id": "2b092e6f-2f8e-42fd-84d9-95458fa53b39",
   "metadata": {
    "deletable": false,
    "editable": false
   },
   "source": [
    "*This test checks for formatting, not correctness.*"
   ]
  },
  {
   "cell_type": "code",
   "execution_count": null,
   "id": "2bdd9edb",
   "metadata": {
    "deletable": false,
    "editable": false
   },
   "outputs": [],
   "source": [
    ". = ottr::check(\"tests/q2f.R\")"
   ]
  },
  {
   "cell_type": "markdown",
   "id": "0d0e9a86-f3a8-4ea2-a703-8178d4fa99f4",
   "metadata": {
    "deletable": false,
    "editable": false
   },
   "source": [
    "<!-- BEGIN QUESTION -->\n",
    "\n",
    "**g) (2 points) The authors are cautious about the interpretation. What do they say, and why are they so careful?**"
   ]
  },
  {
   "cell_type": "markdown",
   "id": "839d328f",
   "metadata": {},
   "source": [
    "_Type your answer here, replacing this text._"
   ]
  },
  {
   "cell_type": "markdown",
   "id": "a77e518f",
   "metadata": {
    "deletable": false,
    "editable": false
   },
   "source": [
    "<!-- END QUESTION -->\n",
    "\n",
    "## Question 3 Replicating the Regression\n",
    "(7 points + 2 bonus)"
   ]
  },
  {
   "cell_type": "markdown",
   "id": "23472d44",
   "metadata": {},
   "source": [
    "The dataset used by Cho covers up to 150 countries using data on human trafficking from 1996-2003. The main variables are:\n",
    "* `htflowsunodc`: measures human trafficking flows\n",
    "* `prostitutionlaw`: indicates if prostitution is legal (0 = not legal, 1 = legal)"
   ]
  },
  {
   "cell_type": "code",
   "execution_count": null,
   "id": "c43a0398",
   "metadata": {},
   "outputs": [],
   "source": [
    "# NO ACTION NEEDED. \n",
    "# diplay first few rows\n",
    "# the column loading the data is in the setup section, make sure to run it!\n",
    "cho %>% head()"
   ]
  },
  {
   "cell_type": "markdown",
   "id": "a63082d7-a5be-488f-bf53-5d696be9a852",
   "metadata": {
    "deletable": false,
    "editable": false
   },
   "source": [
    "**a) (2 point) What is the number of countries with legalized prostitution?**\n",
    "> (i) Use the `filter()` function to subset to where `prostitutionlaw == 1`\\\n",
    "> (ii) Use the `nrow()` function to get number of rows in the subset you created in (i)"
   ]
  },
  {
   "cell_type": "code",
   "execution_count": null,
   "id": "aff19dc4-bd9c-429e-b181-5b91eb10bf94",
   "metadata": {
    "scrolled": true,
    "tags": []
   },
   "outputs": [],
   "source": [
    "# (i) filter to where prositution is legal\n",
    "cho_legal <- NULL # YOUR CODE HERE\n",
    "\n",
    "# display data, you can look through the country names if you are curious\n",
    "cho_legal\n",
    "\n",
    "# =====\n",
    "\n",
    "# (ii) get the number of rows in the dataframe you just created\n",
    "n_countries <- NULL # YOUR CODE HERE\n",
    "\n",
    "# display data\n",
    "n_countries"
   ]
  },
  {
   "cell_type": "code",
   "execution_count": null,
   "id": "676244d3",
   "metadata": {
    "deletable": false,
    "editable": false
   },
   "outputs": [],
   "source": [
    ". = ottr::check(\"tests/q3a.R\")"
   ]
  },
  {
   "cell_type": "markdown",
   "id": "58929686",
   "metadata": {
    "deletable": false,
    "editable": false
   },
   "source": [
    "**b) (2 points) The equation Cho et al. is estimating is as follows:**\n",
    "\n",
    "$$y_i = \\alpha + \\beta_1 Prostitution + \\beta_2X_i + s_i$$\n",
    "\n",
    "Where $X$ is the list of control variables. To run the regression, use the `lm()` function and the following specifications...\n",
    "* data: `cho_q3`\n",
    "* IV:`prostitutionlaw`\n",
    "* DV:`htflowsunodc`\n",
    "* Controls: `prostitutionbrothel`, `ruleWB_m`, `pop_ln`, `gdp_pc_const_ppp_ln`,\n",
    "          `democracy`, `stockmigrants1990_ln`, `catholic2`, `reg_east_asia`, \n",
    "          `reg_west_europe`, `reg_latam`, `reg_mideast`, `reg_sasia`, `reg_ssa`\n",
    "\n",
    "\n",
    "Note: your numbers won't exactly match the numbers in the table, but it should be relatively similar. To replicate exactly their steps is a bit more complicated since the authors also use data imputations. For the purposes of this assignment, we are keeping it simple.  "
   ]
  },
  {
   "cell_type": "code",
   "execution_count": null,
   "id": "850d7cfa",
   "metadata": {
    "scrolled": true,
    "tags": []
   },
   "outputs": [],
   "source": [
    "# YOUR ANSWER HERE\n",
    "mod1 <- NULL # YOUR CODE HERE\n",
    "\n",
    "# display\n",
    "mod1 %>% summary()"
   ]
  },
  {
   "cell_type": "code",
   "execution_count": null,
   "id": "4e128ad8",
   "metadata": {
    "deletable": false,
    "editable": false
   },
   "outputs": [],
   "source": [
    ". = ottr::check(\"tests/q3b.R\")"
   ]
  },
  {
   "cell_type": "markdown",
   "id": "a9dd84b8",
   "metadata": {
    "deletable": false,
    "editable": false
   },
   "source": [
    "<!-- BEGIN QUESTION -->\n",
    "\n",
    "**c) (2 points) In your regression output, the value in the `estimate`column for `prostitutionlaw` is equal to $\\beta_1$ in the equation above. Your answer should return $\\beta_1 = 0.54$. How would you interpret this estimate?**"
   ]
  },
  {
   "cell_type": "markdown",
   "id": "defb7a56",
   "metadata": {},
   "source": [
    "_Type your answer here, replacing this text._"
   ]
  },
  {
   "cell_type": "markdown",
   "id": "04c5a535",
   "metadata": {
    "deletable": false,
    "editable": false
   },
   "source": [
    "<!-- END QUESTION -->\n",
    "\n",
    "<!-- BEGIN QUESTION -->\n",
    "\n",
    "**d) (Bonus: 2 points) What might be one alternative explanation for higher average reports of human trafficking in countries where prostituion is legal?**"
   ]
  },
  {
   "cell_type": "markdown",
   "id": "c3c1abcd",
   "metadata": {},
   "source": [
    "_Type your answer here, replacing this text._"
   ]
  },
  {
   "cell_type": "markdown",
   "id": "91493c60",
   "metadata": {
    "deletable": false,
    "editable": false
   },
   "source": [
    "<!-- END QUESTION -->\n",
    "\n",
    "<!-- BEGIN QUESTION -->\n",
    "\n",
    "**e) (1 points) How would you interpret the statement \"correlation is not causation\" in this context?**"
   ]
  },
  {
   "cell_type": "markdown",
   "id": "e1facd69",
   "metadata": {},
   "source": [
    "_Type your answer here, replacing this text._"
   ]
  },
  {
   "cell_type": "markdown",
   "id": "6c3fd0d7",
   "metadata": {
    "deletable": false,
    "editable": false
   },
   "source": [
    "<!-- END QUESTION -->\n",
    "\n",
    "# Submitting Your Notebook (please read carefully!)\n",
    "\n",
    "To submit your notebook...\n",
    "\n",
    "### 1. Click `File` $\\rightarrow$ `Save Notebook`.\n",
    "\n",
    "### 2. Wait 5 seconds.\n",
    "\n",
    "### 3. Select the cell below and hit run.tion:**"
   ]
  },
  {
   "cell_type": "code",
   "execution_count": null,
   "id": "476c63cc",
   "metadata": {},
   "outputs": [],
   "source": [
    "ottr::export(\"pset2.ipynb\")"
   ]
  },
  {
   "cell_type": "markdown",
   "id": "9855a82f",
   "metadata": {},
   "source": [
    "After you hit \"Run\" on the cell above, click the download link. A .zip file should download to your computer.\n",
    "\n",
    "(If you make changes to your notebook, you'll need to hit save and then run the cell above again before you submit to get a new version of it.)\n",
    "\n",
    "### 4. Submit the .zip file you just downloaded <a href=\"https://www.gradescope.com/\" target=\"_blank\">on Gradescope here</a>.\n",
    "\n",
    "Notes:\n",
    "\n",
    "- **This does not seem to work on Chrome for iPad or iPhone.** If you're using an iPad or iPhone, you need to download the file using **Safari**.\n",
    "- If your web browser automatically unzips the .zip file (so you see a folder instead of a .zip file), you can just upload the .ipynb file that is inside the folder.\n",
    "- If this method is not working for you, try this: hit `File`, then `Download as`, then `Notebook (.ipynb)` and submit that."
   ]
  }
 ],
 "metadata": {
  "kernelspec": {
   "display_name": "R",
   "language": "R",
   "name": "ir"
  },
  "language_info": {
   "codemirror_mode": "r",
   "file_extension": ".r",
   "mimetype": "text/x-r-source",
   "name": "R",
   "pygments_lexer": "r",
   "version": "4.3.2"
  }
 },
 "nbformat": 4,
 "nbformat_minor": 5
}
