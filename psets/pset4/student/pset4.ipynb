{
 "cells": [
  {
   "cell_type": "markdown",
   "id": "cc1e3b39",
   "metadata": {},
   "source": [
    "# Assignment 4: Labor Trafficking in America"
   ]
  },
  {
   "cell_type": "markdown",
   "id": "f9288542",
   "metadata": {},
   "source": [
    "### Substantive Objectives\n",
    "In this assignment, you are taking the role of a human trafficking hotline advisor. You will answer questions about potential cases of trafficking in the domestic work and agriculture sectors, then work on interpretation of published statistics. \n",
    "\n",
    "### Coding Objectives\n",
    "None! "
   ]
  },
  {
   "cell_type": "markdown",
   "id": "eebc824b",
   "metadata": {},
   "source": [
    "## Setup\n",
    "The code chunk below loads the packages that we need. "
   ]
  },
  {
   "cell_type": "code",
   "execution_count": null,
   "id": "415a9494",
   "metadata": {},
   "outputs": [],
   "source": [
    "# You *must* run this cell first. Do not change the contents of this cell.\n",
    "library(testthat)\n",
    "library(ottr)"
   ]
  },
  {
   "cell_type": "markdown",
   "id": "27a07435",
   "metadata": {},
   "source": [
    "## Question 1: True/False"
   ]
  },
  {
   "cell_type": "markdown",
   "id": "78eb34b7",
   "metadata": {
    "deletable": false,
    "editable": false
   },
   "source": [
    "**(3 points) Are the following statements true or false? Make sure you store `TRUE` or `FALSE` as booleans in their respective variable name.**\n",
    ">i) **(1 point)** Is the following `TRUE` or `FALSE`? Labor trafficking is not a problem in high-income countries. \\\n",
    "**ii) (1 point)** Is the following `TRUE` or `FALSE`?  Human trafficking only happens in illegal or underground industries.\\\n",
    "**iii) (1 point)** Sex trafficking is more commonly reported than forced labor to the human trafficking hotline in the United States. Please answer `Yes` or `No` to the following question: Does this mean that sex trafficking is more common than forced labor?"
   ]
  },
  {
   "cell_type": "code",
   "execution_count": null,
   "id": "df28f042",
   "metadata": {
    "tags": []
   },
   "outputs": [],
   "source": [
    "# YOUR ANSWER HERE\n",
    "i <- NULL # YOUR CODE HERE\n",
    "ii <- NULL # YOUR CODE HERE\n",
    "iii <- NULL # YOUR CODE HERE"
   ]
  },
  {
   "cell_type": "code",
   "execution_count": null,
   "id": "56b563cc",
   "metadata": {
    "deletable": false,
    "editable": false
   },
   "outputs": [],
   "source": [
    ". = ottr::check(\"tests/q1.R\")"
   ]
  },
  {
   "cell_type": "markdown",
   "id": "d6c32519",
   "metadata": {
    "deletable": false,
    "editable": false
   },
   "source": [
    "<!-- BEGIN QUESTION -->\n",
    "\n",
    "## Question 2: Domestic Work\n",
    "**You are a human rights advocate working at the human trafficking hotline. You receive a call from some who suspects their neighbor's housekeeper is a victim of trafficking. The caller has a set of questions about the situation. Please provide your responses to the best of your ability. (Reference Bale Chapter 2)**\n",
    "\n",
    ">**(i) (1 point)** I noticed my neighbor, a diplomat, is employing a housekeeper from Indonesia. I've recently grown concerned about the situation for various reasons. I've never seen anyone from the government of some sort of a social worker, come in and check on the housekeeper's work condition. Why is this?\\\n",
    "**(ii) (3 point)** I'm concerned because I've heard scream like noises at times and noticed the housekeeper is quite withdrawn. Can she quit and find another job? Why would she stay in such poor working conditions?\\\n",
    "**(iii) (2 points)** After observing the interactions of my neighbors and their housekeeper, I get a general feeling that being a domestic worker is particularly vulnerable to exploitation, but I lack a gauge on the systemic factors that contribute to this. In the United States, do domestic workers hold the same rights as workers in other sectors? If not, what are their differences?\\\n",
    "**(iv) (2 points)** What forms of exploitation happen behind closed doors to domestic workers? (Describe at least 2)\\\n",
    "**(v) (2 points)** Will her employer, the diplomat, be held accountable if she files a case against him? What if her employer was not a diplomat?"
   ]
  },
  {
   "cell_type": "markdown",
   "id": "674a692a",
   "metadata": {},
   "source": [
    "_Type your answer here, replacing this text._"
   ]
  },
  {
   "cell_type": "markdown",
   "id": "d55e2f01",
   "metadata": {
    "deletable": false,
    "editable": false
   },
   "source": [
    "<!-- END QUESTION -->\n",
    "\n",
    "<!-- BEGIN QUESTION -->\n",
    "\n",
    "## Question 3: Agriculture\n",
    "**(7 points) At the same job, a farm worker phones you asking for information and advice. Please write down your responses to them. Reference Bale Chapter 3.**\n",
    "\n",
    ">**(i) (2 point)** I had migrated here from Mexico expecting to get a job in construction, but now I am working on a farm. How do my rights differ from those of a construction worker? I saw a flyer about labor unions. What are the risks of joining the union to push for better labor conditions?\\\n",
    "**(ii) (1 point)** The farm workers have been talking about protesting against big corporation, but I am not clear on the reasoning. How do big conglomerates, such as Costco, Subway, McDonalds, etc, contribute to creating these exploitative working conditions for farm workers?\\\n",
    "**(iii) (3 point)** I think my previous work conditions are beyond \"poor labor conditions\" and can classify as human trafficking, which I heard can be prosecuted in court. (The worker describes their work conditions as similar to Antonio's situation in Bales Chapter 3, pg 49). What about my situation makes it an instance of human trafficking rather than someone working in \"poor labor conditions\"? \n"
   ]
  },
  {
   "cell_type": "markdown",
   "id": "71c27c41",
   "metadata": {},
   "source": [
    "_Type your answer here, replacing this text._"
   ]
  },
  {
   "cell_type": "markdown",
   "id": "addffb69",
   "metadata": {
    "deletable": false,
    "editable": false
   },
   "source": [
    "<!-- END QUESTION -->\n",
    "\n",
    "<!-- BEGIN QUESTION -->\n",
    "\n",
    "## Question 4: Statistics and Interpretation"
   ]
  },
  {
   "cell_type": "markdown",
   "id": "c0670c7c",
   "metadata": {
    "deletable": false,
    "editable": false
   },
   "source": [
    "**a) In this [factsheet](https://polarisproject.org/wp-content/uploads/2019/07/Domestic_Worker_Fact_Sheet.pdf) published by Polaris, it is stated:**\n",
    "> 51% of all the 96 civil cases involving domestic servitude from 2003-2018 were\n",
    "settled in favor of the domestic worker.\n",
    "\n",
    "**Does this mean that between 2003 and 2018, if all domestic worker trafficking cases were taken to civil court, there would be around a 51% success rate of cases being settled in favor of the domestic worker? If not, is this likely an overestimation or underestimation? Why?**"
   ]
  },
  {
   "cell_type": "markdown",
   "id": "f9e67ba2",
   "metadata": {},
   "source": [
    "_Type your answer here, replacing this text._"
   ]
  },
  {
   "cell_type": "markdown",
   "id": "f57fae6b",
   "metadata": {
    "deletable": false,
    "editable": false
   },
   "source": [
    "<!-- END QUESTION -->\n",
    "\n",
    "<!-- BEGIN QUESTION -->\n",
    "\n",
    "**b) The chart below is taken from this [factsheet](https://polarisproject.org/wp-content/uploads/2019/07/Domestic_Worker_Fact_Sheet.pdf) by Polaris. What does the chart below say about the distribution of trafficking cases involving domestic workers in the US? Provide at least 2 potential reasons for why some areas are more sparse than others.**\n",
    "\n",
    "<img src=\"polaris_domestic_worker_cases.png\" width=\"700\">\n"
   ]
  },
  {
   "cell_type": "markdown",
   "id": "a38b1cc5",
   "metadata": {},
   "source": [
    "_Type your answer here, replacing this text._"
   ]
  },
  {
   "cell_type": "markdown",
   "id": "b006aba1",
   "metadata": {
    "deletable": false,
    "editable": false
   },
   "source": [
    "<!-- END QUESTION -->\n",
    "\n",
    "<!-- BEGIN QUESTION -->\n",
    "\n",
    "**c) In this [report](https://nij.ojp.gov/topics/articles/migrant-farm-labor-trafficking-north-carolina-pinning-down-elusive-data) on farm labor trafficking in North Carolina focuses on the documentation status of workers because they found it to be strongly predictive of trafficking in both their own and previous studies. They find that:**\n",
    "\n",
    "> 17% of the farmworkers sampled were undocumented sharply contrasted with the same team’s finding of a 42%-undocumented rate among workers sampled in 2012. \n",
    "\n",
    "**The authors are cautious about the interpretation of this finding. Why?**"
   ]
  },
  {
   "cell_type": "markdown",
   "id": "e5059c97",
   "metadata": {},
   "source": [
    "_Type your answer here, replacing this text._"
   ]
  },
  {
   "cell_type": "markdown",
   "id": "87830e16",
   "metadata": {
    "deletable": false,
    "editable": false
   },
   "source": [
    "<!-- END QUESTION -->\n",
    "\n",
    "# Submitting Your Notebook (please read carefully!)\n",
    "\n",
    "To submit your notebook...\n",
    "\n",
    "### 1. Click `File` $\\rightarrow$ `Save Notebook`.\n",
    "\n",
    "### 2. Wait 5 seconds.\n",
    "\n",
    "### 3. Select the cell below and hit run.tion:**"
   ]
  },
  {
   "cell_type": "code",
   "execution_count": null,
   "id": "7808b048",
   "metadata": {},
   "outputs": [],
   "source": [
    "ottr::export(\"pset4.ipynb\")"
   ]
  },
  {
   "cell_type": "markdown",
   "id": "4735b87f",
   "metadata": {},
   "source": [
    "After you hit \"Run\" on the cell above, click the download link. A .zip file should download to your computer.\n",
    "\n",
    "(If you make changes to your notebook, you'll need to hit save and then run the cell above again before you submit to get a new version of it.)\n",
    "\n",
    "### 4. Submit the .zip file you just downloaded <a href=\"https://www.gradescope.com/\" target=\"_blank\">on Gradescope here</a>.\n",
    "\n",
    "Notes:\n",
    "\n",
    "- **This does not seem to work on Chrome for iPad or iPhone.** If you're using an iPad or iPhone, you need to download the file using **Safari**.\n",
    "- If your web browser automatically unzips the .zip file (so you see a folder instead of a .zip file), you can just upload the .ipynb file that is inside the folder.\n",
    "- If this method is not working for you, try this: hit `File`, then `Download as`, then `Notebook (.ipynb)` and submit that."
   ]
  }
 ],
 "metadata": {
  "kernelspec": {
   "display_name": "R",
   "language": "R",
   "name": "ir"
  },
  "language_info": {
   "codemirror_mode": "r",
   "file_extension": ".r",
   "mimetype": "text/x-r-source",
   "name": "R",
   "pygments_lexer": "r",
   "version": "4.3.2"
  }
 },
 "nbformat": 4,
 "nbformat_minor": 5
}
