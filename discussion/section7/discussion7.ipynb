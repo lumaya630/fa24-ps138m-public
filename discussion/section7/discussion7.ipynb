{
 "cells": [
  {
   "cell_type": "code",
   "execution_count": null,
   "id": "842d4238-3203-40bd-8703-dd30d4a1c50f",
   "metadata": {},
   "outputs": [],
   "source": [
    "# RUN THIS CELL\n",
    "# Load packages\n",
    "library(testthat)\n",
    "library(tidyverse) %>% suppressMessages()"
   ]
  },
  {
   "cell_type": "markdown",
   "id": "9df77325-0062-4fd7-921c-28b2a3c2b7f9",
   "metadata": {},
   "source": [
    "### group_by() and arrange() Example"
   ]
  },
  {
   "cell_type": "markdown",
   "id": "1ab96c6e-b440-4c5d-b7c3-2a8dd27b2615",
   "metadata": {},
   "source": [
    "Read in data"
   ]
  },
  {
   "cell_type": "code",
   "execution_count": null,
   "id": "5e0cacc6-efe7-4f17-b4cb-504271fc052c",
   "metadata": {},
   "outputs": [],
   "source": [
    "ex_dat <- read.csv(\"hk_data_section.csv\")\n",
    "head(ex_dat)"
   ]
  },
  {
   "cell_type": "markdown",
   "id": "48122e0d-4057-4d54-aaa6-b8c7082e1272",
   "metadata": {},
   "source": [
    "**1) Find the count for each educational level in this dataset**"
   ]
  },
  {
   "cell_type": "code",
   "execution_count": null,
   "id": "e4d49c2a-b97d-49e3-a353-882f901d59b3",
   "metadata": {},
   "outputs": [],
   "source": [
    "educ_summary <- ex_dat %>% \n",
    "                group_by(educ) %>%\n",
    "                summarise(count = n())\n",
    "# display\n",
    "educ_summary "
   ]
  },
  {
   "cell_type": "markdown",
   "id": "c25c5465-0f0d-4224-897d-05d2fc60a006",
   "metadata": {},
   "source": [
    "**2) Arrange in ascending order order**"
   ]
  },
  {
   "cell_type": "code",
   "execution_count": null,
   "id": "74f97f61-f0c1-4e91-9da5-bbe129584072",
   "metadata": {},
   "outputs": [],
   "source": [
    "# arrange educ_summary in ascending order by count\n",
    "educ_summary_sorted_asc <- educ_summary %>% arrange(count)\n",
    "\n",
    "# display\n",
    "educ_summary_sorted_asc"
   ]
  },
  {
   "cell_type": "markdown",
   "id": "84b4f0eb-2ada-4b3b-ad7c-5992dee7e5eb",
   "metadata": {},
   "source": [
    "**3) Arrange in descending order order**"
   ]
  },
  {
   "cell_type": "code",
   "execution_count": null,
   "id": "4db8e188-7813-4615-a8f7-97f0ba95a8e3",
   "metadata": {},
   "outputs": [],
   "source": [
    "# arrange educ_summary in descending order by count\n",
    "educ_summary_sorted_desc <- educ_summary %>% arrange(desc(count))\n",
    "\n",
    "# display\n",
    "educ_summary_sorted_desc"
   ]
  },
  {
   "cell_type": "markdown",
   "id": "c0955212-95b8-471d-bc54-ab140457f139",
   "metadata": {},
   "source": [
    "Done:)\n",
    "\n",
    "Now let's try finding the average knowledge score across the `birth_urbanrural` groups for **Filipina** migrants in the **control** group. "
   ]
  },
  {
   "cell_type": "code",
   "execution_count": null,
   "id": "1b52b59d-5ecd-45ea-84c6-681af20bf1a3",
   "metadata": {},
   "outputs": [],
   "source": [
    "ex_dat %>% \n",
    "    filter(nationality == \"The Philippines\" & treated == 0) %>%\n",
    "    group_by(birth_urbanrural) %>%\n",
    "    summarise(avg_score = mean(score, na.rm = T))"
   ]
  },
  {
   "cell_type": "markdown",
   "id": "cbbd6189-0d32-498b-a7a8-023a92921d56",
   "metadata": {},
   "source": [
    "---\n",
    "### Practice Problems"
   ]
  },
  {
   "cell_type": "markdown",
   "id": "c1c9655c-41bb-4760-bad4-90d587480708",
   "metadata": {
    "deletable": false,
    "editable": false
   },
   "source": [
    "**Q1)** Use `read.csv(...)` to read in the dataset that is stored in a file called \"hk_data_section.csv\" and store it in `hkdat`. This is data from Professor Mo's Hong Kong Study. \n",
    "\n",
    "* `treated`: 1 if received awarness poster, 0 if in control group\n",
    "* `score`: 0-1 value of their score on the knowledge test. 1 is a perfect score and takes on decimal values in between 0-1.\n",
    "* Other variables of interest can be seen if you display `head(hkdat)`"
   ]
  },
  {
   "cell_type": "code",
   "execution_count": null,
   "id": "6ff90d34-030c-4cd4-a921-c5496d336491",
   "metadata": {
    "tags": []
   },
   "outputs": [],
   "source": [
    "hkdat <- NULL # YOUR CODE HERE\n",
    "\n",
    "# view the dataset\n",
    "head(hkdat)"
   ]
  },
  {
   "cell_type": "code",
   "execution_count": null,
   "id": "40831bab",
   "metadata": {
    "deletable": false,
    "editable": false
   },
   "outputs": [],
   "source": [
    ". = ottr::check(\"tests/Q1.R\")"
   ]
  },
  {
   "cell_type": "markdown",
   "id": "0cd6d8f8-d585-4be6-a7b6-885570241ceb",
   "metadata": {
    "deletable": false,
    "editable": false
   },
   "source": [
    "**Q2)** Use the `group_by()` function to count the number of individuals in the treated and control group (column name is `treated`). \\\n",
    "Coding template:\n",
    "\n",
    "        df %>% group_by(...) %>%\n",
    "            summarise(count = ...)"
   ]
  },
  {
   "cell_type": "code",
   "execution_count": null,
   "id": "07a4ccb4-28e6-4979-841f-d0d20cc22944",
   "metadata": {
    "tags": []
   },
   "outputs": [],
   "source": [
    "# YOUR ANSWER HERE\n",
    "count_treated<- NULL # YOUR CODE HERE\n",
    "\n",
    "# DISPLAY\n",
    "count_treated"
   ]
  },
  {
   "cell_type": "code",
   "execution_count": null,
   "id": "12427b81",
   "metadata": {
    "deletable": false,
    "editable": false
   },
   "outputs": [],
   "source": [
    ". = ottr::check(\"tests/Q2.R\")"
   ]
  },
  {
   "cell_type": "markdown",
   "id": "c19fdeb3-624e-49af-8b2f-4243de0bbab3",
   "metadata": {
    "deletable": false,
    "editable": false
   },
   "source": [
    "**Q3)** Use the `group_by()` function to calculate the average knowledge score for those in the treatment and control group. Column names are `score` and `treated`\n",
    "\n",
    "Coding template:\n",
    "\n",
    "        df %>% group_by(...) %>%\n",
    "            summarise(avg_score = mean(..., na.rm = T))"
   ]
  },
  {
   "cell_type": "code",
   "execution_count": null,
   "id": "06d7f15b-fcd1-42c5-bdca-b2fc7ea3618a",
   "metadata": {
    "scrolled": true,
    "tags": []
   },
   "outputs": [],
   "source": [
    "# YOUR ANSWER HERE\n",
    "avg_score_treated <- NULL # YOUR CODE HERE\n",
    "\n",
    "# DISPLAY\n",
    "avg_score_treated"
   ]
  },
  {
   "cell_type": "markdown",
   "id": "70d3f38f-38c4-451e-9eff-a03c7fd8b058",
   "metadata": {
    "deletable": false,
    "editable": false
   },
   "source": [
    "What is the difference between these two groups's knowledge scores? What value does this equal?"
   ]
  },
  {
   "cell_type": "markdown",
   "id": "a126637b-72f2-434b-bae2-835ba4846716",
   "metadata": {
    "deletable": false,
    "editable": false
   },
   "source": [
    "_Your answer here_"
   ]
  },
  {
   "cell_type": "code",
   "execution_count": null,
   "id": "df6f346d",
   "metadata": {
    "deletable": false,
    "editable": false
   },
   "outputs": [],
   "source": [
    ". = ottr::check(\"tests/Q3.R\")"
   ]
  },
  {
   "cell_type": "markdown",
   "id": "98c3390b-2429-4ff9-8dde-5dd199921824",
   "metadata": {
    "deletable": false,
    "editable": false
   },
   "source": [
    "**Q4)** Use `lm()` to calculate the relationship between the treatment status (IV) and the knowledge score (DV). \n",
    "\n",
    "Coding template:\n",
    "\n",
    "        lm(dv ~ iv, data = ...)"
   ]
  },
  {
   "cell_type": "code",
   "execution_count": null,
   "id": "76914079-60f2-4482-b6dd-a92f2fe8c5f2",
   "metadata": {
    "scrolled": true,
    "tags": []
   },
   "outputs": [],
   "source": [
    "# YOUR ANSWER HERE\n",
    "mod <- NULL # YOUR CODE HERE\n",
    "\n",
    "# DISPLAY\n",
    "summary(mod)"
   ]
  },
  {
   "cell_type": "markdown",
   "id": "3e48b71d-a347-438b-96c4-6d423d949801",
   "metadata": {
    "deletable": false,
    "editable": false
   },
   "source": [
    "(i) What is the $\\beta_1$ value. Does this equal the difference in average scores you got from from part 2?\\\n",
    "\n",
    "(ii) Given what we know about this HK study (Boittin and Mo 2024), can we say this is a causal relationship between the treatment (awareness poster) and the outcome score (knowledge about rights of migrant domestic workers)? Why?"
   ]
  },
  {
   "cell_type": "markdown",
   "id": "a80e91f4-17a6-4fea-ac2f-91a7a9fcf689",
   "metadata": {
    "deletable": false,
    "editable": false
   },
   "source": [
    "_Your answer here_"
   ]
  },
  {
   "cell_type": "code",
   "execution_count": null,
   "id": "2b89b91a",
   "metadata": {
    "deletable": false,
    "editable": false
   },
   "outputs": [],
   "source": [
    ". = ottr::check(\"tests/Q4.R\")"
   ]
  },
  {
   "cell_type": "markdown",
   "id": "0279d4e3-99b3-4b53-bd84-9e83d991f00f",
   "metadata": {
    "deletable": false,
    "editable": false
   },
   "source": [
    "**Q5)** Use `read.csv(...)` to read in the dataset stored in a file named `\"2024_CTDC_synthetic.csv\"` in an object called `ctdc`. \n"
   ]
  },
  {
   "cell_type": "code",
   "execution_count": null,
   "id": "97990d94-d4a7-405a-82ff-7bf254fe753c",
   "metadata": {
    "scrolled": true,
    "tags": []
   },
   "outputs": [],
   "source": [
    "# YOUR ANSWER HERE\n",
    "ctdc <- NULL # YOUR CODE HERE\n",
    "\n",
    "# DISPLAY\n",
    "head(ctdc)"
   ]
  },
  {
   "cell_type": "code",
   "execution_count": null,
   "id": "aa0995b6",
   "metadata": {
    "deletable": false,
    "editable": false
   },
   "outputs": [],
   "source": [
    ". = ottr::check(\"tests/Q5.R\")"
   ]
  },
  {
   "cell_type": "markdown",
   "id": "d92393e5-b480-4cf4-97a5-e6ee32b5b7a0",
   "metadata": {
    "deletable": false,
    "editable": false
   },
   "source": [
    "**Q6)** Use `filter()` to find the following observations from your `ctdc` dataset:\n",
    "\n",
    "Victims that are **confirmed for Sex Trafficking** and were **exploited in Thailand** (\"THA\"). Column names of interests are `isSexualExploit` and `CountryOfExploitation`)\n",
    "\n",
    "\n",
    "Coding template:\n",
    "\n",
    "        df %>% filter(colname1 == ... & colname2 == ...) "
   ]
  },
  {
   "cell_type": "code",
   "execution_count": null,
   "id": "feb6b31b-e062-48be-ad0c-345e69403a6a",
   "metadata": {
    "scrolled": true,
    "tags": []
   },
   "outputs": [],
   "source": [
    "# YOUR ANSWER HERE\n",
    "tha_sex_victims <- NULL # YOUR CODE HERE\n",
    "\n",
    "# DISPLAY\n",
    "tha_sex_victims"
   ]
  },
  {
   "cell_type": "code",
   "execution_count": null,
   "id": "f167a341",
   "metadata": {
    "deletable": false,
    "editable": false
   },
   "outputs": [],
   "source": [
    ". = ottr::check(\"tests/Q6.R\")"
   ]
  },
  {
   "cell_type": "markdown",
   "id": "fefc21b5-5bb2-4e8c-9d4f-2ccb06838ee1",
   "metadata": {
    "deletable": false,
    "editable": false
   },
   "source": [
    "**Q7)** Find the distribution of age using `group_by()` and `summarise()` and `n()`. In other words, count the number of victims in `tha_sex_victims` that are in each age group (denoted by `ageBroad`)\n"
   ]
  },
  {
   "cell_type": "code",
   "execution_count": null,
   "id": "d05e3d85-16eb-4bb1-ab5a-83f819ec4e80",
   "metadata": {
    "scrolled": true,
    "tags": []
   },
   "outputs": [],
   "source": [
    "# YOUR ANSWER HERE\n",
    "age_count <- NULL # YOUR CODE HERE\n",
    "\n",
    "# DISPLAY\n",
    "age_count"
   ]
  },
  {
   "cell_type": "markdown",
   "id": "943b8137-67f3-4375-81f4-bf55652de663",
   "metadata": {
    "deletable": false,
    "editable": false
   },
   "source": [
    "Why might some data be missing? When would you expect this to bias the results?"
   ]
  },
  {
   "cell_type": "markdown",
   "id": "8a3b62d7-5331-41ba-a7b9-fb7cad4e864b",
   "metadata": {
    "deletable": false,
    "editable": false
   },
   "source": [
    "_Your answer here_"
   ]
  },
  {
   "cell_type": "code",
   "execution_count": null,
   "id": "e525c1d7",
   "metadata": {
    "deletable": false,
    "editable": false
   },
   "outputs": [],
   "source": [
    ". = ottr::check(\"tests/Q7.R\")"
   ]
  },
  {
   "cell_type": "markdown",
   "id": "be2e5129-cdbc-4dcb-bfbc-72dd0f6a6eab",
   "metadata": {
    "deletable": false,
    "editable": false
   },
   "source": [
    "**Q8)** Arrange yuor age distribution chart in descending order, by the count in each age group.\n",
    "\n",
    "Code template:\n",
    "\n",
    "        df_name %>% arrange(desc(...))\n",
    "\n",
    "This is what `age_count` currently looks like."
   ]
  },
  {
   "cell_type": "code",
   "execution_count": null,
   "id": "2915c878-a16c-4e56-9456-c76a7ad2fcf5",
   "metadata": {
    "deletable": false,
    "editable": false
   },
   "outputs": [],
   "source": [
    "head(age_count)"
   ]
  },
  {
   "cell_type": "code",
   "execution_count": null,
   "id": "b217276a-06fd-4398-8978-2c9ec1999efc",
   "metadata": {
    "scrolled": true,
    "tags": []
   },
   "outputs": [],
   "source": [
    "# YOUR ANSWER HERE\n",
    "age_count_desc <- NULL # YOUR CODE HERE\n",
    "\n",
    "# DISPLAY\n",
    "age_count_desc"
   ]
  },
  {
   "cell_type": "markdown",
   "id": "b9f4e1c3-3386-408c-bffc-06044b59a7c8",
   "metadata": {
    "deletable": false,
    "editable": false
   },
   "source": [
    "What age group is the most represented?"
   ]
  },
  {
   "cell_type": "markdown",
   "id": "aa696871-2145-4b34-aac6-487c6ca6cc27",
   "metadata": {
    "deletable": false,
    "editable": false
   },
   "source": [
    "_Your solution here_ "
   ]
  },
  {
   "cell_type": "code",
   "execution_count": null,
   "id": "f926d096",
   "metadata": {
    "deletable": false,
    "editable": false
   },
   "outputs": [],
   "source": [
    ". = ottr::check(\"tests/Q8.R\")"
   ]
  },
  {
   "cell_type": "markdown",
   "id": "ad615ad1-3b0f-477d-a9d4-acf2db816f0b",
   "metadata": {},
   "source": [
    "If you finished this, feel free to go to the assignment and work on it:)"
   ]
  }
 ],
 "metadata": {
  "kernelspec": {
   "display_name": "R",
   "language": "R",
   "name": "ir"
  },
  "language_info": {
   "codemirror_mode": "r",
   "file_extension": ".r",
   "mimetype": "text/x-r-source",
   "name": "R",
   "pygments_lexer": "r",
   "version": "4.3.2"
  }
 },
 "nbformat": 4,
 "nbformat_minor": 5
}
