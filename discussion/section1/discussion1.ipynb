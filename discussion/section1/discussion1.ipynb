{
 "cells": [
  {
   "cell_type": "markdown",
   "id": "8c8d2a53",
   "metadata": {
    "slideshow": {
     "slide_type": "slide"
    },
    "tags": []
   },
   "source": [
    "# Part 1: Introduction to Jupyter"
   ]
  },
  {
   "cell_type": "markdown",
   "id": "72e18f59",
   "metadata": {
    "slideshow": {
     "slide_type": "fragment"
    }
   },
   "source": [
    "Hello! This is Jupyter notebooks, a platform we will be using for this course to access and complete data-intensive assignments. In this course, these assignments will be designed to give you familiarity with how to use the programming language `R` to make sense of large amounts of data, to verify and interpret statistics you encounter, and "
   ]
  },
  {
   "cell_type": "markdown",
   "id": "b2e26236",
   "metadata": {
    "slideshow": {
     "slide_type": "fragment"
    }
   },
   "source": [
    "## Jupyter Functionalities"
   ]
  },
  {
   "cell_type": "markdown",
   "id": "39342987",
   "metadata": {
    "tags": []
   },
   "source": [
    "### Running a cell\n",
    "Try running the cell below by pressing (`Command` + `Enter`) on Mac or (`Control` + `Enter`) on Windows. "
   ]
  },
  {
   "cell_type": "code",
   "execution_count": null,
   "id": "bbea0efe",
   "metadata": {
    "scrolled": true,
    "tags": []
   },
   "outputs": [],
   "source": [
    "# RUN THIS CELL\n",
    "print(\"hello world\")"
   ]
  },
  {
   "cell_type": "markdown",
   "id": "216df1df",
   "metadata": {
    "deletable": false,
    "editable": false,
    "tags": []
   },
   "source": [
    "### Changing the format of a cell\n",
    "\n",
    "Cells in Jupyter can be code chunks or markdown chunks. Markdown (like this code chunk) is used to present text in a formatted manner. Learning markdown is outside the scope of this class, but in case you accidentally change the formatting of a cell in an assignment, practice changing the cell below from code to markdown. Then from markdown back to code. "
   ]
  },
  {
   "cell_type": "code",
   "execution_count": null,
   "id": "46664fce",
   "metadata": {
    "tags": []
   },
   "outputs": [],
   "source": [
    "### CHANGE ME TO MARKDOWN\n",
    "### THEN BACK TO CODE"
   ]
  },
  {
   "cell_type": "markdown",
   "id": "82096983-5c09-4a97-886f-b03a466d2a19",
   "metadata": {
    "deletable": false,
    "editable": false
   },
   "source": [
    "<!-- BEGIN QUESTION -->\n",
    "\n",
    "### Text Answers\n",
    "Manually graded questions will look like the cell below. You don't need to do any fancy formatting. If you're interested though, there is a cheatsheet in the [section discussion folder](https://bcourses.berkeley.edu/courses/1536438/files/folder/Section%20Notes/Coding%20Cheatsheets?preview=89473315) on how to format Markdown cells. \n",
    "\n",
    "**Double click this cell to see some basics:**\n",
    "\n",
    "List\n",
    "* Bullet point 1\n",
    "* Bullet point 2\n",
    "\n",
    "Numbering\n",
    "1. item 1\n",
    "2. item 2\n",
    "\n",
    "Text formatting\n",
    "* *italics*\n",
    "* **bold**\n",
    "* underline is complicated\n",
    "\n",
    "First line\\\n",
    "Use the \"\\\\\" to create a newline"
   ]
  },
  {
   "cell_type": "markdown",
   "id": "0e56950c",
   "metadata": {},
   "source": [
    "_Type your answer here, replacing this text._"
   ]
  },
  {
   "cell_type": "markdown",
   "id": "947bf7b7",
   "metadata": {
    "deletable": false,
    "editable": false,
    "jp-MarkdownHeadingCollapsed": true,
    "tags": []
   },
   "source": [
    "<!-- END QUESTION -->\n",
    "\n",
    "### Inserting Cells Above and Below\n",
    "If you want to insert cells above or below, press `A` for above, and `B` for below. Try inserting a cell below this cell.  \n",
    "\n",
    "Use `X` to delete a cell. "
   ]
  },
  {
   "cell_type": "markdown",
   "id": "ea279e08",
   "metadata": {},
   "source": [
    "### Saving your work\n",
    "`Command` + `S` to save your work. Try saving this file (the save status is indicated at the bottom bar)\n",
    "\n",
    "---"
   ]
  },
  {
   "cell_type": "markdown",
   "id": "7f5095eb-1f67-47a0-982e-c5111d488cce",
   "metadata": {},
   "source": [
    "# Part 2: Introduction to R\n",
    "We might not get through this entire section. I will upload a video on Media Gallery for those this is completely new for. "
   ]
  },
  {
   "cell_type": "markdown",
   "id": "d4d5d5fe-f7eb-4ab5-a2c2-903de147e33d",
   "metadata": {},
   "source": [
    "## **R Foundations**\n",
    "This is an incredibly brief overview of R tailored to the needs of this class. Look at the bcourses for some additional R resources.\n",
    "We will learn:\n",
    "1. What are the data types in R?\n",
    "2. What are vectors in R?\n",
    "3. What are packages and functions in R?\n",
    "4. How do you look up functions?\n",
    "5. Operators review"
   ]
  },
  {
   "cell_type": "markdown",
   "id": "45d6677e-7faa-4b60-b52b-5c21044cd489",
   "metadata": {},
   "source": [
    "--- \n",
    "\n",
    "### Data Types\n",
    "There are different data types in R. The main ones we will be working with are:\n",
    "\n",
    "1. Characters, denoted by \"quotation marks\"\n",
    "2. Integers, numeric with no decimals\n",
    "3. Doubles, numeric with decimals\n",
    "4. Logicals, `TRUE` or `FALSE`, `T` or `F`"
   ]
  },
  {
   "cell_type": "code",
   "execution_count": null,
   "id": "26833e82-c491-4993-968c-eac2a4ea4e98",
   "metadata": {
    "tags": []
   },
   "outputs": [],
   "source": [
    "# character\n",
    "\"hey hey\"\n",
    "'hey hey'\n",
    "\n",
    "# integer\n",
    "1\n",
    "\n",
    "# double\n",
    "1.5\n",
    "\n",
    "# logical\n",
    "TRUE\n",
    "FALSE\n",
    "T\n",
    "F"
   ]
  },
  {
   "cell_type": "markdown",
   "id": "8e01809a-2439-4daa-8a56-40cd3057c1bb",
   "metadata": {
    "tags": []
   },
   "source": [
    "**Look at the code block below. Why is it throwing an error?**"
   ]
  },
  {
   "cell_type": "code",
   "execution_count": null,
   "id": "2857f52c-40d7-48cc-84d5-c3711d62cdde",
   "metadata": {
    "scrolled": true,
    "tags": []
   },
   "outputs": [],
   "source": [
    "\"1\" + \"2\""
   ]
  },
  {
   "cell_type": "code",
   "execution_count": null,
   "id": "b62a718e-a52e-464c-ae4e-d2177f6b5203",
   "metadata": {
    "scrolled": true,
    "tags": []
   },
   "outputs": [],
   "source": [
    "# TO DO: Fix the error in the code block above\n",
    "\n",
    "\"1\" + \"2\" # FIX THIS CODE"
   ]
  },
  {
   "cell_type": "code",
   "execution_count": null,
   "id": "33b63bd3-f1a6-48c7-8a38-9704c8b94d9b",
   "metadata": {},
   "outputs": [],
   "source": [
    "# Why is this throwing an error? Can you fix it so it doesn't?\n",
    "hello"
   ]
  },
  {
   "cell_type": "markdown",
   "id": "acb44c1f-0e05-4fcb-8711-314c0da5c890",
   "metadata": {
    "tags": []
   },
   "source": [
    "**In any coding language, TRUE is equivalent to 1, and FALSE is equivalent to 0. So we can actually do the following.**"
   ]
  },
  {
   "cell_type": "code",
   "execution_count": null,
   "id": "3acc173b-55d9-458a-985e-dba5ddbe171c",
   "metadata": {
    "tags": []
   },
   "outputs": [],
   "source": [
    "TRUE + TRUE + FALSE"
   ]
  },
  {
   "cell_type": "markdown",
   "id": "7c7e3554-2d8d-485c-8d36-e123da949cdd",
   "metadata": {},
   "source": [
    "---\n",
    "### Variables\n",
    "**We often want to assign values to a variable. We can do so by using the assignment operator `<-`. For good practice, we want to use variable names that are meaningful.**"
   ]
  },
  {
   "cell_type": "code",
   "execution_count": null,
   "id": "07544015-a3e6-4dd1-939b-1185a054605b",
   "metadata": {},
   "outputs": [],
   "source": [
    "# EXAMPLE: assign \"maya\" to name\n",
    "name <- \"maya\"\n",
    "\n",
    "# EXAMPLE: reassign \"lu\" to name\n",
    "name <- \"lu\""
   ]
  },
  {
   "cell_type": "markdown",
   "id": "df2aa8f5-15af-4c41-b37c-cb8db5176474",
   "metadata": {},
   "source": [
    "**What is the value of name now? Run the chunk below to find out.**"
   ]
  },
  {
   "cell_type": "code",
   "execution_count": null,
   "id": "78cde9a5-97e1-4cf8-960a-41fafa81147b",
   "metadata": {
    "scrolled": true
   },
   "outputs": [],
   "source": [
    "name"
   ]
  },
  {
   "cell_type": "code",
   "execution_count": null,
   "id": "ba9585b1-5009-47f8-8132-c11b2143b9db",
   "metadata": {},
   "outputs": [],
   "source": [
    "# TO DO: reassign name to your name\n",
    "name <- NULL # YOUR ANSWER HERE\n",
    "name"
   ]
  },
  {
   "cell_type": "markdown",
   "id": "4ac213b3-ae91-48a0-b137-32b195264018",
   "metadata": {},
   "source": [
    "**We can assign data types to variable names.**"
   ]
  },
  {
   "cell_type": "code",
   "execution_count": null,
   "id": "8a18976e-3a16-4765-9d32-2c84122482e4",
   "metadata": {
    "scrolled": true,
    "tags": []
   },
   "outputs": [],
   "source": [
    "# EXAMPLE\n",
    "number <- 1\n",
    "logical <- TRUE\n",
    "\n",
    "# TO DO: Assign your favorite number to fav_num, replacing the NULL\n",
    "fav_num <- NULL # YOUR ANSWER HERE\n",
    "fav_num"
   ]
  },
  {
   "cell_type": "markdown",
   "id": "7ae8c417-d929-4ea0-8438-4a05671986db",
   "metadata": {},
   "source": [
    "**We can use variable names in functions.**"
   ]
  },
  {
   "cell_type": "code",
   "execution_count": null,
   "id": "68713224-b851-47a0-a03c-353a522abd2e",
   "metadata": {
    "tags": []
   },
   "outputs": [],
   "source": [
    "# using math operators\n",
    "number + fav_num"
   ]
  },
  {
   "cell_type": "markdown",
   "id": "9363e8a7-313a-421b-803e-b3eeff6c2bc3",
   "metadata": {},
   "source": [
    "---\n",
    "### Vectors\n",
    "You can also store a list (here called a vector) of items in them. You can create lists by using `c(element_a, element_b, element_c)`"
   ]
  },
  {
   "cell_type": "code",
   "execution_count": null,
   "id": "ef8d6cfd-eac3-455b-8848-21e5e6a6e22f",
   "metadata": {},
   "outputs": [],
   "source": [
    "# EXAMPLE\n",
    "vote_margin <- c(0.1, 0.2, 0.3, 0.05, 0.01)\n",
    "regions <- c(\"east asia and the pacific\", \"europe\", \"middle east and north africa\", \n",
    "             \"north america\", \"south america\", \"south asia\", \"sub-saharan africa\")\n",
    "\n",
    "# YOUR TURN, create a list of your hobbies\n",
    "my_hobbies <- NULL # YOUR ANSWER HERE"
   ]
  },
  {
   "cell_type": "code",
   "execution_count": null,
   "id": "e0424d36-6f88-4020-8569-5ba959d359c9",
   "metadata": {},
   "outputs": [],
   "source": [
    "# display the vectors vote_margin, regions\n",
    "vote_margin\n",
    "regions"
   ]
  },
  {
   "cell_type": "code",
   "execution_count": null,
   "id": "e2d52a4b-14bc-4f34-9e54-89aabb31c649",
   "metadata": {},
   "outputs": [],
   "source": [
    "# type \"my_hobbies\" to display your vector\n"
   ]
  },
  {
   "cell_type": "markdown",
   "id": "56a873a6",
   "metadata": {},
   "source": [
    "---\n",
    "### What are Packages? Why do I need them?\n",
    "\n",
    "Packages are a collection of functions in R. Packages are stored in libraries. The terms package and library are sometimes used synonymously. You load a package using `library(package_name)`.\n",
    "\n",
    " In each assignment, you will run a code chunk that loads packages. These are packages that others have developed to make our lives easier. Rather than having to write code from scratch for complex problems, others have already simplified the process for us."
   ]
  },
  {
   "cell_type": "code",
   "execution_count": null,
   "id": "e610af92-dca6-41e1-b570-a9c8caf93171",
   "metadata": {
    "scrolled": true,
    "tags": []
   },
   "outputs": [],
   "source": [
    "# RUN THIS CELL\n",
    "library(testthat) \n",
    "library(tidyverse) "
   ]
  },
  {
   "cell_type": "markdown",
   "id": "4fb53956",
   "metadata": {},
   "source": [
    "\n",
    "\n",
    "### What are Functions?\n",
    "Functions are given an input (aka parameter, argument), does something with it, then gives you an output. You use functions to tell R what to do!\n",
    "\n",
    "\n",
    "Let's take a look at some basic functions below. What does each one do?"
   ]
  },
  {
   "cell_type": "markdown",
   "id": "f8b103a9-2df7-46c6-b6f7-c2cb7d183a00",
   "metadata": {},
   "source": [
    "### print() function"
   ]
  },
  {
   "cell_type": "markdown",
   "id": "4223ae95-ce07-416b-9703-03683af04d5d",
   "metadata": {},
   "source": [
    "**Q1) Print \"hello world\"**"
   ]
  },
  {
   "cell_type": "code",
   "execution_count": null,
   "id": "3894c3ca",
   "metadata": {
    "tags": []
   },
   "outputs": [],
   "source": [
    "# EXAMPLE\n",
    "print(\"oh, hey there!\")"
   ]
  },
  {
   "cell_type": "code",
   "execution_count": null,
   "id": "ecaf6294-1f10-4e09-8133-9669844120a4",
   "metadata": {},
   "outputs": [],
   "source": [
    "# YOUR ANSWER HERE\n",
    "# print hello world\n"
   ]
  },
  {
   "cell_type": "markdown",
   "id": "998037d1-4c12-4ec1-a884-34024d7e84b7",
   "metadata": {},
   "source": [
    "### Descriptive Statistics functions"
   ]
  },
  {
   "cell_type": "markdown",
   "id": "8dd8a3a6-e587-4c94-8cb3-08f27cd6aac6",
   "metadata": {
    "deletable": false,
    "editable": false
   },
   "source": [
    "**Q2) Use the `sum()` function. Take the sum of $2, 5, 10$, assigning it to `my_sum`**"
   ]
  },
  {
   "cell_type": "code",
   "execution_count": null,
   "id": "49223b63",
   "metadata": {
    "deletable": false,
    "editable": false,
    "scrolled": true,
    "tags": []
   },
   "outputs": [],
   "source": [
    "# EXAMPLE\n",
    "data <- c(1,2,3)\n",
    "example_sum <- sum(data)\n",
    "\n",
    "# display\n",
    "example_sum"
   ]
  },
  {
   "cell_type": "code",
   "execution_count": null,
   "id": "a064eecf-a238-41db-82ea-9bace178cc6b",
   "metadata": {
    "tags": []
   },
   "outputs": [],
   "source": [
    "# YOUR ANSWER HERE: Take the sum of 2, 5, and 10\n",
    "data <- NULL # YOUR CODE HERE\n",
    "my_sum <- NULL # YOUR CODE HERE\n",
    "\n",
    "# display\n",
    "my_sum"
   ]
  },
  {
   "cell_type": "code",
   "execution_count": null,
   "id": "4b5c3ef5",
   "metadata": {
    "deletable": false,
    "editable": false
   },
   "outputs": [],
   "source": [
    ". = ottr::check(\"tests/q3.R\")"
   ]
  },
  {
   "cell_type": "markdown",
   "id": "cc9d7f84-6580-43f8-ab14-5253f7a6bfb5",
   "metadata": {
    "deletable": false,
    "editable": false
   },
   "source": [
    "**Q3) Using the `mean()` function, take the mean of 5,2,3,1,19, assigning the value to `my_mean`**"
   ]
  },
  {
   "cell_type": "code",
   "execution_count": null,
   "id": "a3c2c43f-ea40-46be-baa5-56fa57f8b5d3",
   "metadata": {
    "deletable": false,
    "editable": false,
    "scrolled": true,
    "tags": []
   },
   "outputs": [],
   "source": [
    "# Example\n",
    "data <- c(1,2,3,4,5)\n",
    "example_mean <- mean(data)\n",
    "\n",
    "# display\n",
    "example_mean"
   ]
  },
  {
   "cell_type": "code",
   "execution_count": null,
   "id": "d968862e-a989-4afc-bc8e-3e12d51f4567",
   "metadata": {
    "deletable": false,
    "editable": false
   },
   "outputs": [],
   "source": [
    "# Why does this give the wrong answer?\n",
    "mean(1, 2, 3, 4, 5)"
   ]
  },
  {
   "cell_type": "code",
   "execution_count": null,
   "id": "ef23908b-cba7-4965-abd9-13398f093f7d",
   "metadata": {
    "tags": []
   },
   "outputs": [],
   "source": [
    "# YOUR ANSWER HERE: take the mean of 5,2,3,1,19\n",
    "data <- NULL # YOUR CODE HERE\n",
    "my_mean <- NULL # YOUR CODE HERE\n",
    "\n",
    "# display\n",
    "my_mean"
   ]
  },
  {
   "cell_type": "code",
   "execution_count": null,
   "id": "8219f98a",
   "metadata": {
    "deletable": false,
    "editable": false
   },
   "outputs": [],
   "source": [
    ". = ottr::check(\"tests/q3.R\")"
   ]
  },
  {
   "cell_type": "markdown",
   "id": "475e22ca-9138-4438-8a7e-558c6da4b32b",
   "metadata": {
    "deletable": false,
    "editable": false
   },
   "source": [
    "**Q4) Take the mean of female and store it in `prop_female`. Hint: You need to remove the NA values first by using `mean(x, na.rm = T)`** \\"
   ]
  },
  {
   "cell_type": "code",
   "execution_count": null,
   "id": "80b23ea0-ee13-42be-a67a-c5b8c0e287fc",
   "metadata": {
    "deletable": false,
    "editable": false
   },
   "outputs": [],
   "source": [
    "# RUN THIS CELL\n",
    "# I'm loading in data for you\n",
    "ctdc <- read.csv(\"ctdc_vp_2021.csv\")\n",
    "female<- ctdc %>% select(gender) %>%\n",
    "        mutate(gender = case_when(gender == \"\" ~ NA, \n",
    "                                gender == \"Female\" ~ 1,\n",
    "                                TRUE ~ 0)) %>% pull()"
   ]
  },
  {
   "cell_type": "code",
   "execution_count": null,
   "id": "6136886e-7cc0-4f14-9e80-91a0a2e4b0af",
   "metadata": {
    "deletable": false,
    "editable": false
   },
   "outputs": [],
   "source": [
    "# number of elements in female\n",
    "length(female)"
   ]
  },
  {
   "cell_type": "code",
   "execution_count": null,
   "id": "5490de50-f246-4f9d-9e23-7d74acf8ef6f",
   "metadata": {
    "deletable": false,
    "editable": false,
    "scrolled": true
   },
   "outputs": [],
   "source": [
    "# Note that there are missing values in female!!\n",
    "table(female, useNA = \"ifany\")"
   ]
  },
  {
   "cell_type": "code",
   "execution_count": null,
   "id": "5f5d1062-ff0e-4cf5-b7ac-6652536910a7",
   "metadata": {
    "tags": []
   },
   "outputs": [],
   "source": [
    "# YOUR ANSWER HERE: Find the mean of female. What happens when you don't include na.rm?\n",
    "prop_female <- NULL # YOUR CODE HERE\n",
    "\n",
    "# display your answer\n",
    "prop_female"
   ]
  },
  {
   "cell_type": "code",
   "execution_count": null,
   "id": "f75686a9",
   "metadata": {
    "deletable": false,
    "editable": false
   },
   "outputs": [],
   "source": [
    ". = ottr::check(\"tests/q4.R\")"
   ]
  },
  {
   "cell_type": "markdown",
   "id": "f8cfb435-5bb9-497f-8d36-58bffe3af0f5",
   "metadata": {
    "deletable": false,
    "editable": false
   },
   "source": [
    "**Q6) Take the max and min of 5,2,3,1,19**"
   ]
  },
  {
   "cell_type": "code",
   "execution_count": null,
   "id": "456a1e37-f5e8-4609-8a12-3bea5c3baa07",
   "metadata": {
    "deletable": false,
    "editable": false,
    "scrolled": true,
    "tags": []
   },
   "outputs": [],
   "source": [
    "# EXAMPLE\n",
    "max(c(1,2,3,4,5))\n",
    "min(c(1,2,3,4,5))"
   ]
  },
  {
   "cell_type": "markdown",
   "id": "09ee31c5-4e9c-48c9-8541-667cfa97e717",
   "metadata": {
    "deletable": false,
    "editable": false
   },
   "source": [
    "Why do some functions need to be wrapped in a c(), while others do not? Just the way they are set up. To be safe, always use the c()"
   ]
  },
  {
   "cell_type": "code",
   "execution_count": null,
   "id": "b98e52d9-2c92-4b6e-a50c-8490f35ba235",
   "metadata": {
    "tags": []
   },
   "outputs": [],
   "source": [
    "# Your answer here: take the max of 5,2,3,1,19\n",
    "data <- NULL # YOUR CODE HERE\n",
    "my_max <- NULL # YOUR CODE HERE\n",
    "my_min <- NULL # YOUR CODE HERE\n",
    "\n",
    "# display\n",
    "my_max\n",
    "my_min"
   ]
  },
  {
   "cell_type": "code",
   "execution_count": null,
   "id": "535e0fb2",
   "metadata": {
    "deletable": false,
    "editable": false
   },
   "outputs": [],
   "source": [
    ". = ottr::check(\"tests/q6.R\")"
   ]
  },
  {
   "cell_type": "markdown",
   "id": "0a6f4d3a",
   "metadata": {},
   "source": [
    "### Looking up Functions\n",
    "If you do not know what a function does, or what parameters a function takes, you can look it up by using `?function_name`. For example...\n",
    "\n",
    "You can also google! There is a lot of documentation for R online. "
   ]
  },
  {
   "cell_type": "code",
   "execution_count": null,
   "id": "685fb24f",
   "metadata": {
    "tags": []
   },
   "outputs": [],
   "source": [
    "## TODO: Lookup any function\n"
   ]
  },
  {
   "cell_type": "markdown",
   "id": "38c733a7",
   "metadata": {},
   "source": [
    "---\n",
    "## Operators\n"
   ]
  },
  {
   "cell_type": "markdown",
   "id": "c0cecb5d-8726-42b6-9f2d-e6d24b4cdbcc",
   "metadata": {},
   "source": [
    "R categorizes into:\n",
    "* Arithmetic operators \n",
    "    * `+` : Add\n",
    "    * `-` : Subtract\n",
    "* Assignment operators\n",
    "    * `<-`: Assignment operator (as reviewed above)\n",
    "* Comparison operators\n",
    "    * `!=`: Does not equals\n",
    "    * `>=`: Greater than or equal to\n",
    "    * `<=`: Less than or equal to\n",
    "    * `>`: Greater than\n",
    "    * `<`: Less than\n",
    "* Logical operators\n",
    "    * `|` : OR - returns true if at least one is TRUE\n",
    "    * `&` : AND - returns true if both are TRUE\n",
    "* Miscellaneous operators"
   ]
  },
  {
   "cell_type": "code",
   "execution_count": null,
   "id": "ab92436d",
   "metadata": {
    "tags": []
   },
   "outputs": [],
   "source": [
    "# EX: TRUE OR FALSE\n",
    "TRUE | FALSE\n",
    "\n",
    "# TO DO: FALSE OR FALSE\n"
   ]
  },
  {
   "cell_type": "code",
   "execution_count": null,
   "id": "27ec76f1",
   "metadata": {},
   "outputs": [],
   "source": [
    "# EX: TRUE AND FALSE\n",
    "TRUE & FALSE\n",
    "\n",
    "# TO DO: FALSE AND FALSE\n"
   ]
  },
  {
   "cell_type": "code",
   "execution_count": null,
   "id": "f2ca4dc1",
   "metadata": {},
   "outputs": [],
   "source": [
    "# EX: \"A\" EQUALS \"A\"\n",
    "\"A\" == \"A\"\n",
    "\n",
    "# TO DO: \"A\" EQUALS \"B\"\n"
   ]
  },
  {
   "cell_type": "code",
   "execution_count": null,
   "id": "0b3f7e54",
   "metadata": {
    "tags": []
   },
   "outputs": [],
   "source": [
    "# EX: \"A\" DOES NOT EQUALS \"A\"\n",
    "\"A\" != \"A\"\n",
    "\n",
    "# TO DO: \"A\" DOES NOT EQUAL \"B\"\n"
   ]
  },
  {
   "cell_type": "code",
   "execution_count": null,
   "id": "3e195658",
   "metadata": {
    "tags": []
   },
   "outputs": [],
   "source": [
    "# EX: 2 GREATER THAN OR EQUAL TO 1\n",
    "2 >= 1\n",
    "\n",
    "# TO DO: 2 LESS THAN 1\n"
   ]
  },
  {
   "cell_type": "markdown",
   "id": "051d7dbe-387b-4003-8662-393b65cce611",
   "metadata": {
    "tags": []
   },
   "source": [
    "## Next Time\n",
    "Keep building on these fundamentals, and start working with datasets in R. Next discussion session will be designed to help you get through your first problem set.  "
   ]
  }
 ],
 "metadata": {
  "celltoolbar": "Slideshow",
  "kernelspec": {
   "display_name": "R",
   "language": "R",
   "name": "ir"
  },
  "language_info": {
   "codemirror_mode": "r",
   "file_extension": ".r",
   "mimetype": "text/x-r-source",
   "name": "R",
   "pygments_lexer": "r",
   "version": "4.3.2"
  }
 },
 "nbformat": 4,
 "nbformat_minor": 5
}
