{
 "cells": [
  {
   "cell_type": "markdown",
   "id": "8c8d2a53",
   "metadata": {},
   "source": [
    "# Introduction to Jupyter"
   ]
  },
  {
   "cell_type": "markdown",
   "id": "72e18f59",
   "metadata": {},
   "source": [
    "Hello! This is Jupyter notebooks, a platform we will be using for this course to access and complete data-intensive assignments. In this course, these assignments will be designed to give you familiarity with how to use the programming language `R` to make sense of large amounts of data, to verify and interpret statistics you encounter, and "
   ]
  },
  {
   "cell_type": "markdown",
   "id": "56a873a6",
   "metadata": {},
   "source": [
    "## Loading Packages\n",
    "\n",
    "In each assignment, you will run a cell (`Command` + `Enter`) that looks similar to the one below. These are packages that others have developed to make our lives easier. Rather than having to write code from scratch for complex problems, others have already simplified the process for us. We will go into this in more detail later. **Tl;dr: Whenever it says \"# RUN THIS CELL\", please run the cell.**"
   ]
  },
  {
   "cell_type": "code",
   "execution_count": 1,
   "id": "e610af92-dca6-41e1-b570-a9c8caf93171",
   "metadata": {},
   "outputs": [
    {
     "name": "stderr",
     "output_type": "stream",
     "text": [
      "\n",
      "Attaching package: ‘dplyr’\n",
      "\n",
      "\n",
      "The following object is masked from ‘package:testthat’:\n",
      "\n",
      "    matches\n",
      "\n",
      "\n",
      "The following objects are masked from ‘package:stats’:\n",
      "\n",
      "    filter, lag\n",
      "\n",
      "\n",
      "The following objects are masked from ‘package:base’:\n",
      "\n",
      "    intersect, setdiff, setequal, union\n",
      "\n",
      "\n"
     ]
    }
   ],
   "source": [
    "# RUN THIS CELL\n",
    "library(testthat) \n",
    "library(estimatr)\n",
    "library(dplyr)"
   ]
  },
  {
   "cell_type": "markdown",
   "id": "c18439e7",
   "metadata": {
    "deletable": false,
    "editable": false
   },
   "source": [
    "Now that we have loaded the necessary packages for the assignment, let's move onto some R fundamentals. "
   ]
  },
  {
   "cell_type": "markdown",
   "id": "fd88fdce-458d-403a-9d7f-4de4a16e08cf",
   "metadata": {
    "deletable": false,
    "editable": false
   },
   "source": [
    "## Q1:  Using variables to introduce yourself to us!\n",
    "\n",
    "We store outputs in variables. Like `x` or `y` in math, these variables represent a value. The data type of these values can be numeric, characters (or \"strings\"), logicals/booleans (T/F), or a collection of the previous data-types (vectors, lists). \n",
    "\n",
    "See https://www.w3schools.com/r/r_data_types.asp for more details. \n",
    "\n",
    "We store variables by using the assignment operator `<-`. For example...\n"
   ]
  },
  {
   "cell_type": "code",
   "execution_count": 2,
   "id": "98d880b6",
   "metadata": {
    "deletable": false,
    "editable": false
   },
   "outputs": [],
   "source": [
    "# RUN THIS CELL\n",
    "\n",
    "# numeric\n",
    "a <- 1\n",
    "\n",
    "# character\n",
    "b <- \"i love coding\"\n",
    "\n",
    "# logical/boolean \n",
    "## There are two ways to store booleans, and they mean the exact same thing\n",
    "c <- TRUE\n",
    "d <- T \n",
    "\n",
    "# vector\n",
    "myVec <- c(1, 2, 3)"
   ]
  },
  {
   "cell_type": "markdown",
   "id": "90cce6da",
   "metadata": {
    "deletable": false,
    "editable": false
   },
   "source": [
    "Then we can retrieve the values by typing the variable name. "
   ]
  },
  {
   "cell_type": "code",
   "execution_count": 3,
   "id": "1f4bb2a5",
   "metadata": {
    "deletable": false,
    "editable": false
   },
   "outputs": [
    {
     "data": {
      "text/html": [
       "TRUE"
      ],
      "text/latex": [
       "TRUE"
      ],
      "text/markdown": [
       "TRUE"
      ],
      "text/plain": [
       "[1] TRUE"
      ]
     },
     "metadata": {},
     "output_type": "display_data"
    }
   ],
   "source": [
    "# Use this cell to play around with assigning, retrieving, and changing variables.\n",
    "c"
   ]
  },
  {
   "cell_type": "markdown",
   "id": "eeef62db",
   "metadata": {
    "deletable": false,
    "editable": false
   },
   "source": [
    "### Q1) Creating variables\n",
    "\n",
    "* Create a variable `age` that stores your age (numeric)\n",
    "* Create a variable `my_name` that stores your name (character)\n",
    "* Create a variable `fun_fact` that stores a fun fact about yourself (character)\n",
    "* Create a variable `female` that indicates `TRUE` or `FALSE` if you identify as female (logical/boolean)"
   ]
  },
  {
   "cell_type": "code",
   "execution_count": 7,
   "id": "cad1ac22-36d7-4ac6-bd0d-45a20581fe00",
   "metadata": {
    "tags": []
   },
   "outputs": [],
   "source": [
    "age <- 24 # YOUR CODE HERE\n",
    "my_name <- \"maya\" # YOUR CODE HERE\n",
    "fun_fact <- \"i like cats\" # YOUR CODE HERE\n",
    "female <- TRUE # YOUR CODE HERE\n",
    "bio <- c(age, my_name, fun_fact, female) # YOUR CODE HERE"
   ]
  },
  {
   "cell_type": "code",
   "execution_count": 8,
   "id": "babb7ef0",
   "metadata": {
    "deletable": false,
    "editable": false
   },
   "outputs": [
    {
     "name": "stdout",
     "output_type": "stream",
     "text": [
      "All tests passed!"
     ]
    }
   ],
   "source": [
    ". = ottr::check(\"tests/q1.R\")"
   ]
  },
  {
   "cell_type": "markdown",
   "id": "cd4eb540",
   "metadata": {
    "deletable": false,
    "editable": false
   },
   "source": [
    "## Q3: Loading datasets "
   ]
  },
  {
   "cell_type": "markdown",
   "id": "0318240a",
   "metadata": {
    "deletable": false,
    "editable": false
   },
   "source": [
    "In this class, we are going to work with various datasets that are released by international organizations, NGOs, and academics. With the proliferation in data and \"data backed\" practices, it's important that we undo the blackbox of big data to understand how numbers are calculated and interpreted. People hold their biases and agendas, so it is always important to be critical of the numbers we see rather than blinding trusting them. We use these raw datasets to try to replicate and understand how these numbers came about. \n",
    "\n",
    "In the data directory, there is a dataset named `ctdc_vp_2021.csv`. "
   ]
  },
  {
   "cell_type": "code",
   "execution_count": 9,
   "id": "98d667fe",
   "metadata": {
    "deletable": false,
    "editable": false
   },
   "outputs": [
    {
     "data": {
      "text/html": [
       "<table class=\"dataframe\">\n",
       "<caption>A data.frame: 6 × 16</caption>\n",
       "<thead>\n",
       "\t<tr><th></th><th scope=col>yearRegister</th><th scope=col>gender</th><th scope=col>majorityStatus</th><th scope=col>isForcedLabour</th><th scope=col>isSexualExploit</th><th scope=col>UN_COO_Region</th><th scope=col>UN_COE_Region</th><th scope=col>IP_Exploiter</th><th scope=col>IP_Gender</th><th scope=col>IP_ageBroad</th><th scope=col>IP_citizen_UNRegion</th><th scope=col>IP_Relation</th><th scope=col>IP_PayMoney</th><th scope=col>IP_RecruiterBroker</th><th scope=col>IP_TransactionProcess</th><th scope=col>IP_ControlAbuseKidnap</th></tr>\n",
       "\t<tr><th></th><th scope=col>&lt;chr&gt;</th><th scope=col>&lt;chr&gt;</th><th scope=col>&lt;chr&gt;</th><th scope=col>&lt;int&gt;</th><th scope=col>&lt;int&gt;</th><th scope=col>&lt;chr&gt;</th><th scope=col>&lt;chr&gt;</th><th scope=col>&lt;int&gt;</th><th scope=col>&lt;chr&gt;</th><th scope=col>&lt;chr&gt;</th><th scope=col>&lt;chr&gt;</th><th scope=col>&lt;chr&gt;</th><th scope=col>&lt;chr&gt;</th><th scope=col>&lt;int&gt;</th><th scope=col>&lt;int&gt;</th><th scope=col>&lt;int&gt;</th></tr>\n",
       "</thead>\n",
       "<tbody>\n",
       "\t<tr><th scope=row>1</th><td></td><td>Female</td><td>Adult</td><td>1</td><td>NA</td><td>Europe</td><td>Europe</td><td>1</td><td>Female;Male</td><td></td><td>Europe</td><td>StrangerUnknownOther</td><td>No;Yes</td><td>1</td><td>1</td><td>1</td></tr>\n",
       "\t<tr><th scope=row>2</th><td></td><td>Female</td><td>Adult</td><td>1</td><td>NA</td><td>Europe</td><td>Europe</td><td>1</td><td>Female;Male</td><td></td><td>Europe</td><td>StrangerUnknownOther</td><td>No;Yes</td><td>1</td><td>1</td><td>1</td></tr>\n",
       "\t<tr><th scope=row>3</th><td></td><td>Female</td><td>Adult</td><td>1</td><td>NA</td><td>Europe</td><td>Europe</td><td>1</td><td>Female;Male</td><td></td><td>Europe</td><td>StrangerUnknownOther</td><td>No;Yes</td><td>1</td><td>1</td><td>1</td></tr>\n",
       "\t<tr><th scope=row>4</th><td></td><td>Female</td><td>Adult</td><td>1</td><td>NA</td><td>Europe</td><td>Europe</td><td>1</td><td>Female;Male</td><td></td><td>Europe</td><td>StrangerUnknownOther</td><td>No;Yes</td><td>1</td><td>1</td><td>1</td></tr>\n",
       "\t<tr><th scope=row>5</th><td></td><td>Female</td><td>Adult</td><td>1</td><td>NA</td><td>Europe</td><td>Europe</td><td>1</td><td>Female;Male</td><td></td><td>Europe</td><td>StrangerUnknownOther</td><td>No;Yes</td><td>1</td><td>1</td><td>1</td></tr>\n",
       "\t<tr><th scope=row>6</th><td></td><td>Female</td><td>Adult</td><td>1</td><td>NA</td><td>Europe</td><td>Europe</td><td>1</td><td>Female;Male</td><td></td><td>Europe</td><td>StrangerUnknownOther</td><td>No;Yes</td><td>1</td><td>1</td><td>1</td></tr>\n",
       "</tbody>\n",
       "</table>\n"
      ],
      "text/latex": [
       "A data.frame: 6 × 16\n",
       "\\begin{tabular}{r|llllllllllllllll}\n",
       "  & yearRegister & gender & majorityStatus & isForcedLabour & isSexualExploit & UN\\_COO\\_Region & UN\\_COE\\_Region & IP\\_Exploiter & IP\\_Gender & IP\\_ageBroad & IP\\_citizen\\_UNRegion & IP\\_Relation & IP\\_PayMoney & IP\\_RecruiterBroker & IP\\_TransactionProcess & IP\\_ControlAbuseKidnap\\\\\n",
       "  & <chr> & <chr> & <chr> & <int> & <int> & <chr> & <chr> & <int> & <chr> & <chr> & <chr> & <chr> & <chr> & <int> & <int> & <int>\\\\\n",
       "\\hline\n",
       "\t1 &  & Female & Adult & 1 & NA & Europe & Europe & 1 & Female;Male &  & Europe & StrangerUnknownOther & No;Yes & 1 & 1 & 1\\\\\n",
       "\t2 &  & Female & Adult & 1 & NA & Europe & Europe & 1 & Female;Male &  & Europe & StrangerUnknownOther & No;Yes & 1 & 1 & 1\\\\\n",
       "\t3 &  & Female & Adult & 1 & NA & Europe & Europe & 1 & Female;Male &  & Europe & StrangerUnknownOther & No;Yes & 1 & 1 & 1\\\\\n",
       "\t4 &  & Female & Adult & 1 & NA & Europe & Europe & 1 & Female;Male &  & Europe & StrangerUnknownOther & No;Yes & 1 & 1 & 1\\\\\n",
       "\t5 &  & Female & Adult & 1 & NA & Europe & Europe & 1 & Female;Male &  & Europe & StrangerUnknownOther & No;Yes & 1 & 1 & 1\\\\\n",
       "\t6 &  & Female & Adult & 1 & NA & Europe & Europe & 1 & Female;Male &  & Europe & StrangerUnknownOther & No;Yes & 1 & 1 & 1\\\\\n",
       "\\end{tabular}\n"
      ],
      "text/markdown": [
       "\n",
       "A data.frame: 6 × 16\n",
       "\n",
       "| <!--/--> | yearRegister &lt;chr&gt; | gender &lt;chr&gt; | majorityStatus &lt;chr&gt; | isForcedLabour &lt;int&gt; | isSexualExploit &lt;int&gt; | UN_COO_Region &lt;chr&gt; | UN_COE_Region &lt;chr&gt; | IP_Exploiter &lt;int&gt; | IP_Gender &lt;chr&gt; | IP_ageBroad &lt;chr&gt; | IP_citizen_UNRegion &lt;chr&gt; | IP_Relation &lt;chr&gt; | IP_PayMoney &lt;chr&gt; | IP_RecruiterBroker &lt;int&gt; | IP_TransactionProcess &lt;int&gt; | IP_ControlAbuseKidnap &lt;int&gt; |\n",
       "|---|---|---|---|---|---|---|---|---|---|---|---|---|---|---|---|---|\n",
       "| 1 | <!----> | Female | Adult | 1 | NA | Europe | Europe | 1 | Female;Male | <!----> | Europe | StrangerUnknownOther | No;Yes | 1 | 1 | 1 |\n",
       "| 2 | <!----> | Female | Adult | 1 | NA | Europe | Europe | 1 | Female;Male | <!----> | Europe | StrangerUnknownOther | No;Yes | 1 | 1 | 1 |\n",
       "| 3 | <!----> | Female | Adult | 1 | NA | Europe | Europe | 1 | Female;Male | <!----> | Europe | StrangerUnknownOther | No;Yes | 1 | 1 | 1 |\n",
       "| 4 | <!----> | Female | Adult | 1 | NA | Europe | Europe | 1 | Female;Male | <!----> | Europe | StrangerUnknownOther | No;Yes | 1 | 1 | 1 |\n",
       "| 5 | <!----> | Female | Adult | 1 | NA | Europe | Europe | 1 | Female;Male | <!----> | Europe | StrangerUnknownOther | No;Yes | 1 | 1 | 1 |\n",
       "| 6 | <!----> | Female | Adult | 1 | NA | Europe | Europe | 1 | Female;Male | <!----> | Europe | StrangerUnknownOther | No;Yes | 1 | 1 | 1 |\n",
       "\n"
      ],
      "text/plain": [
       "  yearRegister gender majorityStatus isForcedLabour isSexualExploit\n",
       "1              Female Adult          1              NA             \n",
       "2              Female Adult          1              NA             \n",
       "3              Female Adult          1              NA             \n",
       "4              Female Adult          1              NA             \n",
       "5              Female Adult          1              NA             \n",
       "6              Female Adult          1              NA             \n",
       "  UN_COO_Region UN_COE_Region IP_Exploiter IP_Gender   IP_ageBroad\n",
       "1 Europe        Europe        1            Female;Male            \n",
       "2 Europe        Europe        1            Female;Male            \n",
       "3 Europe        Europe        1            Female;Male            \n",
       "4 Europe        Europe        1            Female;Male            \n",
       "5 Europe        Europe        1            Female;Male            \n",
       "6 Europe        Europe        1            Female;Male            \n",
       "  IP_citizen_UNRegion IP_Relation          IP_PayMoney IP_RecruiterBroker\n",
       "1 Europe              StrangerUnknownOther No;Yes      1                 \n",
       "2 Europe              StrangerUnknownOther No;Yes      1                 \n",
       "3 Europe              StrangerUnknownOther No;Yes      1                 \n",
       "4 Europe              StrangerUnknownOther No;Yes      1                 \n",
       "5 Europe              StrangerUnknownOther No;Yes      1                 \n",
       "6 Europe              StrangerUnknownOther No;Yes      1                 \n",
       "  IP_TransactionProcess IP_ControlAbuseKidnap\n",
       "1 1                     1                    \n",
       "2 1                     1                    \n",
       "3 1                     1                    \n",
       "4 1                     1                    \n",
       "5 1                     1                    \n",
       "6 1                     1                    "
      ]
     },
     "metadata": {},
     "output_type": "display_data"
    }
   ],
   "source": [
    "ctdc <- read.csv(\"ctdc_vp_2021.csv\")\n",
    "head(ctdc)"
   ]
  },
  {
   "cell_type": "markdown",
   "id": "929ab3d3",
   "metadata": {
    "deletable": false,
    "editable": false
   },
   "source": [
    "I've given you the code on how to do this, now you try! i.e. Replicate what I just did but store it in a variable called `ctdc_my_attempt` "
   ]
  },
  {
   "cell_type": "code",
   "execution_count": 11,
   "id": "0dbd1897",
   "metadata": {
    "tags": []
   },
   "outputs": [],
   "source": [
    "ctdc_my_attempt <- read.csv(\"ctdc_vp_2021.csv\") # YOUR CODE HERE"
   ]
  },
  {
   "cell_type": "code",
   "execution_count": 12,
   "id": "3cde3b9e",
   "metadata": {
    "deletable": false,
    "editable": false
   },
   "outputs": [
    {
     "name": "stdout",
     "output_type": "stream",
     "text": [
      "All tests passed!"
     ]
    }
   ],
   "source": [
    ". = ottr::check(\"tests/q3.R\")"
   ]
  },
  {
   "cell_type": "markdown",
   "id": "009a45a2-75c7-441e-8a45-8a6e5e79020f",
   "metadata": {},
   "source": [
    "# Submission"
   ]
  },
  {
   "cell_type": "code",
   "execution_count": 13,
   "id": "9fe5d5c3-a909-4065-ab53-7b18a0fdcea2",
   "metadata": {},
   "outputs": [
    {
     "data": {
      "text/html": [
       "\n",
       "    <p>Your submission has been exported. Click <a href='pset00_2024_06_04T14_33_34.zip' download='pset00_2024_06_04T14_33_34.zip'\n",
       "    target='_blank'>here</a> to download the zip file.</p>\n",
       "    "
      ]
     },
     "metadata": {},
     "output_type": "display_data"
    }
   ],
   "source": [
    "ottr::export(\"pset00.ipynb\")"
   ]
  }
 ],
 "metadata": {
  "kernelspec": {
   "display_name": "R",
   "language": "R",
   "name": "ir"
  },
  "language_info": {
   "codemirror_mode": "r",
   "file_extension": ".r",
   "mimetype": "text/x-r-source",
   "name": "R",
   "pygments_lexer": "r",
   "version": "4.3.2"
  }
 },
 "nbformat": 4,
 "nbformat_minor": 5
}
