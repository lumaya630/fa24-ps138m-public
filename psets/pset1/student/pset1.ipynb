{
 "cells": [
  {
   "cell_type": "markdown",
   "id": "babea043",
   "metadata": {},
   "source": [
    "# Assignment 1: Introduction to Human Trafficking"
   ]
  },
  {
   "cell_type": "markdown",
   "id": "fd3ae294",
   "metadata": {},
   "source": [
    "### Substantive Objectives\n",
    "What does human trafficking look like? In class, we've gone through readings that describe and analyze the practice. In this assignment, we will supplement our existing knowledge using data. The increasing emphasis on  data in society and the social sciences has created a new demand for us to have the skills and active practice of thinking critically through how others interpret data, to double check their work, and to be able to draw conclusions from data ourselves. \n",
    "\n",
    "This assignment will be using dataset that aggregates reported cases of trafficking around the world, highlighting the forms of trafficking,  means of control, and recruiters involved. The goal is primarily for you to think critically about different measurements and interpretations of the same data, and additionally to introduce you to coding and working with large datasets. \n",
    "\n",
    "### Coding Objectives\n",
    "\n",
    "Learn how to use the following functions. \n",
    "1) `read.csv()`\n",
    "2) `nrow()`\n",
    "3) `filter()` and `select()`\n",
    "4) `summarise()`"
   ]
  },
  {
   "cell_type": "markdown",
   "id": "8816e88b",
   "metadata": {},
   "source": [
    "## Setup\n",
    "The cell below loads the [packages](https://www.geeksforgeeks.org/packages-in-r-programming/) needed for this assignment. You must run the cell for the rest of the assignment to work. "
   ]
  },
  {
   "cell_type": "code",
   "execution_count": null,
   "id": "0609de0d",
   "metadata": {},
   "outputs": [],
   "source": [
    "# You *must* run this cell first. Do not change the contents of this cell.\n",
    "library(testthat)\n",
    "library(ottr)\n",
    "library(tidyverse) %>% suppressMessages()"
   ]
  },
  {
   "cell_type": "markdown",
   "id": "14e8b15d",
   "metadata": {
    "deletable": false,
    "editable": false
   },
   "source": [
    "<!-- BEGIN QUESTION -->\n",
    "\n",
    "-----\n",
    "## Question 1: ChatGPT\n",
    "**Ask chat gpt the following: *\"Define human trafficking. Expand on the history of human trafficking, how the modern concept of human trafficking emerged, and how it differs from smuggling of humans.\"*** \n",
    "    \n",
    "**a) (1 point) Copy paste the output below.**"
   ]
  },
  {
   "cell_type": "markdown",
   "id": "41084ac2",
   "metadata": {},
   "source": [
    "_Type your answer here, replacing this text._"
   ]
  },
  {
   "cell_type": "markdown",
   "id": "a65255da",
   "metadata": {
    "deletable": false,
    "editable": false
   },
   "source": [
    "<!-- END QUESTION -->\n",
    "\n",
    "<!-- BEGIN QUESTION -->\n",
    "\n",
    "**b) (3 points) Answer the following questions.**\n",
    "\n",
    ">**(i) (1 point) What would you change or add based on the definition of human trafficking presented in class and in your readings? Name at least two. \\\n",
    "(ii) (1 point) What are the strengths and weaknesses of its answer? \\\n",
    "(iii) (1 point) What steps should you take to verify its response?**"
   ]
  },
  {
   "cell_type": "markdown",
   "id": "3d72aacf",
   "metadata": {},
   "source": [
    "_Type your answer here, replacing this text._"
   ]
  },
  {
   "cell_type": "markdown",
   "id": "d52e2406",
   "metadata": {
    "deletable": false,
    "editable": false
   },
   "source": [
    "<!-- END QUESTION -->\n",
    "\n",
    "-----\n",
    "## Question 2: Motivating the Question\n",
    "<span style=\"color:#3268a4\">"
   ]
  },
  {
   "cell_type": "markdown",
   "id": "c92551a6",
   "metadata": {
    "deletable": false,
    "editable": false
   },
   "source": [
    "<!-- BEGIN QUESTION -->\n",
    "\n",
    "**(2 points) From our readings thus far, there are stories provided by trafficking survivors. Summarise one human trafficking case that you found particularly impactful. What about the case was impressionable to you?**"
   ]
  },
  {
   "cell_type": "markdown",
   "id": "267cc734",
   "metadata": {},
   "source": [
    "_Type your answer here, replacing this text._"
   ]
  },
  {
   "cell_type": "markdown",
   "id": "53b4b353",
   "metadata": {
    "deletable": false,
    "editable": false
   },
   "source": [
    "<!-- END QUESTION -->\n",
    "\n",
    "<!-- BEGIN QUESTION -->\n",
    "\n",
    "**(2 points) What can we learn about victims from in-depth interviews and individual cases? What can we learn about trafficking from large datasets of information?**"
   ]
  },
  {
   "cell_type": "markdown",
   "id": "96e69c37",
   "metadata": {},
   "source": [
    "_Type your answer here, replacing this text._"
   ]
  },
  {
   "cell_type": "markdown",
   "id": "55f1bc89",
   "metadata": {
    "deletable": false,
    "editable": false
   },
   "source": [
    "<!-- END QUESTION -->\n",
    "\n",
    "## Question 3: Understanding the Data\n",
    "<span style=\"color:#3268a4\">"
   ]
  },
  {
   "cell_type": "markdown",
   "id": "d0302684",
   "metadata": {},
   "source": [
    "The global counter-trafficking community has recognized the importance of inter-organizational coordination in the standardization and consolidation of human trafficking data worldwide. While we are far from reaching an ideal standard, organizations such as the IOM have started taking steps towards this. The code chunk below loads a synthetic dataset provided by the [Counter Trafficking Data Collaborative](https://www.ctdatacollaborative.org/page/about) that is \"the first global data hub on human trafficking, publishing harmonized data from counter-trafficking organizations around the world,\" that aggregates individual level data from various organizations."
   ]
  },
  {
   "cell_type": "code",
   "execution_count": null,
   "id": "10cd8cc6",
   "metadata": {
    "scrolled": true
   },
   "outputs": [],
   "source": [
    "# RUN CODE. DO NOT CHANGE\n",
    "ctdc <- read.csv(\"2024_CTDC_synthetic.csv\") %>% select(-X)"
   ]
  },
  {
   "cell_type": "markdown",
   "id": "c70fe257",
   "metadata": {
    "deletable": false,
    "editable": false
   },
   "source": [
    "### Dataset Structure"
   ]
  },
  {
   "cell_type": "markdown",
   "id": "cd0e0250",
   "metadata": {
    "deletable": false,
    "editable": false
   },
   "source": [
    "#### a. (1 point) How many observations are included in this dataset? You can use the `nrow()` function or another alternative that returns the same number. The solution should be an integer.  \n"
   ]
  },
  {
   "cell_type": "code",
   "execution_count": null,
   "id": "ccce83cc",
   "metadata": {
    "scrolled": true,
    "tags": []
   },
   "outputs": [],
   "source": [
    "# TO DO\n",
    "n_cases <- NULL # YOUR CODE HERE\n",
    "n_cases"
   ]
  },
  {
   "cell_type": "code",
   "execution_count": null,
   "id": "15aeadf3",
   "metadata": {
    "deletable": false,
    "editable": false
   },
   "outputs": [],
   "source": [
    ". = ottr::check(\"tests/q3a.R\")"
   ]
  },
  {
   "cell_type": "markdown",
   "id": "cd8423b0",
   "metadata": {
    "deletable": false,
    "editable": false
   },
   "source": [
    "<!-- BEGIN QUESTION -->\n",
    "\n",
    "**b) (2 points) Looking at the dataset, we see that each row/observation represents a person, but not every single person in this dataset has been identified as a victim of trafficking. Answer the following questions.**\n",
    "\n",
    "> (i) Which columns would you use to determine if an observation is a victim of trafficking?\\\n",
    "(ii) Why can't we use a dataset on identified victims to estimate the  prevalence of trafficking? \n",
    "\n",
    "Run the code chunk below to see the first five rows of the dataset, and the list of column names. "
   ]
  },
  {
   "cell_type": "code",
   "execution_count": null,
   "id": "27a3595e",
   "metadata": {
    "deletable": false,
    "editable": false
   },
   "outputs": [],
   "source": [
    "# NO ACTION NEEDED. RUN CELL.\n",
    "# prints first 5 observations of the dataset\n",
    "head(ctdc, 5)\n",
    "\n",
    "# prints full list of column names\n",
    "print(\"The column names are abridged in the dataframe. The full list of column names are printed below: \")\n",
    "colnames(ctdc)"
   ]
  },
  {
   "cell_type": "markdown",
   "id": "c4b5e2f8",
   "metadata": {},
   "source": [
    "_Type your answer here, replacing this text._"
   ]
  },
  {
   "cell_type": "markdown",
   "id": "264d9405",
   "metadata": {
    "deletable": false,
    "editable": false
   },
   "source": [
    "<!-- END QUESTION -->\n",
    "\n",
    "<!-- BEGIN QUESTION -->\n",
    "\n",
    "### Dataset Variables\n",
    "The above questions are more concerned about the data structure and interpretation of data. The questions below are concerned about the content of the data itself, thinking through what type of data is being collected on victims, and why they have been decided as key information to collect. Look through the [codebook](https://www.ctdatacollaborative.org/sites/g/files/tmzbdl2011/files/2024-02/Codebook_CTDC_global_synthetic_data_v2024.pdf) provided by the CTDC to help answer the questions below. \n",
    "\n",
    "**c) (2 points) What do the variables that start with \"means\" represent, and why is this concept critical to trafficking? Pick one of the \"means\" and describe how it is used in the context of trafficking?**"
   ]
  },
  {
   "cell_type": "markdown",
   "id": "11b7e1a9",
   "metadata": {},
   "source": [
    "_Type your answer here, replacing this text._"
   ]
  },
  {
   "cell_type": "markdown",
   "id": "c9d90ef1",
   "metadata": {
    "deletable": false,
    "editable": false
   },
   "source": [
    "<!-- END QUESTION -->\n",
    "\n",
    "<!-- BEGIN QUESTION -->\n",
    "\n",
    "**d) (2 points) What are the types of trafficking included in the dataset, what forms of trafficking are in the \"other\" category, and what are their differences? Do you think this covers all forms of trafficking?**"
   ]
  },
  {
   "cell_type": "markdown",
   "id": "f429e1f6",
   "metadata": {},
   "source": [
    "_Type your answer here, replacing this text._"
   ]
  },
  {
   "cell_type": "markdown",
   "id": "141293e8",
   "metadata": {
    "deletable": false,
    "editable": false
   },
   "source": [
    "<!-- END QUESTION -->\n",
    "\n",
    "<!-- BEGIN QUESTION -->\n",
    "\n",
    "**e) (2 points) How are victims recruited? What is the role of friends, family, and intimate partners become recruiters?**"
   ]
  },
  {
   "cell_type": "markdown",
   "id": "a9f7eb31",
   "metadata": {},
   "source": [
    "_Type your answer here, replacing this text._"
   ]
  },
  {
   "cell_type": "markdown",
   "id": "19fc1472",
   "metadata": {
    "deletable": false,
    "editable": false
   },
   "source": [
    "<!-- END QUESTION -->\n",
    "\n",
    "## Question 4: Replicating estimates\n",
    "The CTDC synthetic data [dashboard](https://www.ctdatacollaborative.org/global-synthetic-data-dashboard) has generated summary statistics of the human trafficking reports in their dataset. Let's try to replicate these numbers. \n"
   ]
  },
  {
   "cell_type": "markdown",
   "id": "46190b17",
   "metadata": {
    "deletable": false,
    "editable": false
   },
   "source": [
    "### Forms of Trafficking\n",
    "**a) (3 points) We are interested in estimating the proportion of (1) each form of trafficking, (2) means of control, and (3) recruiter among those who are trafficking victims. Before calculating summary statististics, we subset to those who are trafficking victims.**\n",
    "\n",
    "**In words, explain what the code chunk below is doing. Discuss what the `filter` function is doing, what the `select` function is doing, and what `head` does.**\n",
    "\n",
    "Hint: To look up what a function does, you can google search or run a code chunk with `?function_name` to get the documentation.  "
   ]
  },
  {
   "cell_type": "code",
   "execution_count": null,
   "id": "6a9936dd",
   "metadata": {
    "deletable": false,
    "editable": false,
    "scrolled": false
   },
   "outputs": [],
   "source": [
    "# DO NOT CHANGE.  \n",
    "forms_ht <- ctdc %>% filter((isForcedLabour >0 | isSexualExploit > 0 | isOtherExploit >0)) %>%\n",
    "                select(starts_with(\"is\"))\n",
    "head(forms_ht)"
   ]
  },
  {
   "cell_type": "markdown",
   "id": "5d4ef18c",
   "metadata": {
    "deletable": false,
    "editable": false
   },
   "source": [
    "**b) Now we want to find the prevalence of each form of exploitation in this dataset. Use the `summary()` function on the `forms_ht` to return the means (i.e. average) of each column.  Your answer should match the numbers on the CTDC [dashboard](https://www.ctdatacollaborative.org/global-synthetic-data-dashboard) .** \n",
    "\n",
    "There are multiple ways to get the average of each columns. The summary function is the most basic. "
   ]
  },
  {
   "cell_type": "code",
   "execution_count": null,
   "id": "7e4ca9ae",
   "metadata": {
    "scrolled": true,
    "tags": []
   },
   "outputs": [],
   "source": [
    "# TO DO\n",
    "forms_summary <- NULL # YOUR CODE HERE\n",
    "forms_summary"
   ]
  },
  {
   "cell_type": "code",
   "execution_count": null,
   "id": "09947b75",
   "metadata": {
    "deletable": false,
    "editable": false
   },
   "outputs": [],
   "source": [
    ". = ottr::check(\"tests/q4b.R\")"
   ]
  },
  {
   "cell_type": "markdown",
   "id": "d9967e56",
   "metadata": {},
   "source": [
    "### Means of Control"
   ]
  },
  {
   "cell_type": "markdown",
   "id": "12e64274",
   "metadata": {
    "deletable": false,
    "editable": false
   },
   "source": [
    "**c) Now we want to do the same thing, but with the means of control. Filter to the subset of data that is affirmative for human trafficking (as seen above), then select all the variables that start with \"means\".**\n",
    "\n",
    "Hint: Take the code from 4a. While there are multiple ways (some more elegant) to extract the averages, please use the `summary()` function to get credit for this question. We are using it here as a way to introduce a super quick way to get the summary statistics of each column. If you are interested in more elegant methods, let Maya know, and she can share some code with you!\n",
    "\n",
    "The relevant columns should be maintain the same order as in the original dataset. You can select the relevant columns using `%>% select(starts_with(\"means\"))`"
   ]
  },
  {
   "cell_type": "code",
   "execution_count": null,
   "id": "a4b39914",
   "metadata": {
    "scrolled": true,
    "tags": []
   },
   "outputs": [],
   "source": [
    "# YOUR ANSWER HERE\n",
    "means_ht <- NULL # YOUR CODE HERE\n",
    "head(means_ht)"
   ]
  },
  {
   "cell_type": "code",
   "execution_count": null,
   "id": "2b2e3726",
   "metadata": {
    "deletable": false,
    "editable": false
   },
   "outputs": [],
   "source": [
    ". = ottr::check(\"tests/q4c.R\")"
   ]
  },
  {
   "cell_type": "markdown",
   "id": "0f9bf04f",
   "metadata": {
    "deletable": false,
    "editable": false
   },
   "source": [
    "**d) Now we want to find the prevalence of each means. Use the `summary()` function on the `means_ht` to return the means (i.e. average) of each column.** \n"
   ]
  },
  {
   "cell_type": "code",
   "execution_count": null,
   "id": "6aae5747",
   "metadata": {
    "scrolled": false,
    "tags": []
   },
   "outputs": [],
   "source": [
    "# YOUR SOLUTION HERE\n",
    "means_summary <- NULL # YOUR CODE HERE\n",
    "means_summary"
   ]
  },
  {
   "cell_type": "code",
   "execution_count": null,
   "id": "d1092f91",
   "metadata": {
    "deletable": false,
    "editable": false
   },
   "outputs": [],
   "source": [
    ". = ottr::check(\"tests/q4d.R\")"
   ]
  },
  {
   "cell_type": "markdown",
   "id": "fa0e2b59",
   "metadata": {},
   "source": [
    "### Recruiters"
   ]
  },
  {
   "cell_type": "markdown",
   "id": "c8666f7c",
   "metadata": {
    "deletable": false,
    "editable": false
   },
   "source": [
    "**c) (2 points) Now we want to do the same thing, but with the recruiter. Filter to the subset of data that is affirmative for human trafficking, then select all the variables that start with \"recruiter\". Then, use the `summary()` function on the `recruiter_ht` to return the means (i.e. average) of each column**\n",
    "\n",
    "*Hint:* \\\n",
    "Take the code from 4a. While there are multiple ways to extract the averages, please use the `summary()` function to get credit for this question. \n",
    "\n",
    "The relevant columns should be maintain the same order as in the original dataset. You can select the relevant columns using `%>% select(starts_with(\"recruiter\"))`"
   ]
  },
  {
   "cell_type": "code",
   "execution_count": null,
   "id": "1f3d4f47",
   "metadata": {
    "tags": []
   },
   "outputs": [],
   "source": [
    "# YOUR SOLUTION HERE\n",
    "recruiter_ht <- NULL # YOUR CODE HERE\n",
    "head(recruiter_ht)\n",
    "\n",
    "recruiter_summary <- NULL # YOUR CODE HERE\n",
    "recruiter_summary"
   ]
  },
  {
   "cell_type": "code",
   "execution_count": null,
   "id": "875491ea",
   "metadata": {
    "deletable": false,
    "editable": false
   },
   "outputs": [],
   "source": [
    ". = ottr::check(\"tests/q4e.R\")"
   ]
  },
  {
   "cell_type": "markdown",
   "id": "3bb17204",
   "metadata": {},
   "source": [
    "#  Question 5: Interpretations"
   ]
  },
  {
   "cell_type": "markdown",
   "id": "bad85659",
   "metadata": {
    "deletable": false,
    "editable": false
   },
   "source": [
    "<!-- BEGIN QUESTION -->\n",
    "\n",
    "I asked chatGPT to tell me the most commonly reported forms of human trafficking, means of control, and typical recruiter. It/she/he/they responded...\n",
    "\n",
    "> Based on data from major organizations studying human trafficking, the most common aspects are:\n",
    "\n",
    "> **Most Commonly Reported Form of Human Trafficking** \n",
    "> * Sexual Exploitation: This is the most prevalent form of human trafficking, where victims are forced into prostitution, pornography, and other forms of sexual exploitation.\n",
    "\n",
    "> **Most Commonly Reported Means of Control** \n",
    "> * Threats and Violence: Physical violence and threats are the most commonly reported methods used by traffickers to control their victims.\n",
    "\n",
    "> **Most Commonly Reported Type of Recruiter**\n",
    "> * Acquaintances or Family Members: The majority of traffickers are known to the victims, including friends, romantic partners, or even family members. This familiarity helps traffickers gain the trust of victims before exploiting them.\n",
    "\n",
    "> These insights are supported by reports from the United Nations Office on Drugs and Crime (UNODC), the U.S. Department of State's Trafficking in Persons (TIP) Report, the International Labour Organization (ILO), and organizations like the Polaris Project.\n",
    "\n",
    "**5a) Based on the data from CTDC, how would you assess ChatGPT's answer?**"
   ]
  },
  {
   "cell_type": "markdown",
   "id": "d62da717",
   "metadata": {},
   "source": [
    "_Type your answer here, replacing this text._"
   ]
  },
  {
   "cell_type": "markdown",
   "id": "c6533e19",
   "metadata": {
    "deletable": false,
    "editable": false
   },
   "source": [
    "<!-- END QUESTION -->\n",
    "\n",
    "<!-- BEGIN QUESTION -->\n",
    "\n",
    "**f) (3 points)The following three graphs are taken from the dashboard and should match with your numbers. Please interpret each graph.**\n",
    "\n",
    "<img src=\"dashboard1.png\" width=\"50%\"/>\n",
    "<img src=\"dashboard2.png\" width=\"50%\"/>\n",
    "\n"
   ]
  },
  {
   "cell_type": "markdown",
   "id": "0bb8722e",
   "metadata": {},
   "source": [
    "_Type your answer here, replacing this text._"
   ]
  },
  {
   "cell_type": "markdown",
   "id": "b1b010c2",
   "metadata": {
    "deletable": false,
    "editable": false
   },
   "source": [
    "<!-- END QUESTION -->\n",
    "\n",
    "\n",
    "# Submitting Your Notebook (please read carefully!)\n",
    "\n",
    "To submit your notebook...\n",
    "\n",
    "### 1. Click `File` $\\rightarrow$ `Save Notebook`.\n",
    "\n",
    "### 2. Wait 5 seconds.\n",
    "\n",
    "### 3. Select the cell below and hit run."
   ]
  },
  {
   "cell_type": "code",
   "execution_count": null,
   "id": "a347c4a3",
   "metadata": {},
   "outputs": [],
   "source": [
    "ottr::export(\"pset1.ipynb\")"
   ]
  },
  {
   "cell_type": "markdown",
   "id": "1493278b",
   "metadata": {},
   "source": [
    "After you hit \"Run\" on the cell above, click the download link. A .zip file should download to your computer.\n",
    "\n",
    "(If you make changes to your notebook, you'll need to hit save and then run the cell above again before you submit to get a new version of it.)\n",
    "\n",
    "### 4. Submit the .zip file you just downloaded <a href=\"https://www.gradescope.com/\" target=\"_blank\">on Gradescope here</a>.\n",
    "\n",
    "Notes:\n",
    "\n",
    "- **This does not seem to work on Chrome for iPad or iPhone.** If you're using an iPad or iPhone, you need to download the file using **Safari**.\n",
    "- If your web browser automatically unzips the .zip file (so you see a folder instead of a .zip file), you can just upload the .ipynb file that is inside the folder.\n",
    "- If this method is not working for you, try this: hit `File`, then `Download as`, then `Notebook (.ipynb)` and submit that."
   ]
  }
 ],
 "metadata": {
  "kernelspec": {
   "display_name": "R",
   "language": "R",
   "name": "ir"
  },
  "language_info": {
   "codemirror_mode": "r",
   "file_extension": ".r",
   "mimetype": "text/x-r-source",
   "name": "R",
   "pygments_lexer": "r",
   "version": "4.3.2"
  }
 },
 "nbformat": 4,
 "nbformat_minor": 5
}
