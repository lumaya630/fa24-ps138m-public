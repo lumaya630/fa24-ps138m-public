{
 "cells": [
  {
   "cell_type": "markdown",
   "id": "4114ac72",
   "metadata": {},
   "source": [
    "# Assignment 2: Recommending a Target Country"
   ]
  },
  {
   "cell_type": "markdown",
   "id": "caf3e602",
   "metadata": {},
   "source": [
    "### Substantive Objectives\n",
    "The United States Agency for International Development (USAID) is looking to fund a new counter trafficking in persons (CTIP) project and has hired you as an advisor. There is only enough funds to expand activities in **one** country.\n",
    "\n",
    "Your objective is to use quantitative data, supplemented by qualitative research, to identify one country that can benefit greatly from USAID support with anti-trafficking activities. This should be a realistic recommendation so take into consideration practical implementation concerns (e.g. an ongoing war, political openness to NGO activity) when making your recommendation. \n",
    "\n",
    "While there is no single right recommendation, all your decisions must be justified. \n",
    "\n",
    "### Coding Objectives\n",
    "1) Practice retrieving summary statistics using `mean()`, `median()`, `min()`, `max()`\n",
    "2) Practice isolating data of interest using `filter()` and `select()` \n",
    "3) Practice arranging datasets using `arrange()` and `desc()`"
   ]
  },
  {
   "cell_type": "markdown",
   "id": "5cc14772",
   "metadata": {},
   "source": [
    "## Setup\n",
    "The code chunk below loads the packages that we need. "
   ]
  },
  {
   "cell_type": "code",
   "execution_count": null,
   "id": "14b45523",
   "metadata": {},
   "outputs": [],
   "source": [
    "# You *must* run this cell first. Do not change the contents of this cell.\n",
    "library(testthat)\n",
    "library(ottr)\n",
    "library(tidyverse)"
   ]
  },
  {
   "cell_type": "markdown",
   "id": "e7aa025e",
   "metadata": {},
   "source": [
    "The code chunk below loads the datasets that we will be using. These datasets are drawn from Walk Free Foundation's Global Slavery Index. This is one example of how an organization attempts to standardize global estimates of trafficking prevalence, vulnerability, and government responses. "
   ]
  },
  {
   "cell_type": "code",
   "execution_count": null,
   "id": "8883a90a",
   "metadata": {},
   "outputs": [],
   "source": [
    "df.gsi_scores <- read.csv(\"gsi-scores-2023.csv\") %>% select(country, region, population, prev_per_1000, prev_total, vulnerability,\n",
    "                                                          government_response)"
   ]
  },
  {
   "cell_type": "markdown",
   "id": "62bb6582",
   "metadata": {},
   "source": [
    "## <p style=\"color:#2272A8;\">Question 1: Identifying a Country to Recommend"
   ]
  },
  {
   "cell_type": "markdown",
   "id": "32afdeeb",
   "metadata": {
    "deletable": false,
    "editable": false
   },
   "source": [
    "### <p style=\"color:#5F7BA4;\">  ChatGPT's Recommendation\n",
    "**a) Let's first return to our semi-trusty advisor ChatGPT and see what it would recommend. Ask ChatGPT \"What country in the world should there be more counter trafficking efforts?\" and assign the variable `chatGPT_target` to the name of the country.**\n",
    "    \n",
    "*Note: Please spell the name of the country as it is spelled in the list of countries below. In the rare case that the country chatGPT suggested is not in this list of countries, please ask chatGPT to recommend another.*"
   ]
  },
  {
   "cell_type": "code",
   "execution_count": null,
   "id": "d10a49ac",
   "metadata": {
    "deletable": false,
    "editable": false
   },
   "outputs": [],
   "source": [
    "# Run this cell to see how you should be spelling the country. Do not change. \n",
    "gsi_countries <- df.gsi_scores$country\n",
    "gsi_countries"
   ]
  },
  {
   "cell_type": "code",
   "execution_count": null,
   "id": "29b572e2",
   "metadata": {
    "tags": []
   },
   "outputs": [],
   "source": [
    "# Assign the variable below to the country name (e.g. \"India\")\n",
    "chatGPT_target <- NULL # YOUR CODE HERE"
   ]
  },
  {
   "cell_type": "code",
   "execution_count": null,
   "id": "073983cb",
   "metadata": {
    "deletable": false,
    "editable": false
   },
   "outputs": [],
   "source": [
    ". = ottr::check(\"tests/q1a.R\")"
   ]
  },
  {
   "cell_type": "markdown",
   "id": "84aa43c3",
   "metadata": {
    "deletable": false,
    "editable": false
   },
   "source": [
    "<!-- BEGIN QUESTION -->\n",
    "\n",
    "### <p style=\"color:#5F7BA4;\"> Alternative Sources\n",
    "We are not yet at a point where we can blindly trust what ChatGPT tells us. Other common sources of reporting on trafficking include NGO reports, the US Department of State Trafficking In Person's Report, UNODC's Global Report on Trafficking in Persons, official government reports and statistics, among others. \n",
    "    \n",
    "**b) Pick three sources in which you could use to evaluate a country's human trafficking situation, and explain up to three strengths and three weaknesses of relying on each source.**"
   ]
  },
  {
   "cell_type": "markdown",
   "id": "19d20a9b",
   "metadata": {},
   "source": [
    "_Type your answer here, replacing this text._"
   ]
  },
  {
   "cell_type": "markdown",
   "id": "e97e2b31",
   "metadata": {
    "deletable": false,
    "editable": false
   },
   "source": [
    "<!-- END QUESTION -->\n",
    "\n",
    "### <p style=\"color:#5F7BA4;\"> Working with the data yourself!\n",
    "\n",
    "We so far have a recommendation from AI, and some third party sources to evaluate AI's recommendation. What if there is a question you have that wasn't answered in the report? What if you don't trust the numbers published in the report? You could go design a study to source your own data or search for datasets that you have trust in. \n",
    "\n",
    "However, before we get there, the first step is to know how to work with data once you get your hands on it, and understand how the existing counter-trafficking world is measuring the prevalence of trafficking and how governments are responding. \n",
    "    \n",
    "    \n",
    "    \n",
    "For this question, we are working with Walk Free Foundation's Global Slavery Index (GSI) to evaluate ChatGPT's recommendation. The Walk Free Foundations [Global Slavery Index (GSI)](https://www.walkfree.org/global-slavery-index/) dataset details the prevalence, vulnerability, and government responses to trafficking for 160 countries.  You can look through their website and see this [excel file](2023-GSI-Data-Full.xlsx) for a detailed explanation. In short, the variables that we are looking at are as follows:\n",
    "\n",
    "* `prev_per_1000`: estimated prevalence of human trafficking for 1000 individuals\n",
    "* `prev_total`: estimated total prevalence of human trafficking\n",
    "* `vulnerability`: score for vulnerability to human trafficking. Values range from 0 (low) to 100 (high).\n",
    "* `government_response`: score for government responsiveness to human trafficking. Values range from 0 (low) to 100 (high)."
   ]
  },
  {
   "cell_type": "code",
   "execution_count": null,
   "id": "32748dc0",
   "metadata": {
    "deletable": false,
    "editable": false,
    "scrolled": true
   },
   "outputs": [],
   "source": [
    "# DO NOT CHANGE. Prints the first 5 rows of df.gsi_scores\n",
    "head(df.gsi_scores)"
   ]
  },
  {
   "cell_type": "markdown",
   "id": "a66605fc",
   "metadata": {
    "deletable": false,
    "editable": false
   },
   "source": [
    "**c) We start with looking at the prevalence estimates. One way we could go about recommending a country to expand its anti-trafficking efforts is looking at where trafficking prevalence is the highest. What is the estimated number of human trafficking victims in the country ChatGPT recommended? Store this estimate in an object called `gpt_prev_total`**\n",
    "\n",
    "*Hint: Use the `filter` function to select the country you are interested, then use `pull` to pull the value for `prev_total` from the `dplyr` package*"
   ]
  },
  {
   "cell_type": "code",
   "execution_count": null,
   "id": "842cd2a8",
   "metadata": {
    "tags": []
   },
   "outputs": [],
   "source": [
    "# YOUR ANSWER GOES HERE\n",
    "# Step 1: filter to the country of interest\n",
    "# Step 2: pull the value from the `prev_total` column\n",
    "gpt_prev_total <- NULL # YOUR CODE HERE\n",
    "\n",
    "# print the value (NOTE: this object should be a number and NOT a dataframe)\n",
    "gpt_prev_total "
   ]
  },
  {
   "cell_type": "code",
   "execution_count": null,
   "id": "a8d7a00d",
   "metadata": {
    "deletable": false,
    "editable": false
   },
   "outputs": [],
   "source": [
    ". = ottr::check(\"tests/q1c.R\")"
   ]
  },
  {
   "cell_type": "markdown",
   "id": "2f75873c",
   "metadata": {
    "deletable": false,
    "editable": false
   },
   "source": [
    "**d) How does GPT's country's trafficking prevalence compare to the rest of the world?**\n",
    "\n",
    "(i) Store the min, mean, median, and max of `prev_total` in their respective objects\\\n",
    "(iii) Use the `arrange()` function on the `df.gsi_scores` dataframe to sort the dataframe by `prev_total` with the *highest prevalence* first.\n",
    "\n",
    "*Hints:* \\\n",
    "For part (i), make sure to set `na.rm = T`. Ex: `mean(x, na.rm = T)`. \\\n",
    "For part (ii), use `desc()` to sort from highest to lowest. Ex: `df %>% arrange(desc(y))`"
   ]
  },
  {
   "cell_type": "code",
   "execution_count": null,
   "id": "10665941",
   "metadata": {
    "tags": []
   },
   "outputs": [],
   "source": [
    "# calculate summary statistics\n",
    "min_prev_total <- NULL # YOUR CODE HERE\n",
    "mean_prev_total <- NULL # YOUR CODE HERE\n",
    "median_prev_total <- NULL # YOUR CODE HERE\n",
    "max_prev_total <- NULL # YOUR CODE HERE\n",
    "\n",
    "# sort dataset in order of prevalence\n",
    "gsi_sort_by_prev_total <- NULL # YOUR CODE HERE\n",
    "\n",
    "# print answers\n",
    "paste0(\"min: \", min_prev_total)\n",
    "paste0(\"mean: \", mean_prev_total)\n",
    "paste0(\"median: \", median_prev_total)\n",
    "paste0(\"max: \", max_prev_total)\n",
    "gsi_sort_by_prev_total"
   ]
  },
  {
   "cell_type": "markdown",
   "id": "d9e1ee40",
   "metadata": {
    "deletable": false,
    "editable": false
   },
   "source": [
    "#### <p style=\"color:#A0A0A0\">  Where does your country fall? (**No action needed below, Example Distribution Plot**)\n",
    "The code chunk below plots a histogram of the total prevalance estimates across all countries. The red line indicates the prevalence of human trafficking in ChatGPT's recommended country. The blue line indicates the median prevalence in the 160 countries."
   ]
  },
  {
   "cell_type": "code",
   "execution_count": null,
   "id": "283e54d2",
   "metadata": {
    "deletable": false,
    "editable": false,
    "scrolled": true
   },
   "outputs": [],
   "source": [
    "# DO NOT EDIT\n",
    "# Example code for plotting a histogram\n",
    "gsi_sort_by_prev_total %>% ggplot(aes(x = prev_total)) +\n",
    "    \n",
    "    # plots histogram\n",
    "    geom_histogram(bins = 10, alpha = .7) +\n",
    "\n",
    "    # add vertical line for chat GPT's recommended country. \n",
    "    geom_vline(xintercept = gpt_prev_total, col = \"red\")+\n",
    "    geom_vline(xintercept = mean(median_prev_total, na.rm = T), col = \"blue\")+\n",
    "    \n",
    "    # changes background color, lines, etc. \n",
    "    theme_bw() +\n",
    "\n",
    "    # add labels\n",
    "    labs(x = \"Estimated Total Prevalence\", y = \"Count\")"
   ]
  },
  {
   "cell_type": "code",
   "execution_count": null,
   "id": "b8436e4e",
   "metadata": {
    "deletable": false,
    "editable": false
   },
   "outputs": [],
   "source": [
    ". = ottr::check(\"tests/q1d.R\")"
   ]
  },
  {
   "cell_type": "markdown",
   "id": "2ce689d3",
   "metadata": {
    "deletable": false,
    "editable": false
   },
   "source": [
    "<!-- BEGIN QUESTION -->\n",
    "\n",
    "**e) What is a critique of the using absolute value of prevalence to determine which country to expand anti-trafficking efforts?**"
   ]
  },
  {
   "cell_type": "markdown",
   "id": "35ee3270",
   "metadata": {},
   "source": [
    "_Type your answer here, replacing this text._"
   ]
  },
  {
   "cell_type": "markdown",
   "id": "5fd0d1bc",
   "metadata": {
    "deletable": false,
    "editable": false
   },
   "source": [
    "<!-- END QUESTION -->\n",
    "\n",
    "**f) Now we look at an alternate variable of interest `prev_per_1000` which represents the estimated prevalence of human trafficking per 1000 individuals. Repeat (c) and (d) for this variable. In other words:**\n",
    "\\\n",
    "i) Get the prevalence per thousand for the country chatGPT recommended stored in an object named `gpt_prev_1000`. \\\n",
    "ii) Store the min, mean, median, and max of the prevalence per thousand in their respective objects\\\n",
    "iii) Then store a dataframe of the countries sorted by highest to lowest estimated prevalence per thousand in an object named `gsi_sort_by_prev_1000`."
   ]
  },
  {
   "cell_type": "code",
   "execution_count": null,
   "id": "725e61ec",
   "metadata": {
    "scrolled": false,
    "tags": []
   },
   "outputs": [],
   "source": [
    "# store estimate for chatGPT's recommended country\n",
    "gpt_prev_1000 <- NULL # YOUR CODE HERE\n",
    "\n",
    "# get summary statistics of prev_per_1000\n",
    "min_prev_1000 <- NULL # YOUR CODE HERE\n",
    "mean_prev_1000 <- NULL # YOUR CODE HERE\n",
    "median_prev_1000 <- NULL # YOUR CODE HERE\n",
    "max_prev_1000 <- NULL # YOUR CODE HERE\n",
    "\n",
    "# arrange dataframe in descring order by prev_per_1000\n",
    "gsi_sort_by_prev_1000 <- NULL # YOUR CODE HERE\n",
    "\n",
    "# print your results\n",
    "paste0(chatGPT_target, \": \", gpt_prev_1000)\n",
    "paste0(\"min: \", min_prev_1000)\n",
    "paste0(\"mean: \", mean_prev_1000)\n",
    "paste0(\"median: \", median_prev_1000)\n",
    "paste0(\"max: \", max_prev_1000)\n",
    "gsi_sort_by_prev_1000"
   ]
  },
  {
   "cell_type": "code",
   "execution_count": null,
   "id": "d49382ff",
   "metadata": {
    "deletable": false,
    "editable": false
   },
   "outputs": [],
   "source": [
    ". = ottr::check(\"tests/q1f.R\")"
   ]
  },
  {
   "cell_type": "markdown",
   "id": "91c28b7e",
   "metadata": {},
   "source": [
    "#### <p style=\"color:#A0A0A0\">  Where does your country fall? (**No action needed below, Example Distribution Plot**)\n",
    "The code chunk below plots a histogram of the total prevalance estimates across all countries. The red line indicates the prevalence of human trafficking in ChatGPT's recommended country and the blue line indicates the median for the 160 countries in the dataset. "
   ]
  },
  {
   "cell_type": "code",
   "execution_count": null,
   "id": "04d82089",
   "metadata": {},
   "outputs": [],
   "source": [
    "# DO NOT EDIT\n",
    "# Example code for plotting a histogram\n",
    "gsi_sort_by_prev_1000 %>% ggplot(aes(x = prev_per_1000)) +\n",
    "    \n",
    "    # plots histogram\n",
    "    geom_histogram(bins = 10, alpha = 0.5) +\n",
    "\n",
    "    # add vertical line for chat GPT's recommended country. \n",
    "    geom_vline(xintercept = gpt_prev_1000, col = \"red\")+\n",
    "\n",
    "    # add vertical line for mean prevelence per 1000\n",
    "    geom_vline(xintercept = median_prev_1000, col = \"blue\")+\n",
    "    \n",
    "    # changes background color, lines, etc. \n",
    "    theme_minimal() +\n",
    "\n",
    "    # add labels\n",
    "    labs(x = \"Estimated Total Prevalence per 1000\", y = \"Count\")"
   ]
  },
  {
   "cell_type": "markdown",
   "id": "f6b693a6",
   "metadata": {
    "deletable": false,
    "editable": false
   },
   "source": [
    "<!-- BEGIN QUESTION -->\n",
    "\n",
    "#### g) How does ChatGPT's country compare to the other countries in the dataset when looking at total prevalence and prevalence per 1000 individuals? After looking at the Walk Free Foundation's GSI's country prevalences, would you use ChatGPT's recommendation and why?\n"
   ]
  },
  {
   "cell_type": "markdown",
   "id": "ce3a8520",
   "metadata": {},
   "source": [
    "_Type your answer here, replacing this text._"
   ]
  },
  {
   "cell_type": "markdown",
   "id": "63e6081d",
   "metadata": {
    "deletable": false,
    "editable": false
   },
   "source": [
    "<!-- END QUESTION -->\n",
    "\n",
    "### Your Turn: What is your country recommendation?"
   ]
  },
  {
   "cell_type": "markdown",
   "id": "aec7eac8",
   "metadata": {
    "deletable": false,
    "editable": false
   },
   "source": [
    "<!-- BEGIN QUESTION -->\n",
    "\n",
    "**h) Walk Free Foundation also identifies (1) vulnerability and (2) government action as important dimensions of analyses when evaluating the trafficking situation. See their [documentation](2023-GSI-Data-Full.xlsx) for more details on these measures. What additional information do these measures provide? Is there anything else beyond what Walk Free has measured that you would want to take into consideration when selecting a country?**"
   ]
  },
  {
   "cell_type": "markdown",
   "id": "cae9d248",
   "metadata": {},
   "source": [
    "_Type your answer here, replacing this text._"
   ]
  },
  {
   "cell_type": "markdown",
   "id": "a09a4dee",
   "metadata": {
    "deletable": false,
    "editable": false
   },
   "source": [
    "<!-- END QUESTION -->\n",
    "\n",
    "#### <p style=\"color:#A0A0A0\">  The tables below show the countries that have been scored to be the most vulnerable and with the least government response (No action needed, just run the cells to see the tables). \n",
    "\n",
    "**The 25 Countries with the Highest Vulnerability Scores (100 = highest or most vulnerable)** \\\n",
    "The code chunk below displays the data sorted by most vulnerable countries. To see how these scores are calculated, please see the [excel file](2023-GSI-Data-Full.xlsx). "
   ]
  },
  {
   "cell_type": "code",
   "execution_count": null,
   "id": "4e05c15d",
   "metadata": {
    "scrolled": false
   },
   "outputs": [],
   "source": [
    "# RUN THIS CELL\n",
    "# Sort DF by vulnerability (highest to lowest)\n",
    "df.gsi_scores %>% arrange(desc(vulnerability)) %>% head(25)"
   ]
  },
  {
   "cell_type": "markdown",
   "id": "c49ffd17",
   "metadata": {},
   "source": [
    "#### The 25 Countries with the Lowest Government Response Scores (lower scores = less responsive)\n",
    "The code chunk below displays the data sorted by level of government response. Lower scores indicate less action. To see how these scores are calculated, please see the [excel file](2023-GSI-Data-Full.xlsx). "
   ]
  },
  {
   "cell_type": "code",
   "execution_count": null,
   "id": "4d9174e2",
   "metadata": {
    "scrolled": true
   },
   "outputs": [],
   "source": [
    "# RUN THIS CELL\n",
    "# Sort DF by government response (highest to lowest)\n",
    "df.gsi_scores %>% arrange(government_response) %>% head(25)"
   ]
  },
  {
   "cell_type": "markdown",
   "id": "9844f379",
   "metadata": {
    "deletable": false,
    "editable": false
   },
   "source": [
    "<!-- BEGIN QUESTION -->\n",
    "\n",
    "**h) Given this information, please make your own recommendation on which country USAID should expand counter-trafficking activities in. Please justify your answer and cite any outside sources you use.** \n",
    "\n",
    "Recommended length: 200-250 words"
   ]
  },
  {
   "cell_type": "markdown",
   "id": "2c723e04",
   "metadata": {},
   "source": [
    "_Type your answer here, replacing this text._"
   ]
  },
  {
   "cell_type": "markdown",
   "id": "ed15fc6a",
   "metadata": {
    "deletable": false,
    "editable": false
   },
   "source": [
    "<!-- END QUESTION -->\n",
    "\n",
    "***<p style=\"background-color: lightyellow;\">Note: In the HT world, there are multiple ways to go about measuring prevalence, each with their own pros and cons. For the purposes of this assignment, we are using data from the GSI estimates of prevalence. Keep in mind that in the real world, you should be skeptical and critical of how the organization went about estimating HT prevalence. There will be more on different measurements and how to interpret them later in the semester.***\n",
    "   "
   ]
  },
  {
   "cell_type": "markdown",
   "id": "0c88786f",
   "metadata": {},
   "source": [
    "# Submitting Your Notebook (please read carefully!)\n",
    "\n",
    "To submit your notebook...\n",
    "\n",
    "### 1. Click `File` $\\rightarrow$ `Save Notebook`.\n",
    "\n",
    "### 2. Wait 5 seconds.\n",
    "\n",
    "### 3. Select the cell below and hit run.tion:**"
   ]
  },
  {
   "cell_type": "code",
   "execution_count": null,
   "id": "bd0aebd0",
   "metadata": {},
   "outputs": [],
   "source": [
    "ottr::export(\"pset2.ipynb\")"
   ]
  },
  {
   "cell_type": "markdown",
   "id": "8be06198",
   "metadata": {},
   "source": [
    "After you hit \"Run\" on the cell above, click the download link. A .zip file should download to your computer.\n",
    "\n",
    "(If you make changes to your notebook, you'll need to hit save and then run the cell above again before you submit to get a new version of it.)\n",
    "\n",
    "### 4. Submit the .zip file you just downloaded <a href=\"https://www.gradescope.com/\" target=\"_blank\">on Gradescope here</a>.\n",
    "\n",
    "Notes:\n",
    "\n",
    "- **This does not seem to work on Chrome for iPad or iPhone.** If you're using an iPad or iPhone, you need to download the file using **Safari**.\n",
    "- If your web browser automatically unzips the .zip file (so you see a folder instead of a .zip file), you can just upload the .ipynb file that is inside the folder.\n",
    "- If this method is not working for you, try this: hit `File`, then `Download as`, then `Notebook (.ipynb)` and submit that."
   ]
  }
 ],
 "metadata": {
  "kernelspec": {
   "display_name": "R",
   "language": "R",
   "name": "ir"
  },
  "language_info": {
   "codemirror_mode": "r",
   "file_extension": ".r",
   "mimetype": "text/x-r-source",
   "name": "R",
   "pygments_lexer": "r",
   "version": "4.3.2"
  }
 },
 "nbformat": 4,
 "nbformat_minor": 5
}
