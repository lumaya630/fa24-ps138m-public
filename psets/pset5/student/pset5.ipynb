{
 "cells": [
  {
   "cell_type": "markdown",
   "id": "244947ca",
   "metadata": {},
   "source": [
    "# Assignment 5: International Interventions\n",
    "### Substantive Objectives\n",
    "Recall in a previous problem set, you were taksed by The United States Agency for International Development (USAID) to identify **one** country to focus on expanding activities in. \n",
    "\n",
    "In this problem set, for that country you will identify **three counter trafficking activities**. While there is no single right recommendation, all your decisions must be justified. \n",
    "\n",
    "### Coding Objectives\n",
    "1) filter()\n",
    "2) arrange()\n",
    "3) desc()\n",
    "4) group_by(), summarise(), sum(), n()"
   ]
  },
  {
   "cell_type": "markdown",
   "id": "3c18a62f",
   "metadata": {},
   "source": [
    "## Setup\n",
    "The code chunk below loads the packages that we need. "
   ]
  },
  {
   "cell_type": "code",
   "execution_count": null,
   "id": "d11f3291",
   "metadata": {},
   "outputs": [],
   "source": [
    "# You *must* run this cell first. Do not change the contents of this cell.\n",
    "library(testthat)\n",
    "library(ottr)\n",
    "library(tidyverse) %>% suppressMessages()"
   ]
  },
  {
   "cell_type": "markdown",
   "id": "0cf8fa60",
   "metadata": {},
   "source": [
    "The code chunk below loads the dataset that we will be using. This dataset is drawn from Walk Free Foundation's Global Slavery Index. This is their dataset on government activies. "
   ]
  },
  {
   "cell_type": "code",
   "execution_count": null,
   "id": "1643a6a3",
   "metadata": {},
   "outputs": [],
   "source": [
    "# Load data\n",
    "gov_resp <- read.csv(\"gsi_activities_2023_clean.csv\") \n",
    "milestones <- read.csv(\"milestones.csv\")"
   ]
  },
  {
   "cell_type": "markdown",
   "id": "e6bbee67",
   "metadata": {},
   "source": [
    "## Question 1: Understanding Government International Responses and Activities"
   ]
  },
  {
   "cell_type": "markdown",
   "id": "b04796de",
   "metadata": {
    "deletable": false,
    "editable": false
   },
   "source": [
    "<!-- BEGIN QUESTION -->\n",
    "\n",
    "### Walk Free's Government Response Framework"
   ]
  },
  {
   "cell_type": "markdown",
   "id": "681d17d9",
   "metadata": {
    "deletable": false,
    "editable": false
   },
   "source": [
    "To make our recommendation, we are going to base it off of Walk Free Foundations evaluation of each country's counter-trafficking acitivies. How does the GSI come up with the government action score? Walk Free foundation also evaluates various activities of each government. Look through the `Govt response framework` tab in this [excel file](2023-GSI-Data-Full.xlsx) to understand the how they are approaching grading government responses. \n",
    "\n",
    "We are using their rankings of the 42 activities.\n",
    "\n",
    "* `2` = Activity Achieved\n",
    "* `1` = Activity Partly achieved\n",
    "* `0` = Activity Not achieved\n",
    "* Negative values represent the same as above, but for for negative activites. \n"
   ]
  },
  {
   "cell_type": "code",
   "execution_count": null,
   "id": "974611fc",
   "metadata": {
    "deletable": false,
    "editable": false
   },
   "outputs": [],
   "source": [
    "# Display first 6 rows - each column represents an activity\n",
    "head(gov_resp) "
   ]
  },
  {
   "cell_type": "markdown",
   "id": "89b7dd3c-27b4-4853-a25e-8c75db0557c5",
   "metadata": {
    "deletable": false,
    "editable": false
   },
   "source": [
    "**a) (6 points)**\n",
    "> **(i) (1 point)** What does each column in the dataset represent? (1 sentence)\\\n",
    "> **(ii) (1 point)** What does each row in the dataset represent? (1 sentence)\\\n",
    "> **(iii) (1 point)** What score is received when the researchers that put together this dataset could not find any information about the indicators that went into constructing these activity scores? (1 number)\\\n",
    ">  **(iv) (1 point)**  Where can you find the indicators that went into constructing these activity scores? (1 sentence)\\\n",
    "> **(v) (2 points)** What is one bias (using Haschke and Arnon reading) of these activity scores? (2 sentences)"
   ]
  },
  {
   "cell_type": "markdown",
   "id": "888c72ba",
   "metadata": {},
   "source": [
    "_Type your answer here, replacing this text._"
   ]
  },
  {
   "attachments": {},
   "cell_type": "markdown",
   "id": "72f9f370",
   "metadata": {
    "deletable": false,
    "editable": false
   },
   "source": [
    "<!-- END QUESTION -->\n",
    "\n",
    "<!-- BEGIN QUESTION -->\n",
    "\n",
    "**b) (8 points) Look through the list of activities on the excel spreadsheet previously attached, under the government response tab.**\n",
    "\n",
    "> **(i) (3 points)** For each milestone, discuss why it is important for the government to address it? How is this similar and different from the Department of State's 4P Framework? (5-6 sentences) \\\n",
    "> **(ii) (2 points)** What differentiates a negative activity from a postitive activity? One of the negative activities is \"Government places its population, or part of its population, in forced labour.\" Why might the government engage in this? (4-5 sentences) \\\n",
    "> **(iii) (3 points)** What are three international interventions trying to address trafficking that we've covered in class? Which milestones are they addressing? What are their limitations? (5-6 sentences)"
   ]
  },
  {
   "cell_type": "markdown",
   "id": "427b5126",
   "metadata": {},
   "source": [
    "_Type your answer here, replacing this text._"
   ]
  },
  {
   "cell_type": "markdown",
   "id": "29558746",
   "metadata": {
    "deletable": false,
    "editable": false
   },
   "source": [
    "<!-- END QUESTION -->\n",
    "\n",
    "## Question 2: Making Your Recommendation\n",
    "**a) (2 points) Now we are going to look at the country you are recommending, and seeing where the government has been active in counter trafficking activities.**\n",
    "\n",
    "> **(i) (1 point)** First, store the country you chose to recommend in the last assignment (assignment #4) in a variable named `my_rec`. Make sure it is spelled exactly as the cell below spells the country.\\\n",
    "> **(ii) (1 point)** Then, to focus on the activities that our country of interest is/is not engaging in, we are going to use the `filter()` function to the row corresponding to our recommendation.\n",
    "\n"
   ]
  },
  {
   "cell_type": "code",
   "execution_count": null,
   "id": "e932593f",
   "metadata": {
    "deletable": false,
    "editable": false
   },
   "outputs": [],
   "source": [
    "# RUN THIS CELL\n",
    "# Make sure the spelling matches. Printing the country names in the dataset. \n",
    "gov_resp$country"
   ]
  },
  {
   "cell_type": "code",
   "execution_count": null,
   "id": "b7a5adc0",
   "metadata": {
    "tags": []
   },
   "outputs": [],
   "source": [
    "my_rec <- NULL # YOUR CODE HERE\n",
    "\n",
    "# filter to your recommended country\n",
    "my_rec_activity_scores <- NULL # YOUR CODE HERE\n",
    "\n",
    "# print output\n",
    "my_rec_activity_scores"
   ]
  },
  {
   "cell_type": "code",
   "execution_count": null,
   "id": "6aa671aa",
   "metadata": {
    "deletable": false,
    "editable": false
   },
   "outputs": [],
   "source": [
    ". = ottr::check(\"tests/q2a.R\")"
   ]
  },
  {
   "cell_type": "markdown",
   "id": "6fd36271",
   "metadata": {},
   "source": [
    "#### NO ACTION NEEDED: Transforming Data\n",
    "Just run the code below, it does some data transformation to add some information about the milestones. It prints out the transformed data. Take a look and see what the data looks like now. This dataframe is called `my_rec_df`"
   ]
  },
  {
   "cell_type": "code",
   "execution_count": null,
   "id": "57de0d21",
   "metadata": {
    "scrolled": true
   },
   "outputs": [],
   "source": [
    "# RUN THE CODE, DO NOT CHANGE\n",
    "\n",
    "my_rec_df <- my_rec_activity_scores %>%\n",
    "    # transpose data (switch the rows and columns)\n",
    "    t() %>% \n",
    "\n",
    "    # convert to dataframe and select relevant columns\n",
    "    as.data.frame() %>% slice(-(1:2)) %>%\n",
    "\n",
    "    # convert rownames to columns\n",
    "    rownames_to_column(\"activity_name\") %>% \n",
    "\n",
    "    # rename columns\n",
    "    rename(score = V1) %>%\n",
    "\n",
    "    # join with a separate dataset that indicates the corresponding milestone\n",
    "    left_join(milestones) %>%\n",
    "\n",
    "    # mutate the activity_score value from character to numeric\n",
    "    mutate(score = as.numeric(score))\n",
    "\n",
    "# Display my_rec_t\n",
    "my_rec_df"
   ]
  },
  {
   "cell_type": "markdown",
   "id": "d877e05e",
   "metadata": {
    "deletable": false,
    "editable": false
   },
   "source": [
    "**b) (1 point)** The code chunk below stores information on the activity, it's score, and details about the milestone in a dataset called `my_rec_df`. Use the `arrange()` function to sort `my_rec_df` in **descending** order by the activity score. Store this in `my_rec_sorted`. Now you can look at the activities that your recommended country met/didn't meet!"
   ]
  },
  {
   "cell_type": "code",
   "execution_count": null,
   "id": "b8a35d6c",
   "metadata": {
    "scrolled": true,
    "tags": []
   },
   "outputs": [],
   "source": [
    "# YOUR SOLUTION HERE\n",
    "my_rec_sorted <- NULL # YOUR CODE HERE\n",
    "\n",
    "# PRINT SOLUTION\n",
    "my_rec_sorted"
   ]
  },
  {
   "cell_type": "markdown",
   "id": "7d2b2e94",
   "metadata": {
    "deletable": false,
    "editable": false
   },
   "source": [
    "**c) (3 points)** Use the `group_by()` and `summarise()` function in `R` to find (1) the sum of activity scores for each milestone and (2) the number of activities in each milestone. The groups are stored in the columns `milestone_name`.\n",
    "\n",
    "Example Code:\n",
    "\n",
    "    my_rec_df %>% \n",
    "           group_by(...) %>% \n",
    "           summarise(total_points = ...(..., na.rm = T),\n",
    "                     n_activities = ...())"
   ]
  },
  {
   "cell_type": "code",
   "execution_count": null,
   "id": "3ea1d184",
   "metadata": {
    "tags": []
   },
   "outputs": [],
   "source": [
    "# YOUR ANSWER HERE\n",
    "my_rec_milestones <- NULL # YOUR CODE HERE\n",
    "\n",
    "# print table\n",
    "my_rec_milestones "
   ]
  },
  {
   "cell_type": "code",
   "execution_count": null,
   "id": "c41f0b62-14fc-4987-96c2-5fce8b816dc2",
   "metadata": {
    "tags": []
   },
   "outputs": [],
   "source": [
    "# NO ACTION NEEDED\n",
    "\n",
    "# The code below standardizes each milestone by the total possible points it could have received\n",
    "# This is because some milestones have more activities than others\n",
    "\n",
    "my_rec_milestones_final <- my_rec_milestones %>%  \n",
    "            # adding a column that indicates the total number of points per milestone\n",
    "            cbind(total_possible_points =c(8, 26, 14, 8, 22)) %>% \n",
    "             # calculating the percentage score for the milesone (out of 100)\n",
    "            mutate(milestone_percent = round(total_points/total_possible_points * 100, 0))\n",
    "\n",
    "# table\n",
    "my_rec_milestones_final "
   ]
  },
  {
   "cell_type": "markdown",
   "id": "cdd732eb",
   "metadata": {},
   "source": [
    "### Want to Compare?\n",
    "\n",
    "If you want to compare how your country is performing relative to other countries, explore the [website](https://www.walkfree.org/global-slavery-index/map/#mode=DATA:dimension=r:prevalence-unit=absolute:filter=all)!"
   ]
  },
  {
   "cell_type": "markdown",
   "id": "0a202c2f",
   "metadata": {
    "deletable": false,
    "editable": false
   },
   "source": [
    "<!-- BEGIN QUESTION -->\n",
    "\n",
    "**c) (10 points) Given this information, identify three activities (in the Walk Free government response framework) you would recommend USAID should invest in for your country. For each activity, describe the intervention you would support. Justify your answer, including the evidence that led you to your conclusion.**\n",
    "\n",
    "Sources: Reference the TIP report for your country of interest, the Walk Free's scores and/or corresponding country report if available, and an additional source of your choosing. For each data source that you use, discuss the strenghts and limitations.\n",
    "\n",
    "*Recommended length: Max 500 words*"
   ]
  },
  {
   "cell_type": "markdown",
   "id": "f88e7a89",
   "metadata": {},
   "source": [
    "_Type your answer here, replacing this text._"
   ]
  },
  {
   "cell_type": "code",
   "execution_count": null,
   "id": "a9fb9e95",
   "metadata": {
    "tags": []
   },
   "outputs": [],
   "source": [
    "# OPTIONAL: Use this code block to explore the data\n",
    "\n",
    "## Example code: Uncomment the lines you want to run, edit the code, or write your own code! \n",
    "#                This will not be graded!\n",
    "\n",
    "# -----------------------------\n",
    "# View your country's activity scores\n",
    "# ----------------------------\n",
    "# my_rec_sorted\n",
    "\n",
    "# -----------------------------\n",
    "# View your country's weakers scores\n",
    "# ----------------------------\n",
    "# my_rec_sorted %>% filter(score < 1)\n",
    "\n",
    "# -----------------------------\n",
    "# View if your country has any negative scores\n",
    "# ----------------------------\n",
    "# my_rec_sorted %>% filter(grepl(\"NEG\", activity_name))\n",
    "\n",
    "# -----------------------------\n",
    "# View your country's activity stores by milestone\n",
    "# ----------------------------\n",
    "# my_rec_milestones_final\n",
    "\n",
    "# -----------------------------\n",
    "# View your country's activity scores for a given milestone\n",
    "# ----------------------------\n",
    "# my_rec_sorted %>% filter(milestone_number == \"milestone 4\")\n",
    "\n"
   ]
  },
  {
   "cell_type": "code",
   "execution_count": null,
   "id": "3c1f1495",
   "metadata": {
    "deletable": false,
    "editable": false
   },
   "outputs": [],
   "source": [
    ". = ottr::check(\"tests/q2c.R\")"
   ]
  },
  {
   "cell_type": "markdown",
   "id": "9222f328",
   "metadata": {
    "deletable": false,
    "editable": false
   },
   "source": [
    "<!-- END QUESTION -->\n",
    "\n",
    "# Submitting Your Notebook (please read carefully!)\n",
    "\n",
    "To submit your notebook...\n",
    "\n",
    "### 1. Click `File` $\\rightarrow$ `Save Notebook`.\n",
    "\n",
    "### 2. Wait 5 seconds.\n",
    "\n",
    "### 3. Select the cell below and hit run.tion:**"
   ]
  },
  {
   "cell_type": "code",
   "execution_count": null,
   "id": "26ad0da7",
   "metadata": {},
   "outputs": [],
   "source": [
    "ottr::export(\"pset5.ipynb\")"
   ]
  },
  {
   "cell_type": "markdown",
   "id": "07d8add7",
   "metadata": {},
   "source": [
    "After you hit \"Run\" on the cell above, click the download link. A .zip file should download to your computer.\n",
    "\n",
    "(If you make changes to your notebook, you'll need to hit save and then run the cell above again before you submit to get a new version of it.)\n",
    "\n",
    "### 4. Submit the .zip file you just downloaded <a href=\"https://www.gradescope.com/\" target=\"_blank\">on Gradescope here</a>.\n",
    "\n",
    "Notes:\n",
    "\n",
    "- **This does not seem to work on Chrome for iPad or iPhone.** If you're using an iPad or iPhone, you need to download the file using **Safari**.\n",
    "- If your web browser automatically unzips the .zip file (so you see a folder instead of a .zip file), you can just upload the .ipynb file that is inside the folder.\n",
    "- If this method is not working for you, try this: hit `File`, then `Download as`, then `Notebook (.ipynb)` and submit that."
   ]
  }
 ],
 "metadata": {
  "kernelspec": {
   "display_name": "R",
   "language": "R",
   "name": "ir"
  },
  "language_info": {
   "codemirror_mode": "r",
   "file_extension": ".r",
   "mimetype": "text/x-r-source",
   "name": "R",
   "pygments_lexer": "r",
   "version": "4.3.2"
  }
 },
 "nbformat": 4,
 "nbformat_minor": 5
}
