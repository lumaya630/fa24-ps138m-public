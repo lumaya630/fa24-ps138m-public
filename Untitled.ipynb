{
 "cells": [
  {
   "cell_type": "markdown",
   "id": "5d2a8f2a-0b3b-419c-b8c1-f91d0f50023f",
   "metadata": {},
   "source": [
    "\n",
    "--- \n",
    "\n",
    "### Data Types\n",
    "There are different data types in R. The main ones we will be working with are:\n",
    "\n",
    "1. Characters, denoted by \"quotation marks\"\n",
    "2. Integers, numeric with no decimals\n",
    "3. Doubles, numeric with decimals\n",
    "4. Logicals, `TRUE` or `FALSE`, `T` or `F`\n"
   ]
  },
  {
   "cell_type": "code",
   "execution_count": 2,
   "id": "706ea4be-bad5-40eb-82c7-e79aed923a6f",
   "metadata": {
    "scrolled": true
   },
   "outputs": [
    {
     "data": {
      "text/html": [
       "'hey hey'"
      ],
      "text/latex": [
       "'hey hey'"
      ],
      "text/markdown": [
       "'hey hey'"
      ],
      "text/plain": [
       "[1] \"hey hey\""
      ]
     },
     "metadata": {},
     "output_type": "display_data"
    },
    {
     "data": {
      "text/html": [
       "'hey hey'"
      ],
      "text/latex": [
       "'hey hey'"
      ],
      "text/markdown": [
       "'hey hey'"
      ],
      "text/plain": [
       "[1] \"hey hey\""
      ]
     },
     "metadata": {},
     "output_type": "display_data"
    },
    {
     "data": {
      "text/html": [
       "1"
      ],
      "text/latex": [
       "1"
      ],
      "text/markdown": [
       "1"
      ],
      "text/plain": [
       "[1] 1"
      ]
     },
     "metadata": {},
     "output_type": "display_data"
    },
    {
     "data": {
      "text/html": [
       "1.5"
      ],
      "text/latex": [
       "1.5"
      ],
      "text/markdown": [
       "1.5"
      ],
      "text/plain": [
       "[1] 1.5"
      ]
     },
     "metadata": {},
     "output_type": "display_data"
    },
    {
     "data": {
      "text/html": [
       "TRUE"
      ],
      "text/latex": [
       "TRUE"
      ],
      "text/markdown": [
       "TRUE"
      ],
      "text/plain": [
       "[1] TRUE"
      ]
     },
     "metadata": {},
     "output_type": "display_data"
    },
    {
     "data": {
      "text/html": [
       "FALSE"
      ],
      "text/latex": [
       "FALSE"
      ],
      "text/markdown": [
       "FALSE"
      ],
      "text/plain": [
       "[1] FALSE"
      ]
     },
     "metadata": {},
     "output_type": "display_data"
    },
    {
     "data": {
      "text/html": [
       "TRUE"
      ],
      "text/latex": [
       "TRUE"
      ],
      "text/markdown": [
       "TRUE"
      ],
      "text/plain": [
       "[1] TRUE"
      ]
     },
     "metadata": {},
     "output_type": "display_data"
    },
    {
     "data": {
      "text/html": [
       "FALSE"
      ],
      "text/latex": [
       "FALSE"
      ],
      "text/markdown": [
       "FALSE"
      ],
      "text/plain": [
       "[1] FALSE"
      ]
     },
     "metadata": {},
     "output_type": "display_data"
    }
   ],
   "source": [
    "# character\n",
    "\"hey hey\"\n",
    "'hey hey'\n",
    "\n",
    "# integer\n",
    "1\n",
    "\n",
    "# double\n",
    "1.5\n",
    "\n",
    "# logical\n",
    "TRUE\n",
    "FALSE\n",
    "T\n",
    "F"
   ]
  },
  {
   "cell_type": "code",
   "execution_count": null,
   "id": "772e86b0-fcd0-4d96-8af8-ef9369ef89dd",
   "metadata": {},
   "outputs": [],
   "source": []
  }
 ],
 "metadata": {
  "kernelspec": {
   "display_name": "R",
   "language": "R",
   "name": "ir"
  },
  "language_info": {
   "codemirror_mode": "r",
   "file_extension": ".r",
   "mimetype": "text/x-r-source",
   "name": "R",
   "pygments_lexer": "r",
   "version": "4.3.2"
  }
 },
 "nbformat": 4,
 "nbformat_minor": 5
}
