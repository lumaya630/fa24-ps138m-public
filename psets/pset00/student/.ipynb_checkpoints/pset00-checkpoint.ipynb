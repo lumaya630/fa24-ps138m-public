{
 "cells": [
  {
   "cell_type": "markdown",
   "id": "8c8d2a53",
   "metadata": {},
   "source": [
    "# Introduction to Jupyter"
   ]
  },
  {
   "cell_type": "markdown",
   "id": "72e18f59",
   "metadata": {},
   "source": [
    "Hello! This is Jupyter notebooks, a platform we will be using for this course to access and complete data-intensive assignments. In this course, these assignments will be designed to give you familiarity with how to use the programming language `R` to make sense of large amounts of data, to verify and interpret statistics you encounter, and "
   ]
  },
  {
   "cell_type": "markdown",
   "id": "56a873a6",
   "metadata": {},
   "source": [
    "## Loading Packages\n",
    "\n",
    "In each assignment, you will run a cell (`Command` + `Enter`) that looks similar to the one below. These are packages that others have developed to make our lives easier. Rather than having to write code from scratch for complex problems, others have already simplified the process for us. We will go into this in more detail later. **Tl;dr: Whenever it says \"# RUN THIS CELL\", please run the cell.**"
   ]
  },
  {
   "cell_type": "code",
   "execution_count": null,
   "id": "e610af92-dca6-41e1-b570-a9c8caf93171",
   "metadata": {},
   "outputs": [],
   "source": [
    "# RUN THIS CELL\n",
    "library(testthat) \n",
    "library(estimatr)\n",
    "library(dplyr)"
   ]
  },
  {
   "cell_type": "markdown",
   "id": "c18439e7",
   "metadata": {
    "deletable": false,
    "editable": false
   },
   "source": [
    "Now that we have loaded the necessary packages for the assignment, let's move onto some R fundamentals. "
   ]
  },
  {
   "cell_type": "markdown",
   "id": "fd88fdce-458d-403a-9d7f-4de4a16e08cf",
   "metadata": {
    "deletable": false,
    "editable": false
   },
   "source": [
    "## Q1:  Using variables to introduce yourself to us!\n",
    "\n",
    "We store outputs in variables. Like `x` or `y` in math, these variables represent a value. The data type of these values can be numeric, characters (or \"strings\"), logicals/booleans (T/F), or a collection of the previous data-types (vectors, lists). \n",
    "\n",
    "See https://www.w3schools.com/r/r_data_types.asp for more details. \n",
    "\n",
    "We store variables by using the assignment operator `<-`. For example...\n"
   ]
  },
  {
   "cell_type": "code",
   "execution_count": null,
   "id": "98d880b6",
   "metadata": {
    "deletable": false,
    "editable": false
   },
   "outputs": [],
   "source": [
    "# RUN THIS CELL\n",
    "\n",
    "# numeric\n",
    "a <- 1\n",
    "\n",
    "# character\n",
    "b <- \"i love coding\"\n",
    "\n",
    "# logical/boolean \n",
    "## There are two ways to store booleans, and they mean the exact same thing\n",
    "c <- TRUE\n",
    "d <- T \n",
    "\n",
    "# vector\n",
    "myVec <- c(1, 2, 3)"
   ]
  },
  {
   "cell_type": "markdown",
   "id": "90cce6da",
   "metadata": {
    "deletable": false,
    "editable": false
   },
   "source": [
    "Then we can retrieve the values by typing the variable name. "
   ]
  },
  {
   "cell_type": "code",
   "execution_count": null,
   "id": "1f4bb2a5",
   "metadata": {
    "deletable": false,
    "editable": false
   },
   "outputs": [],
   "source": [
    "# Use this cell to play around with assigning, retrieving, and changing variables.\n",
    "c"
   ]
  },
  {
   "cell_type": "markdown",
   "id": "eeef62db",
   "metadata": {
    "deletable": false,
    "editable": false
   },
   "source": [
    "### Q1) Creating variables\n",
    "\n",
    "* Create a variable `age` that stores your age (numeric)\n",
    "* Create a variable `my_name` that stores your name (character)\n",
    "* Create a variable `fun_fact` that stores a fun fact about yourself (character)\n",
    "* Create a variable `female` that indicates `TRUE` or `FALSE` if you identify as female (logical/boolean)"
   ]
  },
  {
   "cell_type": "code",
   "execution_count": null,
   "id": "cad1ac22-36d7-4ac6-bd0d-45a20581fe00",
   "metadata": {
    "tags": []
   },
   "outputs": [],
   "source": [
    "age <- 24 # YOUR CODE HERE\n",
    "my_name <- NULL # YOUR CODE HERE\n",
    "fun_fact <- NULL # YOUR CODE HERE\n",
    "female <- NULL # YOUR CODE HERE\n",
    "bio <- NULL # YOUR CODE HERE"
   ]
  },
  {
   "cell_type": "code",
   "execution_count": null,
   "id": "babb7ef0",
   "metadata": {
    "deletable": false,
    "editable": false
   },
   "outputs": [],
   "source": [
    ". = ottr::check(\"tests/q1.R\")"
   ]
  },
  {
   "cell_type": "markdown",
   "id": "cd4eb540",
   "metadata": {
    "deletable": false,
    "editable": false
   },
   "source": [
    "## Q3: Loading datasets "
   ]
  },
  {
   "cell_type": "markdown",
   "id": "0318240a",
   "metadata": {
    "deletable": false,
    "editable": false
   },
   "source": [
    "In this class, we are going to work with various datasets that are released by international organizations, NGOs, and academics. With the proliferation in data and \"data backed\" practices, it's important that we undo the blackbox of big data to understand how numbers are calculated and interpreted. People hold their biases and agendas, so it is always important to be critical of the numbers we see rather than blinding trusting them. We use these raw datasets to try to replicate and understand how these numbers came about. \n",
    "\n",
    "In the data directory, there is a dataset named `ctdc_vp_2021.csv`. "
   ]
  },
  {
   "cell_type": "code",
   "execution_count": null,
   "id": "98d667fe",
   "metadata": {
    "deletable": false,
    "editable": false
   },
   "outputs": [],
   "source": [
    "ctdc <- read.csv(\"ctdc_vp_2021.csv\")\n",
    "head(ctdc)"
   ]
  },
  {
   "cell_type": "markdown",
   "id": "929ab3d3",
   "metadata": {
    "deletable": false,
    "editable": false
   },
   "source": [
    "I've given you the code on how to do this, now you try! i.e. Replicate what I just did but store it in a variable called `ctdc_my_attempt` "
   ]
  },
  {
   "cell_type": "code",
   "execution_count": null,
   "id": "0dbd1897",
   "metadata": {
    "tags": []
   },
   "outputs": [],
   "source": [
    "ctdc_my_attempt <- NULL # YOUR CODE HERE"
   ]
  },
  {
   "cell_type": "code",
   "execution_count": null,
   "id": "3cde3b9e",
   "metadata": {
    "deletable": false,
    "editable": false
   },
   "outputs": [],
   "source": [
    ". = ottr::check(\"tests/q3.R\")"
   ]
  },
  {
   "cell_type": "markdown",
   "id": "009a45a2-75c7-441e-8a45-8a6e5e79020f",
   "metadata": {},
   "source": [
    "# Submission"
   ]
  },
  {
   "cell_type": "code",
   "execution_count": null,
   "id": "9fe5d5c3-a909-4065-ab53-7b18a0fdcea2",
   "metadata": {},
   "outputs": [],
   "source": [
    "ottr::export(\"pset00.ipynb\")"
   ]
  }
 ],
 "metadata": {
  "kernelspec": {
   "display_name": "R",
   "language": "R",
   "name": "ir"
  },
  "language_info": {
   "codemirror_mode": "r",
   "file_extension": ".r",
   "mimetype": "text/x-r-source",
   "name": "R",
   "pygments_lexer": "r",
   "version": "4.3.2"
  }
 },
 "nbformat": 4,
 "nbformat_minor": 5
}
