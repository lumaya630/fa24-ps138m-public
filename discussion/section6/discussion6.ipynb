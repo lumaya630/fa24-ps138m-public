{
 "cells": [
  {
   "cell_type": "markdown",
   "id": "fb4ea2db-b253-437e-8852-70647dad918b",
   "metadata": {},
   "source": [
    "## Part 1: Connecting Regression to Random Experiments\n",
    "### Effect of Awareness Campaigns on MDW Knowledge of their Rights in Hong Kong (Boittin and Mo et al. 2024)\n",
    "#### Load Packages"
   ]
  },
  {
   "cell_type": "code",
   "execution_count": null,
   "id": "bb03d44c-e335-498a-b60e-a918d47004f4",
   "metadata": {},
   "outputs": [],
   "source": [
    "# RUN THIS CELL\n",
    "# Load packages\n",
    "library(testthat)\n",
    "library(tidyverse) %>% suppressMessages()"
   ]
  },
  {
   "cell_type": "markdown",
   "id": "92421d21-2e2f-4d9d-9112-1e88a73ca591",
   "metadata": {},
   "source": [
    "#### Read in data and take a look!\n",
    "Lucky that our professor ran this study, so we have access to the data. This only a small part of the data collected. Let's take a peek at the first ten rows. \n",
    "\n",
    "* Each row is the response of one migrant domestic workers participant. \n",
    "* `treated` indicates if they were administered the poster treatment. Takes on `1` if treated, `0` if not. \n",
    "* `score` indicates their score on the knowledge test. Takes on a value between 0-1, with 1 being a perfect score. "
   ]
  },
  {
   "cell_type": "code",
   "execution_count": null,
   "id": "6ea74e4a-e665-40ad-8569-2eeb0edce157",
   "metadata": {},
   "outputs": [],
   "source": [
    "# load in data\n",
    "hkdat <- read.csv(\"hk_data_section.csv\") %>% select(-starts_with(\"knowledge\"))\n",
    "\n",
    "# look at first ten rows\n",
    "head(hkdat, 10)"
   ]
  },
  {
   "cell_type": "markdown",
   "id": "72dde771-3f7d-4486-a92f-e8f63ba83df7",
   "metadata": {},
   "source": [
    "### Random assignment to Treatment (`treated`)\n",
    "Migrant domestic workers in HK were randomly assigned to a treatment of awareness raising (being shown a poster). Then, the authors measured the MDW's knowledge about their own rights. \n",
    "\n",
    "The authors want to know the effect of the awareness raising campaigns on knowledge of rights. \n",
    "\n",
    "#### What columns correspond to the treatment assignment and knowledge test?\n",
    "\n",
    "* treatment: `treated`- takes on 1 for treated, and 0 for control\n",
    "* knowledge: `score` - ranges from 0 to 1, with 1 being high score"
   ]
  },
  {
   "cell_type": "code",
   "execution_count": null,
   "id": "42facd9f-1e94-4bc6-a4fd-4c9b346dd900",
   "metadata": {},
   "outputs": [],
   "source": [
    "# how many were treated?\n",
    "table(hkdat$treated) # equal!"
   ]
  },
  {
   "cell_type": "code",
   "execution_count": null,
   "id": "789c52e7-55e6-49f1-bb44-6bc469bdf6b8",
   "metadata": {},
   "outputs": [],
   "source": [
    "# what was the average overall score for the entire group\n",
    "hkdat %>% summarise(avg_score = mean(score, na.rm = T)) # the entire sample scored on average a 70% on their knowledge test"
   ]
  },
  {
   "cell_type": "markdown",
   "id": "a91f3625-f5bd-4cb6-9d09-96d0610cdbbf",
   "metadata": {},
   "source": [
    "### What's the effect of being exposed to an awareness raising poster?\n",
    "**Method 1**: Calculating the ATE by calculating the difference between the mean knowledge score of the treated group and the mean knowledge score of the control group. \n",
    "\n",
    "Revising our functions `filter`, and `summarise` and `mean`"
   ]
  },
  {
   "cell_type": "code",
   "execution_count": null,
   "id": "078b4b15-8f1b-4222-abb0-044cd1005da8",
   "metadata": {},
   "outputs": [],
   "source": [
    "# let's now calcualte the average score for the treated group\n",
    "score_treated = hkdat %>% filter(treated == 1) %>% \n",
    "    summarise(avg_score = mean(score, na.rm = T)) %>%\n",
    "    # remove the single value from the dataframe\n",
    "    pull()\n",
    "\n",
    "# knoweldge score for migrant workers who were treated\n",
    "score_treated"
   ]
  },
  {
   "cell_type": "code",
   "execution_count": null,
   "id": "23908502-e8ac-44a8-a6c4-1c0ed68e13d4",
   "metadata": {},
   "outputs": [],
   "source": [
    "# let's now calcualte the average score for the treated group\n",
    "score_control = hkdat %>% filter(treated == 0) %>% \n",
    "    summarise(avg_score = mean(score, na.rm = T))%>%\n",
    "    # remove the single value from the dataframe\n",
    "    pull()\n",
    "\n",
    "# knoweldge score for migrant workers who were in the control\n",
    "score_control"
   ]
  },
  {
   "cell_type": "code",
   "execution_count": null,
   "id": "8d0f92f2-f846-4af5-a5d2-25231becf387",
   "metadata": {},
   "outputs": [],
   "source": [
    "# average treatment effect is calculated by taking the difference\n",
    "score_treated-score_control"
   ]
  },
  {
   "cell_type": "markdown",
   "id": "f35b9242-e0be-4ed5-bf38-63fafe346271",
   "metadata": {},
   "source": [
    "### Let's see this on a graph!"
   ]
  },
  {
   "cell_type": "code",
   "execution_count": null,
   "id": "5475458f-b848-44ea-9acf-41e4df491850",
   "metadata": {},
   "outputs": [],
   "source": [
    "# Plotting the data\n",
    "hkdat %>% ggplot(aes(x = treated, y = score)) +\n",
    "    # add points\n",
    "    geom_point() + \n",
    "    # add regression line\n",
    "    geom_smooth(method = \"lm\", se = F)"
   ]
  },
  {
   "cell_type": "markdown",
   "id": "a79e2c6b-03b9-4d85-bc63-635f22d3715d",
   "metadata": {},
   "source": [
    "**Method 2**: Now lets do the same thing using `lm()` and it should return the same value. "
   ]
  },
  {
   "cell_type": "code",
   "execution_count": null,
   "id": "1fefec94-24b0-43d9-9fbd-1800e1ab35e8",
   "metadata": {
    "scrolled": true
   },
   "outputs": [],
   "source": [
    "lm(score~treated, data = hkdat) %>% summary()"
   ]
  },
  {
   "cell_type": "markdown",
   "id": "832eb05f-18dd-4e08-9fde-cc9e27151160",
   "metadata": {},
   "source": [
    "By using regression, we are also told if the difference is statistically significant, which we see it isn't. Therefore, we are not confident enough to say there is any meaningful effect of the treatment on knowledge of rights for migrant domestic workers. \n",
    "\n",
    "How confident are we that awareness raising posters may not be the most worthwhile to invest in? Why? What if we were not able to randomize?\n"
   ]
  },
  {
   "cell_type": "markdown",
   "id": "a1b42fd7-b996-4878-af8c-13c1c3156d20",
   "metadata": {},
   "source": [
    "_Your answer here_"
   ]
  },
  {
   "cell_type": "markdown",
   "id": "1089d70c-49b3-4b20-9467-825f6bdc8591",
   "metadata": {},
   "source": [
    "Return to ppt!"
   ]
  },
  {
   "cell_type": "markdown",
   "id": "af7e4726-0437-446e-a13b-1a6ff03a1ccb",
   "metadata": {},
   "source": [
    "---\n",
    "## Part 2: group_by() tutorial\n",
    "\n",
    "We could be skeptics. How can we check that randomization worked? These two groups (treatment and control) should be almost the same on every other factor besides the treatment status. "
   ]
  },
  {
   "cell_type": "code",
   "execution_count": null,
   "id": "5f8b26e5-c2a8-4e6f-aaa9-bf339a6aa2e8",
   "metadata": {},
   "outputs": [],
   "source": [
    "# View the starting dataset: hkdat\n",
    "hkdat %>% head()"
   ]
  },
  {
   "cell_type": "markdown",
   "id": "a9ac5804-c332-4c10-a15d-4573c00e72b7",
   "metadata": {},
   "source": [
    "**Example:** We have information on nationality. \n",
    "\n",
    "Steps:\n",
    "1. For the control group, find the distribution of nationality (e.g. how many in the control are from Indonesia, The Philippines\t, etc).\n",
    "2. For the treatment group, find the distribution of nationality (e.g. how many in the treated are from Indonesia, The Philippines\t, etc).\n",
    "\n",
    "If treatment assignment was random, the counts in each nationality (i.e. distribution) should be similar. "
   ]
  },
  {
   "cell_type": "markdown",
   "id": "64132a89-48d8-4237-9ffd-e7663790a319",
   "metadata": {},
   "source": [
    "**Step 1)** Now lets look at nationality for the control group..."
   ]
  },
  {
   "cell_type": "code",
   "execution_count": null,
   "id": "5f4bbcf9-dfc5-414f-86db-cb0bc8121c99",
   "metadata": {},
   "outputs": [],
   "source": [
    "# How do I subset to just the control group? .... filter!\n",
    "#hkdat %>% filter(treated ==0) "
   ]
  },
  {
   "cell_type": "markdown",
   "id": "3fb66f72-403d-4a4e-82e1-98d79114e33c",
   "metadata": {},
   "source": [
    "Now we count the number of observations for each MDW's nationality group, which is documented in the column `nationality`.\\\n",
    "\n",
    "Functions we use:\n",
    "* `filter()` to isolate the control group\n",
    "* `group_by()` to tell R we are interested in knowing information for each `nationaity`\n",
    "* `summarise()` to reduce to one row per group (i.e. each nationality). \n",
    "* What are we interested in learning about for each nationality? The count, and we can find this using `n()`!"
   ]
  },
  {
   "cell_type": "code",
   "execution_count": null,
   "id": "d6e319b5-e038-430d-a1a3-d9cf196be4f4",
   "metadata": {},
   "outputs": [],
   "source": [
    "# find the counts of each nationality \n",
    "hkdat %>% filter(treated ==0) %>%\n",
    "    # group_by nationality (what we want to see the summary statistics of)\n",
    "    group_by(nationality) %>%\n",
    "    # take the summary statistic\n",
    "    summarise(count = n())"
   ]
  },
  {
   "cell_type": "markdown",
   "id": "946559c0-726b-4f2e-8cdc-a02358ac2851",
   "metadata": {},
   "source": [
    "**Step 2)** Now lets do the same thing but for the treated group. I repeat the same steps:\n",
    "\n",
    "Functions we use:\n",
    "* `filter()` to isolate the *treatment* group\n",
    "* `group_by()` to tell R we are interested in knowing information for each `nationaity`\n",
    "* `summarise()` to reduce to one row per group (i.e. each nationality). \n",
    "* What are we interested in learning about for each nationality? The count, and we can find this using `n()`!"
   ]
  },
  {
   "cell_type": "code",
   "execution_count": null,
   "id": "2aee809d-bad4-41e9-b0d5-e3d9cfbb352e",
   "metadata": {},
   "outputs": [],
   "source": [
    "# find the counts of each nationality \n",
    "hkdat %>% filter(treated ==1) %>%\n",
    "    # group_by nationality (what we want to see the summary statistics of)\n",
    "    group_by(nationality) %>%\n",
    "    # take the summary statistic\n",
    "    summarise(count = n())"
   ]
  },
  {
   "cell_type": "markdown",
   "id": "83652115-8afa-43b5-a75d-40d604523fa0",
   "metadata": {},
   "source": [
    "**How do these distributions compare?** They're almost the same because random assignment worked! We could do this for any variable in the dataset and it should be the same. In the problem sets, you would need maybe elaborate one sentence on why randomization leads to equal distribution. "
   ]
  },
  {
   "cell_type": "markdown",
   "id": "75e7859f-19d9-4564-a477-1e0a261c63d3",
   "metadata": {},
   "source": [
    "## Practice Using Groupby"
   ]
  },
  {
   "cell_type": "markdown",
   "id": "dfed4694-0b20-408b-8af3-47283322ec86",
   "metadata": {
    "deletable": false,
    "editable": false
   },
   "source": [
    "**Q1:** We have information on education\n",
    "\n",
    "Steps:\n",
    "\n",
    "1. For the control group, find the distribution of education (i.e. how many in the control group are at each educational level?)\n",
    "2. For the treatment group, find the distribution of education  (i.e. how many in the treatment group are at each educational level?)\n",
    "3. Compare the distributions "
   ]
  },
  {
   "cell_type": "code",
   "execution_count": null,
   "id": "e8dbb961-df00-4034-92ff-c654e18a1bdd",
   "metadata": {
    "tags": []
   },
   "outputs": [],
   "source": [
    "# find the counts of each nationality \n",
    "hkdat_edu_control <- NULL # YOUR CODE HERE\n",
    "\n",
    "hkdat_edu_control"
   ]
  },
  {
   "cell_type": "code",
   "execution_count": null,
   "id": "970a08d4",
   "metadata": {
    "deletable": false,
    "editable": false
   },
   "outputs": [],
   "source": [
    ". = ottr::check(\"tests/Q1a.R\")"
   ]
  },
  {
   "cell_type": "code",
   "execution_count": null,
   "id": "94b15231-21cf-4bac-ad31-4112cd0b0de9",
   "metadata": {
    "scrolled": true,
    "tags": []
   },
   "outputs": [],
   "source": [
    "# find the counts of each nationality \n",
    "hkdat_edu_treated <- NULL # YOUR CODE HERE\n",
    "\n",
    "hkdat_edu_treated "
   ]
  },
  {
   "cell_type": "code",
   "execution_count": null,
   "id": "28103f92",
   "metadata": {
    "deletable": false,
    "editable": false
   },
   "outputs": [],
   "source": [
    ". = ottr::check(\"tests/Q1b.R\")"
   ]
  },
  {
   "cell_type": "markdown",
   "id": "55cf0ad9-0cc1-41e2-be12-3b66cf1659c1",
   "metadata": {},
   "source": [
    "How do the distributions compare? Are the about the same? What does that say about randomization?"
   ]
  },
  {
   "cell_type": "markdown",
   "id": "52b65d0f-bc9c-4982-a228-9c3b998a044d",
   "metadata": {},
   "source": [
    "_Your text here_"
   ]
  },
  {
   "cell_type": "markdown",
   "id": "5589cae7-e18d-4faa-8f4c-54899a5bb6fd",
   "metadata": {
    "deletable": false,
    "editable": false
   },
   "source": [
    "**Q2 Challenge**\\\n",
    "Use group_by() to compare the average ages in the treatment vs control group. They should be the same. Do the two groups have the same average age?\n",
    "\n",
    "* Think carefully, what are you grouping by? Which column is this information stored in. \n",
    "* What summary statistic are you interested in?"
   ]
  },
  {
   "cell_type": "code",
   "execution_count": null,
   "id": "d7161811-c02a-4cff-8397-0972b8132216",
   "metadata": {
    "tags": []
   },
   "outputs": [],
   "source": [
    "age_comparison <- NULL # YOUR CODE HERE\n",
    "\n",
    "age_comparison"
   ]
  },
  {
   "cell_type": "code",
   "execution_count": null,
   "id": "c29c981b",
   "metadata": {
    "deletable": false,
    "editable": false
   },
   "outputs": [],
   "source": [
    ". = ottr::check(\"tests/Q2.R\")"
   ]
  },
  {
   "cell_type": "markdown",
   "id": "89469c1d-d1a4-45c6-be37-5cd67c1908d8",
   "metadata": {},
   "source": [
    "How do the averages compare? Are the about the same? What does that say about randomization?"
   ]
  },
  {
   "cell_type": "markdown",
   "id": "0b021e7c-1329-479e-9866-9136e6bde02d",
   "metadata": {},
   "source": [
    "_Your answer here_"
   ]
  },
  {
   "cell_type": "markdown",
   "id": "6685827e-2053-4389-ae08-5a6be4661816",
   "metadata": {},
   "source": [
    "---\n",
    "\n",
    "## Coding Progress Check/Review\n",
    "This is for your own review/practice! These are the functions we have learned so far: \n",
    "\n",
    "* filter()\n",
    "* select()\n",
    "* summarise()\n",
    "* group_by()\n",
    "* mean()\n",
    "* n()\n",
    "* nrow()\n",
    "* read.csv()\n",
    "* lm()\n"
   ]
  },
  {
   "cell_type": "markdown",
   "id": "199f1dfe-6849-460d-8e66-ff5e332efa3a",
   "metadata": {
    "deletable": false,
    "editable": false
   },
   "source": [
    "**Q3)** Read in the dataset that is stored in a file called \"hk_data_section.csv\" and store it in `my_dat` (this is the same data, just having you practice it!)"
   ]
  },
  {
   "cell_type": "code",
   "execution_count": null,
   "id": "313293e8-e61b-4f9c-906a-daf0510cb1dc",
   "metadata": {
    "tags": []
   },
   "outputs": [],
   "source": [
    "my_dat <- NULL # YOUR CODE HERE"
   ]
  },
  {
   "cell_type": "code",
   "execution_count": null,
   "id": "df995776",
   "metadata": {
    "deletable": false,
    "editable": false
   },
   "outputs": [],
   "source": [
    ". = ottr::check(\"tests/Q3.R\")"
   ]
  },
  {
   "cell_type": "markdown",
   "id": "7294be20-a9dc-4050-ba7c-9d21f43ccb8d",
   "metadata": {
    "deletable": false,
    "editable": false
   },
   "source": [
    "**Q4)** Filter your dataset (`my_dat`) to where `ud_freedom_movement` is \"Never\" and store in a new dataframe called `no_fom` (stands for no freedom of movement). This condition subsets to respondents that reported they do not have freedom of movement. "
   ]
  },
  {
   "cell_type": "code",
   "execution_count": null,
   "id": "b05b6412-07ae-41a1-b0ef-d7000aede836",
   "metadata": {
    "tags": []
   },
   "outputs": [],
   "source": [
    "# YOUR SOLUTION HERE\n",
    "no_fom <- NULL # YOUR CODE HERE\n",
    "\n",
    "# display\n",
    "head(no_fom)"
   ]
  },
  {
   "cell_type": "code",
   "execution_count": null,
   "id": "3f0c3b1a",
   "metadata": {
    "deletable": false,
    "editable": false
   },
   "outputs": [],
   "source": [
    ". = ottr::check(\"tests/Q4.R\")"
   ]
  },
  {
   "cell_type": "markdown",
   "id": "abb7c608-90bc-4a93-9581-7b04ac6af12a",
   "metadata": {
    "deletable": false,
    "editable": false
   },
   "source": [
    "**Q5)** From `no_fom`, select the columns:\n",
    "* treated\n",
    "* score\n",
    "* educ\n",
    "* nationality\n",
    "* ud_freedom_movement\n",
    "\n",
    "And store in a dataframe called `no_fom_simp` (no freedom of movement simplified)"
   ]
  },
  {
   "cell_type": "code",
   "execution_count": null,
   "id": "36a7c29d-c7e9-4c61-8136-9f666d81d612",
   "metadata": {
    "tags": []
   },
   "outputs": [],
   "source": [
    "no_fom_simp <- NULL # YOUR CODE HERE\n",
    "\n",
    "# display\n",
    "head(no_fom_simp)"
   ]
  },
  {
   "cell_type": "code",
   "execution_count": null,
   "id": "9f6f5caf",
   "metadata": {
    "deletable": false,
    "editable": false
   },
   "outputs": [],
   "source": [
    ". = ottr::check(\"tests/Q5.R\")"
   ]
  },
  {
   "cell_type": "markdown",
   "id": "e4b30896-405a-46a2-a0e4-a88c20305271",
   "metadata": {
    "deletable": false,
    "editable": false
   },
   "source": [
    "**Q6)** Using `no_fom`, find the average knowledge score of those who have no freedom of movement. Do you expect this to be lower or higher than the knoweldge score of the general population (which we found during the demo to be 70%). Is this result surprising?"
   ]
  },
  {
   "cell_type": "code",
   "execution_count": null,
   "id": "7c692cea-011e-4361-82a0-21f639bc3c80",
   "metadata": {
    "tags": []
   },
   "outputs": [],
   "source": [
    "# display\n",
    "avg_knowledge <- NULL # YOUR CODE HERE\n",
    "\n",
    "# display\n",
    "avg_knowledge"
   ]
  },
  {
   "cell_type": "code",
   "execution_count": null,
   "id": "0fa8674e",
   "metadata": {
    "deletable": false,
    "editable": false
   },
   "outputs": [],
   "source": [
    ". = ottr::check(\"tests/Q6.R\")"
   ]
  },
  {
   "cell_type": "markdown",
   "id": "c709a3ad-ce0a-448e-aca4-857aa84100dd",
   "metadata": {
    "deletable": false,
    "editable": false
   },
   "source": [
    "**Q7)** Find the average knowledge score **for each nationality** using the dataset `no_fom` (those who have no freedom of movement). Name the column of averages `avg_knowledge_score`. What nationality seems to be the most aware? \n",
    "\n",
    "*(Extra/Challenge: If you got the test to pass, you can then try to groupby two variables, `nationality` and `treated`, and see how the treatment effect appears to vary across nationalities - if you do this, the check/test will not pass, but it's interesting!)*"
   ]
  },
  {
   "cell_type": "code",
   "execution_count": null,
   "id": "af0111bf-714b-42f2-8f50-87a825f04e8d",
   "metadata": {
    "tags": []
   },
   "outputs": [],
   "source": [
    "# YOUR ANSWER HERE\n",
    "avg_knowledge_by_nat <- NULL # YOUR CODE HERE\n",
    "\n",
    "# display\n",
    "avg_knowledge_by_nat"
   ]
  },
  {
   "cell_type": "code",
   "execution_count": null,
   "id": "b8ba780e",
   "metadata": {
    "deletable": false,
    "editable": false
   },
   "outputs": [],
   "source": [
    ". = ottr::check(\"tests/Q7.R\")"
   ]
  },
  {
   "cell_type": "markdown",
   "id": "ee675345-b97f-4757-84d2-98efdac6c465",
   "metadata": {
    "deletable": false,
    "editable": false
   },
   "source": [
    "**Q8)** Find the average treatment effect of the awareness raising posters (`treated`) on the knowledge scores (`score`) for this sub-population (`no_fom`) using linear regresssion (`lm()`). What value corresponds to the treatment effect $\\alpha$ and $\\beta_1$?\n",
    "\n",
    "    lm(dv ~ iv, data = df)"
   ]
  },
  {
   "cell_type": "code",
   "execution_count": null,
   "id": "0e2d7d7e-ee58-4b49-ae04-a6ba4efea1d4",
   "metadata": {
    "scrolled": true,
    "tags": []
   },
   "outputs": [],
   "source": [
    "# YOUR ANSWER HERE\n",
    "mod <- NULL # YOUR CODE HERE\n",
    "\n",
    "# Display\n",
    "mod %>% summary()"
   ]
  },
  {
   "cell_type": "code",
   "execution_count": null,
   "id": "5e5b7cbc",
   "metadata": {
    "deletable": false,
    "editable": false
   },
   "outputs": [],
   "source": [
    ". = ottr::check(\"tests/Q8.R\")"
   ]
  },
  {
   "cell_type": "markdown",
   "id": "7c434f2c-4ac0-4f31-b557-8f7ff54b3e0f",
   "metadata": {},
   "source": [
    "How would you interpret _$\\alpha$_ and _$\\beta_1$_?"
   ]
  },
  {
   "cell_type": "markdown",
   "id": "c10acb8a-1b93-4987-ad79-e26a452c4f27",
   "metadata": {},
   "source": [
    "_Your solution here_"
   ]
  },
  {
   "cell_type": "markdown",
   "id": "7cc15395-0a61-4672-9a25-ad5e993be42a",
   "metadata": {},
   "source": [
    "**Final Q:** So what do you think, do awareness raising posters work?"
   ]
  }
 ],
 "metadata": {
  "kernelspec": {
   "display_name": "R",
   "language": "R",
   "name": "ir"
  },
  "language_info": {
   "codemirror_mode": "r",
   "file_extension": ".r",
   "mimetype": "text/x-r-source",
   "name": "R",
   "pygments_lexer": "r",
   "version": "4.3.2"
  }
 },
 "nbformat": 4,
 "nbformat_minor": 5
}
