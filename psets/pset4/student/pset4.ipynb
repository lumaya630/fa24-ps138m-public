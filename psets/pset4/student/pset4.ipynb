{
 "cells": [
  {
   "cell_type": "markdown",
   "id": "4114ac72",
   "metadata": {},
   "source": [
    "# Assignment 4: Recommending a Target Country"
   ]
  },
  {
   "cell_type": "markdown",
   "id": "caf3e602",
   "metadata": {},
   "source": [
    "### Substantive Objectives\n",
    "The United States Agency for International Development (USAID) is looking to fund a new counter trafficking in persons (CTIP) project and has hired you as an advisor. There is only enough funds to expand activities in **one** country.\n",
    "\n",
    "Your objective is to use quantitative data, supplemented by qualitative research, to identify one country that can benefit greatly from USAID support with anti-trafficking activities. This should be a realistic recommendation so take into consideration practical implementation concerns (e.g. an ongoing war, political openness to NGO activity) when making your recommendation. \n",
    "\n",
    "While there is no single right recommendation, all your decisions must be justified. \n",
    "\n",
    "### Coding Objectives\n",
    "1) Practice retrieving summary statistics using `mean()`, `median()`, `min()`, `max()`\n",
    "2) Practice isolating data of interest using `filter()` and `select()` \n",
    "3) Practice arranging datasets using `arrange()` and `desc()`"
   ]
  },
  {
   "cell_type": "markdown",
   "id": "5cc14772",
   "metadata": {},
   "source": [
    "## Setup\n",
    "The code chunk below loads the packages that we need. "
   ]
  },
  {
   "cell_type": "code",
   "execution_count": null,
   "id": "14b45523",
   "metadata": {},
   "outputs": [],
   "source": [
    "# You *must* run this cell first. Do not change the contents of this cell.\n",
    "library(testthat)\n",
    "library(ottr)\n",
    "library(tidyverse)"
   ]
  },
  {
   "cell_type": "markdown",
   "id": "e7aa025e",
   "metadata": {},
   "source": [
    "The code chunk below loads the datasets that we will be using. These datasets are drawn from Walk Free Foundation's Global Slavery Index. This is one example of how an organization attempts to standardize global estimates of trafficking prevalence, vulnerability, and government responses. "
   ]
  },
  {
   "cell_type": "code",
   "execution_count": null,
   "id": "8883a90a",
   "metadata": {},
   "outputs": [],
   "source": [
    "# RUN THIS CELL\n",
    "df_gsi <- read.csv(\"gsi-scores-2023.csv\") %>% select(country, region, population, prev_per_1000, prev_total, vulnerability,\n",
    "                                                          government_response)\n",
    "\n",
    "df_gsi_full <- read.csv(\"gsi-scores-2023.csv\")"
   ]
  },
  {
   "cell_type": "markdown",
   "id": "62bb6582",
   "metadata": {},
   "source": [
    "## <p style=\"color:#2272A8;\">Question 1: Identifying a Country to Recommend"
   ]
  },
  {
   "cell_type": "markdown",
   "id": "32afdeeb",
   "metadata": {
    "deletable": false,
    "editable": false
   },
   "source": [
    "### <p style=\"color:#5F7BA4;\">  ChatGPT's Recommendation\n",
    "Let's first return to our semi-trusty advisor ChatGPT and see what it would recommend. I asked ChatGPT \"What criteria should USAID take when expanding anti-human trafficking efforts? Based on these criteria, what country in the world should the US expand counter trafficking efforts in?\" It responded:\n",
    "\n",
    "> When expanding anti-human trafficking efforts, USAID should consider several criteria to ensure that resources are allocated effectively and that initiatives are tailored to address specific needs in different contexts. Key criteria may include:\n",
    ">1. **Prevalence of Human Trafficking**: Assess the extent of human trafficking in potential target countries, including the number of victims and the types of trafficking (sex trafficking, labor trafficking, etc.).\n",
    "2. **Legal and Policy Framework**: Evaluate the country's laws, regulations, and enforcement measures related to human trafficking, including the prosecution of traffickers and protection of victims.\n",
    "3. **Government Commitment**: Look for a demonstrated commitment from the country's government to combating human trafficking, including the allocation of resources and political will to implement necessary changes.\n",
    "4. **Civil Society Engagement**: Consider the strength and activity of civil society organizations working against trafficking and their ability to work with the government.\n",
    "5. **Vulnerability Factors**: Analyze social, economic, and political factors that contribute to vulnerability, such as poverty, conflict, lack of education, and gender inequality.\n",
    "6. **Existing Support Mechanisms**: Identify any existing efforts by other countries or organizations in the region that could be built upon or complemented.\n",
    "7. **Regional Trends**: Consider regional dynamics, including human trafficking routes, and how transnational issues may affect trafficking patterns.\n",
    "\n",
    ">Based on these criteria, one country that could be considered for expanded anti-human trafficking efforts is **India**. India has high prevalence levels of human trafficking, driven by socio-economic factors such as poverty and gender inequality. While there are laws in place to combat trafficking, enforcement can be inconsistent. Additionally, there is a vibrant civil society that is active in addressing these issues, which can support expanded efforts. \n",
    "\n",
    "> Overall, the selection should be based on comprehensive research and assessment to identify where USAID's support would be most effective in reducing human trafficking.\n",
    "    \n",
    "**a) (1 point) Use the code block below to assign the variable `gpt_rec` to `\"India\"`. With the exact capitalization and spelling.**"
   ]
  },
  {
   "cell_type": "code",
   "execution_count": null,
   "id": "29b572e2",
   "metadata": {
    "tags": []
   },
   "outputs": [],
   "source": [
    "# Assign the variable below to the country name (e.g. \"India\")\n",
    "chatGPT_target <- NULL # YOUR CODE HERE"
   ]
  },
  {
   "cell_type": "code",
   "execution_count": null,
   "id": "b71709a0",
   "metadata": {
    "deletable": false,
    "editable": false
   },
   "outputs": [],
   "source": [
    ". = ottr::check(\"tests/q1a.R\")"
   ]
  },
  {
   "cell_type": "markdown",
   "id": "84aa43c3",
   "metadata": {
    "deletable": false,
    "editable": false
   },
   "source": [
    "<!-- BEGIN QUESTION -->\n",
    "\n",
    "### <p style=\"color:#5F7BA4;\"> Measurement Challenges in HT Reports\n",
    "We are not yet at a point where we can fully rely on what ChatGPT says, so we definitely want to cross check with other sources. More traditional and commonly cited sources of reporting on trafficking include:\n",
    "    \n",
    "> 1. Reports by the ILO in partnership with academics and NGOs\n",
    "2. The US Department of State's Trafficking In Person's Report\n",
    "3. UNODC's Global Report on Trafficking in Persons\n",
    "4. NGO reports such Polaris, Human Rights Watch, Walk Free Foundation\n",
    "5. Official government reports and statistics from each country\n",
    "6. Academic Studies\n",
    "7. Published books\n",
    "\n",
    "As we engage with reports on human rights, it is important to understand the **biases** that stem from various sources (Haschke and Arnon (2020))\n",
    "    \n",
    "**b) (3 points) In this assignment, we will be using Walk Free Foundation's [Global Slavery Index (GSI)](https://www.walkfree.org/global-slavery-index/) to cross check ChatGPT's recommendation. Look through the [methodology](https://www.walkfree.org/global-slavery-index/methodology/methodology-content/#vulnerability) and list one potential bias, one limitation of how they are estimating prevalence, and one strength of this dataset.**\n",
    "\n",
    "*(3-4 sentences)*"
   ]
  },
  {
   "cell_type": "markdown",
   "id": "c08d7054",
   "metadata": {},
   "source": [
    "_Type your answer here, replacing this text._"
   ]
  },
  {
   "cell_type": "markdown",
   "id": "e97e2b31",
   "metadata": {
    "deletable": false,
    "editable": false
   },
   "source": [
    "<!-- END QUESTION -->\n",
    "\n",
    "### <p style=\"color:#5F7BA4;\"> Using quantitative data to assess the choice of India\n",
    "\n",
    "Let's double check chatGPT's reasoning for recommending India. We have comprehensive data on 160+ countries though the Walk Free Foundation's 2023 [Global Slavery Index (GSI)](https://www.walkfree.org/global-slavery-index/). This dataset details three of the selection criteria that chatGPT has listed, namely: **the prevalence, vulnerability, and government responses** to trafficking.  You can look through their [website](https://www.walkfree.org/global-slavery-index/) or see this [excel file](2023-GSI-Data-Full.xlsx) for a detailed explanation. In short, the variables that we are looking at are as follows:\n",
    "\n",
    "* `prev_total`: estimated total prevalence of human trafficking\n",
    "* `prev_per_1000`: estimated prevalence of human trafficking for 1000 individuals\n",
    "* `vulnerability`: score for vulnerability to human trafficking. Values range from 0 (low) to 100 (high).\n",
    "* `government_response`: score for government responsiveness to human trafficking. Values range from 0 (low) to 100 (high)."
   ]
  },
  {
   "cell_type": "code",
   "execution_count": null,
   "id": "32748dc0",
   "metadata": {
    "deletable": false,
    "editable": false,
    "scrolled": true
   },
   "outputs": [],
   "source": [
    "# DO NOT CHANGE. peek at data\n",
    "head(df_gsi)"
   ]
  },
  {
   "cell_type": "markdown",
   "id": "a66605fc",
   "metadata": {
    "deletable": false,
    "editable": false
   },
   "source": [
    "**c) (1 point) We start with looking at the prevalence estimates. One way we could go about identifying potential countries to expand its anti-trafficking efforts is looking at where trafficking prevalence is high. What is the estimated number of human trafficking victims in India? Store this estimate in an object called `gpt_prev_total`**\n",
    "\n",
    "1. Filter to where `country` is `chatGPT_target` (which takes on the value of \"India\")\n",
    "2. Select the column that stores the total prevalence, `prev_total`\n"
   ]
  },
  {
   "cell_type": "code",
   "execution_count": null,
   "id": "842cd2a8",
   "metadata": {
    "tags": []
   },
   "outputs": [],
   "source": [
    "# YOUR ANSWER GOES HERE. \n",
    "gpt_total_prev_df <- NULL # YOUR CODE HERE\n",
    "\n",
    "# no action: taking the numerical value from your dataframe\n",
    "gpt_total_prev <- gpt_total_prev_df %>% pull(prev_total)\n",
    "\n",
    "# displaying the total prevalence for Ind\n",
    "gpt_total_prev"
   ]
  },
  {
   "cell_type": "markdown",
   "id": "2f75873c",
   "metadata": {
    "deletable": false,
    "editable": false
   },
   "source": [
    "**d) (3 points) How does GPT's country's trafficking prevalence compare to the rest of the world?**\n",
    "\n",
    "> **(i) (2 points)** Using the entire dataset `df_gsi`, store the min, mean, median, and max of the column `prev_total`, which stores the total estimated prevalence of trafficking, in their respective objects\\\n",
    "> **(ii)(1 point)** Use the `arrange()` function on the `df.gsi_scores` dataframe to sort the dataframe by `prev_total` with the *highest prevalence* first.\n",
    "\n",
    "Example code:\n",
    "\n",
    "(i)\n",
    "\n",
    "        df_gsi %>% summarise(\n",
    "            min_prev = ...(..., na.rm = T),\n",
    "            avg_prev = ...(..., na.rm = T),\n",
    "            med_prev = ...(..., na.rm = T),\n",
    "            max_prev = ...(..., na.rm = T)\n",
    "            )\n",
    "\n",
    "(ii)\n",
    "\n",
    "        df_gsi %>% ...(desc(...))\n",
    "\n"
   ]
  },
  {
   "cell_type": "code",
   "execution_count": null,
   "id": "10665941",
   "metadata": {
    "tags": []
   },
   "outputs": [],
   "source": [
    "# YOUR ANSWER HERE\n",
    "# (i) calculate summary statistics\n",
    "prevalence_summary <- NULL # YOUR CODE HERE\n",
    "\n",
    "# (ii) sort df_gsi in descending order of prevalence\n",
    "total_prevalence_sorted_df <- NULL # YOUR CODE HERE\n",
    "\n",
    "# --------\n",
    "# DISPLAY\n",
    "# --------\n",
    "\n",
    "# print summary of min, mean, median, max\n",
    "prevalence_summary\n",
    "\n",
    "# display sorted data\n",
    "total_prevalence_sorted_df"
   ]
  },
  {
   "cell_type": "markdown",
   "id": "d9e1ee40",
   "metadata": {
    "deletable": false,
    "editable": false
   },
   "source": [
    "#### How does India's Total Prevalence Compare? (*No action needed below, Example Distribution Plot*)\n",
    "The code chunk below plots a histogram of the total prevalance estimates across all countries. The **red line** indicates the prevalence of human trafficking in India. The **blue line** indicates the median prevalence in the 160 countries."
   ]
  },
  {
   "cell_type": "code",
   "execution_count": null,
   "id": "283e54d2",
   "metadata": {
    "deletable": false,
    "editable": false,
    "scrolled": true
   },
   "outputs": [],
   "source": [
    "# DO NOT EDIT\n",
    "# Example code for plotting a histogram\n",
    "total_prevalence_sorted_df %>% ggplot(aes(x = prev_total)) +\n",
    "    \n",
    "    # plots histogram\n",
    "    geom_histogram(bins = 10, alpha = .7) +\n",
    "\n",
    "    # add vertical line for chat GPT's recommended country. \n",
    "    geom_vline(xintercept = gpt_total_prev, col = \"red\")+\n",
    "    geom_vline(xintercept = median(total_prevalence_sorted_df$prev_total, na.rm = T), col = \"blue\")+\n",
    "    \n",
    "    # changes background color, lines, etc. \n",
    "    theme_bw() +\n",
    "\n",
    "    # add labels\n",
    "    labs(x = \"Estimated Total Prevalence\", y = \"Count\")"
   ]
  },
  {
   "cell_type": "markdown",
   "id": "2ce689d3",
   "metadata": {
    "deletable": false,
    "editable": false
   },
   "source": [
    "<!-- BEGIN QUESTION -->\n",
    "\n",
    "**e) (2 points) Does India have a higher absolute prevalence of trafficking relative to other countries? What is a critique of the using absolute value of prevalence to determine which country to expand anti-trafficking efforts?** *(2-3 sentences)*"
   ]
  },
  {
   "cell_type": "markdown",
   "id": "234b2b53",
   "metadata": {},
   "source": [
    "_Type your answer here, replacing this text._"
   ]
  },
  {
   "cell_type": "markdown",
   "id": "5fd0d1bc",
   "metadata": {
    "deletable": false,
    "editable": false
   },
   "source": [
    "<!-- END QUESTION -->\n",
    "\n",
    "**f) (4 points) Now we look at an alternate variable of interest `prev_per_1000` which represents the estimated prevalence of human trafficking per 1000 individuals. Repeat (c) and (d) for this variable. In other words:**\n",
    "\\\n",
    "i) (1 point) Get the prevalence per thousand for India \\\n",
    "ii) (2 points) Store the min, mean, median, and max of `prev_per_1000`in a new dataframe using `summarise()`\\\n",
    "iii) (1 point) Then store a dataframe of the countries sorted by highest to lowest estimated prevalence per thousand in an object named `gsi_sort_by_prev_1000`."
   ]
  },
  {
   "cell_type": "code",
   "execution_count": null,
   "id": "725e61ec",
   "metadata": {
    "tags": []
   },
   "outputs": [],
   "source": [
    "# store estimate for chatGPT's recommended country\n",
    "\n",
    "#  (i) repeat (c): get the prevalence per 1000 for india\n",
    "gpt_prev_1000_df <- NULL # YOUR CODE HERE\n",
    "gpt_prev_1000 <- gpt_prev_1000_df %>% pull(prev_per_1000)\n",
    "\n",
    "# (ii) repeat (d): get the min, mean, median, and max *prevalence per 1000* in the whole dataset\n",
    "prev_per_1000_summary <- NULL # YOUR CODE HERE\n",
    "\n",
    "# (iii) repeat (d): arrange dataframe in descring order by prev_per_1000\n",
    "gsi_sort_by_prev_1000 <- NULL # YOUR CODE HERE\n",
    "\n",
    "# print your results: prevalence per 1000 people summary\n",
    "prev_per_1000_summary\n",
    "\n",
    "# print your results: sorted table to see which countries has highest prevalence per 1000\n",
    "gsi_sort_by_prev_1000"
   ]
  },
  {
   "cell_type": "markdown",
   "id": "91c28b7e",
   "metadata": {},
   "source": [
    "####  How does India's HT Prevalence per 1000 individuals compare? (*No action needed below, Example Distribution Plot*)\n",
    "The code chunk below plots a histogram of the human trafficking prevalance per 1000 estimates across all countries. The **red line** indicates the prevalence of human trafficking in India and the **blue line** indicates the median for the 160 countries in the dataset. "
   ]
  },
  {
   "cell_type": "code",
   "execution_count": null,
   "id": "04d82089",
   "metadata": {},
   "outputs": [],
   "source": [
    "# DO NOT EDIT\n",
    "# Example code for plotting a histogram\n",
    "gsi_sort_by_prev_1000 %>% ggplot(aes(x = prev_per_1000)) +\n",
    "    \n",
    "    # plots histogram\n",
    "    geom_histogram(bins = 10, alpha = 0.5) +\n",
    "\n",
    "    # add vertical line for chat GPT's recommended country. \n",
    "    geom_vline(xintercept = df_gsi[df_gsi$country == chatGPT_target,]$prev_per_1000, col = \"red\")+\n",
    "\n",
    "    # add vertical line for mean prevelence per 1000\n",
    "    geom_vline(xintercept = median(df_gsi$prev_per_1000, na.rm = T), col = \"blue\")+\n",
    "    \n",
    "    # changes background color, lines, etc. \n",
    "    theme_minimal() +\n",
    "\n",
    "    # add labels\n",
    "    labs(x = \"Estimated Total HT Prevalence per 1000\", y = \"Count\")"
   ]
  },
  {
   "cell_type": "markdown",
   "id": "f6b693a6",
   "metadata": {
    "deletable": false,
    "editable": false
   },
   "source": [
    "<!-- BEGIN QUESTION -->\n",
    "\n",
    "**g) (3 points) How does ChatGPT's country compare to the other countries in the dataset when looking at prevalence per 1000 individuals? Looking at countries with higher prevalence per 1000 individuals in the sorted table in q1f, would you be inclined to change the recommendation? Please explain why.** *(3-4 sentences)*\n",
    "\n",
    "*Note: If you are unsure if you would change your recommendation, discuss additional information you need to make your decision.*"
   ]
  },
  {
   "cell_type": "markdown",
   "id": "aa4c7a59",
   "metadata": {},
   "source": [
    "_Type your answer here, replacing this text._"
   ]
  },
  {
   "cell_type": "markdown",
   "id": "63e6081d",
   "metadata": {
    "deletable": false,
    "editable": false
   },
   "source": [
    "<!-- END QUESTION -->\n",
    "\n",
    "### <p style=\"color:#5F7BA4;\"> Finalizing your country recommendation"
   ]
  },
  {
   "cell_type": "markdown",
   "id": "aec7eac8",
   "metadata": {
    "deletable": false,
    "editable": false
   },
   "source": [
    "<!-- BEGIN QUESTION -->\n",
    "\n",
    "**h) (5 points) Prevalence is a potential starting point, however, as mentioned in 1a, other criteria for selection include government commitment and vulnerability of the country to trafficking. Walk Free Foundation also identifies (1) vulnerability and (2) government action as important dimensions of analyses when evaluating the trafficking situation. See their [documentation](2023-GSI-Data-Full.xlsx) for more details on these measures.**\n",
    "\n",
    "> (i) The five vulnerability measures noted by Walk Free are: Governance Issues, Lack of Basic Needs, Inequality, Disenfranchised Groups, Effects of Conflict. Would a high score in **governance issues** make you more or less inclined to recommend that country for USAID counter-trafficking investment? Please explain why. *(4-5 sentences)*\n",
    "\n",
    "> (ii) The five governance milestones noted are survivor support, criminal justice, coordination, risk factors, sourcing reform. Which of the government responses do you think USAID is better positioned to assist? Please explain why. *(4-5 sentences)*"
   ]
  },
  {
   "cell_type": "markdown",
   "id": "7e21433a",
   "metadata": {},
   "source": [
    "_Type your answer here, replacing this text._"
   ]
  },
  {
   "cell_type": "markdown",
   "id": "a09a4dee",
   "metadata": {
    "deletable": false,
    "editable": false
   },
   "source": [
    "<!-- END QUESTION -->\n",
    "\n",
    "#### The tables below show the countries that have been scored to be the most vulnerable and with the least government response (No action needed, just run the cells to see the tables). \n",
    "\n",
    "**The 25 Countries with the Highest Vulnerability Scores (100 = highest or most vulnerable)** \\\n",
    "The code chunk below displays the data sorted by most vulnerable countries. To see how these scores are calculated, please see the [excel file](2023-GSI-Data-Full.xlsx). "
   ]
  },
  {
   "cell_type": "code",
   "execution_count": null,
   "id": "4e05c15d",
   "metadata": {},
   "outputs": [],
   "source": [
    "# NO ACTION: RUN THIS CELL\n",
    "# Sort DF by vulnerability (highest to lowest)\n",
    "df_gsi_vulnerability <- df_gsi_full %>% \n",
    "                        # select relevant columns\n",
    "                        select(country, region, vulnerability,\n",
    "                        governance_issues:effect_conflict,\n",
    "                        prev_total, prev_per_1000,) %>%\n",
    "                        # sort in descending order\n",
    "                        arrange(desc(vulnerability)) \n",
    "\n",
    "# display\n",
    "df_gsi_vulnerability %>% head(25)"
   ]
  },
  {
   "cell_type": "markdown",
   "id": "c49ffd17",
   "metadata": {},
   "source": [
    "#### The 25 Countries with the Lowest Government Response Scores (lower scores = less responsive)\n",
    "The code chunk below displays the data sorted by level of government response. Lower scores indicate less action. To see how these scores are calculated, please see the [excel file](2023-GSI-Data-Full.xlsx). "
   ]
  },
  {
   "cell_type": "code",
   "execution_count": null,
   "id": "4d9174e2",
   "metadata": {
    "scrolled": true
   },
   "outputs": [],
   "source": [
    "#  NO ACTION: RUN THIS CELL\n",
    "# Sort DF by government response (highest to lowest)\n",
    "df_gsi_govt <- df_gsi_full %>% \n",
    "                # select relevant columns\n",
    "                select(country, region, government_response, survivor_support:sourcing_reform,\n",
    "                         prev_total, prev_per_1000) %>% \n",
    "                # sort in ascending order\n",
    "                arrange(government_response)\n",
    "\n",
    "# display first 25 rows\n",
    "df_gsi_govt %>% head(25)"
   ]
  },
  {
   "cell_type": "markdown",
   "id": "9844f379",
   "metadata": {
    "deletable": false,
    "editable": false
   },
   "source": [
    "<!-- BEGIN QUESTION -->\n",
    "\n",
    "**i) (8 points) Given this information and any course materials, please make your own recommendation on one country USAID should expand counter-trafficking activities in. There is no single \"best\" country, so select the country you think is well suited for USAID investment. You can feel free to dig through the dataset yourself. Please justify your answer and cite any sources you use.** \n",
    "\n",
    "*Please do not use ChatGPT for sources. ChatGPT is known for making up ghost citations.*\n",
    "\n",
    "Max length: 300 words"
   ]
  },
  {
   "cell_type": "markdown",
   "id": "2557ef50",
   "metadata": {},
   "source": [
    "_Type your answer here, replacing this text._"
   ]
  },
  {
   "cell_type": "code",
   "execution_count": null,
   "id": "cdc13959-7d3e-4a0c-937a-869b6807c7b8",
   "metadata": {
    "tags": []
   },
   "outputs": [],
   "source": [
    "# OPTIONAL: use this cell to explore the data. You can use the dataframes: `df_gsi_govt` or `df_gsi_vulnerabiltiy`\n",
    "\n",
    "# look at first five rows of the data, you can see all their column names, what are you interested in?\n",
    "head(df_gsi_govt)\n",
    "head(df_gsi_vulnerability)"
   ]
  },
  {
   "cell_type": "code",
   "execution_count": null,
   "id": "ed9f698d",
   "metadata": {
    "tags": []
   },
   "outputs": [],
   "source": [
    "## example code: uncomment the lines you want to run, edit the code, or write your own code!\n",
    "\n",
    "## --------------------------------------------------------\n",
    "## looking at a certain country, you can change the country name\n",
    "## --------------------------------------------------------\n",
    "#  df_gsi_govt %>% filter(country == \"India\")\n",
    "#  df_gsi_vulnerability %>% filter(country == \"India\")\n",
    "\n",
    "## ---------------------------- ----------------------------\n",
    "# sorting by a certain column, you can change the column name\n",
    "## ---------------------------- ----------------------------\n",
    "# df_gsi_vulnerability %>% arrange(desc(effect_conflict)) # highest to lowest\n",
    "# df_gsi_govt %>% arrange(effect_conflict) # lowest to highest\n",
    "\n",
    "## ---------------------------- ----------------------------\n",
    "# get the means of each column\n",
    "## ---------------------------- ----------------------------\n",
    "# df_gsi_vulnerability %>% \n",
    "#        summarise_if(is.numeric, mean, na.rm = T)\n",
    "\n",
    "# df_gsi_govt %>% \n",
    "#        summarise_if(is.numeric, mean, na.rm = T)\n",
    "\n",
    "## --------------------------------------------\n",
    "# get the means for each column for each region\n",
    "## --------------------------------------------\n",
    "# df_gsi_vulnerability %>% \n",
    "#        group_by(region) %>% \n",
    "#        summarise_if(is.numeric, mean, na.rm = T) \n",
    "\n",
    "# df_gsi_govt %>% \n",
    "#        group_by(region) %>% \n",
    "#        summarise_if(is.numeric, mean, na.rm = T)\n"
   ]
  },
  {
   "cell_type": "markdown",
   "id": "0c88786f",
   "metadata": {
    "deletable": false,
    "editable": false
   },
   "source": [
    "<!-- END QUESTION -->\n",
    "\n",
    "# Submitting Your Notebook (please read carefully!)\n",
    "\n",
    "To submit your notebook...\n",
    "\n",
    "### 1. Click `File` $\\rightarrow$ `Save Notebook`.\n",
    "\n",
    "### 2. Wait 5 seconds.\n",
    "\n",
    "### 3. Select the cell below and hit run.tion:**"
   ]
  },
  {
   "cell_type": "code",
   "execution_count": null,
   "id": "bd0aebd0",
   "metadata": {},
   "outputs": [],
   "source": [
    "ottr::export(\"pset4.ipynb\")"
   ]
  },
  {
   "cell_type": "markdown",
   "id": "8be06198",
   "metadata": {},
   "source": [
    "After you hit \"Run\" on the cell above, click the download link. A .zip file should download to your computer.\n",
    "\n",
    "(If you make changes to your notebook, you'll need to hit save and then run the cell above again before you submit to get a new version of it.)\n",
    "\n",
    "### 4. Submit the .zip file you just downloaded <a href=\"https://www.gradescope.com/\" target=\"_blank\">on Gradescope here</a>.\n",
    "\n",
    "Notes:\n",
    "\n",
    "- **This does not seem to work on Chrome for iPad or iPhone.** If you're using an iPad or iPhone, you need to download the file using **Safari**.\n",
    "- If your web browser automatically unzips the .zip file (so you see a folder instead of a .zip file), you can just upload the .ipynb file that is inside the folder.\n",
    "- If this method is not working for you, try this: hit `File`, then `Download as`, then `Notebook (.ipynb)` and submit that."
   ]
  }
 ],
 "metadata": {
  "kernelspec": {
   "display_name": "R",
   "language": "R",
   "name": "ir"
  },
  "language_info": {
   "codemirror_mode": "r",
   "file_extension": ".r",
   "mimetype": "text/x-r-source",
   "name": "R",
   "pygments_lexer": "r",
   "version": "4.3.2"
  }
 },
 "nbformat": 4,
 "nbformat_minor": 5
}
