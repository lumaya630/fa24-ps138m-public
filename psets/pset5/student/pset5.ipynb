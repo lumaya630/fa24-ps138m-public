{
 "cells": [
  {
   "cell_type": "markdown",
   "id": "59a5b9ff",
   "metadata": {},
   "source": [
    "# Assignment 5: Does Legalized Prostitution Increase Human Trafficking?"
   ]
  },
  {
   "cell_type": "markdown",
   "id": "ee7e7238",
   "metadata": {},
   "source": [
    "### Substantive Objectives\n",
    "In this assignment, we will first review regression mechanics. Then we will be replicating a [study](https://www.sciencedirect.com/science/article/pii/S0305750X12001453)\n",
    "conducted by Cho, Dreher, and Neumayer in 2012 that investigates the relationship between legalized prostitution and human trafficking. The goal is for you to be able to run the same regression as the authors and have your own critical interpretation of the output. \n",
    "\n",
    "### Coding Objectives\n",
    "1) Running regressions using `lm()`"
   ]
  },
  {
   "cell_type": "markdown",
   "id": "03e5e9f3",
   "metadata": {},
   "source": [
    "## Setup\n",
    "The code chunk below loads the packages that we need. "
   ]
  },
  {
   "cell_type": "code",
   "execution_count": null,
   "id": "bbf2492c",
   "metadata": {
    "scrolled": false
   },
   "outputs": [],
   "source": [
    "# You *must* run this cell first. Do not change the contents of this cell.\n",
    "library(testthat)\n",
    "library(ottr)\n",
    "library(tidyverse) %>% suppressMessages()"
   ]
  },
  {
   "cell_type": "markdown",
   "id": "9c7db652",
   "metadata": {},
   "source": [
    "The code chunk below loads the datasets that we will be using. These datasets are drawn from Walk Free Foundation's Global Slavery Index. This is one example of how an organization attempts to standardize global estimates of trafficking prevalence, vulnerability, and government responses."
   ]
  },
  {
   "cell_type": "code",
   "execution_count": null,
   "id": "120a5e01",
   "metadata": {},
   "outputs": [],
   "source": [
    "cho_df <- read.csv(\"cho_rep.csv\")"
   ]
  },
  {
   "cell_type": "markdown",
   "id": "e7aabade",
   "metadata": {},
   "source": [
    "# Question 1: Regression Mechanics"
   ]
  },
  {
   "cell_type": "markdown",
   "id": "a0382e3b",
   "metadata": {
    "deletable": false,
    "editable": false
   },
   "source": [
    "For the questions below, place the correct letter in the corresponding letter. \n",
    "\n",
    "### <p style=\"color:#5F7BA4;\">  Independent and Dependent Variables\n",
    "**i) A researcher runs on a study on the relationship between temperature and ice cream melting. Hypothesizing that warmer temperature leads to a faster rate of melting. What is the independent variable?**\n",
    "\n",
    "> A. Temperature\\\n",
    "B. Rate ice cream melts\n",
    "\n",
    "**ii) A researcher runs a study on gender and human trafficking vulnerability, hypothesizing that females will have higher rates of trafficking reports. What is the dependent variable?**\n",
    "\n",
    "> A. Sex\\\n",
    "B. Rate of trafficking reports\n",
    "\n",
    "**iii) What are common names to refer to the independent variable?**\n",
    "    \n",
    "> A. explanatory variable\\\n",
    "B. x\\\n",
    "C. y\\\n",
    "D. regressors\\\n",
    "E. a, c, d\\\n",
    "F. a, b, d\n",
    "    \n",
    "**iv) What are common names to refer to the dependent variables?**\n",
    "\n",
    "> A. Outcome variable\\\n",
    "B. x\\\n",
    "C. y\\\n",
    "D. a, c\\\n",
    "E. a, b\n",
    "    "
   ]
  },
  {
   "cell_type": "code",
   "execution_count": null,
   "id": "f3596134",
   "metadata": {
    "tags": []
   },
   "outputs": [],
   "source": [
    "# YOUR SOLUTION GOES HERE\n",
    "# Please write the answer in capital letters (E.g. i <- \"A\")\n",
    "i <- NULL # YOUR CODE HERE\n",
    "ii <- NULL # YOUR CODE HERE\n",
    "iii <- NULL # YOUR CODE HERE\n",
    "iv <- NULL # YOUR CODE HERE"
   ]
  },
  {
   "cell_type": "code",
   "execution_count": null,
   "id": "0096212f",
   "metadata": {
    "deletable": false,
    "editable": false
   },
   "outputs": [],
   "source": [
    ". = ottr::check(\"tests/q1a.R\")"
   ]
  },
  {
   "cell_type": "markdown",
   "id": "0a6b2670",
   "metadata": {
    "deletable": false,
    "editable": false
   },
   "source": [
    "### <p style=\"color:#5F7BA4;\">  Control Variables\n",
    "\n",
    "Control variables are added if (1) there is reason to believe they have explanatory power for the variation in the dependent variable or (2) they are a confounding variable that may bias our estimate. \n",
    "\n",
    "**b) Indicate T or F for the following statements.** \n",
    "    \n",
    "> i) (T/F) For the ommission of a variable to bias a result, it must be correlated with **both** the independent and dependent variable.\n",
    "    \n",
    "> ii) (T/F) The researcher gathers data on whether each observation in their study contains the \"anti-melting potion\", and includes it as a control variable in the regression. **The anti-melting potion is not correlated with the temperature.** After adding this variable in as a control variable, the original estimated relationship between temperature and speed of melting will change.\n",
    "    \n",
    "> iii) (T/F) The researcher adds this control variable in for reason (1) above.\n",
    "    \n",
    "> iv) (T/F) Even when we have not controlled for all confounding variables, we can identify a causal effect of X on Y (e.g. a 1 degree increase in Farenheit leads to a 5 second increase in the speed one scoop of ice cream melts).\n",
    "    \n",
    "> v) (T/F) When we have not controlled for all confounding variables, we can still make associational claims (e.g. 1 degree increase in Farenheit is associated with a 5 second increase in the speed one scoop of ice cream melts).\n",
    "    \n"
   ]
  },
  {
   "cell_type": "code",
   "execution_count": null,
   "id": "cfe107d6",
   "metadata": {
    "tags": []
   },
   "outputs": [],
   "source": [
    "# YOUR SOLUTION HERE (e.g. i <- \"T\")\n",
    "# Make sure it is in uppercase, this is case sensitive\n",
    "i <- NULL # YOUR CODE HERE\n",
    "ii <- NULL # YOUR CODE HERE\n",
    "iii <- NULL # YOUR CODE HERE\n",
    "iv <- NULL # YOUR CODE HERE\n",
    "v <- NULL # YOUR CODE HERE"
   ]
  },
  {
   "cell_type": "code",
   "execution_count": null,
   "id": "1f5d410c",
   "metadata": {
    "deletable": false,
    "editable": false
   },
   "outputs": [],
   "source": [
    ". = ottr::check(\"tests/q1b.R\")"
   ]
  },
  {
   "cell_type": "markdown",
   "id": "6c9e4baa",
   "metadata": {
    "deletable": false,
    "editable": false
   },
   "source": [
    "<!-- BEGIN QUESTION -->\n",
    "\n",
    "### <p style=\"color:#5F7BA4;\">  Estimates: Alpha, Beta\n",
    "\n",
    "**c) Interpret the following regression equation in words. In your answer, make sure to explicitly explain the what $\\alpha$ and $\\beta_1$ represent.**\n",
    "    \n",
    "   $$minMelt_i = \\alpha + \\beta_1 Temperature_i + \\varepsilon_i$$"
   ]
  },
  {
   "cell_type": "markdown",
   "id": "742fa968",
   "metadata": {},
   "source": [
    "_Type your answer here, replacing this text._"
   ]
  },
  {
   "cell_type": "markdown",
   "id": "562094c5",
   "metadata": {
    "deletable": false,
    "editable": false
   },
   "source": [
    "<!-- END QUESTION -->\n",
    "\n",
    "### <p style=\"color:#5F7BA4;\">  Statistical Significant: the P-Value\n",
    "\n",
    "**d) The researcher runs the regression and they get that $\\beta_1$ has a magnitude of 0.1 with a p-value of 0.01. Are the following statements T or F?**\n",
    "\n",
    "> i. (T/F) The conventional standard for statistical significance is 0.05. \n",
    "\n",
    "> ii. (T/F) A precise way to interpret the p-value above is that there is a 1% chance that the observed association ($\\beta_1$) is correct. \n",
    "    \n",
    "> iii. (T/F) A precise way to interpret the p-value above is that there is a 1% chance that the observed association ($\\beta_1$) was due to random chance. \n",
    "    \n",
    "> iv. (T/F) Lower p-values indicate an increased likelihood that an observed association is actually due to random chance (i.e. is not statistically significant). \n",
    "    \n",
    "> v. (T/F) The observed association above ($\\beta_1$) is statisically significant at the conventional level of 0.05. \n",
    "   "
   ]
  },
  {
   "cell_type": "code",
   "execution_count": null,
   "id": "76b0cd1b",
   "metadata": {
    "tags": []
   },
   "outputs": [],
   "source": [
    "# YOUR SOLUTION HERE (e.g. i <- \"T\" or i <- \"F\")\n",
    "\n",
    "i <- NULL # YOUR CODE HERE\n",
    "ii <- NULL # YOUR CODE HERE\n",
    "iii <- NULL # YOUR CODE HERE\n",
    "iv <- NULL # YOUR CODE HERE\n",
    "v <- NULL # YOUR CODE HERE"
   ]
  },
  {
   "cell_type": "code",
   "execution_count": null,
   "id": "b59fa82a",
   "metadata": {
    "deletable": false,
    "editable": false
   },
   "outputs": [],
   "source": [
    ". = ottr::check(\"tests/q1d.R\")"
   ]
  },
  {
   "cell_type": "markdown",
   "id": "90a638ad",
   "metadata": {
    "deletable": false,
    "editable": false
   },
   "source": [
    "<!-- BEGIN QUESTION -->\n",
    "\n",
    "**e) Explain statistical significance and the p-value in your own words.**"
   ]
  },
  {
   "cell_type": "markdown",
   "id": "4d34e204",
   "metadata": {},
   "source": [
    "_Type your answer here, replacing this text._"
   ]
  },
  {
   "cell_type": "markdown",
   "id": "2c782b3c",
   "metadata": {
    "deletable": false,
    "editable": false
   },
   "source": [
    "<!-- END QUESTION -->\n",
    "\n",
    "## Question 2: Understanding the Study"
   ]
  },
  {
   "cell_type": "markdown",
   "id": "29f182ac",
   "metadata": {
    "deletable": false,
    "editable": false
   },
   "source": [
    "<!-- BEGIN QUESTION -->\n",
    "\n",
    "Now we have our basic ingredients for understanding the methods the authors use in this study. Let's apply the regression concepts in understanding a prominent question in the field, does legalizing prostitution increase human trafficking?\n",
    "\n",
    "#### a) In the abstract, the authors mention two effects of legalizing prostitution on human trafficking: 1) the scale effect and 2) the substitution effect. What are these two effects?"
   ]
  },
  {
   "cell_type": "markdown",
   "id": "d18d4706",
   "metadata": {},
   "source": [
    "_Type your answer here, replacing this text._"
   ]
  },
  {
   "cell_type": "markdown",
   "id": "c99c7066",
   "metadata": {
    "deletable": false,
    "editable": false
   },
   "source": [
    "<!-- END QUESTION -->\n",
    "\n",
    "#### b) For the questions below, put the corresponding letter of the correct answer in the respective roman numeral question. \n",
    "i) What is the independent variable?\n",
    "\n",
    "> A) human trafficking\\\n",
    "B) legalized prostitution\n",
    "    \n",
    "ii) What is the dependent variable?\n",
    "\n",
    "> A) human trafficking\\\n",
    "B) legalized prostitution\n",
    "   "
   ]
  },
  {
   "cell_type": "code",
   "execution_count": null,
   "id": "aae4f446",
   "metadata": {
    "tags": []
   },
   "outputs": [],
   "source": [
    "# YOUR ANSWER GOES HERE  (e.g. i <- \"A\" or i <- \"B\")\n",
    "i <- NULL # YOUR CODE HERE\n",
    "ii <- NULL # YOUR CODE HERE"
   ]
  },
  {
   "cell_type": "code",
   "execution_count": null,
   "id": "5d272d57",
   "metadata": {
    "deletable": false,
    "editable": false
   },
   "outputs": [],
   "source": [
    ". = ottr::check(\"tests/q2b.R\")"
   ]
  },
  {
   "cell_type": "markdown",
   "id": "a097af98",
   "metadata": {
    "deletable": false,
    "editable": false
   },
   "source": [
    "<!-- BEGIN QUESTION -->\n",
    "\n",
    "#### c) How do the authors measure levels of human trafficking? What do they cite as the limitations of their measurement, and how this variable should be interpreted?"
   ]
  },
  {
   "cell_type": "markdown",
   "id": "b5871a52",
   "metadata": {},
   "source": [
    "_Type your answer here, replacing this text._"
   ]
  },
  {
   "cell_type": "markdown",
   "id": "d65e00fd",
   "metadata": {
    "deletable": false,
    "editable": false
   },
   "source": [
    "<!-- END QUESTION -->\n",
    "\n",
    "<!-- BEGIN QUESTION -->\n",
    "\n",
    "#### d) Which control variables are included as the known predictors of human trafficking? Which control variables are included to reduce the possibilities of bias from confounding variables?"
   ]
  },
  {
   "cell_type": "markdown",
   "id": "d50116d1",
   "metadata": {},
   "source": [
    "_Type your answer here, replacing this text._"
   ]
  },
  {
   "cell_type": "code",
   "execution_count": null,
   "id": "2a5b3618",
   "metadata": {
    "deletable": false,
    "editable": false
   },
   "outputs": [],
   "source": [
    ". = ottr::check(\"tests/q1d.R\")"
   ]
  },
  {
   "cell_type": "markdown",
   "id": "12fef931",
   "metadata": {
    "deletable": false,
    "editable": false
   },
   "source": [
    "<!-- END QUESTION -->\n",
    "\n",
    "<!-- BEGIN QUESTION -->\n",
    "\n",
    "**d) What do the authors conclude?**\n",
    "\n",
    "A. Countries with legalized prostitution experienced higher levels of human trafficking inflows. \\\n",
    "B.  Legalizing prostitution increases levels of human trafficking inflows. \\\n",
    "C. Countries with legalized prostitution experienced lower levels of human trafficking inflows. \\\n",
    "D. Legalizing prostitution decreases levels of human trafficking inflows. "
   ]
  },
  {
   "cell_type": "code",
   "execution_count": null,
   "id": "381c9f1d",
   "metadata": {
    "tags": []
   },
   "outputs": [],
   "source": [
    "d <- NULL # YOUR CODE HERE"
   ]
  },
  {
   "cell_type": "code",
   "execution_count": null,
   "id": "5391a75f",
   "metadata": {
    "deletable": false,
    "editable": false
   },
   "outputs": [],
   "source": [
    ". = ottr::check(\"tests/q2d.R\")"
   ]
  },
  {
   "cell_type": "markdown",
   "id": "a77e518f",
   "metadata": {
    "deletable": false,
    "editable": false
   },
   "source": [
    "<!-- END QUESTION -->\n",
    "\n",
    "## Question 3 Replicating the Regression"
   ]
  },
  {
   "cell_type": "markdown",
   "id": "23472d44",
   "metadata": {},
   "source": [
    "The dataset used by Cho covers 161 countries from 1996-2003. The main variables are:\n",
    "* `htflowsunodc`: measures human trafficking flows\n",
    "* `prostitutionlaw`: indicates if prostitution is legal (0 = not legal, 1 = legal)\n",
    "* `prostitutionbrothel`: indicates if prostitution is legal (0 = not legal, 1 = legal)"
   ]
  },
  {
   "cell_type": "code",
   "execution_count": null,
   "id": "c43a0398",
   "metadata": {},
   "outputs": [],
   "source": [
    "# NO ACTION NEEDED. Subsetting to tenth imputation and filtering out the low income countries\n",
    "cho_q3 <- cho_df %>% filter(X_mi_m == 10, inc_low == 0)"
   ]
  },
  {
   "cell_type": "markdown",
   "id": "58929686",
   "metadata": {
    "deletable": false,
    "editable": false
   },
   "source": [
    "a) Their equation is as follows:\n",
    "\n",
    "$$y_i = \\alpha + \\beta_1 Prostitution + \\beta_2'X_i + \\beta_3 Region_i + s_i$$\n",
    "\n",
    "To run the regression, use the `lm()` function and the following specifications...\n",
    "* data: `cho_q3`\n",
    "* IV:`prostitutionlaw`\n",
    "* DV:`htflowsunodc`\n",
    "* Controls: `prostitutionbrothel`, `ruleWB_m`, `pop_ln`, `gdp_pc_const_ppp_ln`,\n",
    "          `democracy`, `stockmigrants1990_ln`, `catholic2`, `reg_east_asia`, \n",
    "          `reg_west_europe`, `reg_latam`, `reg_mideast`, `reg_sasia`, `reg_ssa`, \n",
    "\n",
    "\n",
    "Note: your numbers won't exactly match the numbers in the table, but it should be relatively similar. To replicate exactly their steps is a bit more complicated since the authors also use data imputations. For the purposes of this assignment, we are keeping it simple.  "
   ]
  },
  {
   "cell_type": "code",
   "execution_count": null,
   "id": "850d7cfa",
   "metadata": {
    "scrolled": true,
    "tags": []
   },
   "outputs": [],
   "source": [
    "# YOUR ANSWER HERE\n",
    "mod1 <- NULL # YOUR CODE HERE\n",
    "\n",
    "mod1 %>% summary()"
   ]
  },
  {
   "cell_type": "code",
   "execution_count": null,
   "id": "74f6e26a",
   "metadata": {
    "deletable": false,
    "editable": false
   },
   "outputs": [],
   "source": [
    ". = ottr::check(\"tests/q3a.R\")"
   ]
  },
  {
   "cell_type": "markdown",
   "id": "a9dd84b8",
   "metadata": {
    "deletable": false,
    "editable": false
   },
   "source": [
    "<!-- BEGIN QUESTION -->\n",
    "\n",
    "**b) Interpret the the coefficient and p-value for `prostitutionlaw`**"
   ]
  },
  {
   "cell_type": "markdown",
   "id": "5db21a3b",
   "metadata": {},
   "source": [
    "_Type your answer here, replacing this text._"
   ]
  },
  {
   "cell_type": "markdown",
   "id": "04c5a535",
   "metadata": {
    "deletable": false,
    "editable": false
   },
   "source": [
    "<!-- END QUESTION -->\n",
    "\n",
    "<!-- BEGIN QUESTION -->\n",
    "\n",
    "**c) What might be an alternative explanation for this observed association? Name at least one. How much do you trust the author's conclusions?**"
   ]
  },
  {
   "cell_type": "markdown",
   "id": "ac3280fa",
   "metadata": {},
   "source": [
    "_Type your answer here, replacing this text._"
   ]
  },
  {
   "cell_type": "markdown",
   "id": "91493c60",
   "metadata": {
    "deletable": false,
    "editable": false
   },
   "source": [
    "<!-- END QUESTION -->\n",
    "\n",
    "<!-- BEGIN QUESTION -->\n",
    "\n",
    "**d) How would you interpret the statement \"correlation is not causation\" in this context?**"
   ]
  },
  {
   "cell_type": "markdown",
   "id": "20c0af9e",
   "metadata": {},
   "source": [
    "_Type your answer here, replacing this text._"
   ]
  },
  {
   "cell_type": "markdown",
   "id": "6c3fd0d7",
   "metadata": {
    "deletable": false,
    "editable": false
   },
   "source": [
    "<!-- END QUESTION -->\n",
    "\n",
    "# Submitting Your Notebook (please read carefully!)\n",
    "\n",
    "To submit your notebook...\n",
    "\n",
    "### 1. Click `File` $\\rightarrow$ `Save Notebook`.\n",
    "\n",
    "### 2. Wait 5 seconds.\n",
    "\n",
    "### 3. Select the cell below and hit run.tion:**"
   ]
  },
  {
   "cell_type": "code",
   "execution_count": null,
   "id": "476c63cc",
   "metadata": {},
   "outputs": [],
   "source": [
    "ottr::export(\"pset5.ipynb\")"
   ]
  },
  {
   "cell_type": "markdown",
   "id": "9855a82f",
   "metadata": {},
   "source": [
    "After you hit \"Run\" on the cell above, click the download link. A .zip file should download to your computer.\n",
    "\n",
    "(If you make changes to your notebook, you'll need to hit save and then run the cell above again before you submit to get a new version of it.)\n",
    "\n",
    "### 4. Submit the .zip file you just downloaded <a href=\"https://www.gradescope.com/\" target=\"_blank\">on Gradescope here</a>.\n",
    "\n",
    "Notes:\n",
    "\n",
    "- **This does not seem to work on Chrome for iPad or iPhone.** If you're using an iPad or iPhone, you need to download the file using **Safari**.\n",
    "- If your web browser automatically unzips the .zip file (so you see a folder instead of a .zip file), you can just upload the .ipynb file that is inside the folder.\n",
    "- If this method is not working for you, try this: hit `File`, then `Download as`, then `Notebook (.ipynb)` and submit that."
   ]
  }
 ],
 "metadata": {
  "kernelspec": {
   "display_name": "R",
   "language": "R",
   "name": "ir"
  },
  "language_info": {
   "codemirror_mode": "r",
   "file_extension": ".r",
   "mimetype": "text/x-r-source",
   "name": "R",
   "pygments_lexer": "r",
   "version": "4.3.2"
  }
 },
 "nbformat": 4,
 "nbformat_minor": 5
}
