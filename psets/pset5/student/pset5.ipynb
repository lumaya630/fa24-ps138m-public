{
 "cells": [
  {
   "cell_type": "markdown",
   "id": "59a5b9ff",
   "metadata": {},
   "source": [
    "# Assignment 5: Does Legalized Prostitution Increase Human Trafficking?"
   ]
  },
  {
   "cell_type": "markdown",
   "id": "ee7e7238",
   "metadata": {},
   "source": [
    "### Substantive Objectives\n",
    "In this assignment, we will first review regression mechanics. Then we will be replicating a [study](https://www.sciencedirect.com/science/article/pii/S0305750X12001453)\n",
    "conducted by Cho, Dreher, and Neumayer in 2012 that investigates the relationship between legalized prostitution and human trafficking. The goal is for you to be able to run a simplified version of their regression and have your own critical interpretation of the output. \n",
    "\n",
    "### Coding Objectives\n",
    "1) Running regressions using `lm()`"
   ]
  },
  {
   "cell_type": "markdown",
   "id": "03e5e9f3",
   "metadata": {},
   "source": [
    "## Setup\n",
    "The code chunk below loads the packages that we need. "
   ]
  },
  {
   "cell_type": "code",
   "execution_count": null,
   "id": "bbf2492c",
   "metadata": {
    "scrolled": false
   },
   "outputs": [],
   "source": [
    "# You *must* run this cell first. Do not change the contents of this cell.\n",
    "library(testthat)\n",
    "library(ottr)\n",
    "library(kableExtra)%>% suppressMessages()\n",
    "library(IRdisplay)\n",
    "library(tidyverse) %>% suppressMessages()"
   ]
  },
  {
   "cell_type": "markdown",
   "id": "9c7db652",
   "metadata": {},
   "source": [
    "The code chunk below loads the dataset we will be using. "
   ]
  },
  {
   "cell_type": "code",
   "execution_count": null,
   "id": "120a5e01",
   "metadata": {},
   "outputs": [],
   "source": [
    "cho_df <- read.csv(\"cho_rep.csv\")"
   ]
  },
  {
   "cell_type": "markdown",
   "id": "e7aabade",
   "metadata": {},
   "source": [
    "# Question 1: Regression Mechanics"
   ]
  },
  {
   "cell_type": "markdown",
   "id": "a0382e3b",
   "metadata": {
    "deletable": false,
    "editable": false
   },
   "source": [
    "For the questions below, place the correct letter in the corresponding letter. \n",
    "\n",
    "### <p style=\"color:#5F7BA4;\">  Independent and Dependent Variables\n",
    "**i) A researcher runs on a study on the relationship between temperature and ice cream melting, hypothesizing that warmer temperature leads to a faster rate of melting. What is the independent variable?**\n",
    "\n",
    "> A. Temperature\\\n",
    "B. Rate ice cream melts\n",
    "\n",
    "**ii) A researcher runs a study on gender and human trafficking vulnerability, hypothesizing that females will have higher rates of trafficking reports. What is the dependent variable?**\n",
    "\n",
    "> A. Sex\\\n",
    "B. Rate of trafficking reports\n",
    "\n",
    "**iii) What are common names to refer to the independent variable?**\n",
    "    \n",
    "> A. explanatory variable\\\n",
    "B. x\\\n",
    "C. y\\\n",
    "D. regressors\\\n",
    "E. a, c, d\\\n",
    "F. a, b, d\n",
    "    \n",
    "**iv) What are common names to refer to the dependent variables?**\n",
    "\n",
    "> A. Outcome variable\\\n",
    "B. x\\\n",
    "C. y\\\n",
    "D. a, c\\\n",
    "E. a, b\n",
    "    "
   ]
  },
  {
   "cell_type": "code",
   "execution_count": null,
   "id": "f3596134",
   "metadata": {
    "tags": []
   },
   "outputs": [],
   "source": [
    "# YOUR SOLUTION GOES HERE\n",
    "# Please write the answer in capital letters (E.g. i <- \"A\")\n",
    "i <- NULL # YOUR CODE HERE\n",
    "ii <- NULL # YOUR CODE HERE\n",
    "iii <- NULL # YOUR CODE HERE\n",
    "iv <- NULL # YOUR CODE HERE"
   ]
  },
  {
   "cell_type": "code",
   "execution_count": null,
   "id": "dc24d197",
   "metadata": {
    "deletable": false,
    "editable": false
   },
   "outputs": [],
   "source": [
    ". = ottr::check(\"tests/q1a.R\")"
   ]
  },
  {
   "cell_type": "markdown",
   "id": "6c9e4baa",
   "metadata": {
    "deletable": false,
    "editable": false
   },
   "source": [
    "<!-- BEGIN QUESTION -->\n",
    "\n",
    "### <p style=\"color:#5F7BA4;\">  Estimates: $\\alpha$, $\\beta_1$\n",
    "\n",
    "**b) The following is an equation for investigating the association between gender and reports of human trafficking. Interpret the following equation in words. In your answer, make sure to explicitly explain the what $\\alpha$ and $\\beta_1$ represent.**\n",
    "    \n",
    "   $$ReportedTrafficking_i = \\alpha + \\beta_1 Female_i + \\varepsilon_i$$"
   ]
  },
  {
   "cell_type": "markdown",
   "id": "21065b5a",
   "metadata": {},
   "source": [
    "_Type your answer here, replacing this text._"
   ]
  },
  {
   "cell_type": "markdown",
   "id": "562094c5",
   "metadata": {
    "deletable": false,
    "editable": false
   },
   "source": [
    "<!-- END QUESTION -->\n",
    "\n",
    "<!-- BEGIN QUESTION -->\n",
    "\n",
    "**c) We run the regression on trafficking reports recorded in the CTDC. We find $\\alpha = 0.26$ and $\\beta_1 = 0.48$. What is the association between being female and reports of human trafficking?**   "
   ]
  },
  {
   "cell_type": "markdown",
   "id": "54120f1c",
   "metadata": {},
   "source": [
    "_Type your answer here, replacing this text._"
   ]
  },
  {
   "cell_type": "markdown",
   "id": "2c782b3c",
   "metadata": {
    "deletable": false,
    "editable": false
   },
   "source": [
    "<!-- END QUESTION -->\n",
    "\n",
    "## Question 2: Understanding the Study"
   ]
  },
  {
   "cell_type": "markdown",
   "id": "29f182ac",
   "metadata": {
    "deletable": false,
    "editable": false
   },
   "source": [
    "<!-- BEGIN QUESTION -->\n",
    "\n",
    "Now we have our basic ingredients for understanding the methods the authors use in this study. Let's apply the regression concepts in understanding a prominent question in the field, does legalizing prostitution increase human trafficking?\n",
    "\n",
    "**a) The authors develop their theory from two effects of legalizing prostitution on human trafficking: 1) the scale effect and 2) the substitution effect. What are these two effects?**"
   ]
  },
  {
   "cell_type": "markdown",
   "id": "82a718bf",
   "metadata": {},
   "source": [
    "_Type your answer here, replacing this text._"
   ]
  },
  {
   "cell_type": "markdown",
   "id": "c99c7066",
   "metadata": {
    "deletable": false,
    "editable": false
   },
   "source": [
    "<!-- END QUESTION -->\n",
    "\n",
    "**b) For the questions below, put the corresponding letter of the correct answer in the respective roman numeral question.**\n",
    "\n",
    "i) What is the independent variable?\n",
    "\n",
    "> A) human trafficking\\\n",
    "B) legalized prostitution\n",
    "    \n",
    "ii) What is the dependent variable?\n",
    "\n",
    "> A) human trafficking\\\n",
    "B) legalized prostitution\n",
    "   "
   ]
  },
  {
   "cell_type": "code",
   "execution_count": null,
   "id": "aae4f446",
   "metadata": {
    "tags": []
   },
   "outputs": [],
   "source": [
    "# YOUR ANSWER GOES HERE  (e.g. i <- \"A\" or i <- \"B\")\n",
    "i <- NULL # YOUR CODE HERE\n",
    "ii <- NULL # YOUR CODE HERE"
   ]
  },
  {
   "cell_type": "code",
   "execution_count": null,
   "id": "748c15d6",
   "metadata": {
    "deletable": false,
    "editable": false
   },
   "outputs": [],
   "source": [
    ". = ottr::check(\"tests/q2b.R\")"
   ]
  },
  {
   "cell_type": "markdown",
   "id": "a097af98",
   "metadata": {
    "deletable": false,
    "editable": false
   },
   "source": [
    "<!-- BEGIN QUESTION -->\n",
    "\n",
    "**c) How do the authors measure levels of human trafficking? What do they cite as the limitations of their measurement? How this variable should be interpreted?**"
   ]
  },
  {
   "cell_type": "markdown",
   "id": "68281a02",
   "metadata": {},
   "source": [
    "_Type your answer here, replacing this text._"
   ]
  },
  {
   "cell_type": "markdown",
   "id": "96f4994d",
   "metadata": {
    "deletable": false,
    "editable": false
   },
   "source": [
    "<!-- END QUESTION -->\n",
    "\n",
    "<!-- BEGIN QUESTION -->\n",
    "\n",
    "### Table of Variables\n",
    "The table below is a table of the variables included in the author's regression model and a brief description. "
   ]
  },
  {
   "cell_type": "code",
   "execution_count": null,
   "id": "75e313fc",
   "metadata": {
    "deletable": false,
    "editable": false
   },
   "outputs": [],
   "source": [
    "# NO ACTION NEEDED\n",
    "# read in codebook\n",
    "cho_codes <- read.csv(\"cho_codes.csv\")\n",
    "\n",
    "# diplay\n",
    "display_html(\n",
    "    as.character(cho_codes %>%  kable(format = \"html\"))\n",
    ")"
   ]
  },
  {
   "cell_type": "markdown",
   "id": "d65e00fd",
   "metadata": {
    "deletable": false,
    "editable": false
   },
   "source": [
    "**d) Look at all of the control variables in the table above. Which variables do you think are included for their explanatory power? Would the ommission of these variables in a regression analysis be concerning to you?**\n",
    "\n",
    "*To be clear, these variables should not be confounding. They are included for their explanatory power.*"
   ]
  },
  {
   "cell_type": "markdown",
   "id": "4d1995df",
   "metadata": {},
   "source": [
    "_Type your answer here, replacing this text._"
   ]
  },
  {
   "cell_type": "markdown",
   "id": "73ea95dd",
   "metadata": {
    "deletable": false,
    "editable": false
   },
   "source": [
    "<!-- END QUESTION -->\n",
    "\n",
    "<!-- BEGIN QUESTION -->\n",
    "\n",
    "**e) Look at all of the control variables in the table below. Which variables do you think are included because they are confounders? Would the ommission of these variables in a regression analysis be concerning to you?**\n",
    "\n",
    "*Reminder: confounders are correlated with both X and Y.*"
   ]
  },
  {
   "cell_type": "markdown",
   "id": "2853b2dc",
   "metadata": {},
   "source": [
    "_Type your answer here, replacing this text._"
   ]
  },
  {
   "cell_type": "markdown",
   "id": "548c3b5b",
   "metadata": {
    "deletable": false,
    "editable": false
   },
   "source": [
    "<!-- END QUESTION -->\n",
    "\n",
    "<!-- BEGIN QUESTION -->\n",
    "\n",
    "**Bonus) Discuss one variable that the researchers should have accounted for but they did not.**\n",
    "\n",
    "*Remember, this variable would need to be correlated with both the independent and dependent variables*"
   ]
  },
  {
   "cell_type": "markdown",
   "id": "457e8c44",
   "metadata": {},
   "source": [
    "_Type your answer here, replacing this text._"
   ]
  },
  {
   "cell_type": "markdown",
   "id": "12fef931",
   "metadata": {
    "deletable": false,
    "editable": false
   },
   "source": [
    "<!-- END QUESTION -->\n",
    "\n",
    "**f) What do the authors conclude?**\n",
    "\n",
    "A. Countries with legalized prostitution is associated with higher levels of human trafficking inflows. \\\n",
    "B.  Legalizing prostitution increases levels of human trafficking inflows. \\\n",
    "C. Countries with legalized prostitution is associated with lower levels of human trafficking inflows. \\\n",
    "D. Legalizing prostitution decreases levels of human trafficking inflows. "
   ]
  },
  {
   "cell_type": "code",
   "execution_count": null,
   "id": "381c9f1d",
   "metadata": {
    "tags": []
   },
   "outputs": [],
   "source": [
    "d <- NULL # YOUR CODE HERE"
   ]
  },
  {
   "cell_type": "code",
   "execution_count": null,
   "id": "3ed58d22",
   "metadata": {
    "deletable": false,
    "editable": false
   },
   "outputs": [],
   "source": [
    ". = ottr::check(\"tests/q2f.R\")"
   ]
  },
  {
   "cell_type": "markdown",
   "id": "a77e518f",
   "metadata": {},
   "source": [
    "## Question 3 Replicating the Regression"
   ]
  },
  {
   "cell_type": "markdown",
   "id": "23472d44",
   "metadata": {},
   "source": [
    "The dataset used by Cho covers up to 150 countries using data on human trafficking from 1996-2003. The main variables are:\n",
    "* `htflowsunodc`: measures human trafficking flows\n",
    "* `prostitutionlaw`: indicates if prostitution is legal (0 = not legal, 1 = legal)"
   ]
  },
  {
   "cell_type": "code",
   "execution_count": null,
   "id": "c43a0398",
   "metadata": {},
   "outputs": [],
   "source": [
    "# NO ACTION NEEDED. \n",
    "\n",
    "# Subsetting to tenth imputation and filtering out the low income countries\n",
    "cho_q3 <- cho_df %>% filter(X_mi_m == 10, inc_low == 0) %>% \n",
    "# selecting relevant columns\n",
    "    select(country, any_of(cho_codes$var_code))\n",
    "\n",
    "# diplay first few rows\n",
    "cho_q3 %>% head()"
   ]
  },
  {
   "cell_type": "markdown",
   "id": "58929686",
   "metadata": {
    "deletable": false,
    "editable": false
   },
   "source": [
    "a) Their equation is as follows:\n",
    "\n",
    "$$y_i = \\alpha + \\beta_1 Prostitution + \\beta_2'X_i + \\beta_3 Region_i + s_i$$\n",
    "\n",
    "To run the regression, use the `lm()` function and the following specifications...\n",
    "* data: `cho_q3`\n",
    "* IV:`prostitutionlaw`\n",
    "* DV:`htflowsunodc`\n",
    "* Controls: `prostitutionbrothel`, `ruleWB_m`, `pop_ln`, `gdp_pc_const_ppp_ln`,\n",
    "          `democracy`, `stockmigrants1990_ln`, `catholic2`, `reg_east_asia`, \n",
    "          `reg_west_europe`, `reg_latam`, `reg_mideast`, `reg_sasia`, `reg_ssa`\n",
    "\n",
    "\n",
    "Note: your numbers won't exactly match the numbers in the table, but it should be relatively similar. To replicate exactly their steps is a bit more complicated since the authors also use data imputations. For the purposes of this assignment, we are keeping it simple.  "
   ]
  },
  {
   "cell_type": "code",
   "execution_count": null,
   "id": "850d7cfa",
   "metadata": {
    "scrolled": true,
    "tags": []
   },
   "outputs": [],
   "source": [
    "# YOUR ANSWER HERE\n",
    "mod1 <- NULL # YOUR CODE HERE\n",
    "\n",
    "mod1 %>% summary()"
   ]
  },
  {
   "cell_type": "code",
   "execution_count": null,
   "id": "1fdc0dd4",
   "metadata": {
    "deletable": false,
    "editable": false
   },
   "outputs": [],
   "source": [
    ". = ottr::check(\"tests/q3a.R\")"
   ]
  },
  {
   "cell_type": "markdown",
   "id": "a9dd84b8",
   "metadata": {
    "deletable": false,
    "editable": false
   },
   "source": [
    "<!-- BEGIN QUESTION -->\n",
    "\n",
    "**b) Interpret the the coefficient (the value in the `estimate`column) for `prostitutionlaw`.**"
   ]
  },
  {
   "cell_type": "markdown",
   "id": "f19a3bb5",
   "metadata": {},
   "source": [
    "_Type your answer here, replacing this text._"
   ]
  },
  {
   "cell_type": "markdown",
   "id": "04c5a535",
   "metadata": {
    "deletable": false,
    "editable": false
   },
   "source": [
    "<!-- END QUESTION -->\n",
    "\n",
    "<!-- BEGIN QUESTION -->\n",
    "\n",
    "**c) What might be an alternative explanation for this observed association? Name at least one. How much do you trust the author's conclusions?**"
   ]
  },
  {
   "cell_type": "markdown",
   "id": "5a76225c",
   "metadata": {},
   "source": [
    "_Type your answer here, replacing this text._"
   ]
  },
  {
   "cell_type": "markdown",
   "id": "91493c60",
   "metadata": {
    "deletable": false,
    "editable": false
   },
   "source": [
    "<!-- END QUESTION -->\n",
    "\n",
    "<!-- BEGIN QUESTION -->\n",
    "\n",
    "**d) How would you interpret the statement \"correlation is not causation\" in this context?**"
   ]
  },
  {
   "cell_type": "markdown",
   "id": "e74b8db8",
   "metadata": {},
   "source": [
    "_Type your answer here, replacing this text._"
   ]
  },
  {
   "cell_type": "markdown",
   "id": "6c3fd0d7",
   "metadata": {
    "deletable": false,
    "editable": false
   },
   "source": [
    "<!-- END QUESTION -->\n",
    "\n",
    "# Submitting Your Notebook (please read carefully!)\n",
    "\n",
    "To submit your notebook...\n",
    "\n",
    "### 1. Click `File` $\\rightarrow$ `Save Notebook`.\n",
    "\n",
    "### 2. Wait 5 seconds.\n",
    "\n",
    "### 3. Select the cell below and hit run.tion:**"
   ]
  },
  {
   "cell_type": "code",
   "execution_count": null,
   "id": "476c63cc",
   "metadata": {},
   "outputs": [],
   "source": [
    "ottr::export(\"pset5.ipynb\")"
   ]
  },
  {
   "cell_type": "markdown",
   "id": "9855a82f",
   "metadata": {},
   "source": [
    "After you hit \"Run\" on the cell above, click the download link. A .zip file should download to your computer.\n",
    "\n",
    "(If you make changes to your notebook, you'll need to hit save and then run the cell above again before you submit to get a new version of it.)\n",
    "\n",
    "### 4. Submit the .zip file you just downloaded <a href=\"https://www.gradescope.com/\" target=\"_blank\">on Gradescope here</a>.\n",
    "\n",
    "Notes:\n",
    "\n",
    "- **This does not seem to work on Chrome for iPad or iPhone.** If you're using an iPad or iPhone, you need to download the file using **Safari**.\n",
    "- If your web browser automatically unzips the .zip file (so you see a folder instead of a .zip file), you can just upload the .ipynb file that is inside the folder.\n",
    "- If this method is not working for you, try this: hit `File`, then `Download as`, then `Notebook (.ipynb)` and submit that."
   ]
  }
 ],
 "metadata": {
  "kernelspec": {
   "display_name": "R",
   "language": "R",
   "name": "ir"
  },
  "language_info": {
   "codemirror_mode": "r",
   "file_extension": ".r",
   "mimetype": "text/x-r-source",
   "name": "R",
   "pygments_lexer": "r",
   "version": "4.3.2"
  }
 },
 "nbformat": 4,
 "nbformat_minor": 5
}
