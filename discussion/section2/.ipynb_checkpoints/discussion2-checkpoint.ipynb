{
 "cells": [
  {
   "cell_type": "markdown",
   "id": "0d9081a0-804a-4db3-8031-441d055387b7",
   "metadata": {
    "tags": []
   },
   "source": [
    "# The CTDC Dataset and Basic Dataframe Manipulations"
   ]
  },
  {
   "cell_type": "code",
   "execution_count": null,
   "id": "311c6991-b71e-4d1f-8358-5594f52bae08",
   "metadata": {
    "tags": []
   },
   "outputs": [],
   "source": [
    "# RUN THIS CELL\n",
    "# Load packages\n",
    "library(testthat)\n",
    "library(tidyverse) %>% suppressMessages()"
   ]
  },
  {
   "cell_type": "markdown",
   "id": "104e1a39-4ec5-4cdc-bc5d-2981960ec0eb",
   "metadata": {},
   "source": [
    "Functions we will be learning\n",
    "#### Dataframe basics\n",
    "- `read.csv(filename)`: reads in a dataframe\n",
    "- `head()`: displays first 6 rows\n",
    "- `ncol()`, `nrow()`\n",
    "- `%>%`: pipe operator, passes on the previous output into the next function\n",
    "\n",
    "#### How do you subset?\n",
    "1. Use `filter()` to subset to the rows you want\n",
    "2. Use `select()`to subset to the columns you want\n",
    "\n",
    "#### How do find the summary statistics of a column?\n",
    "1. Use `summarise()` to find summary statistics like `mean()` of a column"
   ]
  },
  {
   "cell_type": "markdown",
   "id": "03d6cea5-dda3-4837-bc7d-3014d4a3d4bd",
   "metadata": {
    "tags": []
   },
   "source": [
    "---\n",
    "## Dataframe basics\n",
    "\n",
    "### reading in data\n",
    "The function for reading in a dataset is `read.csv(filename)`"
   ]
  },
  {
   "cell_type": "code",
   "execution_count": null,
   "id": "11124210-2f55-48f8-9a3a-de8b54fc8618",
   "metadata": {
    "tags": []
   },
   "outputs": [],
   "source": [
    "# read in the dataframe\n",
    "ctdc <- read.csv(\"2024_CTDC_synthetic.csv\")"
   ]
  },
  {
   "cell_type": "markdown",
   "id": "acb09e00-2f1f-4aff-a5e9-93a32151d3a5",
   "metadata": {},
   "source": [
    "#### Previewing Datasets with the `head()` function\n",
    "b) You can preview the first few rows of the dataframe by using the function `head(df_name)`. You can also specify the number of rows you want to look at using `head(df_name, N)`"
   ]
  },
  {
   "cell_type": "code",
   "execution_count": null,
   "id": "0c012801-f4a9-4cb3-887c-3f4c4ccb3716",
   "metadata": {
    "scrolled": true,
    "tags": []
   },
   "outputs": [],
   "source": [
    "# preview first 6 rows\n",
    "head(ctdc)"
   ]
  },
  {
   "cell_type": "markdown",
   "id": "4f4e72ad-1914-4b6a-9094-cb0cab74e7c5",
   "metadata": {},
   "source": [
    "#### Get dimensions of a dataset"
   ]
  },
  {
   "cell_type": "markdown",
   "id": "fd180f34-ab15-4262-a9e3-21921c1f8d66",
   "metadata": {
    "deletable": false,
    "editable": false
   },
   "source": [
    "Use  `ncol(df_name)` to get the number of columns"
   ]
  },
  {
   "cell_type": "code",
   "execution_count": null,
   "id": "d45346fd-c3e2-4c64-b04c-e32db1a6ccee",
   "metadata": {
    "tags": []
   },
   "outputs": [],
   "source": [
    "# YOUR ANSWER HERE\n",
    "number_columns <- NULL # YOUR CODE HERE\n",
    "\n",
    "# display\n",
    "number_columns"
   ]
  },
  {
   "cell_type": "code",
   "execution_count": null,
   "id": "0f856683",
   "metadata": {
    "deletable": false,
    "editable": false
   },
   "outputs": [],
   "source": [
    ". = ottr::check(\"tests/Q1a.R\")"
   ]
  },
  {
   "cell_type": "markdown",
   "id": "c73eb2ac-966e-4ba5-a743-7805c011d67a",
   "metadata": {
    "deletable": false,
    "editable": false
   },
   "source": [
    "Use `nrow(df_name)` to get the number of rows"
   ]
  },
  {
   "cell_type": "code",
   "execution_count": null,
   "id": "1f94024f-2a5d-451e-bc1b-cf9a1710b85b",
   "metadata": {
    "tags": []
   },
   "outputs": [],
   "source": [
    "# YOUR ANSWER HERE\n",
    "number_rows <- NULL # YOUR CODE HERE\n",
    "\n",
    "# display\n",
    "number_rows"
   ]
  },
  {
   "cell_type": "code",
   "execution_count": null,
   "id": "a8b1039d",
   "metadata": {
    "deletable": false,
    "editable": false
   },
   "outputs": [],
   "source": [
    ". = ottr::check(\"tests/Q1b.R\")"
   ]
  },
  {
   "cell_type": "markdown",
   "id": "2da0aee6-381d-4217-ae8e-50eba9f40d8a",
   "metadata": {},
   "source": [
    "<img src=\"tidyverse.png\" width=40% />"
   ]
  },
  {
   "cell_type": "markdown",
   "id": "31144fea-f39b-4d2e-a2e1-427605144c00",
   "metadata": {},
   "source": [
    "## **What is the CTDC data?**"
   ]
  },
  {
   "cell_type": "markdown",
   "id": "bc08c976-027c-4889-8d24-afd234014d21",
   "metadata": {},
   "source": [
    "This [CTDC dataset](https://www.ctdatacollaborative.org/global-synthetic-data-dashboard) is a synthetic dataset that publishes harmonized data from counter-trafficking organizations around the world and is referenced on IOM's website, UN websites, and has been used to inform policies on trafficking. It is also the dataset you are working with in your problem set. \n",
    "\n",
    ">\"The CTDC initiative is supported by donors such as the US Department of State Bureau of Population, Refugees, and Migration (PRM); the US Department of Labour (DOL) through the International Labour Organization (ILO)'s Research to Action (RTA) project; the Global Fund to End Modern Slavery (GFEMS) under a cooperative agreement with the US Department of State (DOS); the IOM Development Fund; and the Ministry of Foreign Affairs of the Netherlands (BZ). The Counter-Trafficking Data Collaborative (CTDC) has a dataset, known as the global victim of trafficking dataset, which is the largest global repository on victims of human trafficking\" (Kooffreh 2023).\n",
    "\n",
    "The *synthetic* aspect is to protect the privacy of the victims. \n",
    "\n",
    "Structure:\n",
    "* Each row represents one reported case/individual (this includes cases that fit the definition of trafficking, and cases that do not). \n",
    "* The columns can be seen below, covering demographics, country of origin, exploitation, the form of trafficking, the means of control, and the recruiter relationship. "
   ]
  },
  {
   "cell_type": "code",
   "execution_count": null,
   "id": "091101b6-a4f3-44e7-8fc5-7671cd075c33",
   "metadata": {
    "scrolled": true
   },
   "outputs": [],
   "source": [
    "# without %>%\n",
    "colnames(ctdc)"
   ]
  },
  {
   "cell_type": "code",
   "execution_count": null,
   "id": "ca2c345d-11e0-4629-a615-46bbf1f2843d",
   "metadata": {},
   "outputs": [],
   "source": [
    "# with %>%\n",
    "ctdc %>% colnames()"
   ]
  },
  {
   "cell_type": "code",
   "execution_count": null,
   "id": "87d443f7-68ab-45a1-95d7-a355cf074b4c",
   "metadata": {},
   "outputs": [],
   "source": [
    "# what are the column names?\n",
    "ctdc %>% colnames() %>% as.data.frame()"
   ]
  },
  {
   "cell_type": "markdown",
   "id": "8a11afd9-cbaa-4d69-960d-1316b341abb0",
   "metadata": {},
   "source": [
    "Preview the first 6 rows using `head(df_name)`"
   ]
  },
  {
   "cell_type": "code",
   "execution_count": null,
   "id": "74e73900-39a3-4773-98fd-f6f3bb4e9d84",
   "metadata": {},
   "outputs": [],
   "source": [
    "# TO DO: preview the first 6 rows of ctdc\n",
    " "
   ]
  },
  {
   "cell_type": "markdown",
   "id": "4c115f10-d532-482d-98ae-3a93ec1254ae",
   "metadata": {},
   "source": [
    "### **How should we understand IOM's Data**\n",
    "\n",
    "Read pages 2-4 of the [codebook](https://www.ctdatacollaborative.org/sites/g/files/tmzbdl2011/files/2024-02/Codebook_CTDC_global_synthetic_data_v2024.pdf)."
   ]
  },
  {
   "cell_type": "markdown",
   "id": "1cd71199-0bbb-4727-9a86-f72de0d52016",
   "metadata": {},
   "source": [
    "**Discussion Q: Take 5 minutes to answer with 2-3 people around you.**\n",
    "\n",
    "1. Where is the data on victims using the CTDC from?\n",
    "2. How might this differ from nationally collected data cited by the UNODC (i.e. collected by government initiatives)?\n",
    "3. A study citing CTDC as a primary data source in an analysis of trends says it is \"a comprehensive and reliable repository of human trafficking incidents from various regions and time periods\" (Olisah et al.) Do you agree or disagree?"
   ]
  },
  {
   "cell_type": "markdown",
   "id": "dc5287ac-a781-48c3-aa91-7b80339f73b5",
   "metadata": {},
   "source": [
    "_Notetaking box, Replace this text._"
   ]
  },
  {
   "cell_type": "markdown",
   "id": "748c5b28-7a67-4240-a7f5-92f72dc8bfd1",
   "metadata": {},
   "source": [
    "---\n",
    "### **Our Task: How do traffickers control their victims?**\n",
    "**Question: What are the means of control that are used by traffickers**. "
   ]
  },
  {
   "cell_type": "markdown",
   "id": "746a1da4-48a6-4a00-a850-788f8c1b3dd9",
   "metadata": {},
   "source": [
    "**What is our population of interest?**\n",
    "\n",
    "a. All reported cases\\\n",
    "b. Confirmed cases of trafficking"
   ]
  },
  {
   "cell_type": "markdown",
   "id": "ebfbe661-7105-4c7e-940a-0b59b2a78f41",
   "metadata": {},
   "source": [
    "### 1) When you want to subset to certain **rows**, use `filter()`"
   ]
  },
  {
   "cell_type": "markdown",
   "id": "a091061f-5947-4e5b-8a7a-684a8be3fb0f",
   "metadata": {},
   "source": [
    " Our dataset includes all reported cases (not just the confirmed cases of trafficking). Let's select only the individuals (each person represented by a row) who are confirmed victims of trafficking. "
   ]
  },
  {
   "cell_type": "code",
   "execution_count": null,
   "id": "e225ce68-1663-4e20-a06e-b0fec2b149f2",
   "metadata": {},
   "outputs": [],
   "source": [
    "# EXAMPLE CODE CHUNK #1\n",
    "# subset to cases of confirmed trafficking\n",
    "ctdc_confirmed <- ctdc %>% filter(isSexualExploit > 0 | isForcedLabour > 0 | isOtherExploit > 0) \n",
    "\n",
    "# display\n",
    "head(ctdc_confirmed)"
   ]
  },
  {
   "cell_type": "markdown",
   "id": "697a5b52-8383-4027-8273-53e636b10933",
   "metadata": {},
   "source": [
    "### 2) When we only want certain **columns**, we use select() to select the relevant columns"
   ]
  },
  {
   "cell_type": "markdown",
   "id": "562e0ed9-900c-4b44-9286-3936bde801b5",
   "metadata": {},
   "source": [
    "We are only interested in the means of control, so lets only select the columns related to the means of controls. "
   ]
  },
  {
   "cell_type": "code",
   "execution_count": null,
   "id": "282b9451-4e73-44f1-ab31-e2ebd76855f8",
   "metadata": {
    "scrolled": true
   },
   "outputs": [],
   "source": [
    "# EXAMPLE CODE CHUNK #2\n",
    "\n",
    "# METHOD #1\n",
    "ctdc_means <- ctdc_confirmed %>% select(meansDebtBondageEarnings,\n",
    "                                       meansThreats,\n",
    "                                       meansAbusePsyPhySex,\n",
    "                                       meansFalsePromises,\n",
    "                                       meansDrugsAlcohol,\n",
    "                                       meansDenyBasicNeeds,\n",
    "                                       meansExcessiveWorkHours,\n",
    "                                       meansWithholdDocs,\n",
    "                                       meansSum)\n",
    "\n",
    "# METHOD #2\n",
    "ctdc_means2 <- ctdc_confirmed %>% select(starts_with(\"means\"))\n",
    "\n",
    "# Display\n",
    "head(ctdc_means)"
   ]
  },
  {
   "cell_type": "code",
   "execution_count": null,
   "id": "e5ff672f-fe71-41d2-a5d4-2de045a74e36",
   "metadata": {},
   "outputs": [],
   "source": [
    "all.equal(ctdc_means2,ctdc_means)"
   ]
  },
  {
   "cell_type": "markdown",
   "id": "d58b3e09-67fc-49d2-b506-bc6352ce22e2",
   "metadata": {
    "deletable": false,
    "editable": false
   },
   "source": [
    "**You try!** Replace `df` with the appropriate dataframe (hint: is the same exact thing as the example from code chunk #1, just you are tying it out to encode it into your memory!)\n",
    "\n",
    "`df %>% select(starts_with(\"means\"))`"
   ]
  },
  {
   "cell_type": "code",
   "execution_count": null,
   "id": "018d44a2-4670-4929-8305-661115ab1dc8",
   "metadata": {
    "tags": []
   },
   "outputs": [],
   "source": [
    "# YOUR ANSWER HERE\n",
    "ctdc_means3 <- NULL # YOUR CODE HERE\n",
    "\n",
    "# Display\n",
    "head(ctdc_means3)"
   ]
  },
  {
   "cell_type": "code",
   "execution_count": null,
   "id": "0c40c0ec",
   "metadata": {
    "deletable": false,
    "editable": false
   },
   "outputs": [],
   "source": [
    ". = ottr::check(\"tests/Q2.R\")"
   ]
  },
  {
   "cell_type": "markdown",
   "id": "5ffee7f3-88eb-4614-b059-51dcbc55b9d4",
   "metadata": {},
   "source": [
    "### 3) Finding averages of columns using `summarise()` and `mean()`"
   ]
  },
  {
   "cell_type": "markdown",
   "id": "02e43602-3785-47d3-be4c-bd550d4967a7",
   "metadata": {},
   "source": [
    "Look at the dataframe `ctdc_means` above, and look at the column names. They are various means of control. I want to find the average of `meansDebtBondageEarnings`.\n",
    "\n",
    "What would this average represent? In this case, the average is equivalent to the proportion of cases that experienced that MOC. The function used is the `summarise()` and `mean()` function, which is formatted:\n",
    "\n",
    "`df %>% summarise(new_column_name = mean(existing_column_name, na.rm = T)`"
   ]
  },
  {
   "cell_type": "code",
   "execution_count": null,
   "id": "784a1e8e-b117-4d6d-8fea-329a021697bc",
   "metadata": {
    "scrolled": true
   },
   "outputs": [],
   "source": [
    "# EXAMPLE CODE CHUNK #3\n",
    "ex_ctdc_means_summary <- ctdc_means %>% summarise(\n",
    "    # mean of the debt bondage column\n",
    "    meansDebtBondageEarnings = mean(meansDebtBondageEarnings, na.rm = T))\n",
    "\n",
    "# display\n",
    "ex_ctdc_means_summary"
   ]
  },
  {
   "cell_type": "markdown",
   "id": "d48a6c9f-e4fd-4df3-9cc3-342e8675f5f8",
   "metadata": {
    "deletable": false,
    "editable": false
   },
   "source": [
    "Your turn! Pick you can summarise multiple columns simulaneously by adding another line. \n",
    "\n",
    "    df %>% summarise(\n",
    "        column1 = mean(column1, na.rm = T),\n",
    "        column2 = mean(column2, na.rm = T))\n",
    "\n",
    "Find the means of `meansAbusePsyPhySex` and `meansFalsePromises`. \n",
    "\n",
    "How would you interpret these values?"
   ]
  },
  {
   "cell_type": "code",
   "execution_count": null,
   "id": "7d6e4849-4f55-4127-bf8f-23970a51cf46",
   "metadata": {
    "tags": []
   },
   "outputs": [],
   "source": [
    "# YOUR ANSWER HERE\n",
    "# Taking the mean of multiple columns\n",
    "\n",
    "ex_ctdc_means_summary <- NULL # YOUR CODE HERE\n",
    "\n",
    "# display output\n",
    "ex_ctdc_means_summary"
   ]
  },
  {
   "cell_type": "code",
   "execution_count": null,
   "id": "9dc53679",
   "metadata": {
    "deletable": false,
    "editable": false
   },
   "outputs": [],
   "source": [
    ". = ottr::check(\"tests/Q3.R\")"
   ]
  },
  {
   "cell_type": "markdown",
   "id": "efbacee2-6bd2-41a3-90ab-ebe2f32dbd92",
   "metadata": {},
   "source": [
    "## No Action Needed: Plotting Data\n",
    "Looking at the plot, what were the most commonly reported means of control in this dataset for victims in IOM's database?"
   ]
  },
  {
   "cell_type": "code",
   "execution_count": null,
   "id": "dd766f43-3247-49df-bdde-610640a68e1c",
   "metadata": {},
   "outputs": [],
   "source": [
    "ctdc_means  %>% summarise_all(mean, na.rm = T) %>% \n",
    "select(-meansSum) %>%\n",
    "pivot_longer(cols = starts_with(\"mean\"),\n",
    "                        names_to = \"means_of_control\",\n",
    "                        values_to = \"proportion\") %>%\n",
    "ggplot(aes(x = reorder(means_of_control, proportion), y = proportion)) + \n",
    "labs(x = \"Means of Control\") +\n",
    "geom_bar(stat = \"identity\", width = 0.5) +\n",
    "theme_bw(base_size = 30) + coord_flip() "
   ]
  },
  {
   "cell_type": "markdown",
   "id": "e1fb26ef-5b35-4b57-ac58-300a4a12a952",
   "metadata": {},
   "source": [
    "## Interpretation\n",
    "\n",
    "**Discuss with your group:**\n",
    "1. How would you interpret these proportions?\n",
    "2. Can you defend using this data to describe general trafficking trends?\n",
    "3. Can you defend using these proportions to inform policy and program interventions?\n",
    "4. What would long term consequences be if we continue to rely solely on this specific dataset to inform interventions?\n"
   ]
  },
  {
   "cell_type": "markdown",
   "id": "d39cd6b7-c5d7-4efc-8788-2934664719b6",
   "metadata": {},
   "source": [
    "---\n",
    "### Practice Time!\n",
    "\n",
    "A study using the same data found women to be more susceptive to violent means of control (Stöckl 2021), categorized as physical and sexual abuse. We actually are not able to replicate this finding. Why?\n",
    "\n",
    "The picture below takes from the same dataset on the CTDC website, just that the means of control are more disaggregated. Which means of controls are gendered based off this graph?"
   ]
  },
  {
   "cell_type": "markdown",
   "id": "bcf85bd7-8bc1-4789-a096-1d2597ced784",
   "metadata": {},
   "source": [
    "_*Replace this text*_"
   ]
  },
  {
   "cell_type": "markdown",
   "id": "d63680e3-8533-4344-86b5-0ed29b5e0875",
   "metadata": {},
   "source": [
    "<img src=\"gendered.png\" width=80% />"
   ]
  },
  {
   "cell_type": "markdown",
   "id": "c711ce22-4db4-4152-84f1-496bf50192f2",
   "metadata": {},
   "source": [
    "Lets see if the data we have will reproduce these results.\n",
    "\n",
    "**Steps**\n",
    "1. Create a new dataframe for women, and one dataframe for men, using filter().\n",
    "2. Select columns for the mean of control, using select()\n",
    "3. Find the mean of each column using summarise()"
   ]
  },
  {
   "cell_type": "markdown",
   "id": "4b377ce4-b6a3-43c2-b843-ca6b21ad2868",
   "metadata": {
    "jp-MarkdownHeadingCollapsed": true
   },
   "source": [
    "We already have a dataset of confirmed trafficking cases called `ctdc_confirmed`. See below. "
   ]
  },
  {
   "cell_type": "code",
   "execution_count": null,
   "id": "28d7c5a1-8131-4fd5-bdd3-64d01b4ac205",
   "metadata": {},
   "outputs": [],
   "source": [
    "head(ctdc_confirmed)"
   ]
  },
  {
   "cell_type": "markdown",
   "id": "b7f6ace3-6eb5-4114-81ad-76f3f79f5bcf",
   "metadata": {},
   "source": [
    "#### 1) Practice using the filter() function. \n",
    "**Use filter() to create two dataframes. One for each gender category.**"
   ]
  },
  {
   "cell_type": "markdown",
   "id": "e687b191-13b8-49f5-bd35-db414a2c2c84",
   "metadata": {
    "deletable": false,
    "editable": false
   },
   "source": [
    "**Step 1:** See the second column named `gender`, filter the confirmed cases dataframe to where `gender == \"Woman\"`\n",
    "\n",
    "    ctdc_woman <- ctdc_confirmed %>% filter(gender == \"Woman\")"
   ]
  },
  {
   "cell_type": "code",
   "execution_count": null,
   "id": "3469cfe6-274f-4b2e-a367-ae3978d424bc",
   "metadata": {
    "scrolled": true,
    "tags": []
   },
   "outputs": [],
   "source": [
    "# YOUR ANSWER HERE\n",
    "ctdc_woman <- NULL # YOUR CODE HERE\n",
    "\n",
    "# display\n",
    "head(ctdc_woman)"
   ]
  },
  {
   "cell_type": "code",
   "execution_count": null,
   "id": "a59170c7",
   "metadata": {
    "deletable": false,
    "editable": false
   },
   "outputs": [],
   "source": [
    ". = ottr::check(\"tests/Q4.R\")"
   ]
  },
  {
   "cell_type": "markdown",
   "id": "bc06cd4a-3fe3-4f7d-a921-7472b1147a61",
   "metadata": {
    "deletable": false,
    "editable": false
   },
   "source": [
    "**Step 2:** Now create the same thing but for `\"Man\"`. In other words, from `ctdc_confirmed`, filter to where `gender == \"Man\"`"
   ]
  },
  {
   "cell_type": "code",
   "execution_count": null,
   "id": "891b8003-0e53-4afa-a51a-64018e748caf",
   "metadata": {
    "tags": []
   },
   "outputs": [],
   "source": [
    "# YOUR ANSWER HERE\n",
    "ctdc_man <- NULL # YOUR CODE HERE\n",
    "\n",
    "# display\n",
    "head(ctdc_man)"
   ]
  },
  {
   "cell_type": "code",
   "execution_count": null,
   "id": "32042a1d",
   "metadata": {
    "deletable": false,
    "editable": false
   },
   "outputs": [],
   "source": [
    ". = ottr::check(\"tests/Q5.R\")"
   ]
  },
  {
   "cell_type": "markdown",
   "id": "cfa21ed6-ca1c-4ea5-b54b-34c6c17f5cca",
   "metadata": {
    "deletable": false,
    "editable": false
   },
   "source": [
    "#### 2) For both dataframes, use `select()` to select the columns that start with \"means\""
   ]
  },
  {
   "cell_type": "code",
   "execution_count": null,
   "id": "295f9ffa-4034-4bee-9608-6ce0dc977272",
   "metadata": {
    "tags": []
   },
   "outputs": [],
   "source": [
    "# YOUR ANSWER HERE\n",
    "# select the columns that start with \"means\" for the woman dataframe\n",
    "ctdc_woman_means <- NULL # YOUR CODE HERE\n",
    "\n",
    "# select the columns that start with \"means\" for the man dataframe\n",
    "ctdc_man_means <- NULL # YOUR CODE HERE"
   ]
  },
  {
   "cell_type": "code",
   "execution_count": null,
   "id": "f6be4965",
   "metadata": {
    "deletable": false,
    "editable": false
   },
   "outputs": [],
   "source": [
    ". = ottr::check(\"tests/Q6.R\")"
   ]
  },
  {
   "cell_type": "markdown",
   "id": "a2c98235-ff9f-4f74-8966-9793295a45b5",
   "metadata": {},
   "source": [
    "Below are the first five rows of the dataframe `ctdc_woman_means` that you created. "
   ]
  },
  {
   "cell_type": "code",
   "execution_count": null,
   "id": "674cb926-31a6-4c5c-ab2e-9bbaf1c40880",
   "metadata": {
    "scrolled": true
   },
   "outputs": [],
   "source": [
    "head(ctdc_woman_means)"
   ]
  },
  {
   "cell_type": "markdown",
   "id": "bc328f14-4d30-4039-9986-eb03cea13922",
   "metadata": {},
   "source": [
    "#### 3) Comparing the means from the two subsets using `summarise()`"
   ]
  },
  {
   "cell_type": "markdown",
   "id": "52c0a3e4-184e-48ab-8281-23734b24aab8",
   "metadata": {},
   "source": [
    "In the example code chunk below, I am finding the means of all MOCs for the female dataframe. "
   ]
  },
  {
   "cell_type": "code",
   "execution_count": null,
   "id": "0ae26592-0943-4f6c-bdc7-43514a1ba579",
   "metadata": {
    "scrolled": true
   },
   "outputs": [],
   "source": [
    "# EXAMPLE CODE\n",
    "# find the averages of all eight means of control (MOC) included in the dataset for WOMEN\n",
    "ctdc_woman_means_summary <- ctdc_woman_means %>% summarise(\n",
    "        meansDebtBondageEarnings = mean(meansDebtBondageEarnings, na.rm = T),\n",
    "        meansThreats = mean(meansThreats, na.rm = T),\n",
    "        meansAbusePsyPhySex = mean(meansAbusePsyPhySex, na.rm = T),\n",
    "        meansFalsePromises = mean(meansFalsePromises, na.rm = T),\n",
    "        meansDrugsAlcohol = mean(meansDrugsAlcohol, na.rm = T),\n",
    "        meansDenyBasicNeeds = mean(meansDenyBasicNeeds, na.rm = T),\n",
    "        meansExcessiveWorkHours = mean(meansExcessiveWorkHours, na.rm = T),\n",
    "        meansWithholdDocs = mean(meansWithholdDocs, na.rm = T))\n",
    "\n",
    "ctdc_woman_means_summary"
   ]
  },
  {
   "cell_type": "markdown",
   "id": "38b1b3de-6091-43a0-a74d-04d88b4f81b7",
   "metadata": {
    "deletable": false,
    "editable": false
   },
   "source": [
    "**Now you do the same exact thing, but for the male dataframe.**\n",
    "\n",
    "Hint: If you don't want to type it all out, just copy paste the example code above, but there is variable you would need to change. What is it?"
   ]
  },
  {
   "cell_type": "code",
   "execution_count": null,
   "id": "2ed8b12a-ccc5-4174-8d73-5c71fcaa355b",
   "metadata": {
    "tags": []
   },
   "outputs": [],
   "source": [
    "# YOUR ANSWER HERE\n",
    "# find the averages of all eight means of control (MOC) included in the dataset for MEN\n",
    "ctdc_man_means_summary <- NULL # YOUR CODE HERE\n",
    "\n",
    "# DISPLAY\n",
    "ctdc_man_means_summary"
   ]
  },
  {
   "cell_type": "code",
   "execution_count": null,
   "id": "4778a2ad",
   "metadata": {
    "deletable": false,
    "editable": false
   },
   "outputs": [],
   "source": [
    ". = ottr::check(\"tests/Q7.R\")"
   ]
  },
  {
   "cell_type": "markdown",
   "id": "d42801cd-b835-42ad-93b2-1c00f9edc0ea",
   "metadata": {},
   "source": [
    "---\n",
    "#### No action needed, the cell below makes a plot"
   ]
  },
  {
   "cell_type": "code",
   "execution_count": null,
   "id": "b671348f-8237-4f5a-b65d-7ed6a6f341ed",
   "metadata": {},
   "outputs": [],
   "source": [
    "# Plotting results\n",
    "ctdc_woman_means_summary %>% mutate(gender = \"Woman\") %>%\n",
    "    # manipulating the data\n",
    "    rbind(ctdc_man_means_summary %>% mutate(gender = \"Man\")) %>%\n",
    "    pivot_longer(starts_with(\"means\"), names_to=\"MeanOfControl\", values_to = \"Proportion\") %>%\n",
    "    # plotting starts here\n",
    "    ggplot(aes(x = MeanOfControl, y = Proportion, fill = gender)) +\n",
    "    # barplot\n",
    "    geom_bar(stat = \"identity\", position = position_dodge(), width = 0.3)+ \n",
    "    # changes to formatting\n",
    "    theme_bw(base_size = 20) + coord_flip()\n"
   ]
  },
  {
   "cell_type": "markdown",
   "id": "f87926c5-e05a-4a8d-a6f8-01256f4e577f",
   "metadata": {
    "deletable": false,
    "editable": false
   },
   "source": [
    "<!-- BEGIN QUESTION -->\n",
    "\n",
    "**What means of control appear gendered in this dataset? Where is it consistent and inconsistent with the disaggregated comparison?**"
   ]
  },
  {
   "cell_type": "markdown",
   "id": "9a30569b",
   "metadata": {},
   "source": [
    "_Type your answer here, replacing this text._"
   ]
  },
  {
   "cell_type": "markdown",
   "id": "39d7a519-4c87-4013-9a27-74549dc4a251",
   "metadata": {
    "deletable": false,
    "editable": false
   },
   "source": [
    "<!-- END QUESTION -->\n",
    "\n",
    "---"
   ]
  },
  {
   "cell_type": "markdown",
   "id": "eff52c20-94ae-4e63-a26d-9ff7efa491d5",
   "metadata": {},
   "source": [
    "# Summary\n",
    "## Data Interpretation\n",
    "1. Think through how the data was collected, and in what direction would that bias the results. \n",
    "2. Pay attention to how the variable of interest is defined, and if there could be changes in findings based off aggregations/disaggregations or other tweaks to the variable. \n",
    "\n",
    "## Coding\n",
    "#### Dataframe basics\n",
    "- `read.csv(filename)`: reads in a dataframe\n",
    "- `head(df_name)`: displays first 6 rows\n",
    "- `ncol(df_name)`, `nrow(df_name)` : return number of rows/columns of a dataframe, respectively\n",
    "- `%>%`: pipe operator, passes on the previous output into the next function\n",
    "\n",
    "#### Subsetting and summarising\n",
    "1. Use `filter(insert_condition)` to subset to the rows you want\n",
    "2. Use `select(column_names)`to subset to the columns you want\n",
    "3. Use `summarise()` to find summary statistics like `mean()` of a column\n",
    "\n",
    "#### Example\n",
    "\n",
    "    df %>% filter(condition) %>%\n",
    "            select(columns) %>%\n",
    "            summarise(column_name = mean(existing_column_name, na.rm = T))"
   ]
  },
  {
   "cell_type": "markdown",
   "id": "d7beaa28-2e86-408e-9971-c23dfb60fab6",
   "metadata": {},
   "source": [
    "**Example: What proportion of reported sexual exploitation are of women? In this dataset, its 84%.**"
   ]
  },
  {
   "cell_type": "code",
   "execution_count": null,
   "id": "5cd6a0b3-d6b5-4c27-905d-b4f3eeab5c80",
   "metadata": {},
   "outputs": [],
   "source": [
    "ctdc %>% filter(isSexualExploit ==1) %>%\n",
    "    select(gender) %>% \n",
    "    summarise(prop_female = mean(gender == \"Woman\", na.rm = T))"
   ]
  },
  {
   "cell_type": "markdown",
   "id": "62609c7c-1d99-4119-a885-2267f084c91f",
   "metadata": {},
   "source": [
    "# Next Time\n",
    "   - How can we evaluate claims of association and causation? (E.g. Poverty causes trafficking?)"
   ]
  },
  {
   "cell_type": "markdown",
   "id": "bdda602a-6b32-43bf-a265-1a58994e7772",
   "metadata": {},
   "source": [
    "---\n",
    "# Practice Submitting on Gradescope\n",
    "\n",
    "To submit your notebook...\n",
    "\n",
    "### 1. Click `File` $\\rightarrow$ `Save Notebook`.\n",
    "\n",
    "### 2. Wait 5 seconds.\n",
    "\n",
    "### 3. Select the cell below and hit run."
   ]
  },
  {
   "cell_type": "code",
   "execution_count": null,
   "id": "47f58a62-b757-4187-a991-eeb82b090751",
   "metadata": {},
   "outputs": [],
   "source": [
    "ottr::export(\"discussion2.ipynb\")"
   ]
  },
  {
   "cell_type": "markdown",
   "id": "25361542-230c-4a29-87fe-e045d607195a",
   "metadata": {},
   "source": [
    "After you hit \"Run\" on the cell above, click the download link. A .zip file should download to your computer.\n",
    "\n",
    "(If you make changes to your notebook, you'll need to hit save and then run the cell above again before you submit to get a new version of it.)\n",
    "\n",
    "### 4. Submit the .zip file you just downloaded <a href=\"https://www.gradescope.com/\" target=\"_blank\">on Gradescope here</a> under practice submission.\n",
    "\n",
    "Notes:\n",
    "\n",
    "- **This does not seem to work on Chrome for iPad or iPhone.** If you're using an iPad or iPhone, you need to download the file using **Safari**.\n",
    "- If your web browser automatically unzips the .zip file (so you see a folder instead of a .zip file), you can just upload the .ipynb file that is inside the folder.\n",
    "- If this method is not working for you, try this: hit `File`, then `Download as`, then `Notebook (.ipynb)` and submit that."
   ]
  },
  {
   "cell_type": "markdown",
   "id": "bd5fdafe-0fe5-4505-a1fc-b940907b5c82",
   "metadata": {},
   "source": [
    "---\n",
    "## Something positive for the day: Hiking Trails near SF\n",
    "One of my favorites, although it's quite challenging: Dipsea, Steep Ravine, Matt Davis Trail. Recommend for those who like to hike!\n",
    "\n",
    "(I do not have ownership of these photos, they are from google.)\n",
    "\n",
    "P.S. If you think these snippets are excessive, let me know! If you have one you want to share, I also take submissions. Email me if you have a piece of good news/something fun to share that you would like to be featured next section!"
   ]
  },
  {
   "cell_type": "markdown",
   "id": "39cc95bf-9d59-4d12-b3ec-3bdd7e198dad",
   "metadata": {},
   "source": [
    "<img src=\"dipsea2.jpg\" width=40% /><img src=\"dipsea.jpg\" width=47.5% />"
   ]
  }
 ],
 "metadata": {
  "kernelspec": {
   "display_name": "R",
   "language": "R",
   "name": "ir"
  },
  "language_info": {
   "codemirror_mode": "r",
   "file_extension": ".r",
   "mimetype": "text/x-r-source",
   "name": "R",
   "pygments_lexer": "r",
   "version": "4.3.2"
  }
 },
 "nbformat": 4,
 "nbformat_minor": 5
}
