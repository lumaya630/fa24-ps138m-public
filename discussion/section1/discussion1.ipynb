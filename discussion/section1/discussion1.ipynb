{
 "cells": [
  {
   "cell_type": "markdown",
   "id": "8c8d2a53",
   "metadata": {
    "slideshow": {
     "slide_type": "slide"
    },
    "tags": []
   },
   "source": [
    "# Part 1: Introduction to Jupyter"
   ]
  },
  {
   "cell_type": "markdown",
   "id": "72e18f59",
   "metadata": {
    "slideshow": {
     "slide_type": "fragment"
    }
   },
   "source": [
    "Hello! This is Jupyter notebooks, a platform we will be using for this course to access and complete data-intensive assignments. In this course, these assignments will be designed to give you familiarity with how to use the programming language `R` to make sense of large amounts of data, to verify and interpret statistics you encounter, and "
   ]
  },
  {
   "cell_type": "markdown",
   "id": "b2e26236",
   "metadata": {
    "slideshow": {
     "slide_type": "fragment"
    }
   },
   "source": [
    "## Jupyter Functionalities"
   ]
  },
  {
   "cell_type": "markdown",
   "id": "39342987",
   "metadata": {
    "tags": []
   },
   "source": [
    "### Running a cell\n",
    "Try running the cell below by pressing (`Command` + `Enter`) on Mac or (`Control` + `Enter`) on Windows. "
   ]
  },
  {
   "cell_type": "code",
   "execution_count": null,
   "id": "bbea0efe",
   "metadata": {
    "scrolled": true,
    "tags": []
   },
   "outputs": [],
   "source": [
    "# RUN THIS CELL\n",
    "print(\"hello world\")"
   ]
  },
  {
   "cell_type": "markdown",
   "id": "216df1df",
   "metadata": {
    "deletable": false,
    "editable": false,
    "tags": []
   },
   "source": [
    "### Changing the format of a cell\n",
    "\n",
    "Cells in Jupyter can be code chunks or markdown chunks. Markdown (like this code chunk) is used to present text in a formatted manner. Learning markdown is outside the scope of this class, but in case you accidentally change the formatting of a cell in an assignment, practice changing the cell below from code to markdown. Then from markdown back to code. "
   ]
  },
  {
   "cell_type": "code",
   "execution_count": null,
   "id": "46664fce",
   "metadata": {
    "tags": []
   },
   "outputs": [],
   "source": [
    "### CHANGE ME TO MARKDOWN\n",
    "### THEN BACK TO CODE"
   ]
  },
  {
   "cell_type": "markdown",
   "id": "947bf7b7",
   "metadata": {
    "jp-MarkdownHeadingCollapsed": true,
    "tags": []
   },
   "source": [
    "### Inserting Cells Above and Below\n",
    "If you want to insert cells above or below, press `A` for above, and `B` for below. Try inserting a cell below this cell.  "
   ]
  },
  {
   "cell_type": "markdown",
   "id": "ea279e08",
   "metadata": {},
   "source": [
    "### Saving your work\n",
    "`Command` + `S` to save your work. Try saving this file (the save status is indicated at the bottom bar)\n",
    "\n",
    "---"
   ]
  },
  {
   "cell_type": "markdown",
   "id": "7f5095eb-1f67-47a0-982e-c5111d488cce",
   "metadata": {},
   "source": [
    "## Part 2: Introduction to R\n",
    "We might not get through this entire section, but it should be relatively straightforward to go through on your own at home. "
   ]
  },
  {
   "cell_type": "markdown",
   "id": "56a873a6",
   "metadata": {},
   "source": [
    "## **R Foundations**\n",
    "This is an incredibly brief overview of R tailored to the needs of this class. Look at the bcourses for some additional R resources.\n",
    "We will learn:\n",
    "1. What are packages and functions in R?\n",
    "2. How do you look up functions?\n",
    "3. What are the data types in R?\n",
    "4. What are vectors in R?\n",
    "5. What are the operators in R?\n",
    "\n",
    "\n",
    "### What are Packages? Why do I need them?\n",
    "\n",
    "Packages are a collection of functions in R. Packages are stored in libraries. The terms package and library are sometimes used synonymously. You load a package using `library(package_name)`.\n",
    "\n",
    " In each assignment, you will run a code chunk that loads packages. These are packages that others have developed to make our lives easier. Rather than having to write code from scratch for complex problems, others have already simplified the process for us."
   ]
  },
  {
   "cell_type": "code",
   "execution_count": null,
   "id": "e610af92-dca6-41e1-b570-a9c8caf93171",
   "metadata": {
    "scrolled": true,
    "tags": []
   },
   "outputs": [],
   "source": [
    "# RUN THIS CELL\n",
    "\n",
    "# install.packages(\"testthat\")\n",
    "# install.packages(\"tidyverse\")\n",
    "\n",
    "library(testthat) \n",
    "library(tidyverse) "
   ]
  },
  {
   "cell_type": "markdown",
   "id": "4fb53956",
   "metadata": {},
   "source": [
    "\n",
    "\n",
    "### What are Functions?\n",
    "Just like in math, you give a function an input (aka parameter) and then it will return a specified transformation of the function. Parameters are always surrounded by `()`.\n",
    "\n",
    "In math, this would look like...\n",
    "\n",
    "$$f(x) = x * 2$$\n",
    "\n",
    "Let's take a look at some basic functions below. What does each one do?"
   ]
  },
  {
   "cell_type": "code",
   "execution_count": null,
   "id": "3894c3ca",
   "metadata": {
    "tags": []
   },
   "outputs": [],
   "source": [
    "# TODO: CHANGE THE PARAMETER\n",
    "print(\"change me, I am a parameter\")"
   ]
  },
  {
   "cell_type": "code",
   "execution_count": null,
   "id": "49223b63",
   "metadata": {
    "tags": []
   },
   "outputs": [],
   "source": [
    "# TODO: CHANGE THE INPUT\n",
    "sum(c(1, 2, 3))"
   ]
  },
  {
   "cell_type": "code",
   "execution_count": null,
   "id": "a3c2c43f-ea40-46be-baa5-56fa57f8b5d3",
   "metadata": {
    "tags": []
   },
   "outputs": [],
   "source": [
    "# TODO: CHANGE THE INPUT\n",
    "mean(c(1, 2, 3, 4, 5))"
   ]
  },
  {
   "cell_type": "code",
   "execution_count": null,
   "id": "1a7b7f6f-f303-45bd-99b8-9137a34772a9",
   "metadata": {
    "tags": []
   },
   "outputs": [],
   "source": [
    "# TODO: CHANGE THE INPUT\n",
    "median(c(1,2,3,4,5))"
   ]
  },
  {
   "cell_type": "code",
   "execution_count": null,
   "id": "456a1e37-f5e8-4609-8a12-3bea5c3baa07",
   "metadata": {
    "tags": []
   },
   "outputs": [],
   "source": [
    "# TODO: CHANGE THE INPUT\n",
    "max(c(1,2,3,4,5))"
   ]
  },
  {
   "cell_type": "markdown",
   "id": "0a6f4d3a",
   "metadata": {},
   "source": [
    "### Looking up Functions\n",
    "If you do not know what a function does, or what parameters a function takes, you can look it up by using `?function_name`. For example...\n",
    "\n",
    "You can also google! There is a lot of documentation for R online. "
   ]
  },
  {
   "cell_type": "code",
   "execution_count": null,
   "id": "685fb24f",
   "metadata": {
    "tags": []
   },
   "outputs": [],
   "source": [
    "## TODO: RUN THIS CELL\n",
    "?sum"
   ]
  },
  {
   "cell_type": "markdown",
   "id": "c18439e7",
   "metadata": {},
   "source": [
    "--- \n",
    "\n",
    "### Data Types\n",
    "There are different data types in R. The main ones we will be working with are:\n",
    "\n",
    "1. Characters, denoted by \"quotation marks\"\n",
    "2. Integers, numeric with no decimals\n",
    "3. Doubles, numeric with decimals\n",
    "4. Logicals, `TRUE` or `FALSE`, `T` or `F`"
   ]
  },
  {
   "cell_type": "code",
   "execution_count": null,
   "id": "7cea3d0b",
   "metadata": {
    "tags": []
   },
   "outputs": [],
   "source": [
    "# character\n",
    "\"hey hey\"\n",
    "\n",
    "# integer\n",
    "1\n",
    "\n",
    "# double\n",
    "1.5\n",
    "\n",
    "# logical\n",
    "TRUE\n",
    "FALSE\n",
    "T\n",
    "F"
   ]
  },
  {
   "cell_type": "markdown",
   "id": "117543a6-d300-4458-948e-e36c82c5d9c6",
   "metadata": {
    "tags": []
   },
   "source": [
    "**Look at the code block below. Why is it throwing an error?**"
   ]
  },
  {
   "cell_type": "code",
   "execution_count": null,
   "id": "934e7e69-bdfa-4b07-a90d-a4ac8cffefca",
   "metadata": {
    "tags": []
   },
   "outputs": [],
   "source": [
    "sum(\"1\", \"2\")"
   ]
  },
  {
   "cell_type": "code",
   "execution_count": null,
   "id": "7a500026-5a3b-4501-beb3-5b5ab842cb27",
   "metadata": {
    "tags": []
   },
   "outputs": [],
   "source": [
    "# TO DO: Fix the error in the code block above\n",
    "\n",
    "sum(\"1\", \"2\") # FIX THIS CODE"
   ]
  },
  {
   "cell_type": "markdown",
   "id": "6a6eabfc-b74f-45f7-8e18-1d980597aa88",
   "metadata": {
    "tags": []
   },
   "source": [
    "**In any coding language, TRUE is equivalent to 1, and FALSE is equivalent to 0. So we can actually do the following.**"
   ]
  },
  {
   "cell_type": "code",
   "execution_count": null,
   "id": "43de3143-152e-4322-89a2-031d36ebe03f",
   "metadata": {
    "tags": []
   },
   "outputs": [],
   "source": [
    "sum(TRUE, TRUE, FALSE)"
   ]
  },
  {
   "cell_type": "markdown",
   "id": "78f53a0d",
   "metadata": {},
   "source": [
    "### Variables\n",
    "We often want to assign values to a variable. We can do so by using the assignment operator `<-`. For good practice, we want to use variable names that are meaningful. "
   ]
  },
  {
   "cell_type": "code",
   "execution_count": null,
   "id": "df84a9f4",
   "metadata": {
    "tags": []
   },
   "outputs": [],
   "source": [
    "# string\n",
    "country_name <- \"Argentina\"\n",
    "\n",
    "# integer\n",
    "n_friends <- 10\n",
    "n_family <- 3 \n",
    "\n",
    "# double\n",
    "mph <- 60.5\n",
    "\n",
    "# logical\n",
    "include <- TRUE"
   ]
  },
  {
   "cell_type": "markdown",
   "id": "e91dd238",
   "metadata": {},
   "source": [
    "We can use variable names as a substitute for values in function. "
   ]
  },
  {
   "cell_type": "code",
   "execution_count": null,
   "id": "c82df195",
   "metadata": {
    "scrolled": true,
    "tags": []
   },
   "outputs": [],
   "source": [
    "# using the sum() function\n",
    "sum(n_friends, n_family)"
   ]
  },
  {
   "cell_type": "code",
   "execution_count": null,
   "id": "d55852d5-e4c1-47d1-b3f9-5d809d8fce0d",
   "metadata": {
    "tags": []
   },
   "outputs": [],
   "source": [
    "# using the print() function\n",
    "print(country_name)"
   ]
  },
  {
   "cell_type": "code",
   "execution_count": null,
   "id": "885e281e-a059-46df-bc32-7449984cc467",
   "metadata": {
    "tags": []
   },
   "outputs": [],
   "source": [
    "# using math operators\n",
    "n_friends + n_family\n",
    "n_friends - n_family"
   ]
  },
  {
   "cell_type": "markdown",
   "id": "f4eccf66",
   "metadata": {},
   "source": [
    "### Vectors\n",
    "We can store multiple variables together in vectors. "
   ]
  },
  {
   "cell_type": "code",
   "execution_count": null,
   "id": "0c37fa09",
   "metadata": {
    "tags": []
   },
   "outputs": [],
   "source": [
    "# EXAMPLES\n",
    "fruits <- c(\"Apple\", \"Banana\", \"Avocado\")\n",
    "scores <- c(80, 75, 100, 96, 100)\n",
    "mixed_data_types <- c(\"Apple\", 80)"
   ]
  },
  {
   "cell_type": "code",
   "execution_count": null,
   "id": "0a4a25ce-843c-4e71-a01d-9f73363b6060",
   "metadata": {
    "tags": []
   },
   "outputs": [],
   "source": [
    "# TO DO: Create your own vector of your hobbies, naming it my_hobbies\n",
    "\n",
    "my_hobbies <- NULL # REPLACE "
   ]
  },
  {
   "cell_type": "markdown",
   "id": "921156e3-692f-4b06-80c2-7556012bfdaf",
   "metadata": {},
   "source": [
    "We can run functions on vectors"
   ]
  },
  {
   "cell_type": "code",
   "execution_count": null,
   "id": "759b46ef-e1b7-4484-8f18-0d515e34d4ba",
   "metadata": {
    "tags": []
   },
   "outputs": [],
   "source": [
    "# EXAMPLES\n",
    "\n",
    "# take the mean of the scores\n",
    "mean(scores)\n",
    "\n",
    "# sort the fruits in alphabetical order\n",
    "sort(fruits)"
   ]
  },
  {
   "cell_type": "code",
   "execution_count": null,
   "id": "0bb17d34-269c-4d98-a326-108514845226",
   "metadata": {},
   "outputs": [],
   "source": [
    "# TO DO: Sort your hobbies in alphabetical order\n"
   ]
  },
  {
   "cell_type": "markdown",
   "id": "38c733a7",
   "metadata": {},
   "source": [
    "---\n",
    "## Operators\n"
   ]
  },
  {
   "cell_type": "markdown",
   "id": "c0cecb5d-8726-42b6-9f2d-e6d24b4cdbcc",
   "metadata": {},
   "source": [
    "R categorizes into:\n",
    "* Arithmetic operators \n",
    "    * `+` : Add\n",
    "    * `-` : Subtract\n",
    "* Assignment operators\n",
    "    * `<-`: Assignment operator (as reviewed above)\n",
    "* Comparison operators\n",
    "    * `!=`: Does not equals\n",
    "    * `>=`: Greater than or equal to\n",
    "    * `<=`: Less than or equal to\n",
    "    * `>`: Greater than\n",
    "    * `<`: Less than\n",
    "* Logical operators\n",
    "    * `|` : OR - returns true if at least one is TRUE\n",
    "    * `&` : AND - returns true if both are TRUE\n",
    "* Miscellaneous operators"
   ]
  },
  {
   "cell_type": "code",
   "execution_count": null,
   "id": "ab92436d",
   "metadata": {
    "tags": []
   },
   "outputs": [],
   "source": [
    "# EX: TRUE OR FALSE\n",
    "TRUE | FALSE\n",
    "\n",
    "# TO DO: FALSE OR FALSE\n"
   ]
  },
  {
   "cell_type": "code",
   "execution_count": null,
   "id": "27ec76f1",
   "metadata": {},
   "outputs": [],
   "source": [
    "# EX: TRUE AND FALSE\n",
    "TRUE & FALSE\n",
    "\n",
    "# TO DO: FALSE AND FALSE\n"
   ]
  },
  {
   "cell_type": "code",
   "execution_count": null,
   "id": "f2ca4dc1",
   "metadata": {},
   "outputs": [],
   "source": [
    "# EX: \"A\" EQUALS \"A\"\n",
    "\"A\" == \"A\"\n",
    "\n",
    "# TO DO: \"A\" EQUALS \"B\"\n"
   ]
  },
  {
   "cell_type": "code",
   "execution_count": null,
   "id": "0b3f7e54",
   "metadata": {
    "tags": []
   },
   "outputs": [],
   "source": [
    "# EX: \"A\" DOES NOT EQUALS \"A\"\n",
    "\"A\" != \"A\"\n",
    "\n",
    "# TO DO: \"A\" DOES NOT EQUAL \"B\"\n"
   ]
  },
  {
   "cell_type": "code",
   "execution_count": null,
   "id": "3e195658",
   "metadata": {
    "tags": []
   },
   "outputs": [],
   "source": [
    "# EX: 2 GREATER THAN OR EQUAL TO 1\n",
    "2 >= 1\n",
    "\n",
    "# TO DO: 2 LESS THAN 1\n"
   ]
  },
  {
   "cell_type": "markdown",
   "id": "051d7dbe-387b-4003-8662-393b65cce611",
   "metadata": {
    "tags": []
   },
   "source": [
    "## Next Time\n",
    "Keep building on these fundamentals, and start working with datasets in R. Next discussion session will be designed to help you get through your first problem set.  "
   ]
  },
  {
   "cell_type": "markdown",
   "id": "54f6c10e-f1d0-45ce-844b-7b7b136d4774",
   "metadata": {
    "tags": []
   },
   "source": [
    "# Practice Submitting to Gradescope"
   ]
  },
  {
   "cell_type": "code",
   "execution_count": null,
   "id": "9fe5d5c3-a909-4065-ab53-7b18a0fdcea2",
   "metadata": {},
   "outputs": [],
   "source": [
    "ottr::export(\"discussion1.ipynb\")"
   ]
  }
 ],
 "metadata": {
  "celltoolbar": "Slideshow",
  "kernelspec": {
   "display_name": "R",
   "language": "R",
   "name": "ir"
  },
  "language_info": {
   "codemirror_mode": "r",
   "file_extension": ".r",
   "mimetype": "text/x-r-source",
   "name": "R",
   "pygments_lexer": "r",
   "version": "4.3.2"
  }
 },
 "nbformat": 4,
 "nbformat_minor": 5
}
