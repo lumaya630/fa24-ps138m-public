{
 "cells": [
  {
   "cell_type": "markdown",
   "id": "a45271d0-6e97-4d97-967a-cb92d3f88355",
   "metadata": {},
   "source": [
    "# Section 4: Simple Linear Regression"
   ]
  },
  {
   "cell_type": "code",
   "execution_count": null,
   "id": "f48ec0ec-88aa-41b3-9d56-b3121c4a7d93",
   "metadata": {},
   "outputs": [],
   "source": [
    "# RUN THIS CELL\n",
    "# Load packages\n",
    "library(testthat)\n",
    "library(tidyverse) %>% suppressMessages()"
   ]
  },
  {
   "cell_type": "markdown",
   "id": "db62cb2a-789b-45a4-9e5d-be6cfb73b6e1",
   "metadata": {},
   "source": [
    "Load dataset"
   ]
  },
  {
   "cell_type": "code",
   "execution_count": null,
   "id": "7cf4e870-e98f-45ec-8866-048b147efaab",
   "metadata": {
    "scrolled": true
   },
   "outputs": [],
   "source": [
    "# read in dataset\n",
    "cho <- read.csv(\"cho_rep_clean.csv\") %>% rename(catholic = catholic2)\n",
    "\n",
    "# display first 6 rows\n",
    "head(cho)"
   ]
  },
  {
   "cell_type": "markdown",
   "id": "5913ada7-328f-4ff6-bf90-37c9841dac31",
   "metadata": {},
   "source": [
    "## The Dataset"
   ]
  },
  {
   "cell_type": "markdown",
   "id": "f4d70ed7-5aa0-4cec-bb10-0f56e24317e7",
   "metadata": {},
   "source": [
    "How many rows are in the dataset? What does each row represent?"
   ]
  },
  {
   "cell_type": "code",
   "execution_count": null,
   "id": "4d17f387-9807-4dfb-9fe2-73d8e99fd10b",
   "metadata": {
    "scrolled": true
   },
   "outputs": [],
   "source": [
    "n_countries <- nrow(cho)\n",
    "n_countries"
   ]
  },
  {
   "cell_type": "markdown",
   "id": "f0bd0f1f-8b14-4a70-b94f-28f642067613",
   "metadata": {},
   "source": [
    "### Variables\n",
    "- What is the variable that represents human trafficking severity? \n",
    "- What is the variable that represents legal prostitution?"
   ]
  },
  {
   "cell_type": "markdown",
   "id": "a0e978a2-44f2-4dd4-8f79-2c1de08afa0e",
   "metadata": {},
   "source": [
    "_Your answer here_"
   ]
  },
  {
   "cell_type": "markdown",
   "id": "6c512f55-d8d1-4389-8cef-148b39a3d547",
   "metadata": {},
   "source": [
    "Filter to the countries with legalized prostitution. "
   ]
  },
  {
   "cell_type": "code",
   "execution_count": null,
   "id": "bcc7ef37-c77a-40d9-ab39-54b62e522e1b",
   "metadata": {},
   "outputs": [],
   "source": [
    "cho_legal <- cho %>% filter(prostitutionlaw == 1)\n",
    "cho_legal"
   ]
  },
  {
   "cell_type": "markdown",
   "id": "6dc28ac8-4354-46b9-9ca2-03732d071574",
   "metadata": {},
   "source": [
    "Filter to the countries without legalized prostitution. "
   ]
  },
  {
   "cell_type": "code",
   "execution_count": null,
   "id": "4433e5a9-c6fc-4d56-9792-810f42d20750",
   "metadata": {},
   "outputs": [],
   "source": [
    "cho_legal <- cho %>% filter(prostitutionlaw == 0)\n",
    "cho_legal"
   ]
  },
  {
   "cell_type": "markdown",
   "id": "ba61da2c-2b5c-4396-84ec-ae789414c8b5",
   "metadata": {},
   "source": [
    "## Simple Linear Regression\n",
    "A simple linear regression will compare these two groups. \n",
    "\n",
    "### Visual\n",
    "The code below plots a graph with legal status of prostitution on the X axis, and human trafficking severity on the Y axis. The blue line is the line of best fit extracted from the linear regression. \n",
    "\n",
    "Does it look like there is a significant difference in human trafficking flows between those with legalized prostitution and those without? Is this suggestive that legalizing prostitution could be increase human trafficking?"
   ]
  },
  {
   "cell_type": "code",
   "execution_count": null,
   "id": "d4b8a200-d058-41fb-bb97-a02e75cf0963",
   "metadata": {},
   "outputs": [],
   "source": [
    "cho %>% ggplot(aes(x =prostitutionlaw, y =  htflowsunodc)) +\n",
    "geom_point(alpha = 0.05) + \n",
    "geom_smooth(method = \"lm\", se = F) +\n",
    "  theme(text = element_text(size = 20)) "
   ]
  },
  {
   "cell_type": "markdown",
   "id": "9d952287-6c87-4fca-9007-2a0fb5cc0d12",
   "metadata": {},
   "source": [
    "### If I have a dataset, can I retrieve the line of best fit between two variables myself?\n",
    "Yes, you can!\n",
    "\n",
    "To run the linear regression yourself, all you need to know is the **dependent variable, the independent variable, and the dataset name**. (No, you do not need to know the math to fit the line yourself; r will do it for you! If you are interested in the math, let me know and I can point you at some resources/online videos.)\n",
    "\n",
    "We use the `lm` function to run a simple linear regression. The `lm` function takes in...\n",
    "\n",
    "    lm(dv ~ iv, data = df)\n",
    "\n",
    "It's that simple! So for the cho data, it would be..."
   ]
  },
  {
   "cell_type": "code",
   "execution_count": null,
   "id": "6c11eef7-8228-40e5-b148-f0fb7aa4027e",
   "metadata": {},
   "outputs": [],
   "source": [
    "# EXAMPLE: Bivariate Equation\n",
    "mod_legal <- lm(htflowsunodc ~ prostitutionlaw, data = cho)\n",
    "\n",
    "summary(mod_legal)"
   ]
  },
  {
   "cell_type": "markdown",
   "id": "b117bc71-f358-4052-875b-5fae0a4ea8b1",
   "metadata": {},
   "source": [
    "#### Interpretation\n",
    "A one unit increase in legal status of prostituion is associated with a 0.70 increase in the human trafficking index. Correlation, not causation.  "
   ]
  },
  {
   "cell_type": "markdown",
   "id": "d9e21a37-14ea-4695-a393-9bdf52fc4117",
   "metadata": {},
   "source": [
    "---\n",
    "## Your turn! Let's practice using and interpreting linear regression with two variables\n",
    "Note: This is real data. So the relationships your observing are reflective of the real world. Isn't that cool?"
   ]
  },
  {
   "cell_type": "markdown",
   "id": "c9890a64-553b-4cef-812a-89611a261620",
   "metadata": {},
   "source": [
    "### Q1) Democracy and Human Trafficking?\n",
    "Run a regression where we investigate: Does democracy have a relationship with human trafficking flows?\n",
    "\n",
    "- IV: `democracy`\n",
    "- DV: `htflowsunodc`\n",
    "\n",
    "$$htflowsunodc = \\alpha + \\beta_1 democracy + \\epsilon_i$$"
   ]
  },
  {
   "cell_type": "markdown",
   "id": "34368236-dcd7-4c39-ba3d-37597240e02c",
   "metadata": {},
   "source": [
    "Visually, it looks like there is a relationship."
   ]
  },
  {
   "cell_type": "code",
   "execution_count": null,
   "id": "bd6efaaa-9e5d-4522-9f76-e26dce8b5c31",
   "metadata": {},
   "outputs": [],
   "source": [
    "# RUN, No need to edit\n",
    "cho %>% ggplot(aes(x =democracy, y =  htflowsunodc)) +\n",
    "geom_point() + \n",
    "geom_smooth(method = \"lm\", se = F) +\n",
    "  theme(text = element_text(size = 20)) "
   ]
  },
  {
   "cell_type": "markdown",
   "id": "ea24b553-bf1c-4400-a967-6d9363eb6d8c",
   "metadata": {
    "deletable": false,
    "editable": false
   },
   "source": [
    "Your task: Use `lm` to estimate the relationship. "
   ]
  },
  {
   "cell_type": "code",
   "execution_count": null,
   "id": "d2f3b610-f6d7-4ba1-8e43-b3436c09b831",
   "metadata": {
    "tags": []
   },
   "outputs": [],
   "source": [
    "# YOUR ANSWER HERE\n",
    "mod1 <- NULL # YOUR CODE HERE\n",
    "\n",
    "summary(mod1)"
   ]
  },
  {
   "cell_type": "code",
   "execution_count": null,
   "id": "c96af1c5",
   "metadata": {
    "deletable": false,
    "editable": false
   },
   "outputs": [],
   "source": [
    ". = ottr::check(\"tests/Q1.R\")"
   ]
  },
  {
   "cell_type": "markdown",
   "id": "f6bdee56-15d7-4cd7-8d89-ac3f73ac4bfd",
   "metadata": {},
   "source": [
    "#### Interpretation\n",
    "How would you interpret $\\alpha$ and $\\beta_1$? Your value for $\\alpha$ should be 2.02, and $\\beta_1$ should be 0.77. Are democracies associated with higher rates of trafficking inflow?"
   ]
  },
  {
   "cell_type": "markdown",
   "id": "42d5fdd5-3801-4e6d-a480-b4c44b257d42",
   "metadata": {},
   "source": [
    "_Replace this text._"
   ]
  },
  {
   "cell_type": "markdown",
   "id": "b6420fae-5b41-4ae7-bb74-c91cf5597c1a",
   "metadata": {},
   "source": [
    "### Q2) Democracy and Legalized Prostitution?"
   ]
  },
  {
   "cell_type": "markdown",
   "id": "3881dd85-6d60-4a73-bf7b-7ab6607d07f6",
   "metadata": {},
   "source": [
    "Run a regression where we investigate: Does gdp per capita have a relationship with human trafficking flows?\n",
    "\n",
    "- IV: `democracy`\n",
    "- DV: `prostitutionlaw`\n",
    "\n",
    "$$prostitutionlaw = \\alpha + \\beta_1 democracy + \\epsilon_i$$"
   ]
  },
  {
   "cell_type": "markdown",
   "id": "c5f4f0ed-2cde-45f0-96e6-b4b04c4c10c6",
   "metadata": {},
   "source": [
    "Visually, it looks like there is a relationship. "
   ]
  },
  {
   "cell_type": "code",
   "execution_count": null,
   "id": "56580a37-0d33-4166-beb6-d2419d650b7e",
   "metadata": {},
   "outputs": [],
   "source": [
    "# RUN, No need to edit\n",
    "cho %>% ggplot(aes(x =democracy, y =  prostitutionlaw)) +\n",
    "geom_point() + \n",
    "geom_smooth(method = \"lm\", se = F) +\n",
    "  theme(text = element_text(size = 20)) "
   ]
  },
  {
   "cell_type": "markdown",
   "id": "92721f35-1aca-4483-a821-dd51394a2294",
   "metadata": {
    "deletable": false,
    "editable": false
   },
   "source": [
    "Your task: Use `lm` to estimate the relationship."
   ]
  },
  {
   "cell_type": "code",
   "execution_count": null,
   "id": "80085719-626f-4e24-b265-fc88557b7bc5",
   "metadata": {
    "scrolled": true,
    "tags": []
   },
   "outputs": [],
   "source": [
    "# YOUR ANSWER HERE\n",
    "mod2 <- NULL # YOUR CODE HERE\n",
    "\n",
    "summary(mod2)"
   ]
  },
  {
   "cell_type": "code",
   "execution_count": null,
   "id": "86c86446",
   "metadata": {
    "deletable": false,
    "editable": false
   },
   "outputs": [],
   "source": [
    ". = ottr::check(\"tests/Q2.R\")"
   ]
  },
  {
   "cell_type": "markdown",
   "id": "fe76e332-7b38-4345-bbc1-8ce40ab24672",
   "metadata": {},
   "source": [
    "#### Interpretation\n",
    "There is a relationship!\n",
    "\n",
    "Because prostitution law is a binary variable (takes on 0/1 values), you can interpret this as: \n",
    "\n",
    "* $\\alpha = 0.20755$: Non-democracies have an average probability of 0.21 for legalizing prostitution. \n",
    "* $\\beta_1 = 0.3899$: On average, relative to non-democracies, democracies are associated with 0.39 higher probability of legalized prostitution.\n",
    "\n",
    "Are democracies, on average, associated with a higher probability of legalizing prostitution? Which coefficient tells you this–$\\alpha$ or $\\beta_1$? What if $\\beta_1$ were negative?"
   ]
  },
  {
   "cell_type": "markdown",
   "id": "19542fcf-2f42-4c79-a93d-4fc1d893a769",
   "metadata": {},
   "source": [
    "_Replace this text_"
   ]
  },
  {
   "cell_type": "markdown",
   "id": "24ac3559-fffe-45f8-b97f-54cbc2cee7a6",
   "metadata": {},
   "source": [
    "### Q3) Wait a minute...Could democracy be driving this relationship?\n",
    "\n",
    "In other words, we could theorize democracies are more likely to legalize prostitution and democracies are likely to be recording human trafficking inflows.\n",
    "\n",
    "Is the relationship that we see (between legalized prostitution and human trafficking) simply be because democracies are more proactively documenting human trafficking? Legalizing prostitution doesn't actually make a difference and democracy is the alternative explanation of why we see this relationship. \n",
    "\n",
    "More on this next time. "
   ]
  },
  {
   "cell_type": "code",
   "execution_count": null,
   "id": "900e5d7b-e265-4819-9077-9843a2ff265a",
   "metadata": {
    "scrolled": true
   },
   "outputs": [],
   "source": [
    "cho %>% ggplot(aes(x =prostitutionlaw, y =  htflowsunodc)) +\n",
    "geom_point(alpha = 0.05) + \n",
    "geom_smooth(method = \"lm\", se = F) +\n",
    "  theme(text = element_text(size = 20)) "
   ]
  },
  {
   "cell_type": "markdown",
   "id": "0cf406bb-b350-4466-aa91-8c35bbea0639",
   "metadata": {
    "scrolled": true
   },
   "source": [
    "In your own words, why is democracy an alternative explanation to this relationship?"
   ]
  },
  {
   "cell_type": "markdown",
   "id": "e2703f17-89ed-4401-adc2-3c43eb35d3f3",
   "metadata": {},
   "source": [
    "_Your answer here_"
   ]
  },
  {
   "cell_type": "markdown",
   "id": "a19a610d-ee5e-40b7-aa7f-f7460b0c2787",
   "metadata": {},
   "source": [
    "---\n",
    "### Extra Time\n",
    "Explore more relationships in the code chunk below using `the` lm function:\n",
    "\n",
    "1. Are countries with higher gdp per capita (`gdp_pc_const_ppp_ln`) associated with lower rates of trafficking (`htflowsunodc`)? What is the estimated relationship?\n",
    "2. Are countries with higher shares of catholics (`catholic`) associated with lower rates of legalization (`prostitutionlaw`)? What is the estimated relationship?\n",
    "3. Are countries in West Europe (`reg_west_europe`) associated with higher rates of legalization (`prostitutionlaw`) relative to the rest of the countries?\n",
    "4. What about sub-saharan africa (`reg_ssa`)?\n",
    "5. What about latin america (`reg_latam`)?"
   ]
  },
  {
   "cell_type": "code",
   "execution_count": null,
   "id": "d00b6b17-cdce-497a-8195-2a823992d7c1",
   "metadata": {},
   "outputs": [],
   "source": [
    "# YOUR CODE HERE\n"
   ]
  },
  {
   "cell_type": "markdown",
   "id": "e6f6cde3-b577-4c42-a764-3c07f2a6c4d0",
   "metadata": {},
   "source": [
    "\n",
    "### Preview: Accounting for Democracy"
   ]
  },
  {
   "cell_type": "markdown",
   "id": "607e56f8-d8e8-4273-9ff7-b5952b52480f",
   "metadata": {},
   "source": [
    "The cell below is the original regression evaluateing the association between legalizing prostituion and human trafficking.\n",
    "\n",
    "    lm(dv ~ iv, data = df)"
   ]
  },
  {
   "cell_type": "code",
   "execution_count": null,
   "id": "2e5b6259-ad71-4ca6-b7bb-8f22b1822e6b",
   "metadata": {
    "scrolled": true
   },
   "outputs": [],
   "source": [
    "# RUN CELL DO NOT CHANGE\n",
    "lm(htflowsunodc ~ prostitutionlaw, data = cho) %>% summary()"
   ]
  },
  {
   "cell_type": "markdown",
   "id": "d98f2417-fd73-42e6-8ecd-69a397164312",
   "metadata": {},
   "source": [
    "The cell below accounts for democracy as a potential alternative explanation. We add in democracy on the right hand side as a \"control\" variable. \n",
    "\n",
    "*The cell below reads: What is the association of prostitutionlaw on human trafficking flows, holding democracy constant.*\n",
    "\n",
    "Example code:\n",
    "\n",
    "        lm(dv ~ iv + control, data = df)"
   ]
  },
  {
   "cell_type": "code",
   "execution_count": null,
   "id": "5831ff15-c8c2-4b2b-b36a-63c2791ca9f9",
   "metadata": {
    "scrolled": true
   },
   "outputs": [],
   "source": [
    "# RUN CELL DO NOT CHANGE\n",
    "lm(htflowsunodc ~ prostitutionlaw + democracy, data = cho) %>% summary()"
   ]
  },
  {
   "cell_type": "markdown",
   "id": "91e27f2c-4647-4076-9771-aa1790dce4c1",
   "metadata": {},
   "source": [
    "Look as the value for `prostitutionlaw` in the `Estimate` column for both regression outputs above. This represents $\\beta_1$. How does this change before and after including democracy? Why?"
   ]
  },
  {
   "cell_type": "markdown",
   "id": "fdb4d9da-a5e1-4928-8c86-6baaf537a8b8",
   "metadata": {},
   "source": [
    "_Your answer here_"
   ]
  },
  {
   "cell_type": "markdown",
   "id": "0ebb9d9f-2999-4de1-8976-b858e271f01c",
   "metadata": {},
   "source": [
    "---\n",
    "## Summary\n",
    "We are using linear regression (via the `lm` function) to quantify the relationship between X and Y. As of right now, this is purely a correlational relationship, not a causal relationship. \n",
    "\n",
    "This relationship is written as: \n",
    "$$Y= \\alpha + \\beta_1 X + \\epsilon_i$$\n",
    "\n",
    "$\\alpha$ is interpreted as: The value of Y when X = 0. \\\n",
    "$\\beta_1$ is interpreted as: A one unit increase in X is associated with a $\\beta_1$ unit increase in Y. "
   ]
  },
  {
   "cell_type": "markdown",
   "id": "9a6a83a0-aa19-4e82-86a4-23e8b353f0c5",
   "metadata": {},
   "source": [
    "## Next Time\n",
    "\n",
    "Since we can theorize these alternative explanations to this relationship, is there a way we can account for these in the regression?\n",
    "\n",
    "Yes:) We can try to isolate for the effect of legalizing prostitution by adding \"controls\", more next time!\n",
    "\n",
    "## What you need to know for Assignment #2\n",
    "Already covered:\n",
    "* Direction of Correlation\n",
    "* Independent variable, dependent variables\n",
    "* How do you interpret Y = 𝛼 + ꞵX \n",
    "\n",
    "Next time: \n",
    "* “Control” variables\n",
    "* lm() with control variables\n"
   ]
  }
 ],
 "metadata": {
  "kernelspec": {
   "display_name": "R",
   "language": "R",
   "name": "ir"
  },
  "language_info": {
   "codemirror_mode": "r",
   "file_extension": ".r",
   "mimetype": "text/x-r-source",
   "name": "R",
   "pygments_lexer": "r",
   "version": "4.3.2"
  }
 },
 "nbformat": 4,
 "nbformat_minor": 5
}
