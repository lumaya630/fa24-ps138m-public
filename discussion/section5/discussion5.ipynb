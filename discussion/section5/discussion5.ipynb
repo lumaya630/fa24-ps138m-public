{
 "cells": [
  {
   "cell_type": "markdown",
   "id": "3f03f526-aebc-4319-ba4c-d10379ab607a",
   "metadata": {},
   "source": [
    "# Section 5: Adding Control Variables"
   ]
  },
  {
   "cell_type": "markdown",
   "id": "618805e5-b486-4fc9-a661-48560ec43d7b",
   "metadata": {},
   "source": [
    "## Setup"
   ]
  },
  {
   "cell_type": "code",
   "execution_count": null,
   "id": "01bce9d7-1840-4021-9fd0-366f4591c1b3",
   "metadata": {},
   "outputs": [],
   "source": [
    "# RUN THIS CELL\n",
    "# Load packages\n",
    "library(testthat)\n",
    "library(tidyverse) %>% suppressMessages()"
   ]
  },
  {
   "cell_type": "code",
   "execution_count": null,
   "id": "1790953e-47f3-46b9-a4b3-50c0cc450a21",
   "metadata": {
    "scrolled": true
   },
   "outputs": [],
   "source": [
    "# read in dataset\n",
    "cho <- read.csv(\"cho_rep_clean.csv\") %>% rename(catholic = catholic2)\n",
    "\n",
    "# display first 6 rows\n",
    "head(cho)"
   ]
  },
  {
   "cell_type": "markdown",
   "id": "f4db0ec9-8e3c-4f27-8db6-8d7543e08c9a",
   "metadata": {},
   "source": [
    "## Basic Version"
   ]
  },
  {
   "cell_type": "code",
   "execution_count": null,
   "id": "14860845-5782-439b-bc9d-1ea1995179fc",
   "metadata": {},
   "outputs": [],
   "source": [
    "# EXAMPLE: Basic two variables\n",
    "mod_basic <- lm(htflowsunodc ~ prostitutionlaw, data = cho)\n",
    "\n",
    "summary(mod_basic)"
   ]
  },
  {
   "cell_type": "markdown",
   "id": "c7a06b07-08fd-472f-b52c-24c8594cb173",
   "metadata": {},
   "source": [
    "## With Controls"
   ]
  },
  {
   "cell_type": "markdown",
   "id": "dbc85b30-77f9-4293-959f-6aaf20f8060e",
   "metadata": {},
   "source": [
    "Specifications\n",
    "\n",
    "* DV: `htflowsunodc`\n",
    "* IV: `prostitutionlaw`\n",
    "* Control: `democracy`\n",
    "* Data: `cho`"
   ]
  },
  {
   "cell_type": "code",
   "execution_count": null,
   "id": "deb5b16a-683f-46bb-ab30-b5f691701007",
   "metadata": {},
   "outputs": [],
   "source": [
    "# With democracy as a control\n",
    "mod_controls1 <- lm(htflowsunodc ~ prostitutionlaw + democracy, data = cho)\n",
    "\n",
    "summary(mod_controls1)"
   ]
  },
  {
   "cell_type": "markdown",
   "id": "9818a6f6-5525-4460-8757-5d4c3d8408b0",
   "metadata": {},
   "source": [
    "Specifications\n",
    "\n",
    "* DV: `htflowsunodc`\n",
    "* IV: `prostitutionlaw`\n",
    "* Control: `democracy`, `catholic`\n",
    "* Data: `cho`"
   ]
  },
  {
   "cell_type": "code",
   "execution_count": null,
   "id": "36a36961-8895-457b-b143-b7b7b1a7ea74",
   "metadata": {
    "scrolled": true
   },
   "outputs": [],
   "source": [
    "# With democracy and catholic as a control\n",
    "mod_controls2 <- lm(htflowsunodc ~ prostitutionlaw + democracy + catholic , data = cho)\n",
    "\n",
    "summary(mod_controls2)"
   ]
  },
  {
   "cell_type": "markdown",
   "id": "d01e1d33-d9a9-4862-8602-3ecbd68a97e1",
   "metadata": {},
   "source": [
    "How does the estimate ($\\beta_1$) for prostituion law change as we add controls?"
   ]
  },
  {
   "cell_type": "markdown",
   "id": "816bf204-383e-4160-9611-bbb071b08ece",
   "metadata": {},
   "source": [
    "_Your solution here_"
   ]
  }
 ],
 "metadata": {
  "kernelspec": {
   "display_name": "R",
   "language": "R",
   "name": "ir"
  },
  "language_info": {
   "codemirror_mode": "r",
   "file_extension": ".r",
   "mimetype": "text/x-r-source",
   "name": "R",
   "pygments_lexer": "r",
   "version": "4.3.2"
  }
 },
 "nbformat": 4,
 "nbformat_minor": 5
}
