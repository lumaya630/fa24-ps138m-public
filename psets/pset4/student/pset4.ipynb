{
 "cells": [
  {
   "cell_type": "markdown",
   "id": "cc1e3b39",
   "metadata": {},
   "source": [
    "# Assignment 4: Human Trafficking in American Formal Sectors"
   ]
  },
  {
   "cell_type": "markdown",
   "id": "f9288542",
   "metadata": {},
   "source": [
    "### Substantive Objectives\n",
    "In this assignment, we will be taking a look at the domestic work and agriculture sector in the United States, and answering a set of questions. \n",
    "\n",
    "### Coding Objectives\n",
    "* None! This assignment is focused on sources that have drawn their findings from interviews, policy analysis, and other qualitative methods. These are still the most prevalent method in learning and understanding about human trafficking dynamics. "
   ]
  },
  {
   "cell_type": "markdown",
   "id": "27a07435",
   "metadata": {},
   "source": [
    "## Question 1: Common Myths"
   ]
  },
  {
   "cell_type": "markdown",
   "id": "5dd424ff",
   "metadata": {
    "deletable": false,
    "editable": false
   },
   "source": [
    "**Are the following statements true or false? Make sure you store TRUE or FALSE as booleans in their respective variable name.**\n",
    ">i) Human trafficking happens primarily in poor countries. \\\n",
    "ii) Human trafficking happens primarily in illegal/informal sectors.\\\n",
    "iii) Sex work is more commonly reported than forced labor, implying sex work is the predominant form of trafficking in the United States. "
   ]
  },
  {
   "cell_type": "code",
   "execution_count": null,
   "id": "7f8acea4",
   "metadata": {
    "tags": []
   },
   "outputs": [],
   "source": [
    "# YOUR ANSWER HERE\n",
    "i <- FALSE # ANSWER\n",
    "ii <- NULL # YOUR CODE HERE\n",
    "iii <- NULL # YOUR CODE HERE"
   ]
  },
  {
   "cell_type": "code",
   "execution_count": null,
   "id": "c16f6fe7",
   "metadata": {
    "deletable": false,
    "editable": false
   },
   "outputs": [],
   "source": [
    ". = ottr::check(\"tests/q1.R\")"
   ]
  },
  {
   "cell_type": "markdown",
   "id": "1cddc373",
   "metadata": {
    "deletable": false,
    "editable": false
   },
   "source": [
    "<!-- BEGIN QUESTION -->\n",
    "\n",
    "## Question 2: Domestic Work\n",
    "**In this question, we will discuss the vulnerabilities of domestic work.**\n",
    "\n",
    ">(i) Why are private household at risk for human trafficking?\\\n",
    "(ii) What role do gender norms and power structures play?\\\n",
    "(iii) What visa's do domestic workers typically have? What are the differences between the visas?\\\n",
    "(iii) Do migrant workers hold the same rights as other migrant workers? If not, what are their differences and why do they hold different rights?\\\n",
    "(iv) Not just in the United States, but in the Gulf States, Europe, and Northeast Asia, there is criticism on visa restrictions that prevent migrants from changing employers. Why does the inability to change employers a risk factor for migrants and why do you think this policy is so widespread around the world?"
   ]
  },
  {
   "cell_type": "markdown",
   "id": "45768222",
   "metadata": {},
   "source": [
    "_Type your answer here, replacing this text._"
   ]
  },
  {
   "cell_type": "markdown",
   "id": "29bf615b",
   "metadata": {
    "deletable": false,
    "editable": false
   },
   "source": [
    "<!-- END QUESTION -->\n",
    "\n",
    "<!-- BEGIN QUESTION -->\n",
    "\n",
    "## Question 3: Agriculture\n",
    "**In this question, we will discuss the vulnerabilities of the agriculture sector. Reference this [article](https://www.splcenter.org/20130218/close-slavery-guestworker-programs-united-states).**\n",
    "\n",
    "> (i) What is the guestworker program in the US? What are the two types of visas and their different provisions?\\\n",
    "(ii) What is debt bondage and why does it put guestworkers at risk?\\\n",
    "(iii) Why do lawsuits against forced labor accusations often fall through?\\\n",
    "(iv) Why do employers prefer migrant workers or domestic workers? Why are farm-owners determined to cut labor costs? What are some of the strategies employers do to weed out domestic (U.S.) applicants?\\\n",
    "(v) Are agricultural workers covered by the National Labor Relations Act of 1935? What are the implications?"
   ]
  },
  {
   "cell_type": "markdown",
   "id": "81b5a577",
   "metadata": {},
   "source": [
    "_Type your answer here, replacing this text._"
   ]
  },
  {
   "cell_type": "markdown",
   "id": "ae2b2da6",
   "metadata": {
    "deletable": false,
    "editable": false
   },
   "source": [
    "<!-- END QUESTION -->\n",
    "\n",
    "<!-- BEGIN QUESTION -->\n",
    "\n",
    "## Question 4: Government Action"
   ]
  },
  {
   "cell_type": "markdown",
   "id": "493e554d",
   "metadata": {
    "deletable": false,
    "editable": false
   },
   "source": [
    "**In this question, we will talk about the government response to trafficking over the past century.**\n",
    "\n",
    ">(i) What is the T-Visa?\\\n",
    "(ii) What is the TVPA?\\\n",
    "(iii) Have there been succesful cases that found employers at fault for human trafficking? What do you think the implications of these cases are for the future?\\\n",
    "(iv) What are the United States efforts under the 3 P's: prevention, prosecution, and protection? How does this compare to the country that you selected for your case in the previous problem set? (Please specify the country name)"
   ]
  },
  {
   "cell_type": "markdown",
   "id": "f7428b7e",
   "metadata": {},
   "source": [
    "_Type your answer here, replacing this text._"
   ]
  },
  {
   "cell_type": "markdown",
   "id": "964a0c48",
   "metadata": {
    "deletable": false,
    "editable": false
   },
   "source": [
    "<!-- END QUESTION -->\n",
    "\n",
    "<!-- BEGIN QUESTION -->\n",
    "\n",
    "## Question 5: Conclusion"
   ]
  },
  {
   "cell_type": "markdown",
   "id": "468621e2",
   "metadata": {
    "deletable": false,
    "editable": false
   },
   "source": [
    "Summarise the legal frameworks and flaws that contribute to the risk factors of being trafficked in the United States. Then think through what we've learned in class so far and compare the differences in human trafficking in high and low-income countries. You can think about the sectors that trafficking is prevalent in, the capacity of law enforcement, the legal protections in place, positioning in the global supply chain, among others. "
   ]
  },
  {
   "cell_type": "markdown",
   "id": "cf48dfda",
   "metadata": {},
   "source": [
    "_Type your answer here, replacing this text._"
   ]
  },
  {
   "cell_type": "markdown",
   "id": "0f46090c",
   "metadata": {
    "deletable": false,
    "editable": false
   },
   "source": [
    "<!-- END QUESTION -->\n",
    "\n",
    "# Submitting Your Notebook (please read carefully!)\n",
    "\n",
    "To submit your notebook...\n",
    "\n",
    "### 1. Click `File` $\\rightarrow$ `Save Notebook`.\n",
    "\n",
    "### 2. Wait 5 seconds.\n",
    "\n",
    "### 3. Select the cell below and hit run.tion:**"
   ]
  },
  {
   "cell_type": "code",
   "execution_count": null,
   "id": "46ba2ac5",
   "metadata": {},
   "outputs": [],
   "source": [
    "ottr::export(\"pset4.ipynb\")"
   ]
  },
  {
   "cell_type": "markdown",
   "id": "f87423a4",
   "metadata": {},
   "source": [
    "After you hit \"Run\" on the cell above, click the download link. A .zip file should download to your computer.\n",
    "\n",
    "(If you make changes to your notebook, you'll need to hit save and then run the cell above again before you submit to get a new version of it.)\n",
    "\n",
    "### 4. Submit the .zip file you just downloaded <a href=\"https://www.gradescope.com/\" target=\"_blank\">on Gradescope here</a>.\n",
    "\n",
    "Notes:\n",
    "\n",
    "- **This does not seem to work on Chrome for iPad or iPhone.** If you're using an iPad or iPhone, you need to download the file using **Safari**.\n",
    "- If your web browser automatically unzips the .zip file (so you see a folder instead of a .zip file), you can just upload the .ipynb file that is inside the folder.\n",
    "- If this method is not working for you, try this: hit `File`, then `Download as`, then `Notebook (.ipynb)` and submit that."
   ]
  }
 ],
 "metadata": {
  "kernelspec": {
   "display_name": "R",
   "language": "R",
   "name": "ir"
  },
  "language_info": {
   "codemirror_mode": "r",
   "file_extension": ".r",
   "mimetype": "text/x-r-source",
   "name": "R",
   "pygments_lexer": "r",
   "version": "4.3.2"
  }
 },
 "nbformat": 4,
 "nbformat_minor": 5
}
