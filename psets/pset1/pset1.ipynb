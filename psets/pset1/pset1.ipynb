{
 "cells": [
  {
   "cell_type": "markdown",
   "id": "babea043",
   "metadata": {},
   "source": [
    "# Assignment 1: Introduction to Human Trafficking"
   ]
  },
  {
   "cell_type": "markdown",
   "id": "fd3ae294",
   "metadata": {},
   "source": [
    "### Substantive Objectives\n",
    "What does human trafficking look like? In class, we've gone through readings that describe and analyze the practice. In this assignment, we will supplement our existing knowledge using data. The increasing emphasis on  data in society and the social sciences has created a new demand for us to have the skills and active practice of thinking critically through how others interpret data, to double check their work, and to be able to draw conclusions from data ourselves. \n",
    "\n",
    "This assignment will be using dataset that aggregates reported cases of trafficking around the world, highlighting the forms of trafficking,  means of control, and recruiters involved. The goal is primarily for you to think critically about different measurements and interpretations of the same data, and additionally to introduce you to coding and working with large datasets. \n",
    "\n",
    "### Coding Objectives\n",
    "\n",
    "Learn how to use the following functions. \n",
    "1) `read.csv()`\n",
    "2) `nrow()`\n",
    "3) `filter()` and `select()`\n",
    "4) `summarise()`\n",
    "5) `mean()`"
   ]
  },
  {
   "cell_type": "markdown",
   "id": "8816e88b",
   "metadata": {},
   "source": [
    "## Setup\n",
    "The cell below loads the [packages](https://www.geeksforgeeks.org/packages-in-r-programming/) needed for this assignment. You must run the cell for the rest of the assignment to work. "
   ]
  },
  {
   "cell_type": "code",
   "execution_count": null,
   "id": "0609de0d",
   "metadata": {},
   "outputs": [],
   "source": [
    "# You *must* run this cell first. Do not change the contents of this cell.\n",
    "library(testthat)\n",
    "library(ottr)\n",
    "library(tidyverse) %>% suppressMessages()"
   ]
  },
  {
   "cell_type": "markdown",
   "id": "14e8b15d",
   "metadata": {
    "deletable": false,
    "editable": false
   },
   "source": [
    "<!-- BEGIN QUESTION -->\n",
    "\n",
    "-----\n",
    "## Question 1: ChatGPT\n",
    "**Ask chat gpt the following: *\"Define human trafficking. Expand on the history of human trafficking, how the modern concept of human trafficking emerged.\"*** \n",
    "    \n",
    "**a) (1 point) Copy paste the output below.**"
   ]
  },
  {
   "cell_type": "markdown",
   "id": "bea0f380",
   "metadata": {},
   "source": [
    "_Type your answer here, replacing this text._"
   ]
  },
  {
   "cell_type": "markdown",
   "id": "a65255da",
   "metadata": {
    "deletable": false,
    "editable": false
   },
   "source": [
    "<!-- END QUESTION -->\n",
    "\n",
    "<!-- BEGIN QUESTION -->\n",
    "\n",
    "**b) (3 points) Answer the following questions.**\n",
    "\n",
    ">**(i) (1 point) What would you change or add based on the history and definition of human trafficking presented in class and in your readings? Name at least two. \\\n",
    "(ii) (1 point) What are the strengths and weaknesses of its answer? \\\n",
    "(iii) (1 point) What steps should you take to verify its response?**"
   ]
  },
  {
   "cell_type": "markdown",
   "id": "5391be56",
   "metadata": {},
   "source": [
    "_Type your answer here, replacing this text._"
   ]
  },
  {
   "cell_type": "markdown",
   "id": "d52e2406",
   "metadata": {
    "deletable": false,
    "editable": false
   },
   "source": [
    "<!-- END QUESTION -->\n",
    "\n",
    "-----\n",
    "## Question 2: Types of Data and Human Trafficking\n",
    "<span style=\"color:#3268a4\">"
   ]
  },
  {
   "cell_type": "markdown",
   "id": "53b4b353",
   "metadata": {
    "deletable": false,
    "editable": false
   },
   "source": [
    "<!-- BEGIN QUESTION -->\n",
    "\n",
    "**2a)(4 points) What can we learn about victims from in-depth interviews and individual cases? What can we learn about trafficking from large datasets of information? Name 2 from each.**"
   ]
  },
  {
   "cell_type": "markdown",
   "id": "09794341",
   "metadata": {},
   "source": [
    "_Type your answer here, replacing this text._"
   ]
  },
  {
   "cell_type": "markdown",
   "id": "55f1bc89",
   "metadata": {
    "deletable": false,
    "editable": false
   },
   "source": [
    "<!-- END QUESTION -->\n",
    "\n",
    "---\n",
    "## Question 3: Understanding the Data\n",
    "<span style=\"color:#3268a4\">"
   ]
  },
  {
   "cell_type": "markdown",
   "id": "d0302684",
   "metadata": {},
   "source": [
    "The global counter-trafficking community has recognized the importance of inter-organizational coordination in the standardization and consolidation of human trafficking data worldwide. While we are far from reaching an ideal standard, organizations such as the IOM have started taking steps towards this. The code chunk below loads a synthetic dataset provided by the [Counter Trafficking Data Collaborative](https://www.ctdatacollaborative.org/page/about) that is \"the first global data hub on human trafficking, publishing harmonized data from counter-trafficking organizations around the world,\" that aggregates individual level data from various organizations. \n",
    "\n",
    "Note: A synthetic dataset is information that's been generated on a computer to augment or replace real data. In this case, the use of synthetic data is to protect sensitive data on human trafficking victims. "
   ]
  },
  {
   "cell_type": "code",
   "execution_count": null,
   "id": "10cd8cc6",
   "metadata": {
    "scrolled": true
   },
   "outputs": [],
   "source": [
    "# RUN CODE. DO NOT CHANGE\n",
    "ctdc <- read.csv(\"2024_CTDC_synthetic.csv\") %>% select(-X)"
   ]
  },
  {
   "cell_type": "markdown",
   "id": "c70fe257",
   "metadata": {
    "deletable": false,
    "editable": false
   },
   "source": [
    "### Dataset Structure"
   ]
  },
  {
   "cell_type": "markdown",
   "id": "cd0e0250",
   "metadata": {
    "deletable": false,
    "editable": false
   },
   "source": [
    "**a. (1 point) How many observations are included in this dataset? Use the `nrow()` function. The solution should be an integer.**\n",
    "\n",
    "*There are much larger datasets out there as well. This is a shameless plug for learning R or some coding language:). How long would that take to punch into a calculator?*\n"
   ]
  },
  {
   "cell_type": "code",
   "execution_count": null,
   "id": "ccce83cc",
   "metadata": {
    "scrolled": true,
    "tags": []
   },
   "outputs": [],
   "source": [
    "# TO DO\n",
    "n_cases <- NULL # YOUR CODE HERE\n",
    "n_cases"
   ]
  },
  {
   "cell_type": "code",
   "execution_count": null,
   "id": "a01edcfc",
   "metadata": {
    "deletable": false,
    "editable": false
   },
   "outputs": [],
   "source": [
    ". = ottr::check(\"tests/q3a.R\")"
   ]
  },
  {
   "cell_type": "markdown",
   "id": "cd8423b0",
   "metadata": {
    "deletable": false,
    "editable": false
   },
   "source": [
    "<!-- BEGIN QUESTION -->\n",
    "\n",
    "**b) (2 points) Looking at the dataset, we see that each row/observation represents a person, but not every single person in this dataset has been identified as a victim of trafficking. Answer the following questions.**\n",
    "\n",
    "> (i) Which columns would you use to determine if an observation is a victim of trafficking? Look through the column names to see what makes sense. You can also reference the [codebook.](https://www.ctdatacollaborative.org/sites/g/files/tmzbdl2011/files/2024-02/Codebook_CTDC_global_synthetic_data_v2024.pdf)\\\n",
    "(ii) What is the difference between estimated prevalence of trafficking and the number of detected trafficking cases?\n",
    "\n",
    "Run the code chunk below to see the first five rows of the dataset, and the list of column names. "
   ]
  },
  {
   "cell_type": "code",
   "execution_count": null,
   "id": "27a3595e",
   "metadata": {
    "deletable": false,
    "editable": false
   },
   "outputs": [],
   "source": [
    "# NO ACTION NEEDED. RUN CELL.\n",
    "# prints first 5 observations of the dataset\n",
    "head(ctdc, 5)\n",
    "\n",
    "# prints full list of column names\n",
    "print(\"The column names are abridged in the dataframe. The full list of column names are printed below: \")\n",
    "colnames(ctdc)"
   ]
  },
  {
   "cell_type": "markdown",
   "id": "2295943d",
   "metadata": {},
   "source": [
    "_Type your answer here, replacing this text._"
   ]
  },
  {
   "cell_type": "markdown",
   "id": "264d9405",
   "metadata": {
    "deletable": false,
    "editable": false
   },
   "source": [
    "<!-- END QUESTION -->\n",
    "\n",
    "<!-- BEGIN QUESTION -->\n",
    "\n",
    "### Dataset Variables\n",
    "The above questions are more concerned about the data structure and interpretation of data. The questions below are concerned about the content of the data itself, thinking through what type of data is being collected on victims, and why they have been decided as key information to collect. Look through the [codebook](https://www.ctdatacollaborative.org/sites/g/files/tmzbdl2011/files/2024-02/Codebook_CTDC_global_synthetic_data_v2024.pdf) provided by the CTDC and what you have learned in lecture to help answer the questions below. \n",
    "\n",
    "**c) (2 points) What do the variables that start with \"means\" represent, and why is this concept critical to trafficking? Pick one of the \"means\" and describe how it is used in the context of trafficking?**"
   ]
  },
  {
   "cell_type": "markdown",
   "id": "cda06f22",
   "metadata": {},
   "source": [
    "_Type your answer here, replacing this text._"
   ]
  },
  {
   "cell_type": "markdown",
   "id": "c9d90ef1",
   "metadata": {
    "deletable": false,
    "editable": false
   },
   "source": [
    "<!-- END QUESTION -->\n",
    "\n",
    "<!-- BEGIN QUESTION -->\n",
    "\n",
    "**d) (2 points) What are the types of trafficking included in the dataset, what forms of trafficking are in the \"other\" category. Name one reporting trend that differs among these forms of trafficking that the readings have informed you of (e.g. X form of trafficking is under-reported in men due to the stigma).**"
   ]
  },
  {
   "cell_type": "markdown",
   "id": "53118751",
   "metadata": {},
   "source": [
    "_Type your answer here, replacing this text._"
   ]
  },
  {
   "cell_type": "markdown",
   "id": "141293e8",
   "metadata": {
    "deletable": false,
    "editable": false
   },
   "source": [
    "<!-- END QUESTION -->\n",
    "\n",
    "<!-- BEGIN QUESTION -->\n",
    "\n",
    "**e) (2 points) What is a recruiter in human trafficking? How might friends, family, and intimate partners become recruiters?**"
   ]
  },
  {
   "cell_type": "markdown",
   "id": "f99aae27",
   "metadata": {},
   "source": [
    "_Type your answer here, replacing this text._"
   ]
  },
  {
   "cell_type": "markdown",
   "id": "19fc1472",
   "metadata": {
    "deletable": false,
    "editable": false
   },
   "source": [
    "<!-- END QUESTION -->\n",
    "\n",
    "---\n",
    "## Question 4: Replicating estimates\n",
    "The CTDC synthetic data [dashboard](https://www.ctdatacollaborative.org/global-synthetic-data-dashboard) has generated summary statistics of the human trafficking reports in their dataset. Let's try to replicate these numbers. \n"
   ]
  },
  {
   "cell_type": "markdown",
   "id": "46190b17",
   "metadata": {},
   "source": [
    "### Forms of Trafficking\n",
    "**We are interested in estimating the proportion of (1) each form of trafficking, (2) means of control, and (3) recruiters among those who are trafficking victims. To do so...**\n",
    "\n",
    "First, lets **subset** to relevant data to analyze the different forms of trafficking. In the code chunk below...\n",
    "* The `filter` function is selecting from the ctdc dataset the **rows** where the data is affirmative for either forced labor, sexual exploitation, or another form of exploitation. \n",
    "* The `select` function is selecting all **columns** that start with \"is\". \n",
    "* The subsetted data is stored in `forms_ht` using assignment operator `<-`. \n"
   ]
  },
  {
   "cell_type": "code",
   "execution_count": null,
   "id": "6a9936dd",
   "metadata": {
    "tags": []
   },
   "outputs": [],
   "source": [
    "# EXAMPLE CODE #1 - RUN CELL AND UNDERSTAND EACH LINE\n",
    "\n",
    "# Goal: Subset to affirmative trafficking cases. Store in dataframe called forms_ht\n",
    " \n",
    "forms_ht <- ctdc %>% \n",
    "                # filter to the rows that are affirmative for trafficking\n",
    "                filter((isForcedLabour >0 | isSexualExploit > 0 | isOtherExploit >0)) %>%\n",
    "                # select the columns that start with \"is\". \n",
    "                select(starts_with(\"is\"))\n",
    "\n",
    "# display first 6 rows\n",
    "head(forms_ht)"
   ]
  },
  {
   "cell_type": "markdown",
   "id": "6bd11c89-faef-4721-ae85-9d4cc7ccee2b",
   "metadata": {},
   "source": [
    "Now we use the `summarise()` function to find the proportion of each form of trafficking within our data. Notice that we include, `na.rm = T`. What would happen if we didnt (rhetorical question)? "
   ]
  },
  {
   "cell_type": "code",
   "execution_count": null,
   "id": "07c5ef97-ca45-40f4-b7df-7f7a80919445",
   "metadata": {},
   "outputs": [],
   "source": [
    "# EXAMPLE CODE #2  - RUN CELL AND UNDERSTAND EACH LINE\n",
    "forms_summary <- forms_ht %>% \n",
    "    # find the means of each type of trafficking\n",
    "    summarise( \n",
    "        isForcedLabour = mean(isForcedLabour, na.rm = T),\n",
    "        isSexualExploit = mean(isSexualExploit, na.rm = T), \n",
    "        isOtherExploit = mean(isOtherExploit, na.rm = T)\n",
    "    ) \n",
    "\n",
    "# display\n",
    "forms_summary"
   ]
  },
  {
   "cell_type": "markdown",
   "id": "d9967e56",
   "metadata": {},
   "source": [
    "### Means of Control"
   ]
  },
  {
   "cell_type": "markdown",
   "id": "12e64274",
   "metadata": {
    "deletable": false,
    "editable": false
   },
   "source": [
    "**a) (2 points) Your task is to do the same thing, but with the means of control. `filter()` to the subset of data that is affirmative for human trafficking (as seen above), then `select()` all the variables that start with \"means\". Make sure to comment what each line of code is doing.**\n",
    "\n",
    "Hint: Take the code from the first example chunk above. You can select the relevant columns using `%>% select(starts_with(\"means\"))`"
   ]
  },
  {
   "cell_type": "code",
   "execution_count": null,
   "id": "a4b39914",
   "metadata": {
    "scrolled": true,
    "tags": []
   },
   "outputs": [],
   "source": [
    "# YOUR ANSWER HERE\n",
    "# Modify the code from the first example code chunk above\n",
    "means_ht <- NULL # YOUR CODE HERE\n",
    "head(means_ht)"
   ]
  },
  {
   "cell_type": "code",
   "execution_count": null,
   "id": "67e16412",
   "metadata": {
    "deletable": false,
    "editable": false
   },
   "outputs": [],
   "source": [
    ". = ottr::check(\"tests/q4a.R\")"
   ]
  },
  {
   "cell_type": "markdown",
   "id": "0f9bf04f",
   "metadata": {
    "deletable": false,
    "editable": false
   },
   "source": [
    "**b) (1 point) Now we want to find the prevalence of each means. Use the `summarise()` function on the `means_ht` to return the means (i.e. average) of each relevant column, including the sum column.** \n",
    "\n",
    "Hint: Take the code from the second example code chunk below, and modify it. \\\n",
    "Preserve the order of the columns. As you copy-paste each column name, think about what it entails for the victims. "
   ]
  },
  {
   "cell_type": "code",
   "execution_count": null,
   "id": "6aae5747",
   "metadata": {
    "tags": []
   },
   "outputs": [],
   "source": [
    "# YOUR SOLUTION HERE\n",
    "# Modify the code from the second example code chunk above\n",
    "# You should have 9 lines of code:\n",
    "#       = The averages for the 8 different means of control  \n",
    "#       - The average total means of controls for a reported victim\n",
    "\n",
    "means_summary <- NULL # YOUR CODE HERE\n",
    "\n",
    "# Display\n",
    "means_summary"
   ]
  },
  {
   "cell_type": "code",
   "execution_count": null,
   "id": "30620d83",
   "metadata": {
    "deletable": false,
    "editable": false
   },
   "outputs": [],
   "source": [
    ". = ottr::check(\"tests/q4b.R\")"
   ]
  },
  {
   "cell_type": "markdown",
   "id": "fa0e2b59",
   "metadata": {},
   "source": [
    "### Recruiters"
   ]
  },
  {
   "cell_type": "markdown",
   "id": "c8666f7c",
   "metadata": {
    "deletable": false,
    "editable": false
   },
   "source": [
    "**c) (2 points) Now we want to do the same thing, but with the recruiter. Filter to the subset of data that is affirmative for human trafficking, then select all the variables that start with \"recruiter\". Then, use the `summarise()` and `mean()` function on the `recruiter_ht` to return the means (i.e. average) of each column**\n",
    "\n",
    "*Note:* This is a repeat of the process as above. As a challenge, try not to copy paste and write the code out yourself. \n",
    "\n",
    "*Select the relevant columns using `%>% select(starts_with(\"recruiter\"))`*"
   ]
  },
  {
   "cell_type": "code",
   "execution_count": null,
   "id": "1f3d4f47",
   "metadata": {
    "tags": []
   },
   "outputs": [],
   "source": [
    "# YOUR SOLUTION HERE\n",
    "# PART 1: SUBSET\n",
    "# Create subset of affirmative cases and relevant recruiter variables\n",
    "recruiter_ht <- NULL # YOUR CODE HERE\n",
    "# display\n",
    "head(recruiter_ht)\n",
    "\n",
    "# PART 2: SUMMARIZE\n",
    "# Summarize: Make sure to retain the column order!\n",
    "recruiter_summary <- NULL # YOUR CODE HERE\n",
    "\n",
    "# display\n",
    "recruiter_summary"
   ]
  },
  {
   "cell_type": "code",
   "execution_count": null,
   "id": "6c4685fc",
   "metadata": {
    "deletable": false,
    "editable": false
   },
   "outputs": [],
   "source": [
    ". = ottr::check(\"tests/q4c.R\")"
   ]
  },
  {
   "cell_type": "markdown",
   "id": "02e12bd3-18c2-4e65-bf77-c1cbe6379458",
   "metadata": {
    "deletable": false,
    "editable": false
   },
   "source": [
    "<!-- BEGIN QUESTION -->\n",
    "\n",
    "**Bonus (no points): Here's a shortcut! You actually didn't need to type out the individual columns, but it's just good practice to do so when you are just starting out. Repetition is the key to ingraining!**\n",
    "\n",
    "**Try using the `summarise_all()` function to find the proprotion of the sample with each means of trafficking using the `means_ht` dataframe, and type of recruiter using `recruiter_ht` that you created in the question above.**\n",
    "\n",
    "Example code using the `forms_ht'dataframe:"
   ]
  },
  {
   "cell_type": "code",
   "execution_count": null,
   "id": "581e97d6-62b7-4c8d-9b90-7bc13a600183",
   "metadata": {
    "deletable": false,
    "editable": false,
    "scrolled": true
   },
   "outputs": [],
   "source": [
    "# forms of trafficking\n",
    "forms_ht %>% summarise_all(mean, na.rm = T)"
   ]
  },
  {
   "cell_type": "code",
   "execution_count": null,
   "id": "928ef56c-dad3-4d6d-8c04-ee8b393d9a5b",
   "metadata": {
    "scrolled": true,
    "tags": []
   },
   "outputs": [],
   "source": [
    "# YOUR SOLUTION HERE\n",
    "means_summary_shortcut <- NULL # YOUR CODE HERE\n",
    "\n",
    "# Part 1: Means ht\n",
    "recruiter_summary_shortcut <- NULL # YOUR CODE HERE"
   ]
  },
  {
   "cell_type": "code",
   "execution_count": null,
   "id": "d31c597b",
   "metadata": {
    "deletable": false,
    "editable": false
   },
   "outputs": [],
   "source": [
    ". = ottr::check(\"tests/4bonus.R\")"
   ]
  },
  {
   "cell_type": "markdown",
   "id": "3bb17204",
   "metadata": {
    "deletable": false,
    "editable": false
   },
   "source": [
    "<!-- END QUESTION -->\n",
    "\n",
    "#  Question 5: Interpretations"
   ]
  },
  {
   "cell_type": "markdown",
   "id": "9fad79fb",
   "metadata": {
    "deletable": false,
    "editable": false
   },
   "source": [
    "<!-- BEGIN QUESTION -->\n",
    "\n",
    "I asked chatGPT to tell me the most commonly reported forms of human trafficking, means of control, and typical recruiter. It responded...\n",
    "    \n",
    "> **Most Commonly Reported Form of Human Trafficking** \\\n",
    "    > Sexual Exploitation: This is the most prevalent form of human trafficking, where victims are forced into prostitution, pornography, and other forms of sexual exploitation.\\\n",
    "> **Most Commonly Reported Means of Control** \\\n",
    "    > Threats and Violence: Physical violence and threats are the most commonly reported methods used by traffickers to control their victims.\\\n",
    "> **Most Commonly Reported Type of Recruiter** \\\n",
    "    > Acquaintances or Family Members: The majority of traffickers are known to the victims, including friends, romantic partners, or even family members. This familiarity helps traffickers gain the trust of victims before exploiting them.\n",
    "\n",
    "**5a) Based on the data from CTDC, how would you assess ChatGPT's answer?**\n",
    "\n",
    "*Hint: Do the numbers match your numbers? Does ChatGPT accurate use \"prevalence\" and \"commonly reported\"?*"
   ]
  },
  {
   "cell_type": "markdown",
   "id": "e8a6c0c6",
   "metadata": {},
   "source": [
    "_Type your answer here, replacing this text._"
   ]
  },
  {
   "cell_type": "markdown",
   "id": "c6533e19",
   "metadata": {
    "deletable": false,
    "editable": false
   },
   "source": [
    "<!-- END QUESTION -->\n",
    "\n",
    "<!-- BEGIN QUESTION -->\n",
    "\n",
    "**b) (3 points) The first chart below is taken from the CTDC dashboard and should match your numbers. The second chart is taken from UNODC's 2022 report from your Week 2 readings. Please...**\n",
    "\n",
    "> (1) Provide two possible explanations for why we see differences in their numbers.\\\n",
    "> (2) Provide at least one possible real world implications of the differences in results from two well-funded and credible organizations.\n",
    "\n",
    "<img src=\"dashboard1.png\" width=\"30%\"/>\n",
    "<img src=\"UNODC_Trafficking_Prevalence.png\" width=\"70%\"/>\n",
    "\n"
   ]
  },
  {
   "cell_type": "markdown",
   "id": "1695f0d7",
   "metadata": {},
   "source": [
    "_Type your answer here, replacing this text._"
   ]
  },
  {
   "cell_type": "markdown",
   "id": "b1b010c2",
   "metadata": {
    "deletable": false,
    "editable": false
   },
   "source": [
    "<!-- END QUESTION -->\n",
    "\n",
    "\n",
    "# Submitting Your Notebook (please read carefully!)\n",
    "\n",
    "Congrats, you're done! Hopefully, through this pset you have began to...\n",
    "1. Understand how to work with ChatGPT, being aware of its limitations (and realize that through this course, you will be able to improve its answers)\n",
    "2. Think critically about numbers and their interpretation. This will allow you to see through imprecise language and citations of statistics in general. \n",
    "3. Started working with datasets in R! An incredibly useful skill to have and we will keep on building your proficiency. \n",
    "4. Understand the transition from slavery to human trafficking and how the practice and concept of human trafficking emerged. \n",
    "4. Understand the forms, means of control, and recruiters in human trafficking on a global scale. \n",
    "\n",
    "To submit your notebook...\n",
    "\n",
    "### 1. Click `File` $\\rightarrow$ `Save Notebook`.\n",
    "\n",
    "### 2. Wait 5 seconds.\n",
    "\n",
    "### 3. Select the cell below and hit run."
   ]
  },
  {
   "cell_type": "code",
   "execution_count": null,
   "id": "a347c4a3",
   "metadata": {},
   "outputs": [],
   "source": [
    "ottr::export(\"pset1.ipynb\")"
   ]
  },
  {
   "cell_type": "markdown",
   "id": "1493278b",
   "metadata": {},
   "source": [
    "After you hit \"Run\" on the cell above, click the download link. A .zip file should download to your computer.\n",
    "\n",
    "(If you make changes to your notebook, you'll need to hit save and then run the cell above again before you submit to get a new version of it.)\n",
    "\n",
    "### 4. Submit the .zip file you just downloaded <a href=\"https://www.gradescope.com/\" target=\"_blank\">on Gradescope here</a>.\n",
    "\n",
    "Notes:\n",
    "\n",
    "- **This does not seem to work on Chrome for iPad or iPhone.** If you're using an iPad or iPhone, you need to download the file using **Safari**.\n",
    "- If your web browser automatically unzips the .zip file (so you see a folder instead of a .zip file), you can just upload the .ipynb file that is inside the folder.\n",
    "- If this method is not working for you, try this: hit `File`, then `Download as`, then `Notebook (.ipynb)` and submit that."
   ]
  }
 ],
 "metadata": {
  "kernelspec": {
   "display_name": "R",
   "language": "R",
   "name": "ir"
  },
  "language_info": {
   "codemirror_mode": "r",
   "file_extension": ".r",
   "mimetype": "text/x-r-source",
   "name": "R",
   "pygments_lexer": "r",
   "version": "4.3.2"
  }
 },
 "nbformat": 4,
 "nbformat_minor": 5
}
