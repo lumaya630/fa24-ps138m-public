{
 "cells": [
  {
   "cell_type": "markdown",
   "id": "ebc3d05c-8177-4834-ae5a-e46dca67cbae",
   "metadata": {},
   "source": [
    "# Section 3\n",
    "Practicing `filter`, `select`, `summarise`"
   ]
  },
  {
   "cell_type": "markdown",
   "id": "42f0a186-75c0-40a5-8b41-7f4cd4d16a7a",
   "metadata": {},
   "source": [
    "## Set Up\n",
    "Run the cell below!"
   ]
  },
  {
   "cell_type": "code",
   "execution_count": null,
   "id": "9fce9c81-cf37-4e3f-9ca0-b7eb692774e9",
   "metadata": {},
   "outputs": [],
   "source": [
    "# RUN THIS CELL\n",
    "# Load packages\n",
    "library(testthat)\n",
    "library(tidyverse) %>% suppressMessages()"
   ]
  },
  {
   "cell_type": "markdown",
   "id": "2935b08b-e194-4328-8b58-689133d833ee",
   "metadata": {},
   "source": [
    "We're starting with the same CTDC dataset. I filter to the confirmed cases of trafficking as we discussed in last section. "
   ]
  },
  {
   "cell_type": "code",
   "execution_count": null,
   "id": "b759db2c-0586-4a7f-a816-360877fd3f88",
   "metadata": {},
   "outputs": [],
   "source": [
    "# loading the dataset\n",
    "ctdc <- read.csv(\"2024_CTDC_synthetic.csv\")\n",
    "\n",
    "# filtering to confirmed cases of trafficking\n",
    "ctdc_confirmed <- ctdc %>% filter(isSexualExploit > 0 | isForcedLabour > 0 | isOtherExploit > 0) "
   ]
  },
  {
   "cell_type": "markdown",
   "id": "26afdb09-44ae-4e68-b365-41c4c85097c5",
   "metadata": {},
   "source": [
    "---\n",
    "## Part 1: Tutorial"
   ]
  },
  {
   "cell_type": "markdown",
   "id": "4ee4ef05-713c-422b-9332-759e9aed4d86",
   "metadata": {},
   "source": [
    "### The `%>%` or pipe operator"
   ]
  },
  {
   "cell_type": "code",
   "execution_count": null,
   "id": "446fb80c-041a-4b8a-b5d9-0cda54512fbf",
   "metadata": {},
   "outputs": [],
   "source": [
    "head(ctdc_confirmed)"
   ]
  },
  {
   "cell_type": "code",
   "execution_count": null,
   "id": "9611014a-fc22-45d5-98b6-0eaeecf4a682",
   "metadata": {},
   "outputs": [],
   "source": [
    "ctdc_confirmed %>% head()"
   ]
  },
  {
   "cell_type": "markdown",
   "id": "9227961e-cb83-4fa0-b66f-4927f0473e2c",
   "metadata": {},
   "source": [
    "## Task: \n",
    "Compare the proportion of victims who reported psychological, physical, or sexual abuse between women and men. (There is too few data on transgender and/or non-binary victims to compare)\n",
    "\n",
    "**Steps:**\n",
    "1. Find the proportion in women (tutorial) \n",
    "2. Find the poportion in men (you try)"
   ]
  },
  {
   "cell_type": "markdown",
   "id": "99940283-e195-41fb-b066-24b0fe569bfd",
   "metadata": {},
   "source": [
    "#### 1) `filter()` function to create a smaller dataset with just women\n",
    "\n",
    "From `ctdc_confirmed`, filter to where `gender == \"Woman\"`"
   ]
  },
  {
   "cell_type": "code",
   "execution_count": null,
   "id": "49dc6dde-588a-42ff-89d7-19169110ed7d",
   "metadata": {},
   "outputs": [],
   "source": [
    "# EXAMPLE CODE\n",
    "ctdc_woman <- ctdc_confirmed %>% filter(gender == \"Woman\")\n",
    "\n",
    "# display\n",
    "head(ctdc_woman)"
   ]
  },
  {
   "cell_type": "markdown",
   "id": "262a841c-b736-414d-9182-8d2a0d12a12c",
   "metadata": {},
   "source": [
    "#### 2) Use `select()` to isolate the column that indicates if the victim reported experiencing abuse. \n",
    "From `ctdc_woman`, select the column `meansAbusePsyPhySex`"
   ]
  },
  {
   "cell_type": "code",
   "execution_count": null,
   "id": "a3611c14-90a2-44f8-bf3d-2b157f4e74a1",
   "metadata": {},
   "outputs": [],
   "source": [
    "# EXAMPLE CODE\n",
    "ctdc_woman_means <- ctdc_woman %>% select(meansAbusePsyPhySex)\n",
    "\n",
    "# display\n",
    "head(ctdc_woman_means)"
   ]
  },
  {
   "cell_type": "markdown",
   "id": "f04e08cc-ac02-431b-83c0-c55f494a6901",
   "metadata": {},
   "source": [
    "#### 3) Use `summarise()` and `mean()` to find the proportion of 1's in the column indicating abuse.\n",
    "From `ctdc_woman_means` dataset, summarise the mean of `meansAbusePsyPhySex`"
   ]
  },
  {
   "cell_type": "code",
   "execution_count": null,
   "id": "501c01bc-fe6f-40c1-9e45-2ffb102291c9",
   "metadata": {},
   "outputs": [],
   "source": [
    "# EXAMPLE CODE\n",
    "ctdc_woman_summary <- ctdc_woman_means %>% \n",
    "                summarise(meansAbusePsyPhySex = mean(meansAbusePsyPhySex, na.rm = T))\n",
    "\n",
    "# display\n",
    "ctdc_woman_summary"
   ]
  },
  {
   "cell_type": "markdown",
   "id": "b4a56b97-4b35-4d17-a941-2fe9ff2e0944",
   "metadata": {},
   "source": [
    "---\n",
    "## Part 2: Your Turn! Find the proportion of men who reported abuse. \n",
    "\n",
    "You are essentially repeating the same steps as above, but for men. Please work with your group if you get stuck, and feel free to ask me for help as well. You will be seeing these three functions over and over again in the analytical assignments, so slowly, let's get familiarized with how to use them!"
   ]
  },
  {
   "cell_type": "markdown",
   "id": "89b2ea02-94d0-4195-b10a-ef41df41c33a",
   "metadata": {},
   "source": [
    "#### `1) filter()` function to create a smaller dataset with just men\n",
    "From `ctdc_confirmed`, filter to where `gender == \"Man\"`, storing it in `ctdc_man`"
   ]
  },
  {
   "cell_type": "code",
   "execution_count": null,
   "id": "0c76937a-a132-4c24-bcc1-a0fef8ed5f97",
   "metadata": {
    "scrolled": true,
    "tags": []
   },
   "outputs": [],
   "source": [
    "# YOUR ANSWER HERE\n",
    "ctdc_man <- NULL # YOUR CODE HERE\n",
    "\n",
    "# display\n",
    "head(ctdc_man)"
   ]
  },
  {
   "cell_type": "code",
   "execution_count": null,
   "id": "50ea88a9",
   "metadata": {
    "deletable": false,
    "editable": false
   },
   "outputs": [],
   "source": [
    ". = ottr::check(\"tests/Q1.R\")"
   ]
  },
  {
   "cell_type": "markdown",
   "id": "850cb8c4-ce48-4f56-a5f3-d58b31eab432",
   "metadata": {
    "deletable": false,
    "editable": false
   },
   "source": [
    "#### 2)  Use `select()` to isolate the column that indicates if the victim reported experiencing abuse\n",
    "From `ctdc_man`, select the column `meansAbusePsyPhySex`."
   ]
  },
  {
   "cell_type": "code",
   "execution_count": null,
   "id": "4f992a65-6560-45bd-903c-6ccd96b47719",
   "metadata": {
    "tags": []
   },
   "outputs": [],
   "source": [
    "# YOUR ANSWER HERE\n",
    "ctdc_man_means <- NULL # YOUR CODE HERE\n",
    "\n",
    "# display\n",
    "head(ctdc_man_means)"
   ]
  },
  {
   "cell_type": "code",
   "execution_count": null,
   "id": "8583ce7e",
   "metadata": {
    "deletable": false,
    "editable": false
   },
   "outputs": [],
   "source": [
    ". = ottr::check(\"tests/Q2.R\")"
   ]
  },
  {
   "cell_type": "markdown",
   "id": "5dad4ce6-cc6f-4a96-80e1-4efa49ae2708",
   "metadata": {
    "deletable": false,
    "editable": false
   },
   "source": [
    "#### 3)  Use summarise() and mean() to find the proportion of 1's in the column indicating abuse\n",
    "From `ctdc_man_means` dataset, summarise the mean of `meansAbusePsyPhySex¶`"
   ]
  },
  {
   "cell_type": "code",
   "execution_count": null,
   "id": "eff6accd-e90f-4d35-a41c-be3c1d953f63",
   "metadata": {
    "scrolled": true,
    "tags": []
   },
   "outputs": [],
   "source": [
    "# YOUR ANSWER HERE\n",
    "ctdc_man_summary<- NULL # YOUR CODE HERE\n",
    "\n",
    "# displaya\n",
    "head(ctdc_man_summary)"
   ]
  },
  {
   "cell_type": "code",
   "execution_count": null,
   "id": "519cc639",
   "metadata": {
    "deletable": false,
    "editable": false
   },
   "outputs": [],
   "source": [
    ". = ottr::check(\"tests/Q3.R\")"
   ]
  },
  {
   "cell_type": "markdown",
   "id": "d202e3ae-bed3-4bc2-9de7-5c3f524c1158",
   "metadata": {},
   "source": [
    "---\n",
    "## Part 2.5 (if time permits): Let's see how many transgender/nonbinary individuals are included in this dataset. \n",
    "Filter to `gender == \"Trans/Transgender/NonConforming\"`"
   ]
  },
  {
   "cell_type": "code",
   "execution_count": null,
   "id": "ec303f49-7eb8-4e4c-8541-450f52e3af26",
   "metadata": {},
   "outputs": [],
   "source": [
    "ctdc_nonbinary <-  NULL # YOUR ANSWER HERE"
   ]
  },
  {
   "cell_type": "markdown",
   "id": "ab908f3b-8211-4711-a491-ae613b629d1f",
   "metadata": {},
   "source": [
    "How many confirmed non-binary victims are in the data?"
   ]
  },
  {
   "cell_type": "code",
   "execution_count": null,
   "id": "3f239f86-c1bf-4c1d-9457-e149a693328a",
   "metadata": {},
   "outputs": [],
   "source": [
    "n_nonbinary <- NULL # YOUR ANSWER HERE\n",
    "n_nonbinary"
   ]
  },
  {
   "cell_type": "markdown",
   "id": "22fd2d72-1f73-4d0d-b8f9-3b6961605dae",
   "metadata": {},
   "source": [
    "The number of confirmed transgender and/or non-binary individuals in this dataset is 354. This compares to 105,136 women victims and 30,143 men. This is significantly less data to make concrete claims from. "
   ]
  },
  {
   "cell_type": "markdown",
   "id": "6162b84d-84c6-4dfd-856a-58496d6cd025",
   "metadata": {},
   "source": [
    "---\n",
    "## Part 3: Interpretation"
   ]
  },
  {
   "cell_type": "markdown",
   "id": "f873aa78-d7e2-4dea-8202-e15c22c5efcc",
   "metadata": {},
   "source": [
    "Below is a chart from CTDC's website comparing the means of control for female and male victims. Does there seem to be a discrepancy in the abuse (psychological abuse, physical abuse, sexual abuse) experienced by men and women?"
   ]
  },
  {
   "cell_type": "markdown",
   "id": "ad9eb79c-5fb7-49f3-9a6a-094977d761ad",
   "metadata": {},
   "source": [
    "<img src=\"gendered.png\" width=80% />"
   ]
  },
  {
   "cell_type": "markdown",
   "id": "5a6b999f-b3c9-4d23-ae94-ef32314bd980",
   "metadata": {},
   "source": [
    "Now compare this chart to the estimates we retrieved using the same data provided (the CTDC data)\n",
    "#### Present the estimate for man"
   ]
  },
  {
   "cell_type": "code",
   "execution_count": null,
   "id": "99237a87-8325-4253-87d2-511e1babf32e",
   "metadata": {},
   "outputs": [],
   "source": [
    "# RUN THIS CELL. NO ACTION NEEDED. \n",
    "ctdc_man_summary"
   ]
  },
  {
   "cell_type": "markdown",
   "id": "465cdd9b-4747-45b9-a637-392f76aa96e7",
   "metadata": {},
   "source": [
    "#### Present the estimate for woman"
   ]
  },
  {
   "cell_type": "code",
   "execution_count": null,
   "id": "c2d1528d-9552-4316-b09a-fc1c3c765cc1",
   "metadata": {
    "scrolled": true
   },
   "outputs": [],
   "source": [
    "# RUN THIS CELL. NO ACTION NEEDED. \n",
    "ctdc_woman_summary"
   ]
  },
  {
   "cell_type": "markdown",
   "id": "d45ef970-6671-43c1-aebb-5f3e55795d55",
   "metadata": {},
   "source": [
    "### Why don't we see a gendered experience of abuse in the estimates we calculated?"
   ]
  },
  {
   "cell_type": "markdown",
   "id": "684d8a43-25a2-4e7e-8679-051f6c785cdf",
   "metadata": {},
   "source": [
    "_Replace this text_"
   ]
  }
 ],
 "metadata": {
  "kernelspec": {
   "display_name": "R",
   "language": "R",
   "name": "ir"
  },
  "language_info": {
   "codemirror_mode": "r",
   "file_extension": ".r",
   "mimetype": "text/x-r-source",
   "name": "R",
   "pygments_lexer": "r",
   "version": "4.3.2"
  }
 },
 "nbformat": 4,
 "nbformat_minor": 5
}
