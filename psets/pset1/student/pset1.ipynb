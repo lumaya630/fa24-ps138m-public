{
 "cells": [
  {
   "cell_type": "markdown",
   "id": "babea043",
   "metadata": {},
   "source": [
    "# Assignment 1: Victims of Human Trafficking"
   ]
  },
  {
   "cell_type": "markdown",
   "id": "fd3ae294",
   "metadata": {},
   "source": [
    "### Substantive Objectives\n",
    "In this assignment, we will be an existing dataset on victims to understand what human trafficking is. We will use a dataset on the reported victims of trafficking to identify the forms of trafficking, how victims are recruited, and how prevalent different forms of trafficking are. This will involve engaging with documents such as codebooks produced by organizations. \n",
    "\n",
    "### Coding Objectives\n",
    "\n",
    "Learn how to use the following functions. \n",
    "1) `read.csv()`\n",
    "2) `nrow()`\n",
    "3) `filter()` and `select()`\n",
    "4) `summarise()`"
   ]
  },
  {
   "cell_type": "markdown",
   "id": "8816e88b",
   "metadata": {},
   "source": [
    "## Setup\n",
    "The cell below loads the [packages](https://www.geeksforgeeks.org/packages-in-r-programming/) needed for this assignment. "
   ]
  },
  {
   "cell_type": "code",
   "execution_count": null,
   "id": "0609de0d",
   "metadata": {},
   "outputs": [],
   "source": [
    "# You *must* run this cell first. Do not change the contents of this cell.\n",
    "library(testthat)\n",
    "library(ottr)\n",
    "library(tidyverse)"
   ]
  },
  {
   "cell_type": "markdown",
   "id": "14e8b15d",
   "metadata": {
    "deletable": false,
    "editable": false
   },
   "source": [
    "<!-- BEGIN QUESTION -->\n",
    "\n",
    "## Question 1: ChatGPT\n",
    "**(3 points) Ask chat gpt the following: *\"Define human trafficking. Include the different forms of trafficking, its impacts, and its prevalence.\"*** \n",
    "    \n",
    "**Copy paste the output below. Is it consistent with the definition of human trafficking presented in class and in your readings? What are the strengths and weaknesses of its answer? What steps should you take to verify its response?**"
   ]
  },
  {
   "cell_type": "markdown",
   "id": "6a43d695",
   "metadata": {},
   "source": [
    "_Type your answer here, replacing this text._"
   ]
  },
  {
   "cell_type": "markdown",
   "id": "d52e2406",
   "metadata": {
    "deletable": false,
    "editable": false
   },
   "source": [
    "<!-- END QUESTION -->\n",
    "\n",
    "## Question 2: Motivating the Question\n",
    "<span style=\"color:#3268a4\">"
   ]
  },
  {
   "cell_type": "markdown",
   "id": "c92551a6",
   "metadata": {
    "deletable": false,
    "editable": false
   },
   "source": [
    "<!-- BEGIN QUESTION -->\n",
    "\n",
    "**(2 points) We often hear that human trafficking is a violation of human rights. In 2-3 sentences, explain what this mean to you. Use examples and definitions from the readings to illustrate this point.**"
   ]
  },
  {
   "cell_type": "markdown",
   "id": "2204fd04",
   "metadata": {},
   "source": [
    "_Type your answer here, replacing this text._"
   ]
  },
  {
   "cell_type": "markdown",
   "id": "53b4b353",
   "metadata": {
    "deletable": false,
    "editable": false
   },
   "source": [
    "<!-- END QUESTION -->\n",
    "\n",
    "<!-- BEGIN QUESTION -->\n",
    "\n",
    "**(2 points) What can we learn about victims from in-depth interviews and individual cases? What can we learn about trafficking from large datasets of information?**"
   ]
  },
  {
   "cell_type": "markdown",
   "id": "9e330ba4",
   "metadata": {},
   "source": [
    "_Type your answer here, replacing this text._"
   ]
  },
  {
   "cell_type": "markdown",
   "id": "55f1bc89",
   "metadata": {
    "deletable": false,
    "editable": false
   },
   "source": [
    "<!-- END QUESTION -->\n",
    "\n",
    "## Question 3: Understanding the Data\n",
    "<span style=\"color:#3268a4\">"
   ]
  },
  {
   "cell_type": "markdown",
   "id": "d0302684",
   "metadata": {},
   "source": [
    "The global counter-trafficking community has recognized the importance of inter-organizational coordination in the standardization and consolidation of human trafficking data worldwide. While we are far from reaching an ideal standard, organizations such as the IOM have started taking steps towards this. The code chunk below loads a synthetic dataset provided by the [Counter Trafficking Data Collaborative](https://www.ctdatacollaborative.org/page/about) that is \"the first global data hub on human trafficking, publishing harmonized data from counter-trafficking organizations around the world,\" that aggregates individual level data from various organizations. This is the collaborative where IOM publishes their data. "
   ]
  },
  {
   "cell_type": "code",
   "execution_count": null,
   "id": "10cd8cc6",
   "metadata": {
    "scrolled": true
   },
   "outputs": [],
   "source": [
    "# RUN CODE. DO NOT CHANGE\n",
    "ctdc <- read.csv(\"2024_CTDC_synthetic.csv\")"
   ]
  },
  {
   "cell_type": "markdown",
   "id": "cd0e0250",
   "metadata": {
    "deletable": false,
    "editable": false
   },
   "source": [
    "#### a. (1 point) How many observations are included in this dataset? You can use the `nrow()` function or another alternative that returns the same number. The solution should be an integer.  \n"
   ]
  },
  {
   "cell_type": "code",
   "execution_count": null,
   "id": "ccce83cc",
   "metadata": {
    "scrolled": true,
    "tags": []
   },
   "outputs": [],
   "source": [
    "# TO DO\n",
    "n_cases <- NULL # YOUR CODE HERE\n",
    "n_cases"
   ]
  },
  {
   "cell_type": "code",
   "execution_count": null,
   "id": "bf488dd3",
   "metadata": {
    "deletable": false,
    "editable": false
   },
   "outputs": [],
   "source": [
    ". = ottr::check(\"tests/q3a.R\")"
   ]
  },
  {
   "cell_type": "markdown",
   "id": "cd8423b0",
   "metadata": {
    "deletable": false,
    "editable": false
   },
   "source": [
    "<!-- BEGIN QUESTION -->\n",
    "\n",
    "#### b) (3 points) What does each observation represent?  Why can't we use the this dataset to estimate the prevalence of trafficking? "
   ]
  },
  {
   "cell_type": "markdown",
   "id": "b4eb28bf",
   "metadata": {},
   "source": [
    "_Type your answer here, replacing this text._"
   ]
  },
  {
   "cell_type": "markdown",
   "id": "264d9405",
   "metadata": {
    "deletable": false,
    "editable": false
   },
   "source": [
    "<!-- END QUESTION -->\n",
    "\n",
    "<!-- BEGIN QUESTION -->\n",
    "\n",
    "The above questions are more concerned about the dat structure and interpretation of data. The questions below are concerned about the content of the data itself, thinking through what type of data is being collected on victims, and why they have been decided as key information to collect. Look through the [codebook](https://www.ctdatacollaborative.org/sites/g/files/tmzbdl2011/files/2024-02/Codebook_CTDC_global_synthetic_data_v2024.pdf) provided by the CTDC to help answer the questions below. \n",
    "\n",
    "**c) (2 points) What do the variables that start with \"means\" represent, and why is this concept critical to trafficking?Pick one of the \"means\" and describe how it is used in the context of trafficking?**"
   ]
  },
  {
   "cell_type": "markdown",
   "id": "7a766794",
   "metadata": {},
   "source": [
    "_Type your answer here, replacing this text._"
   ]
  },
  {
   "cell_type": "markdown",
   "id": "c9d90ef1",
   "metadata": {
    "deletable": false,
    "editable": false
   },
   "source": [
    "<!-- END QUESTION -->\n",
    "\n",
    "<!-- BEGIN QUESTION -->\n",
    "\n",
    "**d) (2 points) What are the types of trafficking included in the dataset, what forms of trafficking are in the \"other\" category, and what are their differences? Do you think this covers all forms of trafficking?**"
   ]
  },
  {
   "cell_type": "markdown",
   "id": "cd417a6d",
   "metadata": {},
   "source": [
    "_Type your answer here, replacing this text._"
   ]
  },
  {
   "cell_type": "markdown",
   "id": "141293e8",
   "metadata": {
    "deletable": false,
    "editable": false
   },
   "source": [
    "<!-- END QUESTION -->\n",
    "\n",
    "<!-- BEGIN QUESTION -->\n",
    "\n",
    "**e) (2 points) How are victims recruited? What is the role of friends, family, and intimate partners become recruiters?**"
   ]
  },
  {
   "cell_type": "markdown",
   "id": "85d7ec48",
   "metadata": {},
   "source": [
    "_Type your answer here, replacing this text._"
   ]
  },
  {
   "cell_type": "markdown",
   "id": "19fc1472",
   "metadata": {
    "deletable": false,
    "editable": false
   },
   "source": [
    "<!-- END QUESTION -->\n",
    "\n",
    "## Question 4: Replicating estimates\n",
    "The CTDC synthetic data [dashboard](https://www.ctdatacollaborative.org/global-synthetic-data-dashboard) has generated these estimates for the prevalence of different types of human trafficking. Let's see if we can replicate these numbers. \n"
   ]
  },
  {
   "cell_type": "markdown",
   "id": "46190b17",
   "metadata": {
    "deletable": false,
    "editable": false
   },
   "source": [
    "### Forms of Trafficking\n",
    "**a) (3 points) The first step in replicating the estimates is making sure we are looking at the right subset of data. In words, explain what the code chunk below is doing. Discuss what the `filter` function is doing, what the `select` function is doing, and what `head` does, and what the final dataset includes.**\n",
    "\n",
    "Hint: To look up what a function does, you can google search or run a code chunk with `?function_name` to get the documentation.  "
   ]
  },
  {
   "cell_type": "code",
   "execution_count": null,
   "id": "6a9936dd",
   "metadata": {
    "deletable": false,
    "editable": false,
    "scrolled": false
   },
   "outputs": [],
   "source": [
    "# DO NOT CHANGE.  \n",
    "forms_ht <- ctdc %>% filter((isForcedLabour >0 | isSexualExploit > 0 | isOtherExploit >0)) %>%\n",
    "                select(isForcedLabour, isSexualExploit,isOtherExploit)\n",
    "head(forms_ht)"
   ]
  },
  {
   "cell_type": "markdown",
   "id": "5d4ef18c",
   "metadata": {
    "deletable": false,
    "editable": false
   },
   "source": [
    "**b) Now we want to find the prevalence of each form of exploitation in this dataset. Use the `summary()` function on the `forms_ht` to return the means (i.e. average) of each column.  Your answer should match the image above.** \n"
   ]
  },
  {
   "cell_type": "code",
   "execution_count": null,
   "id": "7e4ca9ae",
   "metadata": {
    "scrolled": true,
    "tags": []
   },
   "outputs": [],
   "source": [
    "# TO DO\n",
    "forms_summary <- NULL # YOUR CODE HERE\n",
    "forms_summary"
   ]
  },
  {
   "cell_type": "code",
   "execution_count": null,
   "id": "fc4224d7",
   "metadata": {
    "deletable": false,
    "editable": false
   },
   "outputs": [],
   "source": [
    ". = ottr::check(\"tests/q4b.R\")"
   ]
  },
  {
   "cell_type": "markdown",
   "id": "d9967e56",
   "metadata": {},
   "source": [
    "### Means of Trafficking"
   ]
  },
  {
   "cell_type": "markdown",
   "id": "12e64274",
   "metadata": {
    "deletable": false,
    "editable": false
   },
   "source": [
    "**c) Now we want to do the same thing, but with the means of trafficking. Filter to the subset of data that is affirmative for human trafficking (as seen above), then select all the variables that start with \"means\".**"
   ]
  },
  {
   "cell_type": "code",
   "execution_count": null,
   "id": "a4b39914",
   "metadata": {
    "scrolled": true,
    "tags": []
   },
   "outputs": [],
   "source": [
    "# YOUR ANSWER HERE\n",
    "means_ht <- NULL # YOUR CODE HERE\n",
    "head(means_ht)"
   ]
  },
  {
   "cell_type": "markdown",
   "id": "0f9bf04f",
   "metadata": {
    "deletable": false,
    "editable": false
   },
   "source": [
    "**d) Now we want to find the prevalence of each means. Use the `summary()` function on the `means_ht` to return the means (i.e. average) of each column.** \n"
   ]
  },
  {
   "cell_type": "code",
   "execution_count": null,
   "id": "6aae5747",
   "metadata": {
    "scrolled": false,
    "tags": []
   },
   "outputs": [],
   "source": [
    "# YOUR SOLUTION HERE\n",
    "means_summary <- NULL # YOUR CODE HERE\n",
    "means_summary"
   ]
  },
  {
   "cell_type": "markdown",
   "id": "fa0e2b59",
   "metadata": {},
   "source": [
    "### Means of Recruitment"
   ]
  },
  {
   "cell_type": "markdown",
   "id": "c8666f7c",
   "metadata": {
    "deletable": false,
    "editable": false
   },
   "source": [
    "**c) Now we want to do the same thing, but with the recruiter. Filter to the subset of data that is affirmative for human trafficking, then select all the variables that start with \"recruiter\". Then, use the `summary()` function on the `recruiter_ht` to return the means (i.e. average) of each column**"
   ]
  },
  {
   "cell_type": "code",
   "execution_count": null,
   "id": "1f3d4f47",
   "metadata": {
    "tags": []
   },
   "outputs": [],
   "source": [
    "# YOUR SOLUTION HERE\n",
    "recruiter_ht <- NULL # YOUR CODE HERE\n",
    "head(recruiter_ht)\n",
    "\n",
    "recruiter_summary <- NULL # YOUR CODE HERE\n",
    "recruiter_summary"
   ]
  },
  {
   "cell_type": "markdown",
   "id": "3bb17204",
   "metadata": {},
   "source": [
    "## Conclusion"
   ]
  },
  {
   "cell_type": "markdown",
   "id": "c6533e19",
   "metadata": {
    "deletable": false,
    "editable": false
   },
   "source": [
    "<!-- BEGIN QUESTION -->\n",
    "\n",
    "**f) In this dataset of victims compiled by the CTDC, what was the most common form of trafficking that was reported? What was the most common means to keep victims in captivity, what was the most commonly reported relation besides \"other\"? What is your reaction?**"
   ]
  },
  {
   "cell_type": "markdown",
   "id": "9ee1161e",
   "metadata": {},
   "source": [
    "_Type your answer here, replacing this text._"
   ]
  },
  {
   "cell_type": "markdown",
   "id": "b1b010c2",
   "metadata": {
    "deletable": false,
    "editable": false
   },
   "source": [
    "<!-- END QUESTION -->\n",
    "\n",
    "\n",
    "# Submitting Your Notebook (please read carefully!)\n",
    "\n",
    "To submit your notebook...\n",
    "\n",
    "### 1. Click `File` $\\rightarrow$ `Save Notebook`.\n",
    "\n",
    "### 2. Wait 5 seconds.\n",
    "\n",
    "### 3. Select the cell below and hit run."
   ]
  },
  {
   "cell_type": "code",
   "execution_count": null,
   "id": "a347c4a3",
   "metadata": {},
   "outputs": [],
   "source": [
    "ottr::export(\"pset1.ipynb\")"
   ]
  },
  {
   "cell_type": "markdown",
   "id": "1493278b",
   "metadata": {},
   "source": [
    "After you hit \"Run\" on the cell above, click the download link. A .zip file should download to your computer.\n",
    "\n",
    "(If you make changes to your notebook, you'll need to hit save and then run the cell above again before you submit to get a new version of it.)\n",
    "\n",
    "### 4. Submit the .zip file you just downloaded <a href=\"https://www.gradescope.com/\" target=\"_blank\">on Gradescope here</a>.\n",
    "\n",
    "Notes:\n",
    "\n",
    "- **This does not seem to work on Chrome for iPad or iPhone.** If you're using an iPad or iPhone, you need to download the file using **Safari**.\n",
    "- If your web browser automatically unzips the .zip file (so you see a folder instead of a .zip file), you can just upload the .ipynb file that is inside the folder.\n",
    "- If this method is not working for you, try this: hit `File`, then `Download as`, then `Notebook (.ipynb)` and submit that."
   ]
  }
 ],
 "metadata": {
  "kernelspec": {
   "display_name": "R",
   "language": "R",
   "name": "ir"
  },
  "language_info": {
   "codemirror_mode": "r",
   "file_extension": ".r",
   "mimetype": "text/x-r-source",
   "name": "R",
   "pygments_lexer": "r",
   "version": "4.3.2"
  }
 },
 "nbformat": 4,
 "nbformat_minor": 5
}
