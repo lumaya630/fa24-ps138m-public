{
 "cells": [
  {
   "cell_type": "markdown",
   "id": "4114ac72",
   "metadata": {},
   "source": [
    "# Assignment X: Policy Memo"
   ]
  },
  {
   "cell_type": "markdown",
   "id": "caf3e602",
   "metadata": {},
   "source": [
    "### Substantive Objectives\n",
    "The United States Agency for International Development (USAID) is looking to fund a new counter trafficking in persons (CTIP) project and has hired you as an advisor. There is only enough funds to expand activities in **one** country and focus on strengthening **three counter trafficking activities**. \n",
    "\n",
    "Your objective is to use quantitative data, supplemented by qualitative research, to identify one country that can benefit greatly from USAID support with anti-trafficking activities and the activities that would be the most useful. This should be a realistic recommendation so take into consideration practical implementation concerns (e.g. an ongoing war, political openness to NGO activity) when making your recommendation. \n",
    "\n",
    "While there is no single right recommendation, all your decisions must be justified. \n",
    "\n",
    "### Coding Objectives\n",
    "1) Practice retrieving summary statistics using `mean()`, `median()`, `min()`, `max()`\n",
    "2) Practice isolating data of interest using `filter()` and `select()` \n",
    "3) Practice arranging datasets using `arrange()` and `desc()`\n",
    "4) Challenge: Using `group_by()` and `summarise()` to aggregate data\n"
   ]
  },
  {
   "cell_type": "markdown",
   "id": "5cc14772",
   "metadata": {},
   "source": [
    "## Setup\n",
    "The code chunk below loads the packages that we need. "
   ]
  },
  {
   "cell_type": "code",
   "execution_count": null,
   "id": "14b45523",
   "metadata": {},
   "outputs": [],
   "source": [
    "# You *must* run this cell first. Do not change the contents of this cell.\n",
    "library(testthat)\n",
    "library(ottr)\n",
    "library(tidyverse)"
   ]
  },
  {
   "cell_type": "markdown",
   "id": "e7aa025e",
   "metadata": {},
   "source": [
    "The code chunk below loads the datasets that we will be using. These datasets are drawn from Walk Free Foundation's Global Slavery Index. This is one example of how an organization attempts to standardize global estimates of trafficking prevalence, vulnerability, and government responses. "
   ]
  },
  {
   "cell_type": "code",
   "execution_count": null,
   "id": "8883a90a",
   "metadata": {},
   "outputs": [],
   "source": [
    "df.gsi_scores <- read.csv(\"gsi-scores-2023.csv\") %>% select(country, region, population, prev_per_1000, prev_total, vulnerability,\n",
    "                                                          government_response)\n",
    "df.gsi_activities <- read.csv(\"gsi-activities-2023.csv\")"
   ]
  },
  {
   "cell_type": "markdown",
   "id": "62bb6582",
   "metadata": {},
   "source": [
    "## <p style=\"color:#2272A8;\">Question 1: Identifying a Country to Recommend"
   ]
  },
  {
   "cell_type": "markdown",
   "id": "32afdeeb",
   "metadata": {
    "deletable": false,
    "editable": false
   },
   "source": [
    "### <p style=\"color:#5F7BA4;\">  ChatGPT's Recommendation\n",
    "**a) Let's first return to our semi-trusty advisor ChatGPT and see what it would recommend. Ask ChatGPT \"What country in the world should there be more counter trafficking efforts?\" and assign the variable `chatGPT_target` to the name of the country.**\n",
    "    \n",
    "*Note: Please spell the name of the country as it is spelled in the list of countries below. In the rare case that the country chatGPT suggested is not in this list of countries, please ask chatGPT to recommend another.*"
   ]
  },
  {
   "cell_type": "code",
   "execution_count": null,
   "id": "d10a49ac",
   "metadata": {
    "deletable": false,
    "editable": false
   },
   "outputs": [],
   "source": [
    "# Run this cell to see how you should be spelling the country. Do not change. \n",
    "gsi_countries <- df.gsi_scores$country\n",
    "gsi_countries"
   ]
  },
  {
   "cell_type": "code",
   "execution_count": null,
   "id": "29b572e2",
   "metadata": {
    "tags": []
   },
   "outputs": [],
   "source": [
    "# Assign the variable below to the country name (e.g. \"India\")\n",
    "chatGPT_target <- NULL # YOUR CODE HERE"
   ]
  },
  {
   "cell_type": "code",
   "execution_count": null,
   "id": "18f541ae",
   "metadata": {
    "deletable": false,
    "editable": false
   },
   "outputs": [],
   "source": [
    ". = ottr::check(\"tests/q1a.R\")"
   ]
  },
  {
   "cell_type": "markdown",
   "id": "84aa43c3",
   "metadata": {
    "deletable": false,
    "editable": false
   },
   "source": [
    "<!-- BEGIN QUESTION -->\n",
    "\n",
    "### <p style=\"color:#5F7BA4;\"> Alternative Sources\n",
    "We are not yet at a point where we can blindly trust what ChatGPT tells us. Other common sources of reporting on trafficking include NGO reports, the US Department of State Trafficking In Person's Report, UNODC's Global Report on Trafficking in Persons, official government reports and statistics, among others. \n",
    "    \n",
    "**b) Pick three sources in which you could use to evaluate the prevalence of trafficking, and explain (1) the pros and (2) the cons of relying on each source to inform your decision, and (3) how quantitative data is used by these sources to understand trafficking.**"
   ]
  },
  {
   "cell_type": "markdown",
   "id": "f0f71bcb",
   "metadata": {},
   "source": [
    "_Type your answer here, replacing this text._"
   ]
  },
  {
   "cell_type": "markdown",
   "id": "e97e2b31",
   "metadata": {
    "deletable": false,
    "editable": false
   },
   "source": [
    "<!-- END QUESTION -->\n",
    "\n",
    "### <p style=\"color:#5F7BA4;\"> Working with the data yourself!\n",
    "\n",
    "We so far have a recommendation from AI, and some third party sources to evaluate AI's recommendation. What if there is a question you have that wasn't answered in the report? What if you don't trust the numbers published in the report? You could go design a study to source your own data or search for datasets that you have trust in. \n",
    "\n",
    "However, before we get there, the first step is to know how to work with data once you get your hands on it, and understand how the existing counter-trafficking world is measuring the prevalence of trafficking and how governments are responding. \n",
    "    \n",
    "    \n",
    "    \n",
    "For this question, we are working with Walk Free Foundation Global Slavery Index (GSI) to evaluate ChatGPT's recommendation. The Walk Free Foundations [Global Slavery Index (GSI)](https://www.walkfree.org/global-slavery-index/) dataset details the prevalence, vulnerbailtiy, and govenrment responses to trafficking for 160 countries.  You can look through their website and see this [excel file](2023-GSI-Data-Full.xlsx) for a detailed explanation. In short, the variables that we are looking at are as follows:\n",
    "\n",
    "* `prev_per_1000`: estimated prevalence of human trafficking for 1000 individuals\n",
    "* `prev_total`: estimated total prevalence of human trafficking\n",
    "* `vulnerability`: score for vulnerability to human trafficking. Values range from 0 (low) to 100 (high).\n",
    "* `government_response`: score for government responsiveness to human trafficking. Values range from 0 (low) to 100 (high)."
   ]
  },
  {
   "cell_type": "code",
   "execution_count": null,
   "id": "32748dc0",
   "metadata": {
    "deletable": false,
    "editable": false,
    "scrolled": true
   },
   "outputs": [],
   "source": [
    "# DO NOT CHANGE. Prints the first 5 rows of df.gsi_scores\n",
    "head(df.gsi_scores)"
   ]
  },
  {
   "cell_type": "markdown",
   "id": "a66605fc",
   "metadata": {
    "deletable": false,
    "editable": false
   },
   "source": [
    "**c) We start with looking at the prevalence estimates. One way we could go about recommending a country for more anti-trafficking is looking at where trafficking prevalence is the highest. What is the estimated number of human trafficking victims in the country ChatGPT recommended? Store this estimate in an object called `gpt_prev_total`**\n",
    "\n",
    "*Hint: Use the `filter` function to select the country you are interested, then use `pull` to pull the value for `prev_total` from the `dplyr` package*"
   ]
  },
  {
   "cell_type": "code",
   "execution_count": null,
   "id": "842cd2a8",
   "metadata": {
    "tags": []
   },
   "outputs": [],
   "source": [
    "# YOUR ANSWER GOES HERE\n",
    "# Step 1: filter to the country of interest\n",
    "# Step 2: pull the value from the `prev_total` column\n",
    "gpt_prev_total <- NULL # YOUR CODE HERE\n",
    "\n",
    "# print the value (NOTE: this object should be a number and NOT a dataframe)\n",
    "gpt_prev_total "
   ]
  },
  {
   "cell_type": "code",
   "execution_count": null,
   "id": "231651f0",
   "metadata": {
    "deletable": false,
    "editable": false
   },
   "outputs": [],
   "source": [
    ". = ottr::check(\"tests/q1c.R\")"
   ]
  },
  {
   "cell_type": "markdown",
   "id": "2f75873c",
   "metadata": {
    "deletable": false,
    "editable": false
   },
   "source": [
    "**d) How does GPT's country's trafficking prevalence compare to the rest of the world?**\n",
    "\n",
    "(i) Store the min, mean, median, and max of `prev_total` in their respective objects\\\n",
    "(iii) Use the `arrange()` function on the `df.gsi_scores` dataframe to sort the dataframe by `prev_total` with the *highest prevalence* first.\n",
    "\n",
    "*Hints:* \\\n",
    "For part (i), make sure to set `na.rm = T`. Ex: `mean(x, na.rm = T)`. \\\n",
    "For part (ii), use `desc()` to sort from highest to lowest. Ex: `df %>% arrange(desc(y))`"
   ]
  },
  {
   "cell_type": "code",
   "execution_count": null,
   "id": "10665941",
   "metadata": {
    "tags": []
   },
   "outputs": [],
   "source": [
    "# calculate summary statistics\n",
    "min_prev_total <- NULL # YOUR CODE HERE\n",
    "mean_prev_total <- NULL # YOUR CODE HERE\n",
    "median_prev_total <- NULL # YOUR CODE HERE\n",
    "max_prev_total <- NULL # YOUR CODE HERE\n",
    "\n",
    "# sort dataset in order of prevalence\n",
    "gsi_sort_by_prev_total <- NULL # YOUR CODE HERE\n",
    "\n",
    "# print answers\n",
    "paste0(\"min: \", min_prev_total)\n",
    "paste0(\"mean: \", mean_prev_total)\n",
    "paste0(\"median: \", median_prev_total)\n",
    "paste0(\"max: \", max_prev_total)\n",
    "gsi_sort_by_prev_total"
   ]
  },
  {
   "cell_type": "markdown",
   "id": "d9e1ee40",
   "metadata": {
    "deletable": false,
    "editable": false
   },
   "source": [
    "#### <p style=\"color:#A0A0A0\">  Where does your country fall? (**No action needed below, Example Distribution Plot**)\n",
    "The code chunk below plots a histogram of the total prevalance estimates across all countries. The red line indicates the prevalence of human trafficking in ChatGPT's recommended country. The blue line indicates the median prevalence in the 160 countries."
   ]
  },
  {
   "cell_type": "code",
   "execution_count": null,
   "id": "283e54d2",
   "metadata": {
    "deletable": false,
    "editable": false,
    "scrolled": true
   },
   "outputs": [],
   "source": [
    "# DO NOT EDIT\n",
    "# Example code for plotting a histogram\n",
    "gsi_sort_by_prev_total %>% ggplot(aes(x = prev_total)) +\n",
    "    \n",
    "    # plots histogram\n",
    "    geom_histogram(bins = 10, alpha = .7) +\n",
    "\n",
    "    # add vertical line for chat GPT's recommended country. \n",
    "    geom_vline(xintercept = gpt_prev_total, col = \"red\")+\n",
    "    geom_vline(xintercept = mean(median_prev_total, na.rm = T), col = \"blue\")+\n",
    "    \n",
    "    # changes background color, lines, etc. \n",
    "    theme_bw() +\n",
    "\n",
    "    # add labels\n",
    "    labs(x = \"Estimated Total Prevalence\", y = \"Count\")"
   ]
  },
  {
   "cell_type": "code",
   "execution_count": null,
   "id": "7456bc5e",
   "metadata": {
    "deletable": false,
    "editable": false
   },
   "outputs": [],
   "source": [
    ". = ottr::check(\"tests/q1d.R\")"
   ]
  },
  {
   "cell_type": "markdown",
   "id": "2ce689d3",
   "metadata": {
    "deletable": false,
    "editable": false
   },
   "source": [
    "<!-- BEGIN QUESTION -->\n",
    "\n",
    "**e) What is a critique of the using absolute value of prevalence to determine which country to increase anti-trafficking efforts?**"
   ]
  },
  {
   "cell_type": "markdown",
   "id": "1231e23b",
   "metadata": {},
   "source": [
    "_Type your answer here, replacing this text._"
   ]
  },
  {
   "cell_type": "markdown",
   "id": "5fd0d1bc",
   "metadata": {
    "deletable": false,
    "editable": false
   },
   "source": [
    "<!-- END QUESTION -->\n",
    "\n",
    "**f) Now we look at an alternate variable of interest `prev_per_1000` which represents the estimated prevalence of human trafficking per 1000 individuals. Repeat (c) and (d) for this variable. In other words:**\n",
    "\\\n",
    "i) Get the prevalence per thousand for the country chatGPT recommended stored in an object named `gpt_prev_1000`. \\\n",
    "ii) Store the min, mean, median, and max of the prevalence per thousand in their respective objects\\\n",
    "iii) Then store a dataframe of the countries sorted by highest to lowest estimated prevalence per thousand in an object named `gsi_sort_by_prev_1000`."
   ]
  },
  {
   "cell_type": "code",
   "execution_count": null,
   "id": "725e61ec",
   "metadata": {
    "scrolled": false,
    "tags": []
   },
   "outputs": [],
   "source": [
    "# store estimate for chatGPT's recommended country\n",
    "gpt_prev_1000 <- NULL # YOUR CODE HERE\n",
    "\n",
    "# get summary statistics of prev_per_1000\n",
    "min_prev_1000 <- NULL # YOUR CODE HERE\n",
    "mean_prev_1000 <- NULL # YOUR CODE HERE\n",
    "median_prev_1000 <- NULL # YOUR CODE HERE\n",
    "max_prev_1000 <- NULL # YOUR CODE HERE\n",
    "\n",
    "# arrange dataframe in descring order by prev_per_1000\n",
    "gsi_sort_by_prev_1000 <- NULL # YOUR CODE HERE\n",
    "\n",
    "# print your results\n",
    "paste0(chatGPT_target, \": \", gpt_prev_1000)\n",
    "paste0(\"min: \", min_prev_1000)\n",
    "paste0(\"mean: \", mean_prev_1000)\n",
    "paste0(\"median: \", median_prev_1000)\n",
    "paste0(\"max: \", max_prev_1000)\n",
    "gsi_sort_by_prev_1000"
   ]
  },
  {
   "cell_type": "code",
   "execution_count": null,
   "id": "3553c38b",
   "metadata": {
    "deletable": false,
    "editable": false
   },
   "outputs": [],
   "source": [
    ". = ottr::check(\"tests/q1f.R\")"
   ]
  },
  {
   "cell_type": "markdown",
   "id": "91c28b7e",
   "metadata": {},
   "source": [
    "#### <p style=\"color:#A0A0A0\">  Where does your country fall? (**No action needed below, Example Distribution Plot**)\n",
    "The code chunk below plots a histogram of the total prevalance estimates across all countries. The red line indicates the prevalence of human trafficking in ChatGPT's recommended country and the blue line indicates the median for the 160 countries in the dataset. "
   ]
  },
  {
   "cell_type": "code",
   "execution_count": null,
   "id": "04d82089",
   "metadata": {},
   "outputs": [],
   "source": [
    "# DO NOT EDIT\n",
    "# Example code for plotting a histogram\n",
    "gsi_sort_by_prev_1000 %>% ggplot(aes(x = prev_per_1000)) +\n",
    "    \n",
    "    # plots histogram\n",
    "    geom_histogram(bins = 10, alpha = 0.5) +\n",
    "\n",
    "    # add vertical line for chat GPT's recommended country. \n",
    "    geom_vline(xintercept = gpt_prev_1000, col = \"red\")+\n",
    "\n",
    "    # add vertical line for mean prevelence per 1000\n",
    "    geom_vline(xintercept = median_prev_1000, col = \"blue\")+\n",
    "    \n",
    "    # changes background color, lines, etc. \n",
    "    theme_minimal() +\n",
    "\n",
    "    # add labels\n",
    "    labs(x = \"Estimated Total Prevalence per 1000\", y = \"Count\")"
   ]
  },
  {
   "cell_type": "markdown",
   "id": "f6b693a6",
   "metadata": {
    "deletable": false,
    "editable": false
   },
   "source": [
    "<!-- BEGIN QUESTION -->\n",
    "\n",
    "#### g) How does ChatGPT's country compare to the other countries in the dataset when looking at prevalence per 1000? Do you think either prevalence estimate played a large factor in determining ChatGPT's recommendation? How has looking at the Walk Free Foundation's GSI's country prevalences influenced your evaluation of ChatGPT's recommendation?\n",
    "\n",
    "Think through the quality of Walk Free's prevalence estimates."
   ]
  },
  {
   "cell_type": "markdown",
   "id": "b8ef2c06",
   "metadata": {},
   "source": [
    "_Type your answer here, replacing this text._"
   ]
  },
  {
   "cell_type": "markdown",
   "id": "63e6081d",
   "metadata": {
    "deletable": false,
    "editable": false
   },
   "source": [
    "<!-- END QUESTION -->\n",
    "\n",
    "### Your Turn: What is your country recommendation?"
   ]
  },
  {
   "cell_type": "markdown",
   "id": "aec7eac8",
   "metadata": {
    "deletable": false,
    "editable": false
   },
   "source": [
    "<!-- BEGIN QUESTION -->\n",
    "\n",
    "**h) Walk Free Foundation also identifies (1) vulnerability and (2) government action as important dimensions of analyses when evaluating the trafficking situation. What additional information do these measures provide? What else would you take into consideration when selecting a country and why?**"
   ]
  },
  {
   "cell_type": "markdown",
   "id": "5127ca3a",
   "metadata": {},
   "source": [
    "_Type your answer here, replacing this text._"
   ]
  },
  {
   "cell_type": "markdown",
   "id": "a09a4dee",
   "metadata": {
    "deletable": false,
    "editable": false
   },
   "source": [
    "<!-- END QUESTION -->\n",
    "\n",
    "#### <p style=\"color:#A0A0A0\">  Walk Free Foundation also identifies vulnerbability and government action as important dimensions of analyses when evaluating the trafficking situation. The tables below similarly show the countries. (No action needed, just run the cells to see the tables). \n",
    "**The 20 Countries with Highest Vulnerability Scores (100 = highest or most vulnerable)** \\\n",
    "The code chunk below displays the data sorted by most vulnerable countries. To see how these scores are calculated, please see the [excel file](2023-GSI-Data-Full.xlsx). "
   ]
  },
  {
   "cell_type": "code",
   "execution_count": null,
   "id": "4e05c15d",
   "metadata": {
    "scrolled": false
   },
   "outputs": [],
   "source": [
    "# RUN THIS CELL\n",
    "# Sort DF by vulnerability (highest to lowest)\n",
    "df.gsi_scores %>% arrange(desc(vulnerability)) %>% head(20)"
   ]
  },
  {
   "cell_type": "markdown",
   "id": "c49ffd17",
   "metadata": {},
   "source": [
    "#### Countries Sorted by Government Response Scores (100 = highest)\n",
    "The code chunk below displays the data sorted by level of government response. Lower scores indicate less action. To see how these scores are calculated, please see the [excel file](2023-GSI-Data-Full.xlsx). "
   ]
  },
  {
   "cell_type": "code",
   "execution_count": null,
   "id": "4d9174e2",
   "metadata": {
    "scrolled": true
   },
   "outputs": [],
   "source": [
    "# RUN THIS CELL\n",
    "# Sort DF by government response (highest to lowest)\n",
    "df.gsi_scores %>% arrange(government_response) %>% head(20)"
   ]
  },
  {
   "cell_type": "markdown",
   "id": "9844f379",
   "metadata": {
    "deletable": false,
    "editable": false
   },
   "source": [
    "<!-- BEGIN QUESTION -->\n",
    "\n",
    "**h) Given this information, please make your own recommendation on which country USAID should fund counter-trafficking activities in. Please justify your answer and cite any sources you use.** "
   ]
  },
  {
   "cell_type": "markdown",
   "id": "2d3a3d00",
   "metadata": {},
   "source": [
    "_Type your answer here, replacing this text._"
   ]
  },
  {
   "cell_type": "markdown",
   "id": "ed15fc6a",
   "metadata": {
    "deletable": false,
    "editable": false
   },
   "source": [
    "<!-- END QUESTION -->\n",
    "\n",
    "***<p style=\"background-color: lightyellow;\">Note: In the HT world, there are multiple ways to go about measuring prevalence, each with their own pros and cons. For the purposes of this assignment, we are basing this decision off of data from the GSI estimates of prevalence. Keep in mind that in the real world, you should be skeptical and critical of how the organization went about estimating HT prevalence. There will be more on different measurements and how to interpret them later in the semester.***\n",
    "   "
   ]
  },
  {
   "cell_type": "markdown",
   "id": "95dc33b5",
   "metadata": {},
   "source": [
    "## Question 2: Determining Activities"
   ]
  },
  {
   "cell_type": "markdown",
   "id": "bc87b6de",
   "metadata": {},
   "source": [
    "How does the GSI come up with the government action score? Walk Free foundation also evaluates various activities of each government. Look through the `Govt response framework` tab in this [excel file](2023-GSI-Data-Full.xlsx) to understand the how the walk free foundation is approaching grading government responses. \n",
    "\n",
    "Walk Free Foundation has 5 milestones, each consisting of a set of activities, and each activity consisting of a set of indicators. The dataset we are using reflects the activities ranking. \n",
    "\n",
    "* `2` = Activity Achieved\n",
    "* `1` = Activity Partly achieved\n",
    "* `0` = Activity Not achieved\n",
    "\n"
   ]
  },
  {
   "cell_type": "code",
   "execution_count": null,
   "id": "ea95642a",
   "metadata": {},
   "outputs": [],
   "source": [
    "# DO NOT CHANGE\n",
    "# Subset to relevant columns\n",
    "df.gsi_activities <- df.gsi_activities %>% select(country, region, ends_with(\"R\", ignore.case = F))\n",
    "\n",
    "# Display first 6 rows\n",
    "head(df.gsi_activities) "
   ]
  },
  {
   "cell_type": "markdown",
   "id": "6f3bcbe9",
   "metadata": {
    "deletable": false,
    "editable": false
   },
   "source": [
    "<!-- BEGIN QUESTION -->\n",
    "\n",
    "#### a) Look through the list of activities on the excel spreadsheet previously attached. \n",
    "(i) In your own words, what are the five main milestones? \\\n",
    "(ii) In your opinion, what activities can USAID funding be able to influence? List at least 2, and explain your reasoning. \\\n",
    "(iii) What activities would be difficult to influence? List at least 2, and explain your reasoning."
   ]
  },
  {
   "cell_type": "markdown",
   "id": "95086957",
   "metadata": {},
   "source": [
    "_Type your answer here, replacing this text._"
   ]
  },
  {
   "cell_type": "markdown",
   "id": "67f73486",
   "metadata": {
    "deletable": false,
    "editable": false
   },
   "source": [
    "<!-- END QUESTION -->\n",
    "\n",
    "#### b) Now we are going to look at the country you are recommending, and seeing where the government has been active in counter trafficking activities. \n",
    "\n",
    "1. First, store the country you want to recommend in a variable named `my_rec`. \n",
    "2. Then, to focus on the activities that our country of interest is/is not engaging in, we are going to use the `filter()` function to keep both (1) the row corresponding to our question and (2) the first row that contains the corresponding milestone. \n",
    "\n",
    "Hint: \n",
    "The condition inside the filter function should return true if a row is...\n",
    "\n",
    "(1) The row corresponding to your recommended country **OR** (OR operator is `|`) (2) the first row in the dataset (which we can identify with `country == \"\"`)"
   ]
  },
  {
   "cell_type": "code",
   "execution_count": null,
   "id": "de157e74",
   "metadata": {
    "deletable": false,
    "editable": false,
    "scrolled": true
   },
   "outputs": [],
   "source": [
    "# printing the country names in the dataset\n",
    "df.gsi_activities$country"
   ]
  },
  {
   "cell_type": "code",
   "execution_count": null,
   "id": "38939ff6",
   "metadata": {
    "scrolled": false,
    "tags": []
   },
   "outputs": [],
   "source": [
    "my_rec <- NULL # YOUR CODE HERE\n",
    "\n",
    "# filter to your recommended country\n",
    "my_rec_rankings <- df.gsi_activities %>% filter(country == my_rec | country == \"\") \n",
    "\n",
    "# print output\n",
    "my_rec_rankings"
   ]
  },
  {
   "cell_type": "markdown",
   "id": "77f46a31",
   "metadata": {},
   "source": [
    "#### NO ACTION NEEDED: Transforming Data\n",
    "Perhaps we want to sort by the value assigned to each activity. Or maybe we want to be able to aggregate the data and take a look at the achievements within each milestones. With the way the data is currently structured, and the way that functions request their data to be formatted, the current dataframe is no good. \n",
    "\n",
    "The `arrange()` and `summarise()` functions in `R` request that the dataframe that is supplied has values in columns. At the moment, the second row tells us the values of the activity, which we want to sort by, and the first row tells us the value we want to aggregate by. \n",
    "\n",
    "Now we need to use a combination of functions to get this data cleanly in the format we want. See the following sequence of code and see what each function does. Don't be worried if you don't understand how I figured out which functions to use to get the data into the right format. It just takes a bit of trial and error and practice. I've been doing this for 5+ years!"
   ]
  },
  {
   "cell_type": "code",
   "execution_count": null,
   "id": "91e53388",
   "metadata": {},
   "outputs": [],
   "source": [
    "# EXAMPLE CODE: DO NOT CHANGE\n",
    "\n",
    "# transpose data (turn rows to columns and columns to rows)\n",
    "my_rec_t <- my_rec_rankings %>% t() %>% \n",
    "    \n",
    "    # transform from matrix to dataframe (which is what we want)\n",
    "    as.data.frame()%>% \n",
    "    # turn the rowname into a column\n",
    "    rownames_to_column() %>% \n",
    "    # rename the rows nicely\n",
    "    rename(activity = rowname, milestone = V1, score = V2) %>% \n",
    "    # get rid of the first two rows\n",
    "    slice(-(1:2)) %>%\n",
    "    # mutate the score value from character to numeric\n",
    "    mutate(score = as.numeric(score))\n",
    "\n",
    "my_rec_t"
   ]
  },
  {
   "cell_type": "markdown",
   "id": "b3ec5580",
   "metadata": {
    "deletable": false,
    "editable": false
   },
   "source": [
    "**c) Use the `arrange()` function to sort `my_rec_t` in descending order by the activity score**"
   ]
  },
  {
   "cell_type": "code",
   "execution_count": null,
   "id": "c0bb1662",
   "metadata": {
    "scrolled": true,
    "tags": []
   },
   "outputs": [],
   "source": [
    "# YOUR SOLUTION HERE\n",
    "my_rec_t_sorted <- NULL # YOUR CODE HERE\n",
    "\n",
    "# PRINT SOLUTIOn\n",
    "my_rec_t_sorted"
   ]
  },
  {
   "cell_type": "markdown",
   "id": "09e4a395",
   "metadata": {
    "deletable": false,
    "editable": false
   },
   "source": [
    "**Optional Challenge) Use the `group_by()` and `summarise()` function in `R` to find the sum of activity scores for each milestone.** "
   ]
  },
  {
   "cell_type": "code",
   "execution_count": null,
   "id": "642d94f2",
   "metadata": {
    "tags": []
   },
   "outputs": [],
   "source": [
    "my_rec_t_agg <- NULL # YOUR CODE HERE\n",
    "\n",
    "# print solution\n",
    "my_rec_t_agg"
   ]
  },
  {
   "cell_type": "markdown",
   "id": "3f3e0d7d",
   "metadata": {
    "deletable": false,
    "editable": false
   },
   "source": [
    "<!-- BEGIN QUESTION -->\n",
    "\n",
    "#### NO ACTION NEEDED: Comparing to Activities of Other Countries\n",
    "\n",
    "Run the cells below to see what activities and milestones other countries are active in\n"
   ]
  },
  {
   "cell_type": "code",
   "execution_count": null,
   "id": "b0af2eb1",
   "metadata": {
    "deletable": false,
    "editable": false
   },
   "outputs": [],
   "source": [
    "# View global average scores of all the activies\n",
    "df.gsi_activities %>% slice(-1) %>% \n",
    "        mutate(across(public_reportR:gov_busR, as.numeric)) %>%\n",
    "        summarise(across(is.numeric, mean, na.rm = T)) %>% \n",
    "        t() %>%\n",
    "        as.data.frame() %>%\n",
    "        rename(mean_score = V1) %>%\n",
    "        round(2) %>% arrange(desc(mean_score))"
   ]
  },
  {
   "cell_type": "code",
   "execution_count": null,
   "id": "371709d4",
   "metadata": {
    "deletable": false,
    "editable": false
   },
   "outputs": [],
   "source": [
    "# View global average scores of the milestone totals\n",
    "df.gsi_activities %>% t() %>% as.data.frame() %>%\n",
    "    rename(milestone = V1) %>% remove_rownames() %>%\n",
    "    group_by(milestone) %>% mutate_all(as.numeric) %>% \n",
    "    summarise_all(sum, na.rm = T) %>% \n",
    "    mutate(avg_milestone_total = rowMeans(select(., -milestone))) %>%\n",
    "    select(milestone, avg_milestone_total) %>%\n",
    "    filter(milestone != \"\", !is.na(milestone))"
   ]
  },
  {
   "cell_type": "markdown",
   "id": "028207bc",
   "metadata": {
    "deletable": false,
    "editable": false
   },
   "source": [
    "#### d) What milestone is the government most active in? Which milestones is the government least active in? Given this information, what three activities do you think USAID should invest it's resources in? Justify your answer. "
   ]
  },
  {
   "cell_type": "markdown",
   "id": "aafff086",
   "metadata": {},
   "source": [
    "_Type your answer here, replacing this text._"
   ]
  },
  {
   "cell_type": "markdown",
   "id": "0c88786f",
   "metadata": {
    "deletable": false,
    "editable": false
   },
   "source": [
    "<!-- END QUESTION -->\n",
    "\n",
    "# Submitting Your Notebook (please read carefully!)\n",
    "\n",
    "To submit your notebook...\n",
    "\n",
    "### 1. Click `File` $\\rightarrow$ `Save Notebook`.\n",
    "\n",
    "### 2. Wait 5 seconds.\n",
    "\n",
    "### 3. Select the cell below and hit run.tion:**"
   ]
  },
  {
   "cell_type": "code",
   "execution_count": null,
   "id": "bd0aebd0",
   "metadata": {},
   "outputs": [],
   "source": [
    "ottr::export(\"pset2.ipynb\")"
   ]
  },
  {
   "cell_type": "markdown",
   "id": "8be06198",
   "metadata": {},
   "source": [
    "After you hit \"Run\" on the cell above, click the download link. A .zip file should download to your computer.\n",
    "\n",
    "(If you make changes to your notebook, you'll need to hit save and then run the cell above again before you submit to get a new version of it.)\n",
    "\n",
    "### 4. Submit the .zip file you just downloaded <a href=\"https://www.gradescope.com/\" target=\"_blank\">on Gradescope here</a>.\n",
    "\n",
    "Notes:\n",
    "\n",
    "- **This does not seem to work on Chrome for iPad or iPhone.** If you're using an iPad or iPhone, you need to download the file using **Safari**.\n",
    "- If your web browser automatically unzips the .zip file (so you see a folder instead of a .zip file), you can just upload the .ipynb file that is inside the folder.\n",
    "- If this method is not working for you, try this: hit `File`, then `Download as`, then `Notebook (.ipynb)` and submit that."
   ]
  }
 ],
 "metadata": {
  "kernelspec": {
   "display_name": "R",
   "language": "R",
   "name": "ir"
  },
  "language_info": {
   "codemirror_mode": "r",
   "file_extension": ".r",
   "mimetype": "text/x-r-source",
   "name": "R",
   "pygments_lexer": "r",
   "version": "4.3.2"
  }
 },
 "nbformat": 4,
 "nbformat_minor": 5
}
