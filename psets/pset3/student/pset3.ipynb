{
 "cells": [
  {
   "cell_type": "markdown",
   "id": "cc1e3b39",
   "metadata": {},
   "source": [
    "# Assignment 3: Labor Trafficking in America"
   ]
  },
  {
   "cell_type": "markdown",
   "id": "f9288542",
   "metadata": {},
   "source": [
    "### Substantive Objectives\n",
    "The goal of this assignment is to...\n",
    "\n",
    "### Coding Objectives\n",
    "More tabulation practice! Slowly, these should be feeling more comfortable. "
   ]
  },
  {
   "cell_type": "markdown",
   "id": "eebc824b",
   "metadata": {},
   "source": [
    "## Setup\n",
    "The code chunk below loads the packages that we need. "
   ]
  },
  {
   "cell_type": "code",
   "execution_count": null,
   "id": "415a9494",
   "metadata": {
    "scrolled": true
   },
   "outputs": [],
   "source": [
    "# You *must* run this cell first. Do not change the contents of this cell.\n",
    "library(testthat)\n",
    "library(ottr)\n",
    "library(tidyverse)"
   ]
  },
  {
   "cell_type": "markdown",
   "id": "b9320d4d-630e-47ec-8c3f-2c41318f3b08",
   "metadata": {},
   "source": [
    "The code chunk below loads the ctdc dataset."
   ]
  },
  {
   "cell_type": "code",
   "execution_count": null,
   "id": "ac1e735f-d25c-4891-9d66-99eade04a563",
   "metadata": {},
   "outputs": [],
   "source": [
    "# You *must* run this cell first. Do not change the contents of this cell.\n",
    "ctdc <- read.csv(\"2024_CTDC_synthetic.csv\")"
   ]
  },
  {
   "cell_type": "markdown",
   "id": "a18b280c-ae99-4865-8c90-8cb05a8a30fd",
   "metadata": {},
   "source": [
    "## Alternative Question"
   ]
  },
  {
   "cell_type": "markdown",
   "id": "493d0f63-64a6-4a7f-93ee-298fb8cb0bde",
   "metadata": {
    "deletable": false,
    "editable": false
   },
   "source": [
    "<!-- BEGIN QUESTION -->\n",
    "\n",
    "We asked chatGPT to generate potential cases of human trafficking in the US. **Pick ONE scenario** and write up a response with the following specifications. Make sure to **use examples/evidence from readings and lecture** and **cite at least 3 sources** (200-250 words):\n",
    "\n",
    "* **Paragraph 1: Argument** - Is this a case of human trafficking according to TVPA, Palermo protocol, the spirit of trafficking, why?\n",
    "* **Paragraph 2: Job specific vulnerabilities** - What made this individual vulnerable to being trafficked into this job? What features of the job makes it a common occupation where trafficking is observed?\n",
    "* **Paragraph 3: US legal system** - What about the US laws around this sector and broader system reinforces the patterns of trafficking?\n",
    "* **Paragraph 4: Investigation Outcome** - Based on the readings, what do you suspect was the outcome of the investigation?\n",
    "* **Paragraph 5: Proposal** - What do you propose we do to reduce trafficking for a case like this?\n",
    "\n",
    "\n",
    "*Note: The paragraphs don't need to be strictly structured/formatted as such. Just be sure to include all the points.*\n"
   ]
  },
  {
   "cell_type": "markdown",
   "id": "6e6422f6-1a18-4617-aaf5-afe788813c76",
   "metadata": {
    "deletable": false,
    "editable": false
   },
   "source": [
    "---\n",
    "\n",
    "### **Scenario #1: Domestic Work in the US**\n",
    "\n",
    "*One reference to start: Bales Chapter 2*\n",
    "\n",
    "A 27-year-old woman named Maria is recruited from her home country in Central America to work as a live-in housekeeper and nanny for a wealthy family in California. The job offer promises good wages, a place to live, and an opportunity for Maria to send money home to support her family.\n",
    "\n",
    "Upon arrival, however, Maria's situation turns out very differently. Her employers confiscate her passport and work visa, telling her it’s for “safe-keeping.” Maria is made to work 14-16 hours a day, seven days a week, cleaning the house, cooking, and caring for the children, with no days off. She sleeps on a mattress in a small utility room, is provided minimal food, and is prohibited from leaving the house without permission.\n",
    "\n",
    "The family threatens Maria, telling her that if she tries to escape or report her situation, they will contact immigration authorities and have her deported. She is paid far less than was initially promised—sometimes nothing at all—leaving her trapped and unable to send money home as planned.\n",
    "\n",
    "Over time, Maria’s physical and mental health deteriorates due to overwork, isolation, and abuse. She is kept from accessing outside help and doesn’t know the language or her rights in the U.S. Eventually, she manages to confide in a neighbor or a delivery worker, who notices the signs of exploitation and reports the situation to authorities. An investigation is launched, and the results of the investigation remain unknown.\n",
    "\n",
    "--- \n",
    "\n",
    "### **Scenario #2: Agricultural Work in the US**\n",
    "*One reference to start: Bales Chapter 3*\n",
    "\n",
    "Carlos, a 35-year-old man from Mexico, is recruited by a labor contractor to work on a farm in Florida. The recruiter promises him a well-paying job with housing included, and assures Carlos that he will receive legal work documents upon arrival. Desperate to provide for his family, Carlos agrees, even paying a high recruitment fee to secure the job.\n",
    "\n",
    "When Carlos arrives, he quickly realizes that the situation is far from what was promised. His work visa is either nonexistent or forged, and his living conditions are deplorable—he shares a small, overcrowded shack with several other workers. There is little to no access to running water, sanitation, or proper nutrition.\n",
    "\n",
    "Carlos and the other workers are forced to work long hours, sometimes 12-14 hours a day, seven days a week, picking crops under extreme heat. They are paid far less than the minimum wage, often receiving less than promised or not being paid at all. If the workers protest or try to leave, the contractor threatens them with deportation or physical violence, or claims that they still owe recruitment debts.\n",
    "\n",
    "The labor contractor confiscates Carlos's identification documents, telling him that he will get them back once he has \"worked off\" his recruitment fees. Workers are constantly monitored, and they are forbidden from contacting anyone outside the farm. There is little to no medical assistance, and anyone who becomes sick or injured is either ignored or threatened.\n",
    "\n",
    "After several months of exploitation, Carlos meets a local volunteer from a migrant worker advocacy group during a rare trip to town. The volunteer becomes suspicious of the signs of abuse and contacts law enforcement, leading to an investigation. The results of the investigation remain unknown. \n",
    "\n",
    "---"
   ]
  },
  {
   "cell_type": "code",
   "execution_count": null,
   "id": "d1a234aa-14bb-4db1-9889-bbd3b4547e44",
   "metadata": {
    "tags": []
   },
   "outputs": [],
   "source": []
  },
  {
   "cell_type": "markdown",
   "id": "d6c32519",
   "metadata": {
    "deletable": false,
    "editable": false
   },
   "source": [
    "<!-- END QUESTION -->\n",
    "\n",
    "<!-- BEGIN QUESTION -->\n",
    "\n",
    "## Question 1: Domestic Work\n",
    "**You are a human rights advocate working at the human trafficking hotline. You receive a call from some who suspects their neighbor's housekeeper is a victim of trafficking. The caller has a set of questions about the situation. Please provide your responses to the best of your ability. (Reference Bale Chapter 2)**\n",
    "\n",
    ">**(i) (1 point)** I noticed my neighbor, a diplomat, is employing a housekeeper from Indonesia. I've recently grown concerned about the situation for various reasons. I've never seen anyone from the government of some sort of a social worker, come in and check on the housekeeper's work condition. Why is this?\\\n",
    "**(ii) (3 point)** I'm concerned because I've heard loud shouting at times. Can I help her find another job? Why stay in such poor working conditions?\\\n",
    "**(iii) (2 points)** In the United States, do domestic workers hold the same rights as native-born workers? What about workers in other sectors? If not, what are their differences?\\\n",
    "**(iv) (2 points)** Why are domestic workers rights not being protected as other workers?\\\n",
    "**(v) (2 points)** Will her employer, the diplomat, be held accountable if she files a case against him? What if her employer was not a diplomat?"
   ]
  },
  {
   "cell_type": "markdown",
   "id": "4c005306",
   "metadata": {},
   "source": [
    "_Type your answer here, replacing this text._"
   ]
  },
  {
   "cell_type": "markdown",
   "id": "d55e2f01",
   "metadata": {
    "deletable": false,
    "editable": false
   },
   "source": [
    "<!-- END QUESTION -->\n",
    "\n",
    "<!-- BEGIN QUESTION -->\n",
    "\n",
    "## Question 2: Agriculture\n",
    "**(7 points) At the same job, a farm worker phones you asking for information and advice. Please write down your responses to them. Reference Bale Chapter 3.**\n",
    "\n",
    ">**(i) (2 point)** I had migrated here from Mexico expecting to get a job in construction, but now I am working on a farm. How do my rights differ from those of a construction worker?\\\n",
    ">**(ii) (1 point)** I saw a flyer about labor unions. What are the risks of joining the union to push for better labor conditions?\\\n",
    "**(ii) (1 point)** The farm workers told me to join this protest against big corporations. Why are they saying big conglomerates, such as Costco, Subway, McDonalds, etc, contribute to creating these exploitative working conditions for farm workers?\\\n",
    "**(iii) (3 point)** (The worker describes their work conditions as similar to Antonio's situation in Bales Chapter 3, pg 49). Does this count as human trafficking under US law? How do you know?\n"
   ]
  },
  {
   "cell_type": "markdown",
   "id": "dd4315a1",
   "metadata": {},
   "source": [
    "_Type your answer here, replacing this text._"
   ]
  },
  {
   "cell_type": "markdown",
   "id": "addffb69",
   "metadata": {
    "deletable": false,
    "editable": false
   },
   "source": [
    "<!-- END QUESTION -->\n",
    "\n",
    "<!-- BEGIN QUESTION -->\n",
    "\n",
    "## Question 3: Statistics and Interpretation"
   ]
  },
  {
   "cell_type": "markdown",
   "id": "c0670c7c",
   "metadata": {
    "deletable": false,
    "editable": false
   },
   "source": [
    "**a) In this [factsheet](https://polarisproject.org/wp-content/uploads/2019/07/Domestic_Worker_Fact_Sheet.pdf) published by Polaris, a recommendation is to give employers a training on hiring foriegn workers. The implicit association here is that more training is associated with more rights protection.**\n",
    "\n",
    "The government wants to know if it's worth spending money on training employers. They hire researchers to collect data on employers who had received training and compare them to employers who had not. The researchers did not design their own experiment. Instead, they used data on employers who voluntarily received training and compared them to employers do did not choose to partake in training.\n",
    "\n",
    "They find that employers who do receive trainings have 30% less allegations, on average, filed by their workers. If you were the researcher, how confident would you be in this relationship? Why?\n",
    "\n",
    " $$ReceivedAllegation = \\alpha + \\beta_1 ReceivedTraining$$\n",
    "\n",
    "where $\\beta_1  = -0.3$"
   ]
  },
  {
   "cell_type": "markdown",
   "id": "00d12d4b",
   "metadata": {},
   "source": [
    "_Type your answer here, replacing this text._"
   ]
  },
  {
   "cell_type": "markdown",
   "id": "f57fae6b",
   "metadata": {
    "deletable": false,
    "editable": false
   },
   "source": [
    "<!-- END QUESTION -->\n",
    "\n",
    "<!-- BEGIN QUESTION -->\n",
    "\n",
    "**b) The chart below is taken from this [factsheet](https://polarisproject.org/wp-content/uploads/2019/07/Domestic_Worker_Fact_Sheet.pdf) by Polaris. What does the chart below say about the distribution of trafficking cases involving domestic workers in the US? Provide at least 2 potential reasons for why some areas are more sparse than others.**\n",
    "\n",
    "<img src=\"polaris_domestic_worker_cases.png\" width=\"700\">\n"
   ]
  },
  {
   "cell_type": "markdown",
   "id": "f84bbae8",
   "metadata": {},
   "source": [
    "_Type your answer here, replacing this text._"
   ]
  },
  {
   "cell_type": "markdown",
   "id": "e7b294af-9c27-4b73-ab9d-4d2328596b3c",
   "metadata": {
    "deletable": false,
    "editable": false
   },
   "source": [
    "<!-- END QUESTION -->\n",
    "\n",
    "**c) (2 points) Lets find the distribution of reported cases of forced Labor in the United States. Can can return to our CTDC data, which Polaris is a partner of.**\n",
    "1) Filter to `(CountryOfExploitation == \"USA\" & isForcedLabour == 1)`\n",
    "2) Select the columns that `starts_with(\"typeOfLabour\")`\n",
    "3) Find the mean of all the selected columns"
   ]
  },
  {
   "cell_type": "code",
   "execution_count": null,
   "id": "fc8d1ca3-085c-414c-bb5f-04aa767c3b96",
   "metadata": {
    "tags": []
   },
   "outputs": [],
   "source": [
    "labor_summary <- NULL # YOUR CODE HERE\n",
    "\n",
    "# display\n",
    "labor_summary"
   ]
  },
  {
   "cell_type": "code",
   "execution_count": null,
   "id": "98886cf8",
   "metadata": {
    "deletable": false,
    "editable": false
   },
   "outputs": [],
   "source": [
    ". = ottr::check(\"tests/q3c.R\")"
   ]
  },
  {
   "cell_type": "markdown",
   "id": "45d2781e-5c91-4bae-b816-f90c4e45930d",
   "metadata": {
    "deletable": false,
    "editable": false
   },
   "source": [
    "<!-- BEGIN QUESTION -->\n",
    "\n",
    "**d) (2 points) Interpret these summary statistics.**"
   ]
  },
  {
   "cell_type": "markdown",
   "id": "a245df86",
   "metadata": {},
   "source": [
    "_Type your answer here, replacing this text._"
   ]
  },
  {
   "cell_type": "markdown",
   "id": "6d7ba40e-ea37-442d-8485-a74602be8e50",
   "metadata": {
    "deletable": false,
    "editable": false
   },
   "source": [
    "<!-- END QUESTION -->\n",
    "\n",
    "**e) How are those in forced labor in America being controlled by their employers? To find out, lets continue with data that we have access to from Polaris's contribution to the ctdc dataset.**"
   ]
  },
  {
   "cell_type": "markdown",
   "id": "a8535754-799c-41e6-b4f4-08c0cc9f657d",
   "metadata": {
    "deletable": false,
    "editable": false
   },
   "source": [
    "We are doing the same process of filter, select, and summarise. The example code below does the following...\n",
    "\n",
    "From the CTDC dataset:\n",
    "1) Filter to labor in the USA in the sector of domestic work. \n",
    "2) Select all the columns that represent means of control. \n",
    "3) Find the mean of all the selected columns."
   ]
  },
  {
   "cell_type": "code",
   "execution_count": null,
   "id": "6e2bf88e-6be6-48cc-817e-37387cb3f5a3",
   "metadata": {
    "deletable": false,
    "editable": false,
    "scrolled": true
   },
   "outputs": [],
   "source": [
    "# EXAMPLE CODE\n",
    "domestic_worker_control <- ctdc %>% \n",
    "    # Filter to labor in the USA in the sector of domestic work\n",
    "    filter(CountryOfExploitation == \"USA\" & typeOfLabourDomesticWork == 1)  %>% \n",
    "    # Select all the columns that represent means of control.\n",
    "    select(starts_with('means')) %>% \n",
    "    # Find the mean of all the selected columns.\n",
    "    summarise_all(mean, na.rm = T)\n",
    "\n",
    "# display\n",
    "domestic_worker_control"
   ]
  },
  {
   "cell_type": "markdown",
   "id": "e3b99b55-d956-4445-a957-718ab263ed35",
   "metadata": {
    "deletable": false,
    "editable": false
   },
   "source": [
    "**Now you try for victims in the agricultural sector!**"
   ]
  },
  {
   "cell_type": "code",
   "execution_count": null,
   "id": "ea9557a6-db57-4f2e-996c-dfd304ff1b7d",
   "metadata": {
    "tags": []
   },
   "outputs": [],
   "source": [
    "agriculture_worker_control <- NULL # YOUR CODE HERE\n",
    "\n",
    "# display\n",
    "agriculture_worker_control"
   ]
  },
  {
   "cell_type": "code",
   "execution_count": null,
   "id": "88bbb41e",
   "metadata": {
    "deletable": false,
    "editable": false
   },
   "outputs": [],
   "source": [
    ". = ottr::check(\"tests/q3e.R\")"
   ]
  },
  {
   "cell_type": "markdown",
   "id": "8cb41e4c-e602-4b64-8c19-8116c0192f69",
   "metadata": {
    "deletable": false,
    "editable": false
   },
   "source": [
    "<!-- BEGIN QUESTION -->\n",
    "\n",
    "**f) (3 points) Looking across the means of controls for reported victims in these two sectors, what would you recommend to help address the issue of trafficking?**"
   ]
  },
  {
   "cell_type": "markdown",
   "id": "1fd9ac40",
   "metadata": {},
   "source": [
    "_Type your answer here, replacing this text._"
   ]
  },
  {
   "cell_type": "markdown",
   "id": "87830e16",
   "metadata": {
    "deletable": false,
    "editable": false
   },
   "source": [
    "<!-- END QUESTION -->\n",
    "\n",
    "# Submitting Your Notebook (please read carefully!)\n",
    "\n",
    "To submit your notebook...\n",
    "\n",
    "### 1. Click `File` $\\rightarrow$ `Save Notebook`.\n",
    "\n",
    "### 2. Wait 5 seconds.\n",
    "\n",
    "### 3. Select the cell below and hit run.tion:**"
   ]
  },
  {
   "cell_type": "code",
   "execution_count": null,
   "id": "7808b048",
   "metadata": {},
   "outputs": [],
   "source": [
    "ottr::export(\"pset3.ipynb\")"
   ]
  },
  {
   "cell_type": "markdown",
   "id": "4735b87f",
   "metadata": {},
   "source": [
    "After you hit \"Run\" on the cell above, click the download link. A .zip file should download to your computer.\n",
    "\n",
    "(If you make changes to your notebook, you'll need to hit save and then run the cell above again before you submit to get a new version of it.)\n",
    "\n",
    "### 4. Submit the .zip file you just downloaded <a href=\"https://www.gradescope.com/\" target=\"_blank\">on Gradescope here</a>.\n",
    "\n",
    "Notes:\n",
    "\n",
    "- **This does not seem to work on Chrome for iPad or iPhone.** If you're using an iPad or iPhone, you need to download the file using **Safari**.\n",
    "- If your web browser automatically unzips the .zip file (so you see a folder instead of a .zip file), you can just upload the .ipynb file that is inside the folder.\n",
    "- If this method is not working for you, try this: hit `File`, then `Download as`, then `Notebook (.ipynb)` and submit that."
   ]
  }
 ],
 "metadata": {
  "kernelspec": {
   "display_name": "R",
   "language": "R",
   "name": "ir"
  },
  "language_info": {
   "codemirror_mode": "r",
   "file_extension": ".r",
   "mimetype": "text/x-r-source",
   "name": "R",
   "pygments_lexer": "r",
   "version": "4.3.2"
  }
 },
 "nbformat": 4,
 "nbformat_minor": 5
}
