{
 "cells": [
  {
   "cell_type": "markdown",
   "id": "244947ca",
   "metadata": {},
   "source": [
    "# Assignment 5: International Interventions\n",
    "### Substantive Objectives\n",
    "Recall in a previous problem set, you were taksed by The United States Agency for International Development (USAID) to identify **one** country to focus on expanding activities in. \n",
    "\n",
    "In this problem set, for that country you will identify **three counter trafficking activities**. While there is no single right recommendation, all your decisions must be justified. \n",
    "\n",
    "### Coding Objectives\n",
    "1) Practice retrieving summary statistics using `mean()`, `median()`, `min()`, `max()`\n",
    "2) Practice isolating data of interest using `filter()` and `select()` \n",
    "3) Practice arranging datasets using `arrange()` and `desc()`\n",
    "4) Using `group_by()` and `summarise()` to aggregate data"
   ]
  },
  {
   "cell_type": "markdown",
   "id": "3c18a62f",
   "metadata": {},
   "source": [
    "## Setup\n",
    "The code chunk below loads the packages that we need. "
   ]
  },
  {
   "cell_type": "code",
   "execution_count": null,
   "id": "d11f3291",
   "metadata": {},
   "outputs": [],
   "source": [
    "# You *must* run this cell first. Do not change the contents of this cell.\n",
    "library(testthat)\n",
    "library(ottr)\n",
    "library(tidyverse) %>% suppressMessages()"
   ]
  },
  {
   "cell_type": "markdown",
   "id": "0cf8fa60",
   "metadata": {},
   "source": [
    "The code chunk below loads the dataset that we will be using. This dataset is drawn from Walk Free Foundation's Global Slavery Index. This is their dataset on government activies. "
   ]
  },
  {
   "cell_type": "code",
   "execution_count": null,
   "id": "1643a6a3",
   "metadata": {},
   "outputs": [],
   "source": [
    "df.gsi_activities <- read.csv(\"gsi-activities-2023.csv\") %>% slice(-1)\n",
    "milestones <- read.csv(\"milestones.csv\")"
   ]
  },
  {
   "cell_type": "markdown",
   "id": "e6bbee67",
   "metadata": {},
   "source": [
    "## Question 1: Understanding Government International Responses and Activities"
   ]
  },
  {
   "cell_type": "markdown",
   "id": "8d5d1fb1",
   "metadata": {
    "deletable": false,
    "editable": false
   },
   "source": [
    "<!-- BEGIN QUESTION -->\n",
    "\n",
    "**a) (2 points) Based on what we have learned in class, describe one strength and limitation of US intervention in human trafficking internationally.**"
   ]
  },
  {
   "cell_type": "markdown",
   "id": "37b11c0a",
   "metadata": {},
   "source": [
    "_Type your answer here, replacing this text._"
   ]
  },
  {
   "cell_type": "markdown",
   "id": "b04796de",
   "metadata": {
    "deletable": false,
    "editable": false
   },
   "source": [
    "<!-- END QUESTION -->\n",
    "\n",
    "### Walk Free's Government Response Framework"
   ]
  },
  {
   "cell_type": "markdown",
   "id": "681d17d9",
   "metadata": {},
   "source": [
    "To make our recommendation, we are going to base it off of Walk Free Foundations evaluation of each country's counter-trafficking acitivies. How does the GSI come up with the government action score? Walk Free foundation also evaluates various activities of each government. Look through the `Govt response framework` tab in this [excel file](2023-GSI-Data-Full.xlsx) to understand the how they are approaching grading government responses. \n",
    "\n",
    "We are using their rankings of the activities.\n",
    "\n",
    "* `2` = Activity Achieved\n",
    "* `1` = Activity Partly achieved\n",
    "* `0` = Activity Not achieved\n",
    "* Negative values represent the same as above, but for for negative activites. \n"
   ]
  },
  {
   "cell_type": "code",
   "execution_count": null,
   "id": "974611fc",
   "metadata": {
    "scrolled": true
   },
   "outputs": [],
   "source": [
    "# DO NOT CHANGE\n",
    "# Subset to relevant columns\n",
    "df.gsi_activities <- df.gsi_activities %>% select(country, region, ends_with(\"R\", ignore.case = F))\n",
    "\n",
    "# Display first 6 rows\n",
    "head(df.gsi_activities) "
   ]
  },
  {
   "cell_type": "markdown",
   "id": "72f9f370",
   "metadata": {
    "deletable": false,
    "editable": false
   },
   "source": [
    "<!-- BEGIN QUESTION -->\n",
    "\n",
    "**b) Look through the list of activities on the excel spreadsheet previously attached.**\n",
    "\n",
    "(i) In your own words, what are the five main milestones? \\\n",
    "(ii) In your opinion, what activities can USAID funding be able to influence? List at least 2, and explain your reasoning. \\\n",
    "(iii) What activities would be difficult to influence? List at least 2, and explain your reasoning."
   ]
  },
  {
   "cell_type": "markdown",
   "id": "b64ddab3",
   "metadata": {},
   "source": [
    "_Type your answer here, replacing this text._"
   ]
  },
  {
   "cell_type": "markdown",
   "id": "29558746",
   "metadata": {
    "deletable": false,
    "editable": false
   },
   "source": [
    "<!-- END QUESTION -->\n",
    "\n",
    "## Question 2: Making Your Recommendation\n",
    "**a) (2 points) Now we are going to look at the country you are recommending, and seeing where the government has been active in counter trafficking activities.**\n",
    "\n",
    "> **(i) (1 point)** First, store the country you want to recommend in a variable named `my_rec`. Make sure it is spelled exactly as the cell below spells the country.\\\n",
    "> **(ii) (1 point)** Then, to focus on the activities that our country of interest is/is not engaging in, we are going to use the `filter()` function to the row corresponding to our recommendation.\n",
    "\n"
   ]
  },
  {
   "cell_type": "code",
   "execution_count": null,
   "id": "e932593f",
   "metadata": {
    "deletable": false,
    "editable": false
   },
   "outputs": [],
   "source": [
    "# RUN THIS CELL\n",
    "# Make sure the spelling matches. Printing the country names in the dataset. \n",
    "df.gsi_activities$country"
   ]
  },
  {
   "cell_type": "code",
   "execution_count": null,
   "id": "b7a5adc0",
   "metadata": {
    "tags": []
   },
   "outputs": [],
   "source": [
    "my_rec <- NULL # YOUR CODE HERE\n",
    "\n",
    "# filter to your recommended country\n",
    "my_rec_rankings <- NULL # YOUR CODE HERE\n",
    "\n",
    "# print output\n",
    "my_rec_rankings"
   ]
  },
  {
   "cell_type": "markdown",
   "id": "6fd36271",
   "metadata": {},
   "source": [
    "#### NO ACTION NEEDED: Transforming Data\n",
    "Perhaps we want to sort by the value assigned to each activity, or maybe we want to be able to aggregate the data and take a look at the achievements within each milestones. With the way the data is currently structured, and the way that functions request their data to be formatted, the current dataframe is no good. \n",
    "\n",
    "It's a bit complex so don't worry about how to do this -- we restructure the data for you. See the following sequence of code and see what each function does if you are curious. Don't be worried if you don't understand each line. It takes lots of practice!"
   ]
  },
  {
   "cell_type": "code",
   "execution_count": null,
   "id": "57de0d21",
   "metadata": {
    "scrolled": true
   },
   "outputs": [],
   "source": [
    "# RUN THE CODE, DO NOT CHANGE\n",
    "\n",
    "my_rec_t <- my_rec_rankings %>%\n",
    "    # transpose data (switch the rows and columns)\n",
    "    t() %>% \n",
    "\n",
    "    # convert to dataframe and select relevant columns\n",
    "    as.data.frame() %>% slice(-(1:2)) %>%\n",
    "\n",
    "    # convert rownames to columns\n",
    "    rownames_to_column(\"activity_name\") %>% \n",
    "\n",
    "    # rename columns\n",
    "    rename(score = V1) %>%\n",
    "\n",
    "    # join with a separate dataset that indicates the corresponding milestone\n",
    "    left_join(milestones) %>%\n",
    "\n",
    "    # mutate the activity_score value from character to numeric\n",
    "    mutate(score = as.numeric(score),\n",
    "           \n",
    "    # remove the R from the end of each variable name\n",
    "    activity_name = str_replace(activity_name,\"R$\", \"\"))\n",
    "\n",
    "my_rec_t"
   ]
  },
  {
   "cell_type": "markdown",
   "id": "d877e05e",
   "metadata": {
    "deletable": false,
    "editable": false
   },
   "source": [
    "**b) (1 point) Use the `arrange()` function to sort `my_rec_t` in descending order by the activity score**"
   ]
  },
  {
   "cell_type": "code",
   "execution_count": null,
   "id": "b8a35d6c",
   "metadata": {
    "tags": []
   },
   "outputs": [],
   "source": [
    "# YOUR SOLUTION HERE\n",
    "my_rec_t_sorted <- NULL # YOUR CODE HERE\n",
    "\n",
    "# PRINT SOLUTION\n",
    "my_rec_t_sorted"
   ]
  },
  {
   "cell_type": "markdown",
   "id": "7d2b2e94",
   "metadata": {
    "deletable": false,
    "editable": false
   },
   "source": [
    "**c) (2 points) Use the `group_by()` and `summarise()` function in `R` to find the sum of activity scores for each milestone. Store the sums in a column called `total_score`.** \n",
    "\n",
    "Example Code:\n",
    "\n",
    "    my_rec_t %>% group_by(grouping_column) %>% \n",
    "           summarise(total_score = sum(existing_column_you_want_to_sum_over, na.rm = T))"
   ]
  },
  {
   "cell_type": "code",
   "execution_count": null,
   "id": "3ea1d184",
   "metadata": {
    "tags": []
   },
   "outputs": [],
   "source": [
    "my_rec_t_agg <- NULL # YOUR CODE HERE\n",
    "\n",
    "# print solution\n",
    "my_rec_t_agg"
   ]
  },
  {
   "cell_type": "markdown",
   "id": "cdd732eb",
   "metadata": {},
   "source": [
    "#### NO ACTION NEEDED: Comparing to Activities of Other Countries\n",
    "\n",
    "Run the cells below to see what activities and milestones other countries are active in. The table below shows the mean activity score across all 160 countries included in the dataset. "
   ]
  },
  {
   "cell_type": "code",
   "execution_count": null,
   "id": "16d02b15",
   "metadata": {},
   "outputs": [],
   "source": [
    "# RUN CELL to view global average scores of all the activies\n",
    "\n",
    "df.gsi_global <- df.gsi_activities %>% \n",
    "    # transpose and convert to dataframe\n",
    "    t() %>% as.data.frame() %>%\n",
    "    \n",
    "    # rowname to column\n",
    "    rownames_to_column(\"activity_name\") %>% \n",
    "\n",
    "    # merge with separate dataframe detailing milestones\n",
    "    left_join(milestones %>% select(activity_name, milestone_number, milestone_name)) %>%\n",
    "    slice(-(1:2)) %>%\n",
    "\n",
    "    # summarise the average global score for each milestone\n",
    "    group_by(milestone_number, milestone_name) %>%\n",
    "    mutate_all(as.numeric) %>% \n",
    "    summarise_all(sum, na.rm = T) %>% \n",
    "    mutate(avg_milestone_total = rowMeans(across(is.numeric), na.rm = T)) %>%\n",
    "    select(milestone_number, milestone_name,avg_milestone_total) %>%\n",
    "    suppressMessages()\n",
    "\n",
    "# Print side by side\n",
    "paste0(\"Table below shows the Global Milestone Averages\")\n",
    "df.gsi_global\n",
    "\n",
    "paste0(\"Table below shows the Milestone Averages for your Country\")\n",
    "my_rec_t_agg"
   ]
  },
  {
   "cell_type": "markdown",
   "id": "0a202c2f",
   "metadata": {
    "deletable": false,
    "editable": false
   },
   "source": [
    "<!-- BEGIN QUESTION -->\n",
    "\n",
    "**c) (4 points) What milestone is the government of the country you recommend most active in? Which milestones is the government least active in? Given this information, what three activities do you think USAID should invest it's resources in? Justify your answer.**\n",
    "\n",
    "Recommended length: 200-250 words"
   ]
  },
  {
   "cell_type": "markdown",
   "id": "b7bf7547",
   "metadata": {},
   "source": [
    "_Type your answer here, replacing this text._"
   ]
  },
  {
   "cell_type": "code",
   "execution_count": null,
   "id": "a9fb9e95",
   "metadata": {
    "tags": []
   },
   "outputs": [],
   "source": [
    "# OPTIONAL: Use this code block to explore the data\n",
    "\n",
    "## Example code: Uncomment the lines you want to run, edit the code, or write your own code! \n",
    "#                This will not be graded!\n",
    "\n",
    "# -----------------------------\n",
    "# View your country's activity scores\n",
    "# ----------------------------\n",
    "# my_rec_t_sorted\n",
    "\n",
    "# -----------------------------\n",
    "# View your country's weakers scores\n",
    "# ----------------------------\n",
    "# my_rec_t_sorted %>% filter(score < 1)\n",
    "\n",
    "# -----------------------------\n",
    "# View if your country has any negative scores\n",
    "# ----------------------------\n",
    "# my_rec_t_sorted %>% filter(grepl(\"NEG\", activity_name))\n",
    "\n",
    "# -----------------------------\n",
    "# View your country's activity stores by milestone\n",
    "# ----------------------------\n",
    "# my_rec_t_agg\n",
    "\n",
    "# -----------------------------\n",
    "# View your country's activity scores for a given milestone\n",
    "# ----------------------------\n",
    "# my_rec_t_sorted %>% filter(milestone_number == \"milestone 4\")\n",
    "\n"
   ]
  },
  {
   "cell_type": "markdown",
   "id": "9222f328",
   "metadata": {
    "deletable": false,
    "editable": false
   },
   "source": [
    "<!-- END QUESTION -->\n",
    "\n",
    "# Submitting Your Notebook (please read carefully!)\n",
    "\n",
    "To submit your notebook...\n",
    "\n",
    "### 1. Click `File` $\\rightarrow$ `Save Notebook`.\n",
    "\n",
    "### 2. Wait 5 seconds.\n",
    "\n",
    "### 3. Select the cell below and hit run.tion:**"
   ]
  },
  {
   "cell_type": "code",
   "execution_count": null,
   "id": "26ad0da7",
   "metadata": {},
   "outputs": [],
   "source": [
    "ottr::export(\"pset3.ipynb\")"
   ]
  },
  {
   "cell_type": "markdown",
   "id": "07d8add7",
   "metadata": {},
   "source": [
    "After you hit \"Run\" on the cell above, click the download link. A .zip file should download to your computer.\n",
    "\n",
    "(If you make changes to your notebook, you'll need to hit save and then run the cell above again before you submit to get a new version of it.)\n",
    "\n",
    "### 4. Submit the .zip file you just downloaded <a href=\"https://www.gradescope.com/\" target=\"_blank\">on Gradescope here</a>.\n",
    "\n",
    "Notes:\n",
    "\n",
    "- **This does not seem to work on Chrome for iPad or iPhone.** If you're using an iPad or iPhone, you need to download the file using **Safari**.\n",
    "- If your web browser automatically unzips the .zip file (so you see a folder instead of a .zip file), you can just upload the .ipynb file that is inside the folder.\n",
    "- If this method is not working for you, try this: hit `File`, then `Download as`, then `Notebook (.ipynb)` and submit that."
   ]
  }
 ],
 "metadata": {
  "kernelspec": {
   "display_name": "R",
   "language": "R",
   "name": "ir"
  },
  "language_info": {
   "codemirror_mode": "r",
   "file_extension": ".r",
   "mimetype": "text/x-r-source",
   "name": "R",
   "pygments_lexer": "r",
   "version": "4.3.2"
  }
 },
 "nbformat": 4,
 "nbformat_minor": 5
}
